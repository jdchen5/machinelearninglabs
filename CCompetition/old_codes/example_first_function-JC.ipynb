{
 "cells": [
  {
   "cell_type": "code",
   "execution_count": 1,
   "metadata": {
    "id": "wgiUppZDI97Y"
   },
   "outputs": [],
   "source": [
    "import numpy as np\n",
    "import matplotlib.pyplot as plt\n",
    "from sklearn.gaussian_process import GaussianProcessRegressor"
   ]
  },
  {
   "cell_type": "markdown",
   "metadata": {
    "id": "AoXtaJiFI97c"
   },
   "source": [
    "# Guide and Ideas for Capstone Project"
   ]
  },
  {
   "cell_type": "markdown",
   "metadata": {
    "id": "ECFiNw8AI97d"
   },
   "source": [
    "We begin this guide by downloading the data:"
   ]
  },
  {
   "cell_type": "code",
   "execution_count": 2,
   "metadata": {
    "id": "SoLIJYgsI97e"
   },
   "outputs": [],
   "source": [
    "X = np.load('data/initial_inputs.npy')\n",
    "Y = np.load('data/initial_outputs.npy')"
   ]
  },
  {
   "cell_type": "markdown",
   "metadata": {
    "id": "NkcYuXzwI97e"
   },
   "source": [
    "## Random Search"
   ]
  },
  {
   "cell_type": "markdown",
   "metadata": {
    "id": "rgSGzoSKI97f"
   },
   "source": [
    "The simplest solution would be a simple random search, that is, we can randomly choose our next query point:"
   ]
  },
  {
   "cell_type": "code",
   "execution_count": 3,
   "metadata": {
    "id": "5eXEv83bI97f",
    "outputId": "857ea4d7-a14d-4c40-a37c-dcae0aaed47c"
   },
   "outputs": [
    {
     "name": "stdout",
     "output_type": "stream",
     "text": [
      "[0.78427581 0.0536481 ]\n"
     ]
    }
   ],
   "source": [
    "next_query = np.random.uniform(size = 2)\n",
    "print(next_query)"
   ]
  },
  {
   "cell_type": "markdown",
   "metadata": {
    "id": "oUCdQVsHI97h"
   },
   "source": [
    "While this solution is easy to implement, we know it will be very slow. However, it could serve as a placeholder for gathering more information while you research which method you want to use for each function."
   ]
  },
  {
   "cell_type": "markdown",
   "metadata": {
    "id": "5Sl3FDMEI97i"
   },
   "source": [
    "# Upper Confidence Bound"
   ]
  },
  {
   "cell_type": "markdown",
   "metadata": {
    "id": "TO9892W9I97i"
   },
   "source": [
    "A second alternative would be to use Bayesian Optimization and consider an Upper Confidence Bound acquisition function:"
   ]
  },
  {
   "cell_type": "code",
   "execution_count": 6,
   "metadata": {
    "id": "vaPkp_TnI97j",
    "outputId": "f5e50ffa-7b21-4eb1-d150-da8d77d627d4"
   },
   "outputs": [
    {
     "name": "stdout",
     "output_type": "stream",
     "text": [
      "[0.49494949 0.54545455]\n"
     ]
    }
   ],
   "source": [
    "gpr = GaussianProcessRegressor()\n",
    "gpr.fit(X, Y)\n",
    "\n",
    "# to optimize the acquisition function, we will simply use gridsearch over a space of 10.000 gridpoints\n",
    "# the NumPy library's linspace function to generate an array x1 of 100 evenly spaced numbers: start of 0.6; end of 0.65; 100 samples to generate\n",
    "x1 = np.linspace(0, 1, 100)\n",
    "x2 = np.linspace(0, 1, 100)\n",
    "\n",
    "X_grid = []\n",
    "for i in range(len(x1)):\n",
    "    for j in range(len(x2)):\n",
    "        X_grid.append([x1[i], x2[j]])\n",
    "\n",
    "X_grid = np.array(X_grid)\n",
    "mean, std = gpr.predict(X_grid, return_std = True)\n",
    "ucb = mean + 1.96 * std\n",
    "\n",
    "idx_max = np.argmax(ucb)\n",
    "next_query = X_grid[idx_max]\n",
    "print(next_query)"
   ]
  },
  {
   "cell_type": "markdown",
   "metadata": {
    "id": "w4fy98FRI97j"
   },
   "source": [
    "## Visualizing our data and thinking of the problem"
   ]
  },
  {
   "cell_type": "markdown",
   "metadata": {
    "id": "OsIivNn-I97k"
   },
   "source": [
    "It is important when tackling problems to really think about the best strategy and to do some exploratory data analysis. Let's consider what we know about the problem:\n",
    "\n",
    "1. From the hints, we expect two modes in the unknown function.\n",
    "\n",
    "2. From the hints, we know that most of our queries should be zero!\n",
    "\n",
    "3. The problem is two-dimensional.\n",
    "\n",
    "4. The problem will have small length-scale (that is, we expect the modes to be very small)\n",
    "\n",
    "From (3.) we can take advantage, and plot the initial data:"
   ]
  },
  {
   "cell_type": "code",
   "execution_count": 7,
   "metadata": {
    "id": "Cgbhdm7jI97k",
    "outputId": "9310b10d-905a-4f47-cfad-0b0672caad2d"
   },
   "outputs": [
    {
     "data": {
      "text/plain": [
       "<matplotlib.colorbar.Colorbar at 0x11425429810>"
      ]
     },
     "execution_count": 7,
     "metadata": {},
     "output_type": "execute_result"
    },
    {
     "data": {
      "image/png": "[encoded data removed]",
      "text/plain": [
       "<Figure size 800x500 with 2 Axes>"
      ]
     },
     "metadata": {},
     "output_type": "display_data"
    }
   ],
   "source": [
    "fig, ax = plt.subplots()\n",
    "fig.set_figheight(5)\n",
    "fig.set_figwidth(8)\n",
    "plt.scatter(X[:, 0], X[:, 1], c = Y)\n",
    "plt.colorbar()"
   ]
  },
  {
   "cell_type": "markdown",
   "metadata": {
    "id": "ImYUt9_JI97l"
   },
   "source": [
    "We know that function has two kinds of local maximums, thanks to the hints, we also expect most of our reading to be zero. The fact that we have a perturbation or non-zero value at $x$ = [0.6262626262626263, 0.6767676767676768] means we should be interested in this area. An alternative solution would be to focus only on this area, there are two ways to do this:\n",
    "\n",
    "1. Run random search in an area restricted around $x$ = [0.6262626262626263, 0.6767676767676768]\n",
    "\n",
    "2. Solve the UCB in an area restricted around $x$ = [0.6262626262626263, 0.6767676767676768]\n",
    "\n",
    "Below we provide code for both:"
   ]
  },
  {
   "cell_type": "code",
   "execution_count": 8,
   "metadata": {},
   "outputs": [
    {
     "name": "stdout",
     "output_type": "stream",
     "text": [
      "Next query Random:  [0.03447103022605068, 0.13292490569923957]\n"
     ]
    }
   ],
   "source": [
    "# Random search around an area restricted around $x$ = [0.03, 0.14]\n",
    "next_query_x1 = np.random.normal(0.03, scale = 0.01)\n",
    "next_query_x2 = np.random.normal(0.14, scale = 0.01)\n",
    "print('Next query Random: ', [next_query_x1, next_query_x2])"
   ]
  },
  {
   "cell_type": "code",
   "execution_count": 9,
   "metadata": {
    "id": "hDu75_uQI97l",
    "outputId": "7cbdbbac-e341-4656-d287-69554229bd9b"
   },
   "outputs": [
    {
     "name": "stdout",
     "output_type": "stream",
     "text": [
      "Next query UCB:  [0.49       0.54171717]\n"
     ]
    }
   ],
   "source": [
    "\n",
    "\n",
    "# Using a restricted UCB\n",
    "gpr = GaussianProcessRegressor()\n",
    "gpr.fit(X, Y)\n",
    "\n",
    "# to optimize the acquisition function, we will simply use gridsearch over a space of 10.000 gridpoints\n",
    "x1 = np.linspace(0.01, 0.55, 100)\n",
    "x2 = np.linspace(0.55, 0.14, 100)\n",
    "\n",
    "X_grid = []\n",
    "for i in range(len(x1)):\n",
    "    for j in range(len(x2)):\n",
    "        X_grid.append([x1[i], x2[j]])\n",
    "\n",
    "X_grid = np.array(X_grid)\n",
    "mean, std = gpr.predict(X_grid, return_std = True)\n",
    "ucb = mean + 1.96 * std\n",
    "\n",
    "idx_max = np.argmax(ucb)\n",
    "next_query = X_grid[idx_max]\n",
    "print('Next query UCB: ', next_query)"
   ]
  },
  {
   "cell_type": "markdown",
   "metadata": {
    "id": "0XAHF5FQI97m"
   },
   "source": [
    "Doing this every week, we expect to be able to find the first of the two modes! This should would be enough to provide a good solution to the problem. To really verify if we found the maximum, we would need to find a second mode, however, we may be unlucky and simply never find it. This is an important part of Machine Learning: in theory we might want optimal, perfect solutions, but in practice most of the advancements can be done with simple solutions and careful consideration of the data available to us."
   ]
  },
  {
   "cell_type": "markdown",
   "metadata": {
    "id": "Nh5Nw92wI97m"
   },
   "source": [
    "# Looking at the solution:\n",
    "\n",
    "Below I include the real function that the learners are trying to optimize: note that either of the two strategies shown would have given good results. Overall the capstone is meant to inspire creativity, good data analysis, and use of different models. There is no one correct solution! After all, real life and real data are very messy and it requires all the above skills to apply Machine Learning in the real world."
   ]
  },
  {
   "cell_type": "code",
   "execution_count": null,
   "metadata": {
    "id": "dLd2-GYTI97m"
   },
   "outputs": [],
   "source": [
    "def function1(x1, x2):\n",
    "        '''\n",
    "        Sum of two EASOM functions: https://www.sfu.ca/~ssurjano/easom.html\n",
    "\n",
    "        First one is rescaled by two, and optimum is shifted by 1.72 in x1\n",
    "        Second one is simply shifted so that optimum lies at -pi and pi\n",
    "\n",
    "        Therefore optimum lies at (pi + 1.72, pi) (after coordinate transformation)\n",
    "        '''\n",
    "        x1 = (x1 - 0.5)*40\n",
    "        x2 = (x2 - 0.5)*40\n",
    "\n",
    "        ea1 = np.cos(x1 - 2)*np.cos(x2 - 2)*np.exp(-(x1 - np.pi - 2)**2 - (x2 - np.pi -2)**2) * 2\n",
    "        ea2 = np.cos(-x1) * np.cos(-x2) * np.exp(-(x1 + np.pi)**2 - (x2 + np.pi)**2)\n",
    "        return ea1 + ea2"
   ]
  },
  {
   "cell_type": "code",
   "execution_count": null,
   "metadata": {
    "id": "osJ9mzG8I97n",
    "outputId": "8fd03a68-3202-41e9-f1ad-d63fd70d8bfb"
   },
   "outputs": [
    {
     "data": {
      "text/plain": [
       "<matplotlib.colorbar.Colorbar at 0x7fc3ee651c70>"
      ]
     },
     "execution_count": 8,
     "metadata": {},
     "output_type": "execute_result"
    },
    {
     "data": {
      "image/png": "[encoded data removed]",
      "text/plain": [
       "<Figure size 576x360 with 2 Axes>"
      ]
     },
     "metadata": {
      "needs_background": "light"
     },
     "output_type": "display_data"
    }
   ],
   "source": [
    "x1 = np.linspace(0, 1, 100)\n",
    "x2 = np.linspace(0, 1, 100)\n",
    "\n",
    "X_real = []\n",
    "\n",
    "Y_real = []\n",
    "for i in range(len(x1)):\n",
    "    for j in range(len(x2)):\n",
    "        X_real.append([x1[i], x2[j]])\n",
    "        Y_real.append(function1(x1[i], x2[j]))\n",
    "\n",
    "X_real = np.array(X_real)\n",
    "\n",
    "fig, ax = plt.subplots()\n",
    "fig.set_figheight(5)\n",
    "fig.set_figwidth(8)\n",
    "plt.scatter(X_real[:, 0], X_real[:, 1], c = Y_real)\n",
    "plt.colorbar()"
   ]
  }
 ],
 "metadata": {
  "colab": {
   "provenance": []
  },
  "interpreter": {
   "hash": "d37abda7630e259e5026a5079657683a09f6e3d11473720762ebe7250c494840"
  },
  "kernelspec": {
   "display_name": "Python 3 (ipykernel)",
   "language": "python",
   "name": "python3"
  },
  "language_info": {
   "codemirror_mode": {
    "name": "ipython",
    "version": 3
   },
   "file_extension": ".py",
   "mimetype": "text/x-python",
   "name": "python",
   "nbconvert_exporter": "python",
   "pygments_lexer": "ipython3",
   "version": "3.10.9"
  }
 },
 "nbformat": 4,
 "nbformat_minor": 1
}
