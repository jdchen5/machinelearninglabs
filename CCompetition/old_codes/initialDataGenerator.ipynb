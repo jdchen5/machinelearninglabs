{
 "cells": [
  {
   "cell_type": "code",
   "execution_count": 1,
   "id": "411765f0",
   "metadata": {},
   "outputs": [
    {
     "name": "stdout",
     "output_type": "stream",
     "text": [
      "(10, 2) (10,)\n",
      "[[0.59542715 0.12102699]\n",
      " [0.0638879  0.51501687]\n",
      " [0.78697979 0.80690974]\n",
      " [0.92174578 0.26610235]\n",
      " [0.14044726 0.02179104]\n",
      " [0.37562117 0.02435757]\n",
      " [0.32014865 0.15005553]\n",
      " [0.2345551  0.084588  ]\n",
      " [0.84064327 0.20131423]\n",
      " [0.88187009 0.28342508]]\n",
      "[1.59494366 1.54781929 1.59129972 1.46724996 1.36385106 1.49178153\n",
      " 1.61708985 1.50193575 1.50386278 1.52592675]\n"
     ]
    }
   ],
   "source": [
    "import numpy as np\n",
    "\n",
    "# Define a simple 2D function with two peaks for the sample data\n",
    "def sample_function(x, y):\n",
    "    return np.exp(-(x - 0.3)**2 - (y - 0.3)**2) + np.exp(-(x - 0.7)**2 - (y - 0.7)**2)\n",
    "\n",
    "# Generate initial data points (X) and their evaluations (Y) for 10 values\n",
    "x = np.random.uniform(0, 1, 10)\n",
    "y = np.random.uniform(0, 1, 10)\n",
    "X = np.vstack((x, y)).T\n",
    "Y = np.array([sample_function(x_i, y_i) for x_i, y_i in X])\n",
    "\n",
    "print(X.shape, Y.shape)\n",
    "print(X)\n",
    "print(Y)\n",
    "\n",
    "# Save the data to .npy files\n",
    "np.save('initial_inputs.npy', X)\n",
    "np.save('initial_outputs.npy', Y)"
   ]
  },
  {
   "cell_type": "code",
   "execution_count": null,
   "id": "8bd357b8",
   "metadata": {},
   "outputs": [],
   "source": []
  }
 ],
 "metadata": {
  "kernelspec": {
   "display_name": "Python 3 (ipykernel)",
   "language": "python",
   "name": "python3"
  },
  "language_info": {
   "codemirror_mode": {
    "name": "ipython",
    "version": 3
   },
   "file_extension": ".py",
   "mimetype": "text/x-python",
   "name": "python",
   "nbconvert_exporter": "python",
   "pygments_lexer": "ipython3",
   "version": "3.10.9"
  }
 },
 "nbformat": 4,
 "nbformat_minor": 5
}
