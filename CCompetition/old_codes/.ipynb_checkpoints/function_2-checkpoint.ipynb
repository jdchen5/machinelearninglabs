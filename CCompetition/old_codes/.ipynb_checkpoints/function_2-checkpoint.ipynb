{
 "cells": [
  {
   "cell_type": "code",
   "execution_count": 18,
   "metadata": {
    "id": "wgiUppZDI97Y"
   },
   "outputs": [],
   "source": [
    "import numpy as np\n",
    "import pandas as pd\n",
    "import matplotlib.pyplot as plt\n",
    "from sklearn.gaussian_process import GaussianProcessRegressor\n",
    "from scipy.stats.qmc import LatinHypercube\n",
    "from scipy.stats import uniform, loguniform, norm\n",
    "from sklearn.gaussian_process.kernels import Matern, RBF, WhiteKernel, ConstantKernel as C\n",
    "from scipy.optimize import minimize\n",
    "from sklearn.model_selection import RandomizedSearchCV\n"
   ]
  },
  {
   "cell_type": "markdown",
   "metadata": {
    "id": "AoXtaJiFI97c"
   },
   "source": [
    "# Guide and Ideas for Capstone Project - Function 2"
   ]
  },
  {
   "cell_type": "markdown",
   "metadata": {},
   "source": [
    "# Function 2: Optimising Noisy Models\n",
    "This corresponds to trying to optimise an unknown machine learning model. However, the initialization of the model is very important, meaning your observations will be very noisy, and the problem might have a lot of local optima! You are trying to make the model’s log-likelihood as large as possible."
   ]
  },
  {
   "cell_type": "markdown",
   "metadata": {
    "id": "ECFiNw8AI97d"
   },
   "source": [
    "We begin this guide by downloading the data:"
   ]
  },
  {
   "cell_type": "code",
   "execution_count": 2,
   "metadata": {
    "id": "SoLIJYgsI97e"
   },
   "outputs": [],
   "source": [
    "X = np.load('initial_data/function_2/initial_inputs.npy')\n",
    "Y = np.load('initial_data/function_2/initial_outputs.npy')"
   ]
  },
  {
   "cell_type": "code",
   "execution_count": 3,
   "metadata": {},
   "outputs": [],
   "source": [
    "def format_query(point, NoOfDigits):\n",
    "    return '-'.join(f\"{x:.{NoOfDigits}f}\" for x in point)"
   ]
  },
  {
   "cell_type": "code",
   "execution_count": 4,
   "metadata": {},
   "outputs": [
    {
     "name": "stdout",
     "output_type": "stream",
     "text": [
      "0.6657995800131589-0.1239691276753491\n",
      "0.8777909889953304-0.7786275008473289\n",
      "0.1426990742359461-0.3490051305732002\n",
      "0.8452754286767249-0.7111202665952655\n",
      "0.4546471410512442-0.2904551797740609\n",
      "0.5777128444074784-0.7719731841154063\n",
      "0.4381660616117107-0.6850182567997548\n",
      "0.3417495930288503-0.0286977198222779\n",
      "0.3386481568870177-0.2138672456386437\n",
      "0.7026365569244406-0.9265641975455574\n",
      "--------------------------------------------------\n",
      "0.5389961189269181-0.4205862396279826--0.0656236244373374-0.2939929124108660-0.2149645101004509-0.0231055497981906-0.2446193440044803-0.0387490151561584--0.0138576181497298-0.6112052157614438\n"
     ]
    }
   ],
   "source": [
    "# Print X with 16 digits of precision\n",
    "for row in X:\n",
    "    print(format_query(row,16))\n",
    "\n",
    "# Print a separator line\n",
    "print(\"-\" * 50)\n",
    "\n",
    "# Print Y with 16 digits of precision\n",
    "print(format_query(Y,16))"
   ]
  },
  {
   "cell_type": "markdown",
   "metadata": {
    "id": "NkcYuXzwI97e"
   },
   "source": [
    "## Random Search"
   ]
  },
  {
   "cell_type": "markdown",
   "metadata": {
    "id": "rgSGzoSKI97f"
   },
   "source": [
    "The simplest solution would be a simple random search, that is, we can randomly choose our next query point:"
   ]
  },
  {
   "cell_type": "code",
   "execution_count": 5,
   "metadata": {
    "id": "5eXEv83bI97f",
    "outputId": "857ea4d7-a14d-4c40-a37c-dcae0aaed47c"
   },
   "outputs": [
    {
     "name": "stdout",
     "output_type": "stream",
     "text": [
      "[0.02902006 0.57846008]\n"
     ]
    }
   ],
   "source": [
    "next_query = np.random.uniform(size = 2)\n",
    "print(next_query)"
   ]
  },
  {
   "cell_type": "markdown",
   "metadata": {
    "id": "oUCdQVsHI97h"
   },
   "source": [
    "While this solution is easy to implement, we know it will be very slow. However, it could serve as a placeholder for gathering more information while you research which method you want to use for each function."
   ]
  },
  {
   "cell_type": "markdown",
   "metadata": {
    "id": "5Sl3FDMEI97i"
   },
   "source": [
    "# Upper Confidence Bound"
   ]
  },
  {
   "cell_type": "markdown",
   "metadata": {
    "id": "TO9892W9I97i"
   },
   "source": [
    "A second alternative would be to use Bayesian Optimization and consider an Upper Confidence Bound acquisition function:"
   ]
  },
  {
   "cell_type": "code",
   "execution_count": 6,
   "metadata": {
    "id": "vaPkp_TnI97j",
    "outputId": "f5e50ffa-7b21-4eb1-d150-da8d77d627d4"
   },
   "outputs": [
    {
     "name": "stdout",
     "output_type": "stream",
     "text": [
      "[0. 1.]\n"
     ]
    }
   ],
   "source": [
    "# fits a Gaussian Process Regressor model to data X (input features) and Y (output/target values)\n",
    "gpr = GaussianProcessRegressor()\n",
    "gpr.fit(X, Y)\n",
    "\n",
    "# to optimize the acquisition function, we will simply use gridsearch over a space of 10.000 gridpoints\n",
    "x1 = np.linspace(0, 1, 100)\n",
    "x2 = np.linspace(0, 1, 100)\n",
    "\n",
    "#Creating a Grid for Optimisation\n",
    "X_grid = []\n",
    "for i in range(len(x1)):\n",
    "    for j in range(len(x2)):\n",
    "        X_grid.append([x1[i], x2[j]])\n",
    "\n",
    "X_grid = np.array(X_grid)\n",
    "\n",
    "#Upper Confidence Bound (UCB) Acquisition Function\n",
    "mean, std = gpr.predict(X_grid, return_std = True)\n",
    "#(1.96 in this case, corresponding to the 95% confidence interval in a normal distribution)\n",
    "ucb = mean + 1.96 * std\n",
    "\n",
    "#Selecting the Next Query Point\n",
    "idx_max = np.argmax(ucb)\n",
    "next_query = X_grid[idx_max]\n",
    "print(next_query)"
   ]
  },
  {
   "cell_type": "markdown",
   "metadata": {
    "id": "w4fy98FRI97j"
   },
   "source": [
    "## Visualizing our data and thinking of the problem"
   ]
  },
  {
   "cell_type": "markdown",
   "metadata": {
    "id": "OsIivNn-I97k"
   },
   "source": [
    "It is important when tackling problems to really think about the best strategy and to do some exploratory data analysis. Let's consider what we know about the problem:\n",
    "\n",
    "1. From the hints, we expect two modes in the unknown function.\n",
    "\n",
    "2. From the hints, we know that most of our queries should be zero!\n",
    "\n",
    "3. The problem is two-dimensional.\n",
    "\n",
    "4. The problem will have small length-scale (that is, we expect the modes to be very small)\n",
    "\n",
    "From (3.) we can take advantage, and plot the initial data:"
   ]
  },
  {
   "cell_type": "code",
   "execution_count": 7,
   "metadata": {
    "id": "Cgbhdm7jI97k",
    "outputId": "9310b10d-905a-4f47-cfad-0b0672caad2d"
   },
   "outputs": [
    {
     "data": {
      "text/plain": [
       "<matplotlib.colorbar.Colorbar at 0x14f915ff460>"
      ]
     },
     "execution_count": 7,
     "metadata": {},
     "output_type": "execute_result"
    },
    {
     "data": {
      "image/png": "[encoded data removed]",
      "text/plain": [
       "<Figure size 800x500 with 2 Axes>"
      ]
     },
     "metadata": {},
     "output_type": "display_data"
    }
   ],
   "source": [
    "fig, ax = plt.subplots()\n",
    "fig.set_figheight(5)\n",
    "fig.set_figwidth(8)\n",
    "plt.scatter(X[:, 0], X[:, 1], c = Y)\n",
    "plt.colorbar()"
   ]
  },
  {
   "cell_type": "code",
   "execution_count": 8,
   "metadata": {},
   "outputs": [
    {
     "data": {
      "image/png": "[encoded data removed]",
      "text/plain": [
       "<Figure size 800x500 with 2 Axes>"
      ]
     },
     "metadata": {},
     "output_type": "display_data"
    }
   ],
   "source": [
    "fig, ax = plt.subplots()\n",
    "fig.set_figheight(5)\n",
    "fig.set_figwidth(8)\n",
    "\n",
    "# Scatter plot\n",
    "scatter = ax.scatter(X[:, 0], X[:, 1], c=Y)\n",
    "\n",
    "# Adding a color bar\n",
    "plt.colorbar(scatter)\n",
    "\n",
    "# Looping over the data points to add labels with 16 digits of precision\n",
    "for i in range(len(X)):\n",
    "    x_coord = f\"{X[i, 0]:.6f}\"\n",
    "    y_coord = f\"{X[i, 1]:.6f}\"\n",
    "    y_value = f\"{Y[i]:.6f}\"\n",
    "    label = f\"({x_coord}, {y_coord}): {y_value}\"\n",
    "    ax.text(X[i, 0], X[i, 1], label, fontsize=6, ha='right', va='bottom')\n",
    "\n",
    "plt.show()\n"
   ]
  },
  {
   "cell_type": "code",
   "execution_count": 9,
   "metadata": {},
   "outputs": [],
   "source": [
    "# Convert to DataFrame for easier handling\n",
    "df = pd.DataFrame(X, columns=['x1', 'x2'])\n",
    "df['output'] = Y"
   ]
  },
  {
   "cell_type": "code",
   "execution_count": 10,
   "metadata": {},
   "outputs": [
    {
     "name": "stdout",
     "output_type": "stream",
     "text": [
      "Statistical Summary:\n",
      "              x1         x2     output\n",
      "count  10.000000  10.000000  10.000000\n",
      "mean    0.538513   0.487930   0.230674\n",
      "std     0.237188   0.320245   0.237555\n",
      "min     0.142699   0.028698  -0.065624\n",
      "25%     0.365854   0.233014   0.027016\n",
      "50%     0.516180   0.517012   0.229792\n",
      "75%     0.693427   0.756760   0.388938\n",
      "max     0.877791   0.926564   0.611205\n"
     ]
    }
   ],
   "source": [
    "# Statistical Summary\n",
    "print(\"Statistical Summary:\")\n",
    "print(df.describe())"
   ]
  },
  {
   "cell_type": "markdown",
   "metadata": {},
   "source": [
    "Here are some noises:\n",
    "X1\tX2\tY\n",
    "0.66579958\t0.123969128\t0.538996119\n",
    "0.142699074\t0.349005131\t-0.065623624\n",
    "0.338648157\t0.213867246\t-0.013857618\n",
    "0.702636557\t0.926564198\t0.611205216\n",
    "\n",
    "Below we provide code for both:"
   ]
  },
  {
   "cell_type": "code",
   "execution_count": 30,
   "metadata": {},
   "outputs": [
    {
     "name": "stdout",
     "output_type": "stream",
     "text": [
      "Next query Random:  [0.140749034863477, 0.9405578487289826]\n"
     ]
    }
   ],
   "source": [
    "#Appoach 1\n",
    "\n",
    "# Random search around an area restricted around $x$ = [0.142699074, 0.926564198]\n",
    "next_query_x1 = np.random.normal(0.142699074, scale = 0.01)\n",
    "next_query_x2 = np.random.normal(0.926564198, scale = 0.01)\n",
    "print('Next query Random: ', [next_query_x1, next_query_x2])\n",
    "\n",
    "\n"
   ]
  },
  {
   "cell_type": "code",
   "execution_count": null,
   "metadata": {},
   "outputs": [],
   "source": []
  },
  {
   "cell_type": "code",
   "execution_count": 36,
   "metadata": {},
   "outputs": [
    {
     "name": "stdout",
     "output_type": "stream",
     "text": [
      "Best Parameters: {'kernel__k1__constant_value': 0.012329623163659835, 'kernel__k2__length_scale': 0.0012601639723276799}\n",
      "Log-marginal-likelihood: -1.0950192526666385\n",
      "Week 1, kappa: 1.96, xi: 0.1\n",
      "Week 2, kappa: 1.764, xi: 0.09000000000000001\n",
      "Week 3, kappa: 1.5876000000000001, xi: 0.08100000000000002\n",
      "Week 4, kappa: 1.42884, xi: 0.0729\n",
      "Week 5, kappa: 1.285956, xi: 0.06561\n",
      "Week 6, kappa: 1.1573604000000002, xi: 0.05904900000000001\n",
      "Week 7, kappa: 1.0416243600000001, xi: 0.05314410000000001\n",
      "Week 8, kappa: 0.9374619240000002, xi: 0.04782969000000001\n",
      "Week 9, kappa: 0.8437157316000001, xi: 0.04304672100000001\n",
      "Week 10, kappa: 0.7593441584400001, xi: 0.03874204890000001\n",
      "Next query EI:  0.787879-0.969697\n",
      "Next query PI:  0.747475-0.949495\n",
      "Next query UCB:  0.787879-0.969697\n"
     ]
    }
   ],
   "source": [
    "#Approach 2\n",
    "\n",
    "#Randomized Hyperparameter Search: \n",
    "#defines a search space for the kernel parameters, creates a Gaussian process model, and then uses RandomizedSearchCV to find the best hyperparameters based on cross-validation. \n",
    "# The best model and parameters are then displayed.\n",
    "param_distributions = {\n",
    "    'kernel__k1__constant_value': loguniform(1e-3, 1e3),\n",
    "    'kernel__k2__length_scale': loguniform(1e-4, 1e2)  \n",
    "}\n",
    "\n",
    "kernel = C(1.0, (1e-3, 1e3)) * RBF(1.0, (1e-2, 1e2))  \n",
    "\n",
    "gp = GaussianProcessRegressor(kernel=kernel, n_restarts_optimizer=20)\n",
    "\n",
    "random_search = RandomizedSearchCV(gp, param_distributions, n_iter=10, cv=5, random_state=42, n_jobs=-1)\n",
    "random_search.fit(X,Y)\n",
    "\n",
    "best_gp = random_search.best_estimator_\n",
    "best_params = random_search.best_params_\n",
    "print(\"Best Parameters:\", best_params)\n",
    "print(f\"Log-marginal-likelihood: {best_gp.log_marginal_likelihood(best_gp.kernel_.theta)}\")\n",
    "\n",
    "#an acquisition function used in Bayesian optimization. \n",
    "# The EI is calculated for a set of points X, given a Gaussian process gp. It's used to determine the next point to sample.\n",
    "\n",
    "def expected_improvement(X, gp, xi=0.01):\n",
    "    X = np.atleast_2d(X)\n",
    "    mu, sigma = gp.predict(X, return_std=True)\n",
    "    mu_sample_opt = np.max(gp.predict(gp.X_train_)) # Finds the best (maximum) output observed so far from the training data of the Gaussian process.\n",
    "\n",
    "    with np.errstate(divide='warn'):\n",
    "        imp = mu - mu_sample_opt - xi # represents the improvement over mu_sample_opt that is expected for each point in X, adjusted by the trade-off parameter xi.\n",
    "        Z = imp / sigma #is a standardized version of imp, which is used to calculate the probability and density values from the normal distribution.\n",
    "        ei = imp * norm.cdf(Z) + sigma * norm.pdf(Z) # Computes the expected improvement for each point in X, which includes both the expected improvement (imp) and the uncertainty (sigma) at that point.\n",
    "        ei[sigma == 0.0] = 0.0\n",
    "\n",
    "    return ei.flatten()\n",
    "\n",
    "# Probability of Improvement acquisition function\n",
    "def probability_of_improvement(X, gp, xi=0.01):\n",
    "    X = np.atleast_2d(X)\n",
    "    mu, sigma = gp.predict(X, return_std=True)\n",
    "    mu_sample_opt = np.max(gp.predict(gp.X_train_))\n",
    "    \n",
    "    with np.errstate(divide='warn'):\n",
    "        imp = mu - mu_sample_opt - xi\n",
    "        Z = imp / sigma\n",
    "        pi = norm.cdf(Z)\n",
    "        pi[sigma == 0.0] = 0.0\n",
    "    \n",
    "    return pi.flatten()\n",
    "\n",
    "# Define the UCB acquisition function\n",
    "# After optimizing the hyperparameters, the Upper Confidence Bound (UCB) is used as the acquisition function in the weekly optimization loop. \n",
    "# The UCB balances exploration (trying new, uncertain points) and exploitation (focusing on points known to yield good results).\n",
    "def upper_confidence_bound(X, gpr, kappa=1.96):\n",
    "    X = np.atleast_2d(X)\n",
    "    mu, sigma = gpr.predict(X, return_std=True)\n",
    "    return mu + kappa * sigma\n",
    "\n",
    "# Kappa parameters for exploration-exploitation balance\n",
    "#As the loop progresses, kappa decreases, gradually shifting the focus from exploring uncertain regions to exploiting regions known to yield better results.\n",
    "kappa_initial = 1.96\n",
    "kappa_decay = 0.9\n",
    "min_kappa = 0.1\n",
    "# Define xi parameters for exploration-exploitation balance\n",
    "xi_initial = 0.1\n",
    "xi_decay = 0.9\n",
    "min_xi = 0.01\n",
    "\n",
    "# Finding the Next Sampling Point\n",
    "x1 = np.linspace(0, 1, 100)\n",
    "x2 = np.linspace(0, 1, 100)\n",
    "\n",
    "X_grid = []\n",
    "for i in range(len(x1)):\n",
    "    for j in range(len(x2)):\n",
    "        X_grid.append([x1[i], x2[j]])\n",
    "\n",
    "X_grid = np.array(X_grid)\n",
    "\n",
    "# Define the number of weeks you plan to run this optimization\n",
    "N_WEEKS = 10  # adjust this based on your requirement\n",
    "# Weekly Optimization Loop\n",
    "for week in range(N_WEEKS):\n",
    "    # Decay kappa value exponentially for exploration-exploitation balance\n",
    "    kappa = max(kappa_initial * (kappa_decay ** week), min_kappa)\n",
    "    xi = max(xi_initial * (xi_decay ** week), min_xi)\n",
    "    print(f\"Week {week + 1}, kappa: {kappa}, xi: {xi}\")\n",
    "\n",
    "# EI next point calcuation\n",
    "ei_values = expected_improvement(X_grid, best_gp,xi) # presumably the best Gaussian process model found via hyperparameter tuning (e.g., using RandomizedSearchCV)\n",
    "next_point_index_ei = np.argmax(ei_values) # Finds the index of the maximum expected improvement in the grid.\n",
    "next_point_ei = X_grid[next_point_index_ei] #considered the best candidate for the next function evaluation as it is expected to yield the most information gain according to the EI criterion.\n",
    "print('Next query EI: ', format_query(next_point_ei,6))\n",
    "\n",
    "# PI next point calcuation\n",
    "pi_values = probability_of_improvement(X_grid, best_gp,xi)\n",
    "# Select the point with the highest Probability of Improvement\n",
    "next_point_index_pi = np.argmax(pi_values)\n",
    "next_point_pi = X_grid[next_point_index_pi]\n",
    "# Format the query point for printing, assuming the existence of a function 'format_query'\n",
    "print('Next query PI: ', format_query(next_point_pi, 6))\n",
    "\n",
    "# Select the point based on UCB using updated kappa\n",
    "\"\"\"\n",
    "Week 1, kappa: 1.96, xi: 0.1\n",
    "Week 2, kappa: 1.764, xi: 0.09000000000000001\n",
    "Week 3, kappa: 1.5876000000000001, xi: 0.08100000000000002\n",
    "Week 4, kappa: 1.42884, xi: 0.0729\n",
    "Week 5, kappa: 1.285956, xi: 0.06561\n",
    "Week 6, kappa: 1.1573604000000002, xi: 0.05904900000000001\n",
    "Week 7, kappa: 1.0416243600000001, xi: 0.05314410000000001\n",
    "Week 8, kappa: 0.9374619240000002, xi: 0.04782969000000001\n",
    "Week 9, kappa: 0.8437157316000001, xi: 0.04304672100000001\n",
    "Week 10, kappa: 0.7593441584400001, xi: 0.03874204890000001\n",
    "\"\"\"\n",
    "ucb_value = upper_confidence_bound(X_grid, best_gp, kappa)\n",
    "# Select the point with the highest UCB\n",
    "next_point_index_ucb = np.argmax(ucb_value)\n",
    "next_point_ucb = X_grid[next_point_index_ucb]\n",
    "# Format the query point for printing, assuming the existence of a function 'format_query'\n",
    "print('Next query UCB: ', format_query(next_point_ucb, 6))"
   ]
  },
  {
   "cell_type": "code",
   "execution_count": null,
   "metadata": {},
   "outputs": [],
   "source": []
  },
  {
   "cell_type": "code",
   "execution_count": null,
   "metadata": {},
   "outputs": [],
   "source": []
  },
  {
   "cell_type": "code",
   "execution_count": null,
   "metadata": {},
   "outputs": [],
   "source": []
  },
  {
   "cell_type": "code",
   "execution_count": null,
   "metadata": {},
   "outputs": [],
   "source": []
  }
 ],
 "metadata": {
  "colab": {
   "provenance": []
  },
  "interpreter": {
   "hash": "d37abda7630e259e5026a5079657683a09f6e3d11473720762ebe7250c494840"
  },
  "kernelspec": {
   "display_name": "Python 3 (ipykernel)",
   "language": "python",
   "name": "python3"
  },
  "language_info": {
   "codemirror_mode": {
    "name": "ipython",
    "version": 3
   },
   "file_extension": ".py",
   "mimetype": "text/x-python",
   "name": "python",
   "nbconvert_exporter": "python",
   "pygments_lexer": "ipython3",
   "version": "3.10.9"
  }
 },
 "nbformat": 4,
 "nbformat_minor": 1
}
