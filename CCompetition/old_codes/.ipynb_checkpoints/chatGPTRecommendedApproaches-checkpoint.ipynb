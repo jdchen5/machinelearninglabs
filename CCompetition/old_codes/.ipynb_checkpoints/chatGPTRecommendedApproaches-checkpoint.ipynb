{
 "cells": [
  {
   "cell_type": "code",
   "execution_count": 2,
   "id": "2014ae07",
   "metadata": {},
   "outputs": [],
   "source": [
    "import numpy as np\n",
    "import matplotlib.pyplot as plt\n",
    "from sklearn.gaussian_process import GaussianProcessRegressor\n",
    "from sklearn.gaussian_process.kernels import RBF, Matern\n",
    "from scipy.stats import norm"
   ]
  },
  {
   "cell_type": "code",
   "execution_count": 3,
   "id": "328365c5",
   "metadata": {},
   "outputs": [
    {
     "name": "stdout",
     "output_type": "stream",
     "text": [
      "Next query Random Search: [0.01489598 0.69037097]\n"
     ]
    },
    {
     "name": "stderr",
     "output_type": "stream",
     "text": [
      "C:\\ProgramData\\anaconda3\\lib\\site-packages\\sklearn\\gaussian_process\\_gpr.py:629: ConvergenceWarning: lbfgs failed to converge (status=2):\n",
      "ABNORMAL_TERMINATION_IN_LNSRCH.\n",
      "\n",
      "Increase the number of iterations (max_iter) or scale the data as shown in:\n",
      "    https://scikit-learn.org/stable/modules/preprocessing.html\n",
      "  _check_optimize_result(\"lbfgs\", opt_res)\n"
     ]
    },
    {
     "ename": "NameError",
     "evalue": "name 'iteration' is not defined",
     "output_type": "error",
     "traceback": [
      "\u001b[1;31m---------------------------------------------------------------------------\u001b[0m",
      "\u001b[1;31mNameError\u001b[0m                                 Traceback (most recent call last)",
      "Cell \u001b[1;32mIn[3], line 51\u001b[0m\n\u001b[0;32m     48\u001b[0m \u001b[38;5;28mprint\u001b[39m(\u001b[38;5;124m\"\u001b[39m\u001b[38;5;124mNext query Random Search:\u001b[39m\u001b[38;5;124m\"\u001b[39m, next_query)\n\u001b[0;32m     50\u001b[0m \u001b[38;5;66;03m# Perform Bayesian Optimization\u001b[39;00m\n\u001b[1;32m---> 51\u001b[0m X_opt, Y_opt \u001b[38;5;241m=\u001b[39m \u001b[43mbayesian_optimization\u001b[49m\u001b[43m(\u001b[49m\u001b[43mX\u001b[49m\u001b[43m,\u001b[49m\u001b[43m \u001b[49m\u001b[43mY\u001b[49m\u001b[43m)\u001b[49m\n\u001b[0;32m     52\u001b[0m best_idx \u001b[38;5;241m=\u001b[39m np\u001b[38;5;241m.\u001b[39margmax(Y_opt)\n\u001b[0;32m     53\u001b[0m \u001b[38;5;28mprint\u001b[39m(\u001b[38;5;124m\"\u001b[39m\u001b[38;5;124mBest point Bayesian Optimization:\u001b[39m\u001b[38;5;124m\"\u001b[39m, X_opt[best_idx])\n",
      "Cell \u001b[1;32mIn[3], line 40\u001b[0m, in \u001b[0;36mbayesian_optimization\u001b[1;34m(X, Y, n_iterations)\u001b[0m\n\u001b[0;32m     37\u001b[0m Y \u001b[38;5;241m=\u001b[39m np\u001b[38;5;241m.\u001b[39mappend(Y, next_eval)\n\u001b[0;32m     39\u001b[0m \u001b[38;5;66;03m# Debugging print statements\u001b[39;00m\n\u001b[1;32m---> 40\u001b[0m \u001b[38;5;28mprint\u001b[39m(\u001b[38;5;124mf\u001b[39m\u001b[38;5;124m\"\u001b[39m\u001b[38;5;124mIteration \u001b[39m\u001b[38;5;132;01m{\u001b[39;00miteration\u001b[38;5;132;01m}\u001b[39;00m\u001b[38;5;124m:\u001b[39m\u001b[38;5;124m\"\u001b[39m)\n\u001b[0;32m     41\u001b[0m \u001b[38;5;28mprint\u001b[39m(\u001b[38;5;124m\"\u001b[39m\u001b[38;5;124mX shape:\u001b[39m\u001b[38;5;124m\"\u001b[39m, X\u001b[38;5;241m.\u001b[39mshape)\n\u001b[0;32m     42\u001b[0m \u001b[38;5;28mprint\u001b[39m(\u001b[38;5;124m\"\u001b[39m\u001b[38;5;124mY shape:\u001b[39m\u001b[38;5;124m\"\u001b[39m, Y\u001b[38;5;241m.\u001b[39mshape)\n",
      "\u001b[1;31mNameError\u001b[0m: name 'iteration' is not defined"
     ]
    }
   ],
   "source": [
    "# Load the initial data\n",
    "X = np.load('data/initial_inputs.npy')\n",
    "Y = np.load('data/initial_outputs.npy')\n",
    "\n",
    "# Define the function to be optimized (assuming the real function is unknown)\n",
    "def objective_function(x):\n",
    "    # This function should be replaced with the actual evaluation of the objective.\n",
    "    # Here it is assumed as a placeholder.\n",
    "    return np.sin(10 * np.pi * x) / x\n",
    "\n",
    "# Random Search within a restricted area\n",
    "def random_search_around_point(point, scale, n_samples=100):\n",
    "    samples = np.random.normal(point, scale, size=(n_samples, len(point)))\n",
    "    samples = np.clip(samples, 0, 1)  # Ensure samples are within bounds\n",
    "    evaluations = np.array([objective_function(sample) for sample in samples])\n",
    "    max_idx = np.argmax(evaluations)\n",
    "    return samples[max_idx], evaluations[max_idx]\n",
    "\n",
    "# Bayesian Optimization with UCB\n",
    "def bayesian_optimization(X, Y, n_iterations=10):\n",
    "    kernel = RBF(length_scale=1.0) + Matern(length_scale=1.0)\n",
    "    gpr = GaussianProcessRegressor(kernel=kernel)\n",
    "\n",
    "    for iteration in range(n_iterations):\n",
    "        gpr.fit(X, Y)\n",
    "        # Create the grid\n",
    "        x_grid = np.linspace(0, 1, 100)\n",
    "        X_grid = np.array([[x1, x2] for x1 in x_grid for x2 in x_grid])\n",
    "        mean, std = gpr.predict(X_grid, return_std=True)\n",
    "        ucb = mean + 1.96 * std\n",
    "        next_idx = np.argmax(ucb)\n",
    "        next_point = X_grid[next_idx]\n",
    "        next_eval = objective_function(next_point)\n",
    "        \n",
    "        # Update the data\n",
    "        X = np.vstack([X, next_point])\n",
    "        Y = np.append(Y, next_eval)\n",
    "\n",
    "        # Debugging print statements\n",
    "        print(f\"Iteration {iteration}:\")\n",
    "        print(\"X shape:\", X.shape)\n",
    "        print(\"Y shape:\", Y.shape)\n",
    "        \n",
    "    return X, Y\n",
    "\n",
    "# Perform Random Search as a baseline\n",
    "next_query = np.random.uniform(size=2)\n",
    "print(\"Next query Random Search:\", next_query)\n",
    "\n",
    "# Perform Bayesian Optimization\n",
    "X_opt, Y_opt = bayesian_optimization(X, Y)\n",
    "best_idx = np.argmax(Y_opt)\n",
    "print(\"Best point Bayesian Optimization:\", X_opt[best_idx])\n",
    "\n",
    "# Visualize the initial data\n",
    "plt.figure(figsize=(8, 5))\n",
    "plt.scatter(X[:, 0], X[:, 1], c=Y, cmap='viridis')\n",
    "plt.colorbar(label='Function value')\n",
    "plt.xlabel('x1')\n",
    "plt.ylabel('x2')\n",
    "plt.title('Initial Data Scatter Plot')\n",
    "plt.show()\n",
    "\n",
    "# Run random search around a hint point\n",
    "hint_point = np.array([0.6262626262626263, 0.6767676767676768])\n",
    "next_query_random, eval_random = random_search_around_point(hint_point, scale=0.01)\n",
    "print(\"Next query Random Search around hint point:\", next_query_random)\n",
    "\n",
    "# Visualize the Bayesian Optimization process\n",
    "plt.figure(figsize=(8, 5))\n",
    "plt.scatter(X_opt[:, 0], X_opt[:, 1], c=Y_opt, cmap='viridis')\n",
    "plt.colorbar(label='Function value')\n",
    "plt.xlabel('x1')\n",
    "plt.ylabel('x2')\n",
    "plt.title('Bayesian Optimization Points')\n",
    "plt.show()\n"
   ]
  },
  {
   "cell_type": "code",
   "execution_count": null,
   "id": "9a91f7da",
   "metadata": {},
   "outputs": [],
   "source": []
  }
 ],
 "metadata": {
  "kernelspec": {
   "display_name": "Python 3 (ipykernel)",
   "language": "python",
   "name": "python3"
  },
  "language_info": {
   "codemirror_mode": {
    "name": "ipython",
    "version": 3
   },
   "file_extension": ".py",
   "mimetype": "text/x-python",
   "name": "python",
   "nbconvert_exporter": "python",
   "pygments_lexer": "ipython3",
   "version": "3.10.9"
  }
 },
 "nbformat": 4,
 "nbformat_minor": 5
}
