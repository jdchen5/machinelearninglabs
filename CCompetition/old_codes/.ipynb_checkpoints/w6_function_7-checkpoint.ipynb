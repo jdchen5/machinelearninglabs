{
 "cells": [
  {
   "cell_type": "code",
   "execution_count": 7,
   "metadata": {
    "id": "wgiUppZDI97Y"
   },
   "outputs": [],
   "source": [
    "from datetime import datetime\n",
    "from mpl_toolkits.mplot3d import Axes3D\n",
    "import GPy\n",
    "import itertools  # Import the itertools module\n",
    "import numpy as np\n",
    "import pandas as pd\n",
    "import matplotlib.pyplot as plt\n",
    "import seaborn as sns\n",
    "\n",
    "from scipy.optimize import minimize,fmin_l_bfgs_b\n",
    "from scipy.spatial import ConvexHull, Voronoi\n",
    "from scipy.stats.qmc import LatinHypercube\n",
    "from scipy.stats import uniform, loguniform, norm, gaussian_kde\n",
    "\n",
    "from skopt import BayesSearchCV\n",
    "from skopt.space import Real\n",
    "\n",
    "from sklearn.gaussian_process import GaussianProcessRegressor\n",
    "from sklearn.gaussian_process.kernels import Matern, RBF, WhiteKernel, ConstantKernel as C, RationalQuadratic\n",
    "from sklearn.model_selection import RandomizedSearchCV,GridSearchCV\n",
    "from sklearn.metrics import mean_squared_error, r2_score"
   ]
  },
  {
   "cell_type": "markdown",
   "metadata": {
    "id": "AoXtaJiFI97c"
   },
   "source": [
    "# Guide and Ideas for Capstone Project - Function 7"
   ]
  },
  {
   "cell_type": "markdown",
   "metadata": {
    "id": "ECFiNw8AI97d"
   },
   "source": [
    "Function 7: Sometimes Lazy is Best (6D)\n",
    "You are now optimising six hyper-parameters of a machine learning model. Note that it is a popular and frequently used model, so maybe you could search to see if anyone else has optisized it before?\n",
    "\n"
   ]
  },
  {
   "cell_type": "markdown",
   "metadata": {},
   "source": [
    "<a id = 'Index:'></a>\n",
    "\n",
    "# Table of Content\n",
    "\n",
    "In this notebook we will apply Bayesian Optimisation for Black-Box functions.\n",
    "\n",
    "\n",
    "- [Part 1](#part1)- Load the data\n",
    "- [Part 2](#part2)- Optimisation"
   ]
  },
  {
   "cell_type": "code",
   "execution_count": null,
   "metadata": {},
   "outputs": [],
   "source": []
  },
  {
   "cell_type": "markdown",
   "metadata": {},
   "source": [
    "[Back to top](#Index:) \n",
    "\n",
    "<a id='part1'></a>\n",
    "\n",
    "### Part 1 - Load the data & perform analysis\n",
    "\n",
    "We begin this guide by downloading the data:"
   ]
  },
  {
   "cell_type": "code",
   "execution_count": null,
   "metadata": {},
   "outputs": [],
   "source": []
  },
  {
   "cell_type": "code",
   "execution_count": 8,
   "metadata": {
    "id": "SoLIJYgsI97e",
    "scrolled": true
   },
   "outputs": [
    {
     "name": "stdout",
     "output_type": "stream",
     "text": [
      "30\n",
      "30\n",
      "[[0.27262382 0.32449536 0.89710881 0.83295115 0.15406269 0.79586362]\n",
      " [0.54300258 0.9246939  0.34156746 0.64648585 0.71844033 0.34313266]\n",
      " [0.09083225 0.66152938 0.06593091 0.25857701 0.96345285 0.6402654 ]\n",
      " [0.11886697 0.61505494 0.90581639 0.8553003  0.41363143 0.58523563]\n",
      " [0.63021764 0.8380969  0.68001305 0.73189509 0.52673671 0.34842921]\n",
      " [0.76491917 0.25588292 0.60908422 0.21807904 0.32294277 0.09579366]\n",
      " [0.05789554 0.49167222 0.24742222 0.21811844 0.42042833 0.73096984]\n",
      " [0.19525188 0.07922665 0.55458046 0.17056682 0.01494418 0.10703171]\n",
      " [0.64230298 0.83687455 0.02179269 0.10148801 0.68307083 0.6924164 ]\n",
      " [0.78994255 0.19554501 0.57562333 0.07365919 0.25904917 0.05109986]\n",
      " [0.52849733 0.45742436 0.36009569 0.36204551 0.81689098 0.63747637]\n",
      " [0.72261522 0.01181284 0.06364591 0.16517311 0.07924415 0.35995166]\n",
      " [0.07566492 0.33450212 0.13273274 0.60831236 0.91838592 0.82233079]\n",
      " [0.94245084 0.37743962 0.48612233 0.22879108 0.08263175 0.71195755]\n",
      " [0.14864702 0.03394336 0.72880565 0.31606646 0.02176938 0.51691776]\n",
      " [0.81711239 0.54816823 0.10334758 0.12436955 0.72823482 0.44967361]\n",
      " [0.41762629 0.06409998 0.24566877 0.5590408  0.19153138 0.25464092]\n",
      " [0.72628566 0.46489581 0.92457051 0.8072454  0.6354384  0.14341787]\n",
      " [0.31981043 0.52009759 0.29067775 0.87670668 0.49503469 0.6190825 ]\n",
      " [0.87987128 0.39796199 0.00363456 0.95699064 0.26451373 0.11486924]\n",
      " [0.54124078 0.63140314 0.03190205 0.44998156 0.79865282 0.63370429]\n",
      " [0.22634792 0.11502581 0.82474966 0.94538372 0.90531153 0.95101392]\n",
      " [0.68685257 0.04101721 0.00757301 0.285009   0.69156848 0.6555429 ]\n",
      " [0.17597754 0.6244165  0.29554198 0.46955276 0.09776977 0.72814108]\n",
      " [0.88164674 0.20445019 0.41447436 0.42038468 0.26491501 0.73066019]\n",
      " [0.06661051 0.52804507 0.8160952  0.96101714 0.08650933 0.77778822]\n",
      " [0.93246638 0.48881189 0.25860774 0.95624344 0.19042781 0.51985176]\n",
      " [0.84686697 0.14242917 0.06066859 0.75629213 0.5523983  0.08130609]\n",
      " [0.80628208 0.32412237 0.72607601 0.14871213 0.7193764  0.36288398]\n",
      " [0.47682313 0.34094195 0.01433523 0.88013956 0.9986547  0.07966402]]\n",
      "[0.6044327  0.56275307 0.00750324 0.0614243  0.2730468  0.08374657\n",
      " 1.3649683  0.09264495 0.0178696  0.03356494 0.0735163  0.2063097\n",
      " 0.00882563 0.26840032 0.61152553 0.01479818 0.27489251 0.06676325\n",
      " 0.04211835 0.00270147 0.01820907 0.00701603 0.10050661 0.47539552\n",
      " 0.67514163 0.51645722 0.00377748 0.00313433 0.02134252 0.09541116]\n"
     ]
    }
   ],
   "source": [
    "X = np.load('initial_data/function_7/initial_inputs.npy')\n",
    "Y = np.load('initial_data/function_7/initial_outputs.npy')\n",
    "print(X.shape[0])\n",
    "print(Y.shape[0])\n",
    "\n",
    "print(X)\n",
    "print(Y)"
   ]
  },
  {
   "cell_type": "code",
   "execution_count": 9,
   "metadata": {},
   "outputs": [],
   "source": [
    "def format_query(point, NoOfDigits):\n",
    "    return '-'.join(f\"{x:.{NoOfDigits}f}\" for x in point)"
   ]
  },
  {
   "cell_type": "code",
   "execution_count": 10,
   "metadata": {},
   "outputs": [],
   "source": [
    "def print_timestamp():\n",
    "    # Print out the timestamp\n",
    "    print(\"Current Timestamp: \", datetime.now())"
   ]
  },
  {
   "cell_type": "code",
   "execution_count": 11,
   "metadata": {
    "scrolled": true
   },
   "outputs": [
    {
     "name": "stdout",
     "output_type": "stream",
     "text": [
      "0.2726238220336933-0.3244953623087271-0.8971088103082926-0.8329511521103058-0.1540626853924547-0.7958636234722036\n",
      "0.5430025769847714-0.9246939036961066-0.3415674591580987-0.6464858491139559-0.7184403268342174-0.3431326637293590\n",
      "0.0908322480237533-0.6615293817682490-0.0659309106387106-0.2585770079605848-0.9634528513541345-0.6402653979255966\n",
      "0.1188669748729492-0.6150549401610158-0.9058163852083280-0.8553003035780179-0.4136314287945351-0.5852356278450974\n",
      "0.6302176411815951-0.8380968963061266-0.6800130516496496-0.7318950900926644-0.5267367145175407-0.3484292133580069\n",
      "0.7649191728046694-0.2558829170119807-0.6090842238764527-0.2180790418950808-0.3229427691734139-0.0957936551163807\n",
      "0.0578955419713852-0.4916722186390137-0.2474222237486748-0.2181184363983764-0.4204283295460158-0.7309698428701273\n",
      "0.1952518811346716-0.0792266505913742-0.5545804616685562-0.1705668196824058-0.0149441764292924-0.1070317101032338\n",
      "0.6423029815827472-0.8368745468225558-0.0217926914858608-0.1014880095386536-0.6830708282995157-0.6924164003473481\n",
      "0.7899425542216801-0.1955450052633577-0.5756233261057669-0.0736591872735597-0.2590491743381623-0.0510998642136430\n",
      "0.5284973277361470-0.4574243553412765-0.3600956902472011-0.3620455063942090-0.8168909784453008-0.6374763663139539\n",
      "0.7226152153368091-0.0118128367086763-0.0636459129084119-0.1651731060371132-0.0792441460020747-0.3599516573745739\n",
      "0.0756649212032120-0.3345021188695649-0.1327327373482278-0.6083123613447988-0.9183859177326257-0.8223307855119826\n",
      "0.9424508393797228-0.3774396214241422-0.4861223262441836-0.2287910830613805-0.0826317471040852-0.7119575508609557\n",
      "0.1486470213912622-0.0339433634393900-0.7288056495692345-0.3160664556651587-0.0217693827506692-0.5169177573453840\n",
      "0.8171123887819559-0.5481682308981320-0.1033475776705327-0.1243695458124163-0.7282348211044535-0.4496736121668913\n",
      "0.4176262927182320-0.0640999813892187-0.2456687739007659-0.5590407960737909-0.1915313840384433-0.2546409230877973\n",
      "0.7262856636678173-0.4648958052588100-0.9245705141349381-0.8072453951375760-0.6354383951825947-0.1434178743844923\n",
      "0.3198104328384902-0.5200975875848201-0.2906777543222766-0.8767066778579525-0.4950346891082852-0.6190824996433428\n",
      "0.8798712775855185-0.3979619901837962-0.0036345648296358-0.9569906396679158-0.2645137325084310-0.1148692413930540\n",
      "0.5412407804594590-0.6314031426898206-0.0319020463276647-0.4499815599100049-0.7986528164952386-0.6337042906107708\n",
      "0.2263479213215623-0.1150258139009348-0.8247496553939904-0.9453837248568000-0.9053115276317740-0.9510139152470551\n",
      "0.6868525698557914-0.0410172077816531-0.0075730106696581-0.2850089958322135-0.6915684836560828-0.6555428970136261\n",
      "0.1759775366488313-0.6244164970552419-0.2955419835222590-0.4695527590211096-0.0977697704777262-0.7281410813045498\n",
      "0.8816467367680777-0.2044501883591620-0.4144743585192157-0.4203846784242615-0.2649150148174026-0.7306601868760868\n",
      "0.0666105105663012-0.5280450659529847-0.8160951953117404-0.9610171372277223-0.0865093337169039-0.7777882160330215\n",
      "0.9324663796298105-0.4888118879321913-0.2586077417635341-0.9562434362289866-0.1904278104244965-0.5198517579933358\n",
      "0.8468669651542917-0.1424291716485143-0.0606685897809874-0.7562921279692766-0.5523982951979418-0.0813060871520890\n",
      "0.8062820836261164-0.3241223746901364-0.7260760130795909-0.1487121315410435-0.7193764014954694-0.3628839783884743\n",
      "0.4768231286900887-0.3409419502762441-0.0143352324173232-0.8801395630913645-0.9986546964586872-0.0796640185732378\n",
      "--------------------------------------------------\n",
      "0.6044326958745716-0.5627530668655433-0.0075032366780494-0.0614243025035578-0.2730468012675987-0.0837465723201556-1.3649683044991994-0.0926449549479360-0.0178695987224958-0.0335649360370372-0.0735163042101616-0.2063096979535943-0.0088256339995109-0.2684003169374464-0.6115255284647864-0.0147981826027018-0.2748925084715891-0.0667632468819333-0.0421183545380621-0.0027014650245082-0.0182090730065812-0.0070160275585146-0.1005066108010817-0.4753955163956208-0.6751416308956351-0.5164572186199785-0.0037774796165787-0.0031343333109348-0.0213425227873124-0.0954111589101041\n"
     ]
    }
   ],
   "source": [
    "# Print X with 16 digits of precision\n",
    "for row in X:\n",
    "    print(format_query(row,16))\n",
    "\n",
    "# Print a separator line\n",
    "print(\"-\" * 50)\n",
    "\n",
    "# Print Y with 16 digits of precision\n",
    "print(format_query(Y,16))"
   ]
  },
  {
   "cell_type": "code",
   "execution_count": 12,
   "metadata": {},
   "outputs": [
    {
     "name": "stdout",
     "output_type": "stream",
     "text": [
      "   Week  Student  Fn        X1        X2        X3        X4        X5  \\\n",
      "0     1      427   1  0.605439  0.664755       NaN       NaN       NaN   \n",
      "1     1      427   2  0.929767  0.997474       NaN       NaN       NaN   \n",
      "2     1      427   3  0.990000  0.990000  0.000000       NaN       NaN   \n",
      "3     1      427   4  0.459180  0.459289  0.399209  0.408363       NaN   \n",
      "4     1      427   5  0.261839  0.845899  0.945459  0.906905       NaN   \n",
      "5     1      427   6  0.464312  0.339986  0.491438  0.749695  0.159201   \n",
      "6     1      427   7  0.000000  0.268289  0.446722  0.095962  0.273324   \n",
      "7     1      427   8  0.088905  0.288209  0.044306  0.256810  0.634647   \n",
      "8     1      428   1  0.628540  0.628540       NaN       NaN       NaN   \n",
      "9     1      428   2  0.983984  0.999998       NaN       NaN       NaN   \n",
      "\n",
      "         X6        X7       X8            Y  \n",
      "0       NaN       NaN      NaN     0.007671  \n",
      "1       NaN       NaN      NaN    -0.011315  \n",
      "2       NaN       NaN      NaN    -0.146375  \n",
      "3       NaN       NaN      NaN    -1.081020  \n",
      "4       NaN       NaN      NaN  1630.468499  \n",
      "5       NaN       NaN      NaN    -0.398505  \n",
      "6  0.874000       NaN      NaN     1.387468  \n",
      "7  0.459092  0.211743  0.52362     9.931010  \n",
      "8       NaN       NaN      NaN     2.000000  \n",
      "9       NaN       NaN      NaN    -0.143941  \n"
     ]
    }
   ],
   "source": [
    "# load w1 data\n",
    "pd_new = pd.read_csv(\"data/capstone_results.csv\")\n",
    "print(pd_new.head(10))"
   ]
  },
  {
   "cell_type": "code",
   "execution_count": 13,
   "metadata": {},
   "outputs": [
    {
     "name": "stdout",
     "output_type": "stream",
     "text": [
      "[[0.00000e+00 2.68289e-01 4.46722e-01 9.59620e-02 2.73324e-01 8.74000e-01]\n",
      " [1.23000e-04 4.44444e-01 2.22222e-01 2.22222e-01 4.44444e-01 7.77778e-01]\n",
      " [2.67153e-01 1.84240e-02 2.45150e-02 8.58944e-01 1.27181e-01 5.82142e-01]\n",
      " [0.00000e+00 2.10526e-01 5.26316e-01 5.26320e-02 3.68421e-01 7.89474e-01]\n",
      " [8.63390e-02 4.08658e-01 2.65295e-01 1.41470e-01 3.35118e-01 6.83255e-01]\n",
      " [1.88030e-02 9.22688e-01 9.71516e-01 3.96960e-01 1.18397e-01 8.92661e-01]\n",
      " [0.00000e+00 4.00000e-01 4.00000e-01 2.00000e-01 4.00000e-01 8.00000e-01]\n",
      " [1.12022e-01 3.88225e-01 3.02031e-01 1.34397e-01 3.28362e-01 6.49092e-01]\n",
      " [5.00000e-01 5.00000e-01 5.00000e-01 5.00000e-01 5.00000e-01 5.00000e-01]\n",
      " [7.14290e-02 3.57143e-01 3.57143e-01 7.14290e-02 3.57143e-01 6.42857e-01]\n",
      " [1.33635e-01 3.96522e-01 4.13819e-01 2.47470e-02 2.90913e-01 6.88565e-01]\n",
      " [3.69100e-03 9.09525e-01 9.96434e-01 1.18844e-01 2.34200e-01 9.60037e-01]\n",
      " [1.00000e-01 1.00000e-01 1.00000e-01 1.00000e-01 1.00000e-01 1.00000e-01]\n",
      " [0.00000e+00 8.00000e-01 6.00000e-01 0.00000e+00 4.00000e-01 2.00000e-01]\n",
      " [7.87100e-02 2.80135e-01 5.72289e-01 3.04421e-01 1.96381e-01 6.26643e-01]\n",
      " [2.77688e-01 6.76187e-01 6.03717e-01 6.24408e-01 5.09200e-03 6.80732e-01]\n",
      " [2.18086e-01 2.92891e-01 8.69330e-02 4.91370e-01 6.11696e-01 3.91725e-01]\n",
      " [5.26570e-02 2.91169e-01 3.59163e-01 1.86320e-02 3.39298e-01 7.05774e-01]\n",
      " [4.50000e-01 7.25000e-01 6.00000e-01 5.50000e-01 7.00000e-01 8.50000e-01]\n",
      " [1.66666e-01 3.33333e-01 3.33333e-01 1.66666e-01 3.33333e-01 6.66666e-01]\n",
      " [3.79071e-01 5.46021e-01 4.70523e-01 1.55368e-01 1.70032e-01 2.55453e-01]\n",
      " [8.46867e-01 1.42429e-01 6.06690e-02 7.56292e-01 5.52398e-01 8.13060e-02]\n",
      " [2.39556e-01 2.33938e-01 3.69568e-01 2.47416e-01 3.22499e-01 7.10138e-01]\n",
      " [8.81646e-01 2.04450e-01 4.14474e-01 4.20384e-01 2.64915e-01 7.30660e-01]\n",
      " [8.80844e-01 5.62440e-02 3.60120e-01 9.88476e-01 8.51248e-01 7.52450e-01]\n",
      " [2.44028e-01 8.38841e-01 6.49834e-01 2.29979e-01 3.67651e-01 6.42891e-01]]\n",
      "[1.38746799e+00 1.17090741e+00 5.05378715e-02 1.58936787e+00\n",
      " 1.83422269e+00 1.08739234e-01 1.61041803e+00 1.98464708e+00\n",
      " 5.05314992e-01 1.69918571e+00 1.50150083e+00 1.11191292e-01\n",
      " 6.98735633e-02 9.26552164e-02 2.33599681e+00 1.59861898e-01\n",
      " 2.03868209e-01 1.45804481e+00 5.57553359e-02 2.44893236e+00\n",
      " 4.22507852e-01 3.13433834e-03 3.04091010e+00 6.75144857e-01\n",
      " 1.22573554e-04 5.59702890e-01]\n"
     ]
    }
   ],
   "source": [
    "## need to change the function name\n",
    "\n",
    "pw_fn = pd_new[pd_new['Fn']==7]\n",
    "# Extract X1 and X2 into a 2D array and Y into a 1D array\n",
    "# Here we're ensuring to drop any NaN values as they can't be used in most models.\n",
    "\n",
    "## need to add addition feature based on the dimension\n",
    "X_new_points = pw_fn[['X1','X2','X3','X4','X5','X6']].dropna().values\n",
    "Y_new_points = pw_fn['Y'].dropna().values\n",
    "print(X_new_points)\n",
    "print(Y_new_points)"
   ]
  },
  {
   "cell_type": "code",
   "execution_count": 14,
   "metadata": {},
   "outputs": [
    {
     "name": "stdout",
     "output_type": "stream",
     "text": [
      "[[2.72623822e-01 3.24495362e-01 8.97108810e-01 8.32951152e-01\n",
      "  1.54062685e-01 7.95863623e-01]\n",
      " [5.43002577e-01 9.24693904e-01 3.41567459e-01 6.46485849e-01\n",
      "  7.18440327e-01 3.43132664e-01]\n",
      " [9.08322480e-02 6.61529382e-01 6.59309106e-02 2.58577008e-01\n",
      "  9.63452851e-01 6.40265398e-01]\n",
      " [1.18866975e-01 6.15054940e-01 9.05816385e-01 8.55300304e-01\n",
      "  4.13631429e-01 5.85235628e-01]\n",
      " [6.30217641e-01 8.38096896e-01 6.80013052e-01 7.31895090e-01\n",
      "  5.26736715e-01 3.48429213e-01]\n",
      " [7.64919173e-01 2.55882917e-01 6.09084224e-01 2.18079042e-01\n",
      "  3.22942769e-01 9.57936551e-02]\n",
      " [5.78955420e-02 4.91672219e-01 2.47422224e-01 2.18118436e-01\n",
      "  4.20428330e-01 7.30969843e-01]\n",
      " [1.95251881e-01 7.92266506e-02 5.54580462e-01 1.70566820e-01\n",
      "  1.49441764e-02 1.07031710e-01]\n",
      " [6.42302982e-01 8.36874547e-01 2.17926915e-02 1.01488010e-01\n",
      "  6.83070828e-01 6.92416400e-01]\n",
      " [7.89942554e-01 1.95545005e-01 5.75623326e-01 7.36591873e-02\n",
      "  2.59049174e-01 5.10998642e-02]\n",
      " [5.28497328e-01 4.57424355e-01 3.60095690e-01 3.62045506e-01\n",
      "  8.16890978e-01 6.37476366e-01]\n",
      " [7.22615215e-01 1.18128367e-02 6.36459129e-02 1.65173106e-01\n",
      "  7.92441460e-02 3.59951657e-01]\n",
      " [7.56649212e-02 3.34502119e-01 1.32732737e-01 6.08312361e-01\n",
      "  9.18385918e-01 8.22330786e-01]\n",
      " [9.42450839e-01 3.77439621e-01 4.86122326e-01 2.28791083e-01\n",
      "  8.26317471e-02 7.11957551e-01]\n",
      " [1.48647021e-01 3.39433634e-02 7.28805650e-01 3.16066456e-01\n",
      "  2.17693828e-02 5.16917757e-01]\n",
      " [8.17112389e-01 5.48168231e-01 1.03347578e-01 1.24369546e-01\n",
      "  7.28234821e-01 4.49673612e-01]\n",
      " [4.17626293e-01 6.40999814e-02 2.45668774e-01 5.59040796e-01\n",
      "  1.91531384e-01 2.54640923e-01]\n",
      " [7.26285664e-01 4.64895805e-01 9.24570514e-01 8.07245395e-01\n",
      "  6.35438395e-01 1.43417874e-01]\n",
      " [3.19810433e-01 5.20097588e-01 2.90677754e-01 8.76706678e-01\n",
      "  4.95034689e-01 6.19082500e-01]\n",
      " [8.79871278e-01 3.97961990e-01 3.63456483e-03 9.56990640e-01\n",
      "  2.64513733e-01 1.14869241e-01]\n",
      " [5.41240780e-01 6.31403143e-01 3.19020463e-02 4.49981560e-01\n",
      "  7.98652816e-01 6.33704291e-01]\n",
      " [2.26347921e-01 1.15025814e-01 8.24749655e-01 9.45383725e-01\n",
      "  9.05311528e-01 9.51013915e-01]\n",
      " [6.86852570e-01 4.10172078e-02 7.57301067e-03 2.85008996e-01\n",
      "  6.91568484e-01 6.55542897e-01]\n",
      " [1.75977537e-01 6.24416497e-01 2.95541984e-01 4.69552759e-01\n",
      "  9.77697705e-02 7.28141081e-01]\n",
      " [8.81646737e-01 2.04450188e-01 4.14474359e-01 4.20384678e-01\n",
      "  2.64915015e-01 7.30660187e-01]\n",
      " [6.66105106e-02 5.28045066e-01 8.16095195e-01 9.61017137e-01\n",
      "  8.65093337e-02 7.77788216e-01]\n",
      " [9.32466380e-01 4.88811888e-01 2.58607742e-01 9.56243436e-01\n",
      "  1.90427810e-01 5.19851758e-01]\n",
      " [8.46866965e-01 1.42429172e-01 6.06685898e-02 7.56292128e-01\n",
      "  5.52398295e-01 8.13060872e-02]\n",
      " [8.06282084e-01 3.24122375e-01 7.26076013e-01 1.48712132e-01\n",
      "  7.19376401e-01 3.62883978e-01]\n",
      " [4.76823129e-01 3.40941950e-01 1.43352324e-02 8.80139563e-01\n",
      "  9.98654696e-01 7.96640186e-02]\n",
      " [0.00000000e+00 2.68289000e-01 4.46722000e-01 9.59620000e-02\n",
      "  2.73324000e-01 8.74000000e-01]\n",
      " [1.23000000e-04 4.44444000e-01 2.22222000e-01 2.22222000e-01\n",
      "  4.44444000e-01 7.77778000e-01]\n",
      " [2.67153000e-01 1.84240000e-02 2.45150000e-02 8.58944000e-01\n",
      "  1.27181000e-01 5.82142000e-01]\n",
      " [0.00000000e+00 2.10526000e-01 5.26316000e-01 5.26320000e-02\n",
      "  3.68421000e-01 7.89474000e-01]\n",
      " [8.63390000e-02 4.08658000e-01 2.65295000e-01 1.41470000e-01\n",
      "  3.35118000e-01 6.83255000e-01]\n",
      " [1.88030000e-02 9.22688000e-01 9.71516000e-01 3.96960000e-01\n",
      "  1.18397000e-01 8.92661000e-01]\n",
      " [0.00000000e+00 4.00000000e-01 4.00000000e-01 2.00000000e-01\n",
      "  4.00000000e-01 8.00000000e-01]\n",
      " [1.12022000e-01 3.88225000e-01 3.02031000e-01 1.34397000e-01\n",
      "  3.28362000e-01 6.49092000e-01]\n",
      " [5.00000000e-01 5.00000000e-01 5.00000000e-01 5.00000000e-01\n",
      "  5.00000000e-01 5.00000000e-01]\n",
      " [7.14290000e-02 3.57143000e-01 3.57143000e-01 7.14290000e-02\n",
      "  3.57143000e-01 6.42857000e-01]\n",
      " [1.33635000e-01 3.96522000e-01 4.13819000e-01 2.47470000e-02\n",
      "  2.90913000e-01 6.88565000e-01]\n",
      " [3.69100000e-03 9.09525000e-01 9.96434000e-01 1.18844000e-01\n",
      "  2.34200000e-01 9.60037000e-01]\n",
      " [1.00000000e-01 1.00000000e-01 1.00000000e-01 1.00000000e-01\n",
      "  1.00000000e-01 1.00000000e-01]\n",
      " [0.00000000e+00 8.00000000e-01 6.00000000e-01 0.00000000e+00\n",
      "  4.00000000e-01 2.00000000e-01]\n",
      " [7.87100000e-02 2.80135000e-01 5.72289000e-01 3.04421000e-01\n",
      "  1.96381000e-01 6.26643000e-01]\n",
      " [2.77688000e-01 6.76187000e-01 6.03717000e-01 6.24408000e-01\n",
      "  5.09200000e-03 6.80732000e-01]\n",
      " [2.18086000e-01 2.92891000e-01 8.69330000e-02 4.91370000e-01\n",
      "  6.11696000e-01 3.91725000e-01]\n",
      " [5.26570000e-02 2.91169000e-01 3.59163000e-01 1.86320000e-02\n",
      "  3.39298000e-01 7.05774000e-01]\n",
      " [4.50000000e-01 7.25000000e-01 6.00000000e-01 5.50000000e-01\n",
      "  7.00000000e-01 8.50000000e-01]\n",
      " [1.66666000e-01 3.33333000e-01 3.33333000e-01 1.66666000e-01\n",
      "  3.33333000e-01 6.66666000e-01]\n",
      " [3.79071000e-01 5.46021000e-01 4.70523000e-01 1.55368000e-01\n",
      "  1.70032000e-01 2.55453000e-01]\n",
      " [8.46867000e-01 1.42429000e-01 6.06690000e-02 7.56292000e-01\n",
      "  5.52398000e-01 8.13060000e-02]\n",
      " [2.39556000e-01 2.33938000e-01 3.69568000e-01 2.47416000e-01\n",
      "  3.22499000e-01 7.10138000e-01]\n",
      " [8.81646000e-01 2.04450000e-01 4.14474000e-01 4.20384000e-01\n",
      "  2.64915000e-01 7.30660000e-01]\n",
      " [8.80844000e-01 5.62440000e-02 3.60120000e-01 9.88476000e-01\n",
      "  8.51248000e-01 7.52450000e-01]\n",
      " [2.44028000e-01 8.38841000e-01 6.49834000e-01 2.29979000e-01\n",
      "  3.67651000e-01 6.42891000e-01]]\n",
      "[6.04432696e-01 5.62753067e-01 7.50323668e-03 6.14243025e-02\n",
      " 2.73046801e-01 8.37465723e-02 1.36496830e+00 9.26449549e-02\n",
      " 1.78695987e-02 3.35649360e-02 7.35163042e-02 2.06309698e-01\n",
      " 8.82563400e-03 2.68400317e-01 6.11525528e-01 1.47981826e-02\n",
      " 2.74892508e-01 6.67632469e-02 4.21183545e-02 2.70146502e-03\n",
      " 1.82090730e-02 7.01602756e-03 1.00506611e-01 4.75395516e-01\n",
      " 6.75141631e-01 5.16457219e-01 3.77747962e-03 3.13433331e-03\n",
      " 2.13425228e-02 9.54111589e-02 1.38746799e+00 1.17090741e+00\n",
      " 5.05378715e-02 1.58936787e+00 1.83422269e+00 1.08739234e-01\n",
      " 1.61041803e+00 1.98464708e+00 5.05314992e-01 1.69918571e+00\n",
      " 1.50150083e+00 1.11191292e-01 6.98735633e-02 9.26552164e-02\n",
      " 2.33599681e+00 1.59861898e-01 2.03868209e-01 1.45804481e+00\n",
      " 5.57553359e-02 2.44893236e+00 4.22507852e-01 3.13433834e-03\n",
      " 3.04091010e+00 6.75144857e-01 1.22573554e-04 5.59702890e-01]\n"
     ]
    }
   ],
   "source": [
    "#append w1 data to the end\n",
    "\n",
    "X_updated = np.vstack((X, X_new_points))\n",
    "Y_updated = np.append(Y, Y_new_points)\n",
    "print(X_updated)\n",
    "print(Y_updated)"
   ]
  },
  {
   "cell_type": "code",
   "execution_count": null,
   "metadata": {},
   "outputs": [],
   "source": []
  },
  {
   "cell_type": "markdown",
   "metadata": {
    "id": "NkcYuXzwI97e"
   },
   "source": [
    "## Random Search"
   ]
  },
  {
   "cell_type": "markdown",
   "metadata": {
    "id": "rgSGzoSKI97f"
   },
   "source": [
    "The simplest solution would be a simple random search, that is, we can randomly choose our next query point:"
   ]
  },
  {
   "cell_type": "code",
   "execution_count": 15,
   "metadata": {
    "id": "5eXEv83bI97f",
    "outputId": "857ea4d7-a14d-4c40-a37c-dcae0aaed47c"
   },
   "outputs": [
    {
     "name": "stdout",
     "output_type": "stream",
     "text": [
      "[0.24336102 0.70515905 0.80697348 0.73479263 0.08551078 0.23849595]\n"
     ]
    }
   ],
   "source": [
    "next_query = np.random.uniform(size = 6)\n",
    "print(next_query)"
   ]
  },
  {
   "cell_type": "markdown",
   "metadata": {
    "id": "oUCdQVsHI97h"
   },
   "source": [
    "While this solution is easy to implement, we know it will be very slow. However, it could serve as a placeholder for gathering more information while you research which method you want to use for each function."
   ]
  },
  {
   "cell_type": "markdown",
   "metadata": {},
   "source": [
    "## Visualizing our data and thinking of the problem"
   ]
  },
  {
   "cell_type": "markdown",
   "metadata": {},
   "source": [
    "Analysis of Initial Dataset: The initial dataset provided gives a starting point. Analyzing this data using statistical techniques or visualization might provide insights into the behavior of the functions and where to search next.\n",
    "\n",
    "what we know about the problem:\n",
    "\n",
    "1.From the hints, expect a lot of local optima."
   ]
  },
  {
   "cell_type": "code",
   "execution_count": 16,
   "metadata": {},
   "outputs": [],
   "source": [
    "# Convert to DataFrame for easier handling\n",
    "df = pd.DataFrame(X_updated, columns=['x1', 'x2', 'x3', 'x4', 'x5', 'x6'])\n",
    "df['output'] = Y_updated"
   ]
  },
  {
   "cell_type": "code",
   "execution_count": 17,
   "metadata": {},
   "outputs": [
    {
     "data": {
      "text/plain": [
       "'# Save to CSV\\ncsv_file_path = \\'initial_data/function_7/function_7.csv\\'\\ndf.to_csv(csv_file_path, index=False)\\n\\nprint(f\"Dataset saved to \\'{csv_file_path}\\'\") '"
      ]
     },
     "execution_count": 17,
     "metadata": {},
     "output_type": "execute_result"
    }
   ],
   "source": [
    "\"\"\"# Save to CSV\n",
    "csv_file_path = 'initial_data/function_7/function_7.csv'\n",
    "df.to_csv(csv_file_path, index=False)\n",
    "\n",
    "print(f\"Dataset saved to '{csv_file_path}'\") \"\"\""
   ]
  },
  {
   "cell_type": "code",
   "execution_count": 18,
   "metadata": {},
   "outputs": [
    {
     "name": "stdout",
     "output_type": "stream",
     "text": [
      "Statistical Summary:\n",
      "              x1         x2         x3         x4         x5         x6  \\\n",
      "count  56.000000  56.000000  56.000000  56.000000  56.000000  56.000000   \n",
      "mean    0.380974   0.403914   0.405266   0.415279   0.410858   0.549561   \n",
      "std     0.320508   0.253475   0.279778   0.310062   0.268674   0.261747   \n",
      "min     0.000000   0.011813   0.003635   0.000000   0.005092   0.051100   \n",
      "25%     0.089709   0.209007   0.199850   0.153704   0.195169   0.357071   \n",
      "50%     0.269888   0.382832   0.364844   0.310244   0.348220   0.641561   \n",
      "75%     0.695793   0.546558   0.600000   0.667838   0.617632   0.730660   \n",
      "max     0.942451   0.924694   0.996434   0.988476   0.998655   0.960037   \n",
      "\n",
      "          output  \n",
      "count  56.000000  \n",
      "mean    0.565504  \n",
      "std     0.754115  \n",
      "min     0.000123  \n",
      "25%     0.048433  \n",
      "50%     0.181865  \n",
      "75%     0.675142  \n",
      "max     3.040910  \n"
     ]
    }
   ],
   "source": [
    "# Statistical Summary\n",
    "print(\"Statistical Summary:\")\n",
    "print(df.describe())\n"
   ]
  },
  {
   "cell_type": "markdown",
   "metadata": {},
   "source": [
    "## Maximum Empty Circle or MEC in a Voronoi diagram (Convex)"
   ]
  },
  {
   "cell_type": "code",
   "execution_count": 19,
   "metadata": {},
   "outputs": [
    {
     "name": "stdout",
     "output_type": "stream",
     "text": [
      "Center of the largest empty sphere: 0.661255-0.118019-0.149611-0.768522-0.476048-0.593120\n",
      "Radius of the largest empty sphere: 0.5575750964889139\n",
      "Current Timestamp:  2024-02-17 16:01:44.439351\n"
     ]
    }
   ],
   "source": [
    "# Replace with the datapoints\n",
    "points = X_updated  \n",
    "\n",
    "# Creating the Voronoi diagram \n",
    "vor = Voronoi(points)\n",
    "\n",
    "# Compute Convex Hull \n",
    "hull = ConvexHull(points)\n",
    "\n",
    "# Function to check if a point is inside the convex hull\n",
    "def in_hull(p, hull):\n",
    "    return all((np.dot(eq[:-1], p) + eq[-1] <= 0) for eq in hull.equations)\n",
    "\n",
    "# Find the largest empty sphere \n",
    "max_radius = 0\n",
    "center_of_max_sphere = None\n",
    "\n",
    "for vertex in vor.vertices:\n",
    "    if in_hull(vertex, hull):\n",
    "        min_distance_to_point = min(np.linalg.norm(vertex - point) for point in points)\n",
    "        if min_distance_to_point > max_radius:\n",
    "            max_radius = min_distance_to_point\n",
    "            center_of_max_sphere = vertex\n",
    "\n",
    "\n",
    "# You can print the results or analyze them programmatically\n",
    "if center_of_max_sphere is not None:\n",
    "    print(f\"Center of the largest empty sphere: {format_query(center_of_max_sphere,6)}\")\n",
    "    print(\"Radius of the largest empty sphere:\", max_radius)\n",
    "else:\n",
    "    print(\"No empty sphere found within the convex hull.\")\n",
    "\n",
    "print_timestamp()"
   ]
  },
  {
   "cell_type": "markdown",
   "metadata": {},
   "source": [
    "## Maximum Empty Circle or MEC in a Voronoi diagram"
   ]
  },
  {
   "cell_type": "code",
   "execution_count": 20,
   "metadata": {},
   "outputs": [
    {
     "name": "stdout",
     "output_type": "stream",
     "text": [
      "Center of the largest empty circle: 0.846867-0.142429-0.060669-0.756292-0.552398-0.081306\n",
      "Radius of the largest empty circle: 0.949225387354453\n",
      "Current Timestamp:  2024-02-17 16:01:45.884252\n"
     ]
    }
   ],
   "source": [
    "def largest_empty_circle(points):\n",
    "    # Compute Voronoi diagram\n",
    "    vor = Voronoi(points)\n",
    "    \n",
    "    # Iterate over Voronoi regions\n",
    "    max_radius = 0\n",
    "    best_point = None\n",
    "    for point, region in zip(vor.points, vor.regions):\n",
    "        if not region or -1 in region:\n",
    "            continue\n",
    "\n",
    "        # Compute the distances from the point to all edges of its Voronoi region\n",
    "        region_points = np.asarray([vor.vertices[i] for i in region])\n",
    "        distances = np.sqrt(((region_points - point) ** 2).sum(axis=1))\n",
    "\n",
    "        # Find the maximum distance\n",
    "        min_distance = np.min(distances)\n",
    "        if min_distance > max_radius:\n",
    "            max_radius = min_distance\n",
    "            best_point = point\n",
    "\n",
    "    return best_point, max_radius\n",
    "\n",
    "# dataset points\n",
    "points = X_updated\n",
    "center, radius = largest_empty_circle(points)\n",
    "\n",
    "\n",
    "if center is not None:\n",
    "    print(\"Center of the largest empty circle:\", format_query(center,6))\n",
    "    print(\"Radius of the largest empty circle:\", radius)\n",
    "else:\n",
    "    print(\"No empty circle found.\")\n",
    "    \n",
    "print_timestamp()"
   ]
  },
  {
   "cell_type": "markdown",
   "metadata": {},
   "source": [
    "## The best point is [0.239556, 0.233938, 0.369568, 0.247416, 0.322499, 0.710138]\n",
    "\n"
   ]
  },
  {
   "cell_type": "code",
   "execution_count": 21,
   "metadata": {},
   "outputs": [
    {
     "name": "stdout",
     "output_type": "stream",
     "text": [
      "The 10 closest points to [0.239556, 0.233938, 0.369568, 0.247416, 0.322499, 0.710138] are:\n",
      "[[0.20290472 0.28485984 0.36322729 0.2409269  0.28792712 0.73382352]\n",
      " [0.31043335 0.2343914  0.40426725 0.21448695 0.30382506 0.69956929]\n",
      " [0.18402823 0.24028928 0.31728664 0.24712601 0.33362867 0.65992354]\n",
      " [0.22479348 0.28955567 0.30756615 0.20896091 0.34516922 0.70817872]\n",
      " [0.26254319 0.18034785 0.35784122 0.31718421 0.31240938 0.6830265 ]\n",
      " [0.32742031 0.2627025  0.41949608 0.24121116 0.3134676  0.69939538]\n",
      " [0.19035566 0.18647041 0.43873606 0.28560364 0.32348136 0.68270904]\n",
      " [0.26239526 0.29482733 0.36786285 0.29267155 0.27994419 0.77255057]\n",
      " [0.19851364 0.22821766 0.38666722 0.27379139 0.25286693 0.77999577]\n",
      " [0.20353711 0.2337376  0.40908873 0.16867677 0.30276921 0.65525546]]\n",
      "Current Timestamp:  2024-02-17 16:01:48.148751\n"
     ]
    }
   ],
   "source": [
    "# updated dataset\n",
    "points = X_updated\n",
    "\n",
    "# Fit KDE to data\n",
    "data_kde = gaussian_kde(points.T)\n",
    "\n",
    "# Best point coordinates\n",
    "best_points = [0.239556, 0.233938, 0.369568, 0.247416, 0.322499, 0.710138]  \n",
    "\n",
    "# Define the threshold for each dimension\n",
    "threshold = 0.2  # Example threshold value\n",
    "\n",
    "# Calculate min and max values for each dimension based on the threshold\n",
    "min_values = [x - threshold for x in best_points]\n",
    "max_values = [x + threshold for x in best_points]\n",
    "\n",
    "# Increase the number of samples significantly\n",
    "num_samples = 100000  # Larger number of samples\n",
    "\n",
    "# Sample new points from the KDE\n",
    "kde_samples = data_kde.resample(size=num_samples)\n",
    "\n",
    "# Filter the samples to only keep those within the defined region\n",
    "conditions = [(kde_samples[i] >= min_values[i]) & (kde_samples[i] <= max_values[i]) for i in range(len(best_points))]\n",
    "conditions += [(kde_samples[i] >= 0) & (kde_samples[i] <= 1) for i in range(len(best_points))]  # Ensure all dimensions are within [0, 1]\n",
    "kde_samples_filtered = kde_samples[:, np.all(conditions, axis=0)].T\n",
    "\n",
    "# Check if we have any points after filtering\n",
    "if kde_samples_filtered.size == 0:\n",
    "    raise ValueError(\"No points sampled within the specified region.\")\n",
    "\n",
    "# The target point \n",
    "target_point = np.array(best_points)\n",
    "\n",
    "# Compute the Euclidean distances from each point in the dataset to the target point\n",
    "distances = np.linalg.norm(kde_samples_filtered - target_point, axis=1)\n",
    "\n",
    "# Get the indices of the 10 closest points\n",
    "closest_indices = np.argsort(distances)[:10]\n",
    "\n",
    "# Retrieve the closest points using these indices\n",
    "closest_points = kde_samples_filtered[closest_indices]\n",
    "\n",
    "print(\"The 10 closest points to\", best_points, \"are:\")\n",
    "print(closest_points)\n",
    "\n",
    "print_timestamp()"
   ]
  },
  {
   "cell_type": "code",
   "execution_count": null,
   "metadata": {},
   "outputs": [],
   "source": []
  },
  {
   "cell_type": "code",
   "execution_count": 22,
   "metadata": {},
   "outputs": [
    {
     "data": {
      "image/png": "[encoded data removed]",
      "text/plain": [
       "<Figure size 800x600 with 2 Axes>"
      ]
     },
     "metadata": {},
     "output_type": "display_data"
    },
    {
     "data": {
      "image/png": "[encoded data removed]",
      "text/plain": [
       "<Figure size 1750x1750 with 56 Axes>"
      ]
     },
     "metadata": {},
     "output_type": "display_data"
    }
   ],
   "source": [
    "# Calculate correlations\n",
    "correlations = df.corr()\n",
    "\n",
    "# Plotting the correlations\n",
    "plt.figure(figsize=(8, 6))\n",
    "sns.heatmap(correlations, annot=True, cmap='coolwarm')\n",
    "plt.title('Correlation Matrix')\n",
    "plt.show()\n",
    "\n",
    "# Pairplot to visualize relationships\n",
    "sns.pairplot(df)\n",
    "plt.show()"
   ]
  },
  {
   "cell_type": "code",
   "execution_count": null,
   "metadata": {},
   "outputs": [],
   "source": []
  },
  {
   "cell_type": "markdown",
   "metadata": {},
   "source": [
    "[Back to top](#Index:) \n",
    "\n",
    "<a id='part2'></a>\n",
    "\n",
    "### Part 2 - Optimisation"
   ]
  },
  {
   "cell_type": "code",
   "execution_count": null,
   "metadata": {},
   "outputs": [],
   "source": []
  },
  {
   "cell_type": "code",
   "execution_count": 23,
   "metadata": {},
   "outputs": [
    {
     "name": "stdout",
     "output_type": "stream",
     "text": [
      "Kappa Array:\n",
      "Week 1(Index 0): 1.96\n",
      "Week 2(Index 1): 1.764\n",
      "Week 3(Index 2): 1.5876000000000001\n",
      "Week 4(Index 3): 1.42884\n",
      "Week 5(Index 4): 1.285956\n",
      "Week 6(Index 5): 1.1573604000000002\n",
      "Week 7(Index 6): 1.0416243600000001\n",
      "Week 8(Index 7): 0.9374619240000002\n",
      "Week 9(Index 8): 0.8437157316000001\n",
      "Week 10(Index 9): 0.7593441584400001\n",
      "Xi Array:\n",
      "Week 1(Index 0): 0.1\n",
      "Week 2(Index 1): 0.09000000000000001\n",
      "Week 3(Index 2): 0.08100000000000002\n",
      "Week 4(Index 3): 0.0729\n",
      "Week 5(Index 4): 0.06561\n",
      "Week 6(Index 5): 0.05904900000000001\n",
      "Week 7(Index 6): 0.05314410000000001\n",
      "Week 8(Index 7): 0.04782969000000001\n",
      "Week 9(Index 8): 0.04304672100000001\n",
      "Week 10(Index 9): 0.03874204890000001\n"
     ]
    }
   ],
   "source": [
    "def compute_kappa_xi_arrays(N_WEEKS, kappa_initial, kappa_decay, min_kappa, xi_initial, xi_decay, min_xi):\n",
    "    \"\"\"\n",
    "    Compute kappa and xi values for each week in an optimization loop.\n",
    "\n",
    "    Parameters:\n",
    "    N_WEEKS: Number of weeks for the optimization loop.\n",
    "    kappa_initial: Initial value of kappa.\n",
    "    kappa_decay: Decay rate of kappa per week.\n",
    "    min_kappa: Minimum value of kappa.\n",
    "    xi_initial: Initial value of xi.\n",
    "    xi_decay: Decay rate of xi per week.\n",
    "    min_xi: Minimum value of xi.\n",
    "\n",
    "    Returns:\n",
    "    kappa_array: Array of kappa values for each week.\n",
    "    xi_array: Array of xi values for each week.\n",
    "    \"\"\"\n",
    "\n",
    "    kappa_array = np.zeros(N_WEEKS)\n",
    "    xi_array = np.zeros(N_WEEKS)\n",
    "\n",
    "    for week in range(N_WEEKS):\n",
    "        kappa = max(kappa_initial * (kappa_decay ** week), min_kappa)\n",
    "        xi = max(xi_initial * (xi_decay ** week), min_xi)\n",
    "        kappa_array[week] = kappa\n",
    "        xi_array[week] = xi\n",
    "\n",
    "    return kappa_array, xi_array\n",
    "\n",
    "# Example usage:\n",
    "N_WEEKS = 10\n",
    "kappa_initial = 1.96\n",
    "kappa_decay = 0.9\n",
    "min_kappa = 0.1\n",
    "xi_initial = 0.1\n",
    "xi_decay = 0.9\n",
    "min_xi = 0.01\n",
    "\n",
    "kappa_array, xi_array = compute_kappa_xi_arrays(N_WEEKS, kappa_initial, kappa_decay, min_kappa, xi_initial, xi_decay, min_xi)\n",
    "\n",
    "print(\"Kappa Array:\")\n",
    "for index, value in enumerate(kappa_array):\n",
    "    print(f\"Week {index+1}(Index {index}): {value}\")\n",
    "\n",
    "print(\"Xi Array:\")\n",
    "for index, value in enumerate(xi_array):\n",
    "    print(f\"Week {index +1}(Index {index}): {value}\")"
   ]
  },
  {
   "cell_type": "code",
   "execution_count": null,
   "metadata": {},
   "outputs": [],
   "source": []
  },
  {
   "cell_type": "code",
   "execution_count": 24,
   "metadata": {},
   "outputs": [],
   "source": [
    "#Evaluate Model Performance\n",
    "\n",
    "def evaluate_model_performance(model, X_test, Y_test, model_type='sklearn'):\n",
    "    \"\"\"\n",
    "    Evaluate the performance of a Gaussian Process model.\n",
    "\n",
    "    Parameters:\n",
    "    model: The trained Gaussian Process model.\n",
    "    X_test: Test data features (numpy array).\n",
    "    Y_test: True values for test data (numpy array).\n",
    "\n",
    "    Returns:\n",
    "    mse: Mean Squared Error of the model on the test data.\n",
    "    r2: R-squared value indicating the proportion of variance explained by the model.\n",
    "    \"\"\"\n",
    "\n",
    "    if model_type == 'gpy':\n",
    "        y_pred, var_pred = model.predict(X_test)\n",
    "        std_pred = np.sqrt(var_pred)\n",
    "    elif model_type == 'sklearn':\n",
    "        y_pred, std_pred = model.predict(X_test, return_std=True)\n",
    "\n",
    "    # Ensure y_pred is 1D\n",
    "    y_pred = y_pred.flatten()\n",
    "\n",
    "    # Calculate residuals\n",
    "    residuals = Y_test.flatten() - y_pred\n",
    "\n",
    "    # Check if dimensions match\n",
    "    if y_pred.shape != residuals.shape:\n",
    "        raise ValueError(f\"Shape mismatch: y_pred shape {y_pred.shape} and residuals shape {residuals.shape} must be the same.\")        \n",
    "        \n",
    "    # Calculate MSE and R-squared\n",
    "    mse = mean_squared_error(Y_test, y_pred)\n",
    "    r2 = r2_score(Y_test, y_pred)\n",
    "    \n",
    "    print(f\"MSE: {mse}\")\n",
    "    print(f\"R-squared: {r2}\")\n",
    "\n",
    "    # Analyze residuals\n",
    "    residuals = Y_test - y_pred\n",
    "\n",
    "    # Plot residuals to look for patterns\n",
    "    plt.scatter(y_pred, residuals)\n",
    "    plt.axhline(0, color='red', linestyle='--')\n",
    "    plt.xlabel('Predicted Values')\n",
    "    plt.ylabel('Residuals')\n",
    "    plt.title('Residual Plot')\n",
    "    plt.show()\n",
    "\n",
    "    return mse, r2\n",
    "\n",
    "# Usage example:\n",
    "# mse, r2 = evaluate_model_performance(best_gp, X_w1_new_points, Y_w1_new_points)\n",
    "# print(f\"MSE: {mse}\")\n",
    "# print(f\"R-squared: {r2}\")"
   ]
  },
  {
   "cell_type": "code",
   "execution_count": 25,
   "metadata": {},
   "outputs": [],
   "source": [
    "# define multiple acquisition functions\n",
    "\n",
    "#an acquisition function used in Bayesian optimization. \n",
    "# The EI is calculated for a set of points X, given a Gaussian process gp. It's used to determine the next point to sample.\n",
    "def expected_improvement(X_grid, gp, xi=0.01, model_type='gpy'):\n",
    "    if model_type == 'gpy':\n",
    "        mu, var = gp.predict(X_grid)\n",
    "        sigma = np.sqrt(var)\n",
    "        mu_sample_opt = np.max(gp.predict(gp.X))\n",
    "    elif model_type == 'sklearn':\n",
    "        mu, sigma = gp.predict(X, return_std=True)\n",
    "        mu_sample_opt = np.max(gp.predict(gp.X_train_, return_std=False))\n",
    "\n",
    "    with np.errstate(divide='warn'):\n",
    "        imp = mu - mu_sample_opt - xi\n",
    "        Z = imp / sigma\n",
    "        ei = imp * norm.cdf(Z) + sigma * norm.pdf(Z)\n",
    "        ei[sigma == 0.0] = 0.0\n",
    "\n",
    "    return ei\n",
    "\n",
    "\n",
    "# Probability of Improvement acquisition function\n",
    "def probability_of_improvement(X_grid, gp, xi=0.01, model_type='gpy'):\n",
    "    if model_type == 'gpy':\n",
    "        mu, var = gp.predict(X_grid)\n",
    "        sigma = np.sqrt(var)\n",
    "        mu_sample_opt = np.max(gp.predict(gp.X))\n",
    "    elif model_type == 'sklearn':\n",
    "        mu, sigma = gp.predict(X_grid, return_std=True)\n",
    "        mu_sample_opt = np.max(gp.predict(gp.X_train_, return_std=False))\n",
    "\n",
    "    with np.errstate(divide='warn'):\n",
    "        imp = mu - mu_sample_opt - xi\n",
    "        Z = imp / sigma\n",
    "        pi = norm.cdf(Z)\n",
    "        pi[sigma == 0.0] = 0.0\n",
    "\n",
    "    return pi\n",
    "\n",
    "\n",
    "# Define the UCB acquisition function\n",
    "# After optimizing the hyperparameters, the Upper Confidence Bound (UCB) is used as the acquisition function in the weekly optimization loop. \n",
    "# The UCB balances exploration (trying new, uncertain points) and exploitation (focusing on points known to yield good results).\n",
    "def upper_confidence_bound(X_grid, gp, kappa=1.96, model_type='gpy'):\n",
    "    if model_type == 'gpy':\n",
    "        mu, var = gp.predict(X_grid)\n",
    "        sigma = np.sqrt(var)\n",
    "    elif model_type == 'sklearn':\n",
    "        mu, sigma = gp.predict(X_grid, return_std=True)\n",
    "\n",
    "    return mu + kappa * sigma"
   ]
  },
  {
   "cell_type": "code",
   "execution_count": 26,
   "metadata": {},
   "outputs": [],
   "source": [
    "# define grid based on dimensions\n",
    "\n",
    "def generate_2d_grid(domain_start_x1, domain_end_x1, domain_start_x2, domain_end_x2, num_points):\n",
    "    \"\"\"\n",
    "    Generate a 2D grid of points for optimization.\n",
    "\n",
    "    Parameters:\n",
    "    domain_start_x1: Starting value of the first dimension.\n",
    "    domain_end_x1: Ending value of the first dimension.\n",
    "    domain_start_x2: Starting value of the second dimension.\n",
    "    domain_end_x2: Ending value of the second dimension.\n",
    "    num_points: Number of points to generate in each dimension.\n",
    "\n",
    "    Returns:\n",
    "    X_grid: A 2D numpy array of grid points.\n",
    "    \"\"\"\n",
    "\n",
    "    # Generate arrays of evenly spaced values in each dimension\n",
    "    x1 = np.linspace(domain_start_x1, domain_end_x1, num_points)\n",
    "    x2 = np.linspace(domain_start_x2, domain_end_x2, num_points)\n",
    "\n",
    "    # Use numpy's meshgrid function to create a grid efficiently\n",
    "    X_grid = np.array(np.meshgrid(x1, x2)).T.reshape(-1, 2)\n",
    "\n",
    "    return X_grid\n",
    "# Example usage:\n",
    "# domain_start_x1, domain_end_x1, domain_start_x2, domain_end_x2 = 0.6, 0.65, 0.6, 0.65\n",
    "# num_points = 100\n",
    "# X_grid = generate_2d_grid(domain_start_x1, domain_end_x1, domain_start_x2, domain_end_x2, num_points)\n",
    "\n",
    "def generate_nd_grid(max_points, dimensions):\n",
    "    # define range for input\n",
    "\tr_min, r_max = 0, 1.0\n",
    "\n",
    "\t# generate a random sample from the domain (dimensions)\n",
    "\tnd_grid = r_min + np.random.rand(max_points, dimensions) * (r_max - r_min)\n",
    "\t\n",
    "\treturn np.array(nd_grid)"
   ]
  },
  {
   "cell_type": "code",
   "execution_count": 27,
   "metadata": {},
   "outputs": [],
   "source": [
    "# propose the next points for all three acquisition functions\n",
    "\n",
    "def propose_next_point(xi, kappa, X_grid, best_gp, model_type = 'sklearn'):\n",
    "    \"\"\"\n",
    "    Update exploration-exploitation parameters and calculating next query points.\n",
    "   \n",
    "    Returns:\n",
    "    Next query points for EI, PI, and UCB.\n",
    "    \"\"\"\n",
    "\n",
    "\n",
    "    # EI next point calculation\n",
    "    ei_values = expected_improvement(X_grid, best_gp, xi,model_type)\n",
    "    next_point_index_ei = np.argmax(ei_values)\n",
    "    next_point_ei = X_grid[next_point_index_ei]\n",
    "    print('Next query EI: ', format_query(next_point_ei, 6))\n",
    "\n",
    "    # PI next point calculation\n",
    "    pi_values = probability_of_improvement(X_grid, best_gp, xi,model_type)\n",
    "    next_point_index_pi = np.argmax(pi_values)\n",
    "    next_point_pi = X_grid[next_point_index_pi]\n",
    "    print('Next query PI: ', format_query(next_point_pi, 6))\n",
    "\n",
    "    # UCB next point calculation\n",
    "    ucb_value = upper_confidence_bound(X_grid, best_gp, kappa,model_type)\n",
    "    next_point_index_ucb = np.argmax(ucb_value)\n",
    "    next_point_ucb = X_grid[next_point_index_ucb]\n",
    "    print('Next query UCB: ', format_query(next_point_ucb, 6))\n",
    "\n",
    "    return next_point_ei, next_point_pi, next_point_ucb"
   ]
  },
  {
   "cell_type": "markdown",
   "metadata": {},
   "source": [
    "# Approach 2 sklearn: Surrogate - using sklearn GP model train accumulatively& RandomisedSearchCV for hyperparameter optimisation¶"
   ]
  },
  {
   "cell_type": "code",
   "execution_count": 28,
   "metadata": {},
   "outputs": [
    {
     "name": "stdout",
     "output_type": "stream",
     "text": [
      "dict_keys(['k1', 'k2', 'k1__k1', 'k1__k2', 'k1__k1__constant_value', 'k1__k1__constant_value_bounds', 'k1__k2__length_scale', 'k1__k2__length_scale_bounds', 'k2__noise_level', 'k2__noise_level_bounds'])\n",
      "Best Parameters: {'kernel__k1__k1__constant_value': 0.3905441275210792, 'kernel__k1__k2__length_scale': 0.005589524205217923, 'kernel__k2__noise_level': 0.1146210740342503}\n",
      "Log-marginal-likelihood: -17.369565753534403\n",
      "MSE: 4.682787016363304e-05\n",
      "R-squared: 0.9999414892263163\n"
     ]
    },
    {
     "name": "stderr",
     "output_type": "stream",
     "text": [
      " C:\\Users\\jdche\\AppData\\Roaming\\Python\\Python310\\site-packages\\sklearn\\gaussian_process\\kernels.py:419: ConvergenceWarning:The optimal value found for dimension 0 of parameter k2__noise_level is close to the specified lower bound 0.001. Decreasing the bound and calling fit again may find a better value.\n"
     ]
    },
    {
     "data": {
      "image/png": "[encoded data removed]",
      "text/plain": [
       "<Figure size 640x480 with 1 Axes>"
      ]
     },
     "metadata": {},
     "output_type": "display_data"
    },
    {
     "name": "stdout",
     "output_type": "stream",
     "text": [
      "Current Timestamp:  2024-02-17 16:02:30.843807\n"
     ]
    }
   ],
   "source": [
    "\n",
    "#Approach 2 - modified\n",
    "#Randomized Hyperparameter Search: \n",
    "#defines a search space for the kernel parameters, creates a Gaussian process model, and then uses RandomizedSearchCV to find the best hyperparameters based on cross-validation. \n",
    "# The best model and parameters are then displayed.\n",
    "\n",
    "# Define a custom optimizer function with increased max_iter\n",
    "def custom_optimizer(obj_func, initial_theta, bounds):\n",
    "    # Optimize using the L-BFGS-B algorithm\n",
    "    opt_results = fmin_l_bfgs_b(obj_func, initial_theta, bounds=bounds, maxfun=1000, maxiter=20000)\n",
    "    \n",
    "    # Unpack the first two values (optimized parameters and function minimum)\n",
    "    theta_opt, func_min = opt_results[:2]\n",
    "    \n",
    "    return theta_opt, func_min\n",
    "\n",
    "param_distributions = {\n",
    "    'kernel__k1__k1__constant_value': loguniform(1e-3, 1e3),\n",
    "    'kernel__k1__k2__length_scale': loguniform(1e-4, 1e2),\n",
    "    'kernel__k2__noise_level': loguniform(1e-4, 1e1)\n",
    "}\n",
    "\n",
    "kernel = C(1.0, (1e-3, 1e3)) * RBF(1.0, (1e-2, 1e2)) + WhiteKernel(noise_level=1e-3, noise_level_bounds=(1e-3, 1e1))\n",
    "# Print the parameter names\n",
    "print(kernel.get_params().keys())\n",
    "\n",
    "gp = GaussianProcessRegressor(kernel=kernel, n_restarts_optimizer=20, optimizer=custom_optimizer) \n",
    "\n",
    "\n",
    "random_search = RandomizedSearchCV(gp, param_distributions, n_iter=50, cv=5, random_state=42, n_jobs=-1)\n",
    "random_search.fit(X_updated,Y_updated)\n",
    "\n",
    "best_gp = random_search.best_estimator_\n",
    "best_params = random_search.best_params_\n",
    "print(\"Best Parameters:\", best_params)\n",
    "print(f\"Log-marginal-likelihood: {best_gp.log_marginal_likelihood(best_gp.kernel_.theta)}\")\n",
    "\n",
    "mse, r2 = evaluate_model_performance(best_gp, X_new_points, Y_new_points,'sklearn')\n",
    "\n",
    "print_timestamp()"
   ]
  },
  {
   "cell_type": "markdown",
   "metadata": {},
   "source": [
    "# Approach 2 sklearn: train accumulatively & BayesSearchCV for hyperparameter optimisation"
   ]
  },
  {
   "cell_type": "code",
   "execution_count": null,
   "metadata": {},
   "outputs": [],
   "source": [
    "# Define a custom optimizer function with increased max_iter\n",
    "def custom_optimizer(obj_func, initial_theta, bounds):\n",
    "    # Optimize using the L-BFGS-B algorithm\n",
    "    opt_results = fmin_l_bfgs_b(obj_func, initial_theta, bounds=bounds, maxfun=1000, maxiter=20000)\n",
    "    \n",
    "    # Unpack the first two values (optimized parameters and function minimum)\n",
    "    theta_opt, func_min = opt_results[:2]\n",
    "    \n",
    "    return theta_opt, func_min\n",
    "\n",
    "param_distributions = {\n",
    "    'kernel__k1__k1__constant_value': loguniform(1e-3, 1e3),\n",
    "    'kernel__k1__k2__length_scale': loguniform(1e-4, 1e2),\n",
    "    'kernel__k2__noise_level': loguniform(1e-4, 1e1)\n",
    "}\n",
    "\n",
    "kernel = C(1.0, (1e-3, 1e3)) * RBF(1.0, (1e-2, 1e2)) + WhiteKernel(noise_level=1e-3, noise_level_bounds=(1e-3, 1e1))\n",
    "# Print the parameter names\n",
    "print(kernel.get_params().keys())\n",
    "\n",
    "gp = GaussianProcessRegressor(kernel=kernel, n_restarts_optimizer=20, optimizer=custom_optimizer)\n",
    "\n",
    "# Define the search space for the hyperparameters\n",
    "search_spaces = {\n",
    "    'kernel__k1__k1__constant_value': Real(1e-4, 1e5, prior='log-uniform'),\n",
    "    'kernel__k1__k2__length_scale': Real(1e-5, 1e3, prior='log-uniform'),\n",
    "    'kernel__k2__noise_level': Real(1e-10, 1e11, prior='log-uniform')\n",
    "}\n",
    "\n",
    "# Instantiate BayesSearchCV\n",
    "bayes_search = BayesSearchCV(gp, search_spaces, n_iter=100, cv=10, random_state=42, n_jobs=-1)\n",
    "\n",
    "# Fit the model\n",
    "bayes_search.fit(X_updated, Y_updated)\n",
    "\n",
    "# Retrieve the best model and parameters\n",
    "best_gp = bayes_search.best_estimator_\n",
    "best_params = bayes_search.best_params_\n",
    "print(\"Best Parameters:\", best_params)\n",
    "print(f\"Log-marginal-likelihood: {best_gp.log_marginal_likelihood(best_gp.kernel_.theta)}\")\n",
    "\n",
    "mse, r2 = evaluate_model_performance(best_gp, X_new_points, Y_new_points,'sklearn')\n",
    "\n",
    "\n",
    "print_timestamp()"
   ]
  },
  {
   "cell_type": "markdown",
   "metadata": {},
   "source": [
    "## Approach 2 sklearn: train accumulatively - different kernel with better log value¶"
   ]
  },
  {
   "cell_type": "code",
   "execution_count": null,
   "metadata": {},
   "outputs": [],
   "source": [
    "# Define a custom optimizer function with increased max_iter\n",
    "def custom_optimizer(obj_func, initial_theta, bounds):\n",
    "    # Optimize using the L-BFGS-B algorithm\n",
    "    opt_results = fmin_l_bfgs_b(obj_func, initial_theta, bounds=bounds, maxfun=1000, maxiter=20000)\n",
    "    \n",
    "    # Unpack the first two values (optimized parameters and function minimum)\n",
    "    theta_opt, func_min = opt_results[:2]\n",
    "    \n",
    "    return theta_opt, func_min\n",
    "\n",
    "\n",
    "kernel = C(1.0, (1e-3, 1e3)) * RBF(1.0, (1e-2, 1e2)) + WhiteKernel(noise_level=1e-3, noise_level_bounds=(1e-3, 1e1))\n",
    "# Print the parameter names\n",
    "print(kernel.get_params().keys())\n",
    "\n",
    "gp = GaussianProcessRegressor(kernel=kernel, n_restarts_optimizer=20, optimizer=custom_optimizer)\n",
    "\n",
    "# Define parameter grid with fixed values\n",
    "param_grid = {\n",
    "    'kernel': [\n",
    "        C(constant_value) * RationalQuadratic(alpha=alpha, length_scale=length_scale) + WhiteKernel(noise_level=noise_level)\n",
    "        for constant_value in np.logspace(-3, 7, num=7)  # Example range for constant_value\n",
    "        for alpha in np.logspace(-2, 2, num=7)          # Example range for alpha\n",
    "        for length_scale in np.logspace(-2, 2, num=7)   # Example range for length_scale\n",
    "        for noise_level in np.logspace(-6, 1, num=7)    # Example fixed values for noise_level\n",
    "    ]\n",
    "}\n",
    "\n",
    "grid_search = GridSearchCV(gp, param_grid, cv=5, n_jobs=-1)\n",
    "grid_search.fit(X_updated, Y_updated)\n",
    "\n",
    "# Retrieve the best model and parameters\n",
    "best_gp = grid_search.best_estimator_\n",
    "best_params = grid_search.best_params_\n",
    "print(\"Best Parameters:\", best_params)\n",
    "print(f\"Log-marginal-likelihood: {best_gp.log_marginal_likelihood(best_gp.kernel_.theta)}\")\n",
    "\n",
    "mse, r2 = evaluate_model_performance(best_gp, X_new_points, Y_new_points,'sklearn')\n",
    "\n",
    "\n",
    "print_timestamp()"
   ]
  },
  {
   "cell_type": "code",
   "execution_count": null,
   "metadata": {},
   "outputs": [],
   "source": []
  },
  {
   "cell_type": "code",
   "execution_count": null,
   "metadata": {},
   "outputs": [],
   "source": []
  },
  {
   "cell_type": "markdown",
   "metadata": {},
   "source": [
    "## Appoach 2: using sklearn GP model via random generated grid"
   ]
  },
  {
   "cell_type": "code",
   "execution_count": 29,
   "metadata": {},
   "outputs": [
    {
     "name": "stdout",
     "output_type": "stream",
     "text": [
      "Next query EI:  0.471240-0.702579-0.013588-0.392296-0.133919-0.511630\n",
      "Next query PI:  0.241235-0.213350-0.422172-0.317823-0.287367-0.672202\n",
      "Next query UCB:  0.224763-0.204801-0.416625-0.326358-0.338999-0.741370\n",
      "Current Timestamp:  2024-02-17 16:10:58.872757\n"
     ]
    }
   ],
   "source": [
    "#Approach 2: using sklearn GP model\n",
    "\n",
    "# generate grid\n",
    "max_points = 7000000 #9,000,000 (too big for memory)\n",
    "dimensions = 6  # Change this to the desired number of dimensions\n",
    "X_grid = []\n",
    "X_grid = generate_nd_grid(max_points, dimensions)\n",
    "\n",
    "\n",
    "# Select updated kappa & xi based on the nth week\n",
    "# Example for a specific week (e.g., week 1)\n",
    "week_index = 5  # For week 6, as indexing starts from 0\n",
    "xi_value = xi_array[week_index]\n",
    "kappa_value = kappa_array[week_index]\n",
    "\n",
    "\n",
    "# EI, PI, UCB next point calcuation\n",
    "next_point_ei, next_point_pi, next_point_ucb = propose_next_point(xi_value,kappa_value,X_grid,best_gp,'sklearn')\n",
    "\n",
    "#mse, r2 = evaluate_model_performance(best_gp, X_new_points, Y_new_points,'sklearn')\n",
    "#print(f\"MSE: {mse}\")\n",
    "#print(f\"R-squared: {r2}\")\n",
    "\n",
    "print_timestamp()"
   ]
  },
  {
   "cell_type": "markdown",
   "metadata": {},
   "source": [
    "## Appoach 2: using sklearn GP model via Voronoi diagram generated grid"
   ]
  },
  {
   "cell_type": "code",
   "execution_count": 30,
   "metadata": {},
   "outputs": [
    {
     "name": "stdout",
     "output_type": "stream",
     "text": [
      "Next query EI:  0.136392-0.273520-0.193540-0.305680-0.419196-0.874475\n",
      "Next query PI:  0.190356-0.186470-0.438736-0.285604-0.323481-0.682709\n",
      "Next query UCB:  0.190356-0.186470-0.438736-0.285604-0.323481-0.682709\n",
      "Current Timestamp:  2024-02-17 16:12:01.349498\n"
     ]
    }
   ],
   "source": [
    "# Select updated kappa & xi based on the nth week\n",
    "# Example for a specific week (e.g., week 1)\n",
    "week_index = 5  # For week 6, as indexing starts from 0\n",
    "xi_value = xi_array[week_index]\n",
    "kappa_value = kappa_array[week_index]\n",
    "\n",
    "\n",
    "# EI, PI, UCB next point calcuation\n",
    "next_point_ei, next_point_pi, next_point_ucb = propose_next_point(xi_value,kappa_value,kde_samples_filtered,best_gp,'sklearn')\n",
    "\n",
    "#mse, r2 = evaluate_model_performance(best_gp, X_new_points, Y_new_points,'sklearn')\n",
    "#print(f\"MSE: {mse}\")\n",
    "#print(f\"R-squared: {r2}\")\n",
    "\n",
    "print_timestamp()"
   ]
  },
  {
   "cell_type": "markdown",
   "metadata": {},
   "source": [
    "[Back to top](#Index:) "
   ]
  },
  {
   "cell_type": "markdown",
   "metadata": {},
   "source": [
    "## Aproach 3:  a Sparse Gaussian Process model"
   ]
  },
  {
   "cell_type": "code",
   "execution_count": 31,
   "metadata": {},
   "outputs": [
    {
     "data": {
      "application/vnd.jupyter.widget-view+json": {
       "model_id": "7ccbb37c1bd14e70bd7e2b96d197162e",
       "version_major": 2,
       "version_minor": 0
      },
      "text/plain": [
       "HBox(children=(VBox(children=(IntProgress(value=0, max=1000), HTML(value=''))), Box(children=(HTML(value=''),)…"
      ]
     },
     "metadata": {},
     "output_type": "display_data"
    },
    {
     "name": "stderr",
     "output_type": "stream",
     "text": [
      "reconstraining parameters sparse_gp\n"
     ]
    },
    {
     "name": "stdout",
     "output_type": "stream",
     "text": [
      "Optimized kernel parameters:   \u001b[1mrbf.       \u001b[0;0m  |                value  |  constraints  |  priors\n",
      "  \u001b[1mvariance   \u001b[0;0m  |  0.12964097048843232  |      +ve      |        \n",
      "  \u001b[1mlengthscale\u001b[0;0m  |  0.40643872577476864  |      +ve      |        \n",
      "Optimized noise variance:   \u001b[1mindex\u001b[0;0m  |  sparse_gp.Gaussian_noise.variance  |  constraints  |  priors\n",
      "  \u001b[1m[0]  \u001b[0;0m  |                         0.13532247  |      +ve      |        \n",
      "MSE on validation set: 1.2755332001815596\n",
      "MSE: 0.11148321312359936\n",
      "R-squared: 0.8607032728626377\n"
     ]
    },
    {
     "data": {
      "image/png": "[encoded data removed]",
      "text/plain": [
       "<Figure size 640x480 with 1 Axes>"
      ]
     },
     "metadata": {},
     "output_type": "display_data"
    },
    {
     "name": "stdout",
     "output_type": "stream",
     "text": [
      "Current Timestamp:  2024-02-17 16:12:07.592444\n"
     ]
    }
   ],
   "source": [
    "# Approach 3: gpy GP model\n",
    "\n",
    "# Assuming X_w1 and Y_w1 are your data points\n",
    "# Ensure X_w1 and Y_w1 are correctly shaped\n",
    "# X_w1 = ... (your data, should be 2D, e.g., [n_samples, n_features])\n",
    "# Y_w1 = ... (your data, should be 2D, e.g., [n_samples, 1])\n",
    "\n",
    "# If Y_w1 is 1D, convert it to 2D\n",
    "if Y_updated.ndim == 1:\n",
    "    Y_updated_2d = Y_updated[:, np.newaxis]\n",
    "\n",
    "# Create a kernel with RBF\n",
    "kernel = GPy.kern.RBF(input_dim=X_updated.shape[1], variance=1., lengthscale=1.)\n",
    "\n",
    "# Number of inducing points - this can be tuned based on your problem\n",
    "num_inducing = 10  # This is an example value\n",
    "\n",
    "# Creating a Sparse Gaussian Process Model\n",
    "gp_sparse = GPy.models.SparseGPRegression(X_updated, Y_updated_2d, kernel, num_inducing=num_inducing)\n",
    "\n",
    "# Model Optimization\n",
    "gp_sparse.optimize(messages=True, optimizer='lbfgsb', max_iters=1000)\n",
    "\n",
    "# Optionally, you can constrain parameters to be positive\n",
    "gp_sparse.constrain_positive()\n",
    "\n",
    "# After optimization, you can check the optimized hyperparameters\n",
    "print(\"Optimized kernel parameters:\", gp_sparse.kern)\n",
    "print(\"Optimized noise variance:\", gp_sparse.Gaussian_noise.variance)\n",
    "\n",
    "# Evaluate model performance on a validation set, X_val and Y_val\n",
    "Y_pred, Y_var = gp_sparse.predict(X_new_points)\n",
    "mse = np.mean((Y_new_points - Y_pred)**2)\n",
    "print(\"MSE on validation set:\", mse)\n",
    "\n",
    "mse, r2 = evaluate_model_performance(gp_sparse, X_new_points, Y_new_points,'gpy')\n",
    "\n",
    "print_timestamp()"
   ]
  },
  {
   "cell_type": "code",
   "execution_count": 32,
   "metadata": {},
   "outputs": [
    {
     "name": "stdout",
     "output_type": "stream",
     "text": [
      "Next query EI:  0.141204-0.266274-0.425421-0.179554-0.315375-0.743716\n",
      "Next query PI:  0.141204-0.266274-0.425421-0.179554-0.315375-0.743716\n",
      "Next query UCB:  0.141204-0.266274-0.425421-0.179554-0.315375-0.743716\n",
      "Current Timestamp:  2024-02-17 16:12:22.985476\n"
     ]
    }
   ],
   "source": [
    "# EI, PI, UCB next point calcuation\n",
    "next_point_ei, next_point_pi, next_point_ucb = propose_next_point(xi_value,kappa_value,X_grid, gp_sparse,'gpy')\n",
    "\n",
    "#mse, r2 = evaluate_model_performance(gp_sparse, X_new_points, Y_new_points,'gpy')\n",
    "#print(f\"MSE: {mse}\")\n",
    "#print(f\"R-squared: {r2}\")\n",
    "\n",
    "print_timestamp()"
   ]
  },
  {
   "cell_type": "markdown",
   "metadata": {},
   "source": [
    "[Back to top](#Index:) "
   ]
  },
  {
   "cell_type": "code",
   "execution_count": null,
   "metadata": {},
   "outputs": [],
   "source": []
  },
  {
   "cell_type": "code",
   "execution_count": 10,
   "metadata": {},
   "outputs": [
    {
     "name": "stdout",
     "output_type": "stream",
     "text": [
      "Best Parameters: {'alpha': 0.0004566054873446117, 'kernel__k1__constant_value': 0.018794668241638453, 'kernel__k2__length_scale': 0.05337032762603955}\n",
      "Log-marginal-likelihood: -7.327589075387859\n",
      "Week 1, kappa: 1.96, xi: 0.1\n",
      "Week 2, kappa: 1.764, xi: 0.09000000000000001\n",
      "Week 3, kappa: 1.5876000000000001, xi: 0.08100000000000002\n",
      "Week 4, kappa: 1.42884, xi: 0.0729\n",
      "Week 5, kappa: 1.285956, xi: 0.06561\n",
      "Week 6, kappa: 1.1573604000000002, xi: 0.05904900000000001\n",
      "Week 7, kappa: 1.0416243600000001, xi: 0.05314410000000001\n",
      "Week 8, kappa: 0.9374619240000002, xi: 0.04782969000000001\n",
      "Week 9, kappa: 0.8437157316000001, xi: 0.04304672100000001\n",
      "Week 10, kappa: 0.7593441584400001, xi: 0.03874204890000001\n",
      "Next query EI:  0.018947-0.330595-0.300648-0.171993-0.419363-0.683676\n",
      "Next query PI:  0.012832-0.394508-0.269662-0.245576-0.380203-0.736051\n",
      "Next query UCB:  0.086339-0.408658-0.265295-0.141470-0.335118-0.683255\n"
     ]
    }
   ],
   "source": [
    "#Approach 2: using Randomized Hyperparameter Search for a Gaussian Process Regressor \n",
    "# and the implementation of several acquisition functions commonly used in Bayesian optimization: Expected Improvement (EI), Probability of Improvement (PI), and Upper Confidence Bound (UCB).\n",
    "# and random search within a specified range\n",
    "\n",
    "#Randomized Hyperparameter Search: \n",
    "#defines a search space for the kernel parameters, creates a Gaussian process model, and then uses RandomizedSearchCV to find the best hyperparameters based on cross-validation. \n",
    "# The best model and parameters are then displayed.\n",
    "param_distributions = {\n",
    "    'kernel__k1__constant_value': loguniform(1e-3, 1e3), #  the vertical scale of your function.\n",
    "    'kernel__k2__length_scale': loguniform(1e-2, 1e2), # in the Radial-basis Function (RBF) kernel (also known as the Gaussian kernel) controls the horizontal length scale, i.e., how smooth or wiggly the function is.\n",
    "    'alpha': loguniform(1e-10, 1e-2) # represents the noise level in the target variable. can help the model to account for noise in the observations.\n",
    "}\n",
    "\n",
    "# Define the kernel with initial parameters\n",
    "kernel = C(1.0, (1e-3, 1e3)) * RBF(1.0, (1e-2, 1e2))  \n",
    "\n",
    "# Create a Gaussian Process Regressor\n",
    "gp = GaussianProcessRegressor(kernel=kernel, n_restarts_optimizer=20) # ontrols how many times the optimizer restarts, which is important for avoiding local optima in complex, multi-modal landscapes.\n",
    "\n",
    "random_search = RandomizedSearchCV(gp, param_distributions, n_iter=10, cv=5, random_state=42, n_jobs=-1)\n",
    "random_search.fit(X,Y)\n",
    "\n",
    "best_gp = random_search.best_estimator_\n",
    "best_params = random_search.best_params_\n",
    "print(\"Best Parameters:\", best_params)\n",
    "print(f\"Log-marginal-likelihood: {best_gp.log_marginal_likelihood(best_gp.kernel_.theta)}\")\n",
    "\n",
    "#an acquisition function used in Bayesian optimization. \n",
    "# The EI is calculated for a set of points X, given a Gaussian process gp. It's used to determine the next point to sample.\n",
    "\n",
    "def expected_improvement(X, gp, xi=0.01):\n",
    "    \n",
    "    mu, sigma = gp.predict(X, return_std=True)\n",
    "    mu_sample_opt = np.max(gp.predict(gp.X_train_)) # Finds the best (maximum) output observed so far from the training data of the Gaussian process.\n",
    "\n",
    "    with np.errstate(divide='warn'):\n",
    "        imp = mu - mu_sample_opt - xi # represents the improvement over mu_sample_opt that is expected for each point in X, adjusted by the trade-off parameter xi.\n",
    "        Z = imp / sigma #is a standardized version of imp, which is used to calculate the probability and density values from the normal distribution.\n",
    "        ei = imp * norm.cdf(Z) + sigma * norm.pdf(Z) # Computes the expected improvement for each point in X, which includes both the expected improvement (imp) and the uncertainty (sigma) at that point.\n",
    "        ei[sigma == 0.0] = 0.0\n",
    "\n",
    "    return ei.flatten()\n",
    "\n",
    "# Probability of Improvement acquisition function\n",
    "def probability_of_improvement(X, gp, xi=0.01):\n",
    "    \n",
    "    mu, sigma = gp.predict(X, return_std=True)\n",
    "    mu_sample_opt = np.max(gp.predict(gp.X_train_))\n",
    "    \n",
    "    with np.errstate(divide='warn'):\n",
    "        imp = mu - mu_sample_opt - xi\n",
    "        Z = imp / sigma\n",
    "        pi = norm.cdf(Z)\n",
    "        pi[sigma == 0.0] = 0.0\n",
    "    \n",
    "    return pi.flatten()\n",
    "\n",
    "# Define the UCB acquisition function\n",
    "# After optimizing the hyperparameters, the Upper Confidence Bound (UCB) is used as the acquisition function in the weekly optimization loop. \n",
    "# The UCB balances exploration (trying new, uncertain points) and exploitation (focusing on points known to yield good results).\n",
    "def upper_confidence_bound(X, gpr, kappa=1.96):\n",
    "    \n",
    "    mu, sigma = gpr.predict(X, return_std=True)\n",
    "    return mu + kappa * sigma\n",
    "\n",
    "def generate_nd_grid(max_points, dimensions):\n",
    "    # define range for input\n",
    "\tr_min, r_max = 0, 1.0\n",
    "\n",
    "\t# generate a random sample from the domain (dimensions)\n",
    "\tnd_grid = r_min + np.random.rand(max_points, dimensions) * (r_max - r_min)\n",
    "\t\n",
    "\treturn np.array(nd_grid)\n",
    "\n",
    "# Kappa parameters for exploration-exploitation balance\n",
    "#As the loop progresses, kappa decreases, gradually shifting the focus from exploring uncertain regions to exploiting regions known to yield better results.\n",
    "kappa_initial = 1.96\n",
    "kappa_decay = 0.9\n",
    "min_kappa = 0.1\n",
    "# Define xi parameters for exploration-exploitation balance\n",
    "xi_initial = 0.1\n",
    "xi_decay = 0.9\n",
    "min_xi = 0.01\n",
    "\n",
    "\n",
    "# Example usage:\n",
    "max_points = 800000\n",
    "dimensions = 6  # Change this to the desired number of dimensions\n",
    "X_grid = []\n",
    "X_grid = generate_nd_grid(max_points, dimensions)\n",
    "\n",
    "\n",
    "# Define the number of weeks you plan to run this optimization\n",
    "N_WEEKS = 10  # adjust this based on your requirement\n",
    "# Weekly Optimization Loop\n",
    "for week in range(N_WEEKS):\n",
    "    # Decay kappa value exponentially for exploration-exploitation balance\n",
    "    kappa = max(kappa_initial * (kappa_decay ** week), min_kappa)\n",
    "    xi = max(xi_initial * (xi_decay ** week), min_xi)\n",
    "    print(f\"Week {week + 1}, kappa: {kappa}, xi: {xi}\")\n",
    "\n",
    "# EI next point calcuation\n",
    "ei_values = expected_improvement(X_grid, best_gp,xi) # presumably the best Gaussian process model found via hyperparameter tuning (e.g., using RandomizedSearchCV)\n",
    "next_point_index_ei = np.argmax(ei_values) # Finds the index of the maximum expected improvement in the grid.\n",
    "next_point_ei = X_grid[next_point_index_ei] #considered the best candidate for the next function evaluation as it is expected to yield the most information gain according to the EI criterion.\n",
    "print('Next query EI: ', format_query(next_point_ei,6))\n",
    "\n",
    "# PI next point calcuation\n",
    "pi_values = probability_of_improvement(X_grid, best_gp,xi)\n",
    "# Select the point with the highest Probability of Improvement\n",
    "next_point_index_pi = np.argmax(pi_values)\n",
    "next_point_pi = X_grid[next_point_index_pi]\n",
    "# Format the query point for printing, assuming the existence of a function 'format_query'\n",
    "print('Next query PI: ', format_query(next_point_pi, 6))\n",
    "\n",
    "# Select the point based on UCB using updated kappa\n",
    "\"\"\"\n",
    "Week 1, kappa: 1.96, xi: 0.1\n",
    "Week 2, kappa: 1.764, xi: 0.09000000000000001\n",
    "Week 3, kappa: 1.5876000000000001, xi: 0.08100000000000002\n",
    "Week 4, kappa: 1.42884, xi: 0.0729\n",
    "Week 5, kappa: 1.285956, xi: 0.06561\n",
    "Week 6, kappa: 1.1573604000000002, xi: 0.05904900000000001\n",
    "Week 7, kappa: 1.0416243600000001, xi: 0.05314410000000001\n",
    "Week 8, kappa: 0.9374619240000002, xi: 0.04782969000000001\n",
    "Week 9, kappa: 0.8437157316000001, xi: 0.04304672100000001\n",
    "Week 10, kappa: 0.7593441584400001, xi: 0.03874204890000001\n",
    "\"\"\"\n",
    "ucb_value = upper_confidence_bound(X_grid, best_gp, kappa)\n",
    "# Select the point with the highest UCB\n",
    "next_point_index_ucb = np.argmax(ucb_value)\n",
    "next_point_ucb = X_grid[next_point_index_ucb]\n",
    "# Format the query point for printing, assuming the existence of a function 'format_query'\n",
    "print('Next query UCB: ', format_query(next_point_ucb, 6))"
   ]
  },
  {
   "cell_type": "code",
   "execution_count": null,
   "metadata": {},
   "outputs": [],
   "source": []
  },
  {
   "cell_type": "code",
   "execution_count": 11,
   "metadata": {},
   "outputs": [
    {
     "name": "stdout",
     "output_type": "stream",
     "text": [
      "Best Parameters: {'alpha': 0.0004566054873446117, 'kernel__k1__constant_value': 0.018794668241638453, 'kernel__k2__length_scale': 0.05337032762603955}\n",
      "Log-marginal-likelihood: -7.327589075387852\n",
      "Week 1, kappa: 1.96, xi: 0.1\n",
      "Week 2, kappa: 1.764, xi: 0.09000000000000001\n",
      "Week 3, kappa: 1.5876000000000001, xi: 0.08100000000000002\n",
      "Week 4, kappa: 1.42884, xi: 0.0729\n",
      "Week 5, kappa: 1.285956, xi: 0.06561\n",
      "Week 6, kappa: 1.1573604000000002, xi: 0.05904900000000001\n",
      "Week 7, kappa: 1.0416243600000001, xi: 0.05314410000000001\n",
      "Week 8, kappa: 0.9374619240000002, xi: 0.04782969000000001\n",
      "Week 9, kappa: 0.8437157316000001, xi: 0.04304672100000001\n",
      "Week 10, kappa: 0.7593441584400001, xi: 0.03874204890000001\n",
      "Next query EI:  0.000000-0.400000-0.400000-0.200000-0.400000-0.800000\n",
      "Next query PI:  0.000000-0.400000-0.200000-0.200000-0.400000-0.800000\n",
      "Next query UCB:  0.000000-0.400000-0.400000-0.200000-0.400000-0.800000\n"
     ]
    }
   ],
   "source": [
    "#Approach 2\n",
    "\n",
    "#Randomized Hyperparameter Search: \n",
    "#defines a search space for the kernel parameters, creates a Gaussian process model, and then uses RandomizedSearchCV to find the best hyperparameters based on cross-validation. \n",
    "# The best model and parameters are then displayed.\n",
    "param_distributions = {\n",
    "    'kernel__k1__constant_value': loguniform(1e-3, 1e3), #  the vertical scale of your function.\n",
    "    'kernel__k2__length_scale': loguniform(1e-2, 1e2), # in the Radial-basis Function (RBF) kernel (also known as the Gaussian kernel) controls the horizontal length scale, i.e., how smooth or wiggly the function is.\n",
    "    'alpha': loguniform(1e-10, 1e-2) # represents the noise level in the target variable. can help the model to account for noise in the observations.\n",
    "}\n",
    "\n",
    "# Define the kernel with initial parameters\n",
    "kernel = C(1.0, (1e-3, 1e3)) * RBF(1.0, (1e-2, 1e2))  \n",
    "\n",
    "# Create a Gaussian Process Regressor\n",
    "gp = GaussianProcessRegressor(kernel=kernel, n_restarts_optimizer=20) # ontrols how many times the optimizer restarts, which is important for avoiding local optima in complex, multi-modal landscapes.\n",
    "\n",
    "random_search = RandomizedSearchCV(gp, param_distributions, n_iter=10, cv=5, random_state=42, n_jobs=-1)\n",
    "random_search.fit(X,Y)\n",
    "\n",
    "best_gp = random_search.best_estimator_\n",
    "best_params = random_search.best_params_\n",
    "print(\"Best Parameters:\", best_params)\n",
    "print(f\"Log-marginal-likelihood: {best_gp.log_marginal_likelihood(best_gp.kernel_.theta)}\")\n",
    "\n",
    "#an acquisition function used in Bayesian optimization. \n",
    "# The EI is calculated for a set of points X, given a Gaussian process gp. It's used to determine the next point to sample.\n",
    "\n",
    "def expected_improvement(X, gp, xi=0.01):\n",
    "    X = np.atleast_2d(X)\n",
    "    mu, sigma = gp.predict(X, return_std=True)\n",
    "    mu_sample_opt = np.max(gp.predict(gp.X_train_)) # Finds the best (maximum) output observed so far from the training data of the Gaussian process.\n",
    "\n",
    "    with np.errstate(divide='warn'):\n",
    "        imp = mu - mu_sample_opt - xi # represents the improvement over mu_sample_opt that is expected for each point in X, adjusted by the trade-off parameter xi.\n",
    "        Z = imp / sigma #is a standardized version of imp, which is used to calculate the probability and density values from the normal distribution.\n",
    "        ei = imp * norm.cdf(Z) + sigma * norm.pdf(Z) # Computes the expected improvement for each point in X, which includes both the expected improvement (imp) and the uncertainty (sigma) at that point.\n",
    "        ei[sigma == 0.0] = 0.0\n",
    "\n",
    "    return ei.flatten()\n",
    "\n",
    "# Probability of Improvement acquisition function\n",
    "def probability_of_improvement(X, gp, xi=0.01):\n",
    "    X = np.atleast_2d(X)\n",
    "    mu, sigma = gp.predict(X, return_std=True)\n",
    "    mu_sample_opt = np.max(gp.predict(gp.X_train_))\n",
    "    \n",
    "    with np.errstate(divide='warn'):\n",
    "        imp = mu - mu_sample_opt - xi\n",
    "        Z = imp / sigma\n",
    "        pi = norm.cdf(Z)\n",
    "        pi[sigma == 0.0] = 0.0\n",
    "    \n",
    "    return pi.flatten()\n",
    "\n",
    "# Define the UCB acquisition function\n",
    "# After optimizing the hyperparameters, the Upper Confidence Bound (UCB) is used as the acquisition function in the weekly optimization loop. \n",
    "# The UCB balances exploration (trying new, uncertain points) and exploitation (focusing on points known to yield good results).\n",
    "def upper_confidence_bound(X, gpr, kappa=1.96):\n",
    "    X = np.atleast_2d(X)\n",
    "    mu, sigma = gpr.predict(X, return_std=True)\n",
    "    return mu + kappa * sigma\n",
    "\n",
    "def generate_nd_grid(max_points, dimensions):\n",
    "    # Calculate the number of grid points along each dimension\n",
    "    dim = int(max_points ** (1 / dimensions))\n",
    "\n",
    "    # Create a list of linspace arrays for each dimension\n",
    "    linspace_arrays = [np.linspace(0, 1, dim) for _ in range(dimensions)]\n",
    "\n",
    "    # Create the n-dimensional grid using itertools.product\n",
    "    nd_grid = list(itertools.product(*linspace_arrays))\n",
    "\n",
    "    return np.array(nd_grid)\n",
    "\n",
    "# Kappa parameters for exploration-exploitation balance\n",
    "#As the loop progresses, kappa decreases, gradually shifting the focus from exploring uncertain regions to exploiting regions known to yield better results.\n",
    "kappa_initial = 1.96\n",
    "kappa_decay = 0.9\n",
    "min_kappa = 0.1\n",
    "# Define xi parameters for exploration-exploitation balance\n",
    "xi_initial = 0.1\n",
    "xi_decay = 0.9\n",
    "min_xi = 0.01\n",
    "\n",
    "\n",
    "# Example usage:\n",
    "max_points = 100000\n",
    "dimensions = 6  # Change this to the desired number of dimensions\n",
    "X_grid = []\n",
    "X_grid = generate_nd_grid(max_points, dimensions)\n",
    "\n",
    "\n",
    "# Define the number of weeks you plan to run this optimization\n",
    "N_WEEKS = 10  # adjust this based on your requirement\n",
    "# Weekly Optimization Loop\n",
    "for week in range(N_WEEKS):\n",
    "    # Decay kappa value exponentially for exploration-exploitation balance\n",
    "    kappa = max(kappa_initial * (kappa_decay ** week), min_kappa)\n",
    "    xi = max(xi_initial * (xi_decay ** week), min_xi)\n",
    "    print(f\"Week {week + 1}, kappa: {kappa}, xi: {xi}\")\n",
    "\n",
    "# EI next point calcuation\n",
    "ei_values = expected_improvement(X_grid, best_gp,xi) # presumably the best Gaussian process model found via hyperparameter tuning (e.g., using RandomizedSearchCV)\n",
    "next_point_index_ei = np.argmax(ei_values) # Finds the index of the maximum expected improvement in the grid.\n",
    "next_point_ei = X_grid[next_point_index_ei] #considered the best candidate for the next function evaluation as it is expected to yield the most information gain according to the EI criterion.\n",
    "print('Next query EI: ', format_query(next_point_ei,6))\n",
    "\n",
    "# PI next point calcuation\n",
    "pi_values = probability_of_improvement(X_grid, best_gp,xi)\n",
    "# Select the point with the highest Probability of Improvement\n",
    "next_point_index_pi = np.argmax(pi_values)\n",
    "next_point_pi = X_grid[next_point_index_pi]\n",
    "# Format the query point for printing, assuming the existence of a function 'format_query'\n",
    "print('Next query PI: ', format_query(next_point_pi, 6))\n",
    "\n",
    "# Select the point based on UCB using updated kappa\n",
    "\"\"\"\n",
    "Week 1, kappa: 1.96, xi: 0.1\n",
    "Week 2, kappa: 1.764, xi: 0.09000000000000001\n",
    "Week 3, kappa: 1.5876000000000001, xi: 0.08100000000000002\n",
    "Week 4, kappa: 1.42884, xi: 0.0729\n",
    "Week 5, kappa: 1.285956, xi: 0.06561\n",
    "Week 6, kappa: 1.1573604000000002, xi: 0.05904900000000001\n",
    "Week 7, kappa: 1.0416243600000001, xi: 0.05314410000000001\n",
    "Week 8, kappa: 0.9374619240000002, xi: 0.04782969000000001\n",
    "Week 9, kappa: 0.8437157316000001, xi: 0.04304672100000001\n",
    "Week 10, kappa: 0.7593441584400001, xi: 0.03874204890000001\n",
    "\"\"\"\n",
    "ucb_value = upper_confidence_bound(X_grid, best_gp, kappa)\n",
    "# Select the point with the highest UCB\n",
    "next_point_index_ucb = np.argmax(ucb_value)\n",
    "next_point_ucb = X_grid[next_point_index_ucb]\n",
    "# Format the query point for printing, assuming the existence of a function 'format_query'\n",
    "print('Next query UCB: ', format_query(next_point_ucb, 6))"
   ]
  },
  {
   "cell_type": "code",
   "execution_count": null,
   "metadata": {},
   "outputs": [],
   "source": []
  },
  {
   "cell_type": "code",
   "execution_count": null,
   "metadata": {},
   "outputs": [],
   "source": []
  },
  {
   "cell_type": "code",
   "execution_count": null,
   "metadata": {},
   "outputs": [],
   "source": []
  },
  {
   "cell_type": "code",
   "execution_count": 10,
   "metadata": {},
   "outputs": [
    {
     "name": "stdout",
     "output_type": "stream",
     "text": [
      "30\n",
      "30\n"
     ]
    }
   ],
   "source": [
    "%matplotlib inline\n",
    "\n",
    "bounds = np.array([[0, 1]] * 6)  # Adjust according to your problem's constraints\n",
    "noise = 0.2\n",
    "\n",
    "X_init = X\n",
    "Y_init = Y\n",
    "\n",
    "print(X_init.shape[0])\n",
    "print(X_init.shape[0])"
   ]
  },
  {
   "cell_type": "code",
   "execution_count": 11,
   "metadata": {},
   "outputs": [],
   "source": [
    "# implement the acquision function\n",
    "\n",
    "def expected_improvement(X, X_sample, Y_sample, gpr, xi=0.01):\n",
    "    '''\n",
    "    Computes the EI at points X based on existing samples X_sample\n",
    "    and Y_sample using a Gaussian process surrogate model.\n",
    "    \n",
    "    Args:\n",
    "        X: Points at which EI shall be computed (m x d).\n",
    "        X_sample: Sample locations (n x d).\n",
    "        Y_sample: Sample values (n x 1).\n",
    "        gpr: A GaussianProcessRegressor fitted to samples.\n",
    "        xi: Exploitation-exploration trade-off parameter.\n",
    "    \n",
    "    Returns:\n",
    "        Expected improvements at points X.\n",
    "    '''\n",
    "    mu, sigma = gpr.predict(X, return_std=True)\n",
    "    mu_sample = gpr.predict(X_sample)\n",
    "\n",
    "    sigma = sigma.reshape(-1, 1)\n",
    "    \n",
    "    # Needed for noise-based model,\n",
    "    # otherwise use np.max(Y_sample).\n",
    "    # See also section 2.4 in [...]\n",
    "    mu_sample_opt = np.max(mu_sample)\n",
    "\n",
    "    with np.errstate(divide='warn'):\n",
    "        imp = mu - mu_sample_opt - xi\n",
    "        Z = imp / sigma\n",
    "        ei = imp * norm.cdf(Z) + sigma * norm.pdf(Z)\n",
    "        ei[sigma == 0.0] = 0.0\n",
    "\n",
    "    return ei"
   ]
  },
  {
   "cell_type": "code",
   "execution_count": 12,
   "metadata": {},
   "outputs": [],
   "source": [
    "# a function that proposes the next sampling point by computing the location of the acquisition function maximum. Optimization is restarted n_restarts times to avoid local optima.\n",
    "\n",
    "def propose_location(acquisition, X_sample, Y_sample, gpr, bounds, n_restarts=25):\n",
    "    '''\n",
    "    Proposes the next sampling point by optimizing the acquisition function.\n",
    "    \n",
    "    Args:\n",
    "        acquisition: Acquisition function.\n",
    "        X_sample: Sample locations (n x d).\n",
    "        Y_sample: Sample values (n x 1).\n",
    "        gpr: A GaussianProcessRegressor fitted to samples.\n",
    "\n",
    "    Returns:\n",
    "        Location of the acquisition function maximum.\n",
    "    '''\n",
    "    dim = X_sample.shape[1]\n",
    "    min_val = 1\n",
    "    min_x = None\n",
    "    \n",
    "    def min_obj(X):\n",
    "        # Minimization objective is the negative acquisition function\n",
    "        return -acquisition(X.reshape(-1, dim), X_sample, Y_sample, gpr)\n",
    "    \n",
    "    # Find the best optimum by starting from n_restart different random points.\n",
    "    for x0 in np.random.uniform(bounds[:, 0], bounds[:, 1], size=(n_restarts, dim)):\n",
    "        res = minimize(min_obj, x0=x0, bounds=bounds, method='L-BFGS-B')        \n",
    "        if res.fun < min_val:\n",
    "            min_val = res.fun\n",
    "            min_x = res.x           \n",
    "            \n",
    "    return min_x.reshape(-1, 1)"
   ]
  },
  {
   "cell_type": "code",
   "execution_count": 10,
   "metadata": {},
   "outputs": [
    {
     "ename": "NameError",
     "evalue": "name 'noise' is not defined",
     "output_type": "error",
     "traceback": [
      "\u001b[1;31m---------------------------------------------------------------------------\u001b[0m",
      "\u001b[1;31mNameError\u001b[0m                                 Traceback (most recent call last)",
      "Cell \u001b[1;32mIn[10], line 7\u001b[0m\n\u001b[0;32m      5\u001b[0m \u001b[38;5;66;03m# Gaussian process with Matérn kernel as surrogate model\u001b[39;00m\n\u001b[0;32m      6\u001b[0m m52 \u001b[38;5;241m=\u001b[39m ConstantKernel(\u001b[38;5;241m1.0\u001b[39m) \u001b[38;5;241m*\u001b[39m Matern(length_scale\u001b[38;5;241m=\u001b[39m\u001b[38;5;241m1.0\u001b[39m, nu\u001b[38;5;241m=\u001b[39m\u001b[38;5;241m2.5\u001b[39m)\n\u001b[1;32m----> 7\u001b[0m gpr \u001b[38;5;241m=\u001b[39m GaussianProcessRegressor(kernel\u001b[38;5;241m=\u001b[39mm52, alpha\u001b[38;5;241m=\u001b[39m\u001b[43mnoise\u001b[49m\u001b[38;5;241m*\u001b[39m\u001b[38;5;241m*\u001b[39m\u001b[38;5;241m2\u001b[39m)\n\u001b[0;32m      9\u001b[0m \u001b[38;5;66;03m# Initialize samples\u001b[39;00m\n\u001b[0;32m     10\u001b[0m X_sample \u001b[38;5;241m=\u001b[39m X_init\n",
      "\u001b[1;31mNameError\u001b[0m: name 'noise' is not defined"
     ]
    }
   ],
   "source": [
    "from sklearn.gaussian_process.kernels import ConstantKernel, Matern\n",
    "from bayesian_optimization_util import plot_approximation, plot_acquisition\n",
    "from scipy.stats import norm  # Import the 'norm' function\n",
    "\n",
    "# Gaussian process with Matérn kernel as surrogate model\n",
    "m52 = ConstantKernel(1.0) * Matern(length_scale=1.0, nu=2.5)\n",
    "gpr = GaussianProcessRegressor(kernel=m52, alpha=noise**2)\n",
    "\n",
    "# Initialize samples\n",
    "X_sample = X_init\n",
    "Y_sample = Y_init\n",
    "\n",
    "# Number of iterations\n",
    "n_iter = 10\n",
    "\n",
    "\n",
    "\n",
    "# Placeholder function to submit your query and receive the output\n",
    "def submit_query_and_receive_output(X):\n",
    "    # This function should submit the query X and return the received output\n",
    "    # Implement the submission mechanism here\n",
    "    # For now, it returns a random number as a placeholder\n",
    "    return np.random.rand()  # Replace with actual submission and receiving mechanism\n",
    "\n",
    "for i in range(n_iter):\n",
    "    # Update Gaussian process with existing samples\n",
    "    gpr.fit(X_sample, Y_sample)\n",
    "\n",
    "    # Obtain next sampling point from the acquisition function (expected_improvement)\n",
    "    X_next = propose_location(expected_improvement, X_sample, Y_sample, gpr, bounds)\n",
    "    X_next = X_next.reshape(1, -1)\n",
    "    \n",
    "    # Obtain next noisy sample from the objective function\n",
    "    Y_next = submit_query_and_receive_output(X_next)\n",
    "    \n",
    "    \n",
    "    # Add the new sample to our existing samples\n",
    "    X_sample = np.vstack((X_sample, X_next))\n",
    "    Y_sample = np.append(Y_sample, Y_next)\n",
    "    \n",
    "    # Optionally, print or log the submitted query\n",
    "    formatted_query = [format_query(x,6) for x in X_next]\n",
    "    print(f\"Week {i + 1}, Submitted Query: {formatted_query}\")    \n",
    "    #print(X_next)"
   ]
  },
  {
   "cell_type": "code",
   "execution_count": null,
   "metadata": {},
   "outputs": [],
   "source": []
  },
  {
   "cell_type": "code",
   "execution_count": 15,
   "metadata": {},
   "outputs": [
    {
     "ename": "ValueError",
     "evalue": "Coefficient array is not 1-d",
     "output_type": "error",
     "traceback": [
      "\u001b[1;31m---------------------------------------------------------------------------\u001b[0m",
      "\u001b[1;31mValueError\u001b[0m                                Traceback (most recent call last)",
      "Cell \u001b[1;32mIn[15], line 11\u001b[0m\n\u001b[0;32m      6\u001b[0m y_nonlinear \u001b[38;5;241m=\u001b[39m Y\n\u001b[0;32m      9\u001b[0m \u001b[38;5;66;03m# Perform polynomial extrapolation (quadratic)\u001b[39;00m\n\u001b[0;32m     10\u001b[0m \u001b[38;5;66;03m# Fit a quadratic model (degree 2 polynomial)\u001b[39;00m\n\u001b[1;32m---> 11\u001b[0m poly_model \u001b[38;5;241m=\u001b[39m \u001b[43mPolynomial\u001b[49m\u001b[38;5;241;43m.\u001b[39;49m\u001b[43mfit\u001b[49m\u001b[43m(\u001b[49m\u001b[43mx_nonlinear\u001b[49m\u001b[43m,\u001b[49m\u001b[43m \u001b[49m\u001b[43my_nonlinear\u001b[49m\u001b[43m,\u001b[49m\u001b[43m \u001b[49m\u001b[38;5;241;43m2\u001b[39;49m\u001b[43m)\u001b[49m\n\u001b[0;32m     13\u001b[0m \u001b[38;5;66;03m# Predict future values\u001b[39;00m\n\u001b[0;32m     14\u001b[0m x_future_nonlinear \u001b[38;5;241m=\u001b[39m np\u001b[38;5;241m.\u001b[39mlinspace(\u001b[38;5;241m10\u001b[39m, \u001b[38;5;241m15\u001b[39m, \u001b[38;5;241m10\u001b[39m)\n",
      "File \u001b[1;32mC:\\ProgramData\\anaconda3\\lib\\site-packages\\numpy\\polynomial\\_polybase.py:972\u001b[0m, in \u001b[0;36mABCPolyBase.fit\u001b[1;34m(cls, x, y, deg, domain, rcond, full, w, window)\u001b[0m\n\u001b[0;32m    903\u001b[0m \u001b[38;5;124;03m\"\"\"Least squares fit to data.\u001b[39;00m\n\u001b[0;32m    904\u001b[0m \n\u001b[0;32m    905\u001b[0m \u001b[38;5;124;03mReturn a series instance that is the least squares fit to the data\u001b[39;00m\n\u001b[1;32m   (...)\u001b[0m\n\u001b[0;32m    969\u001b[0m \n\u001b[0;32m    970\u001b[0m \u001b[38;5;124;03m\"\"\"\u001b[39;00m\n\u001b[0;32m    971\u001b[0m \u001b[38;5;28;01mif\u001b[39;00m domain \u001b[38;5;129;01mis\u001b[39;00m \u001b[38;5;28;01mNone\u001b[39;00m:\n\u001b[1;32m--> 972\u001b[0m     domain \u001b[38;5;241m=\u001b[39m \u001b[43mpu\u001b[49m\u001b[38;5;241;43m.\u001b[39;49m\u001b[43mgetdomain\u001b[49m\u001b[43m(\u001b[49m\u001b[43mx\u001b[49m\u001b[43m)\u001b[49m\n\u001b[0;32m    973\u001b[0m \u001b[38;5;28;01melif\u001b[39;00m \u001b[38;5;28mtype\u001b[39m(domain) \u001b[38;5;129;01mis\u001b[39;00m \u001b[38;5;28mlist\u001b[39m \u001b[38;5;129;01mand\u001b[39;00m \u001b[38;5;28mlen\u001b[39m(domain) \u001b[38;5;241m==\u001b[39m \u001b[38;5;241m0\u001b[39m:\n\u001b[0;32m    974\u001b[0m     domain \u001b[38;5;241m=\u001b[39m \u001b[38;5;28mcls\u001b[39m\u001b[38;5;241m.\u001b[39mdomain\n",
      "File \u001b[1;32mC:\\ProgramData\\anaconda3\\lib\\site-packages\\numpy\\polynomial\\polyutils.py:248\u001b[0m, in \u001b[0;36mgetdomain\u001b[1;34m(x)\u001b[0m\n\u001b[0;32m    210\u001b[0m \u001b[38;5;28;01mdef\u001b[39;00m \u001b[38;5;21mgetdomain\u001b[39m(x):\n\u001b[0;32m    211\u001b[0m     \u001b[38;5;124;03m\"\"\"\u001b[39;00m\n\u001b[0;32m    212\u001b[0m \u001b[38;5;124;03m    Return a domain suitable for given abscissae.\u001b[39;00m\n\u001b[0;32m    213\u001b[0m \n\u001b[1;32m   (...)\u001b[0m\n\u001b[0;32m    246\u001b[0m \n\u001b[0;32m    247\u001b[0m \u001b[38;5;124;03m    \"\"\"\u001b[39;00m\n\u001b[1;32m--> 248\u001b[0m     [x] \u001b[38;5;241m=\u001b[39m \u001b[43mas_series\u001b[49m\u001b[43m(\u001b[49m\u001b[43m[\u001b[49m\u001b[43mx\u001b[49m\u001b[43m]\u001b[49m\u001b[43m,\u001b[49m\u001b[43m \u001b[49m\u001b[43mtrim\u001b[49m\u001b[38;5;241;43m=\u001b[39;49m\u001b[38;5;28;43;01mFalse\u001b[39;49;00m\u001b[43m)\u001b[49m\n\u001b[0;32m    249\u001b[0m     \u001b[38;5;28;01mif\u001b[39;00m x\u001b[38;5;241m.\u001b[39mdtype\u001b[38;5;241m.\u001b[39mchar \u001b[38;5;129;01min\u001b[39;00m np\u001b[38;5;241m.\u001b[39mtypecodes[\u001b[38;5;124m'\u001b[39m\u001b[38;5;124mComplex\u001b[39m\u001b[38;5;124m'\u001b[39m]:\n\u001b[0;32m    250\u001b[0m         rmin, rmax \u001b[38;5;241m=\u001b[39m x\u001b[38;5;241m.\u001b[39mreal\u001b[38;5;241m.\u001b[39mmin(), x\u001b[38;5;241m.\u001b[39mreal\u001b[38;5;241m.\u001b[39mmax()\n",
      "File \u001b[1;32mC:\\ProgramData\\anaconda3\\lib\\site-packages\\numpy\\polynomial\\polyutils.py:134\u001b[0m, in \u001b[0;36mas_series\u001b[1;34m(alist, trim)\u001b[0m\n\u001b[0;32m    132\u001b[0m     \u001b[38;5;28;01mraise\u001b[39;00m \u001b[38;5;167;01mValueError\u001b[39;00m(\u001b[38;5;124m\"\u001b[39m\u001b[38;5;124mCoefficient array is empty\u001b[39m\u001b[38;5;124m\"\u001b[39m)\n\u001b[0;32m    133\u001b[0m \u001b[38;5;28;01mif\u001b[39;00m \u001b[38;5;28many\u001b[39m(a\u001b[38;5;241m.\u001b[39mndim \u001b[38;5;241m!=\u001b[39m \u001b[38;5;241m1\u001b[39m \u001b[38;5;28;01mfor\u001b[39;00m a \u001b[38;5;129;01min\u001b[39;00m arrays):\n\u001b[1;32m--> 134\u001b[0m     \u001b[38;5;28;01mraise\u001b[39;00m \u001b[38;5;167;01mValueError\u001b[39;00m(\u001b[38;5;124m\"\u001b[39m\u001b[38;5;124mCoefficient array is not 1-d\u001b[39m\u001b[38;5;124m\"\u001b[39m)\n\u001b[0;32m    135\u001b[0m \u001b[38;5;28;01mif\u001b[39;00m trim:\n\u001b[0;32m    136\u001b[0m     arrays \u001b[38;5;241m=\u001b[39m [trimseq(a) \u001b[38;5;28;01mfor\u001b[39;00m a \u001b[38;5;129;01min\u001b[39;00m arrays]\n",
      "\u001b[1;31mValueError\u001b[0m: Coefficient array is not 1-d"
     ]
    }
   ],
   "source": [
    "#import matplotlib.pyplot as plt\n",
    "from numpy.polynomial.polynomial import Polynomial\n",
    "\n",
    "# Non-linear data\n",
    "x_nonlinear = X\n",
    "y_nonlinear = Y\n",
    "\n",
    "\n",
    "# Perform polynomial extrapolation (quadratic)\n",
    "# Fit a quadratic model (degree 2 polynomial)\n",
    "poly_model = Polynomial.fit(x_nonlinear, y_nonlinear, 2)\n",
    "\n",
    "# Predict future values\n",
    "x_future_nonlinear = np.linspace(10, 15, 10)\n",
    "y_future_nonlinear = poly_model(x_future_nonlinear)\n",
    "\n",
    "# Plotting the results\n",
    "plt.figure(figsize=(12, 6))\n",
    "\n",
    "# Polynomial Extrapolation Plot\n",
    "plt.subplot(1, 2, 2)\n",
    "plt.plot(x_nonlinear, y_nonlinear, 'go-', label='Original Data (Non-Linear)')\n",
    "plt.plot(x_future_nonlinear, y_future_nonlinear, 'mo-', label='Extrapolated Data')\n",
    "plt.title('Polynomial Extrapolation')\n",
    "plt.legend()\n",
    "\n",
    "plt.tight_layout()\n",
    "plt.show()\n"
   ]
  },
  {
   "cell_type": "code",
   "execution_count": null,
   "metadata": {},
   "outputs": [],
   "source": []
  },
  {
   "cell_type": "code",
   "execution_count": null,
   "metadata": {},
   "outputs": [],
   "source": [
    "new_data_predictions = final_model.predict(new_data)\n",
    "from sklearn.metrics import mean_absolute_error, mean_squared_error\n",
    "\n",
    "# Assuming 'test_data' is your test dataset and 'true_labels' are the actual target values\n",
    "test_predictions = final_model.predict(test_data)\n",
    "\n",
    "# Calculate Mean Absolute Error (MAE)\n",
    "mae = mean_absolute_error(true_labels, test_predictions)\n",
    "\n",
    "# Calculate Mean Squared Error (MSE)\n",
    "mse = mean_squared_error(true_labels, test_predictions)\n",
    "\n",
    "# Calculate Root Mean Squared Error (RMSE)\n",
    "rmse = np.sqrt(mse)\n",
    "\n",
    "print(\"Mean Absolute Error:\", mae)\n",
    "print(\"Mean Squared Error:\", mse)\n",
    "print(\"Root Mean Squared Error:\", rmse)\n",
    "\n",
    "\"\"\"Replace test_data and true_labels with your test dataset and its corresponding actual target values.\n",
    "\n",
    "Interpretation:\n",
    "\n",
    "Lower MAE, MSE, and RMSE values indicate better model performance.\n",
    "You can also visualize the predicted vs. actual values using scatter plots or other relevant visualization techniques to get a better understanding of how well your model is performing.\n",
    "These steps will allow you to use your final Random Forest Regressor model to make predictions on new data and evaluate its performance on a test dataset.\"\"\""
   ]
  },
  {
   "cell_type": "code",
   "execution_count": null,
   "metadata": {},
   "outputs": [],
   "source": []
  },
  {
   "cell_type": "code",
   "execution_count": null,
   "metadata": {},
   "outputs": [],
   "source": []
  }
 ],
 "metadata": {
  "colab": {
   "provenance": []
  },
  "interpreter": {
   "hash": "d37abda7630e259e5026a5079657683a09f6e3d11473720762ebe7250c494840"
  },
  "kernelspec": {
   "display_name": "Python 3 (ipykernel)",
   "language": "python",
   "name": "python3"
  },
  "language_info": {
   "codemirror_mode": {
    "name": "ipython",
    "version": 3
   },
   "file_extension": ".py",
   "mimetype": "text/x-python",
   "name": "python",
   "nbconvert_exporter": "python",
   "pygments_lexer": "ipython3",
   "version": "3.10.9"
  }
 },
 "nbformat": 4,
 "nbformat_minor": 1
}
