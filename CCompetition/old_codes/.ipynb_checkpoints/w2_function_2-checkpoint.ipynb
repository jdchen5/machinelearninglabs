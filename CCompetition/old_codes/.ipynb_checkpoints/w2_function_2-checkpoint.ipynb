{
 "cells": [
  {
   "cell_type": "code",
   "execution_count": 33,
   "metadata": {
    "id": "wgiUppZDI97Y"
   },
   "outputs": [],
   "source": [
    "import numpy as np\n",
    "import pandas as pd\n",
    "import matplotlib.pyplot as plt\n",
    "from sklearn.gaussian_process import GaussianProcessRegressor\n",
    "from scipy.stats.qmc import LatinHypercube\n",
    "from scipy.stats import uniform, loguniform, norm\n",
    "from sklearn.gaussian_process.kernels import Matern, RBF, WhiteKernel, ConstantKernel as C\n",
    "from scipy.optimize import minimize\n",
    "from sklearn.model_selection import RandomizedSearchCV\n",
    "from sklearn.metrics import mean_squared_error, r2_score\n",
    "import GPy"
   ]
  },
  {
   "cell_type": "markdown",
   "metadata": {
    "id": "AoXtaJiFI97c"
   },
   "source": [
    "# Guide and Ideas for Capstone Project - Function 2"
   ]
  },
  {
   "cell_type": "markdown",
   "metadata": {},
   "source": [
    "# Function 2: Optimising Noisy Models\n",
    "This corresponds to trying to optimise an unknown machine learning model. However, the initialization of the model is very important, meaning your observations will be very noisy, and the problem might have a lot of local optima! You are trying to make the model’s log-likelihood as large as possible."
   ]
  },
  {
   "cell_type": "markdown",
   "metadata": {
    "id": "ECFiNw8AI97d"
   },
   "source": [
    "We begin this guide by downloading the data:"
   ]
  },
  {
   "cell_type": "code",
   "execution_count": 2,
   "metadata": {
    "id": "SoLIJYgsI97e"
   },
   "outputs": [],
   "source": [
    "X = np.load('initial_data/function_2/initial_inputs.npy')\n",
    "Y = np.load('initial_data/function_2/initial_outputs.npy')"
   ]
  },
  {
   "cell_type": "code",
   "execution_count": 3,
   "metadata": {},
   "outputs": [],
   "source": [
    "def format_query(point, NoOfDigits):\n",
    "    return '-'.join(f\"{x:.{NoOfDigits}f}\" for x in point)"
   ]
  },
  {
   "cell_type": "code",
   "execution_count": 4,
   "metadata": {},
   "outputs": [
    {
     "name": "stdout",
     "output_type": "stream",
     "text": [
      "0.6657995800131589-0.1239691276753491\n",
      "0.8777909889953304-0.7786275008473289\n",
      "0.1426990742359461-0.3490051305732002\n",
      "0.8452754286767249-0.7111202665952655\n",
      "0.4546471410512442-0.2904551797740609\n",
      "0.5777128444074784-0.7719731841154063\n",
      "0.4381660616117107-0.6850182567997548\n",
      "0.3417495930288503-0.0286977198222779\n",
      "0.3386481568870177-0.2138672456386437\n",
      "0.7026365569244406-0.9265641975455574\n",
      "--------------------------------------------------\n",
      "0.5389961189269181-0.4205862396279826--0.0656236244373374-0.2939929124108660-0.2149645101004509-0.0231055497981906-0.2446193440044803-0.0387490151561584--0.0138576181497298-0.6112052157614438\n"
     ]
    }
   ],
   "source": [
    "# Print X with 16 digits of precision\n",
    "for row in X:\n",
    "    print(format_query(row,16))\n",
    "\n",
    "# Print a separator line\n",
    "print(\"-\" * 50)\n",
    "\n",
    "# Print Y with 16 digits of precision\n",
    "print(format_query(Y,16))"
   ]
  },
  {
   "cell_type": "code",
   "execution_count": 5,
   "metadata": {},
   "outputs": [
    {
     "name": "stdout",
     "output_type": "stream",
     "text": [
      "   Week  Student  Fn        X1        X2        X3        X4  X5  X6  X7  X8  \\\n",
      "0     1      428   1  0.628540  0.628540       NaN       NaN NaN NaN NaN NaN   \n",
      "1     1      428   2  0.983984  0.999998       NaN       NaN NaN NaN NaN NaN   \n",
      "2     1      428   3  0.432432  0.256757  0.500001       NaN NaN NaN NaN NaN   \n",
      "3     1      428   4  0.421053  0.368421  0.368421  0.421053 NaN NaN NaN NaN   \n",
      "4     1      428   5  0.310345  0.827586  0.965517  0.931034 NaN NaN NaN NaN   \n",
      "\n",
      "             Y  \n",
      "0     2.000000  \n",
      "1    -0.143941  \n",
      "2    -0.053196  \n",
      "3     0.692067  \n",
      "4  1863.356016  \n"
     ]
    }
   ],
   "source": [
    "# load w1 data\n",
    "pd_w1 = pd.read_csv(\"data/capstone_results_w1.csv\")\n",
    "print(pd_w1.head())"
   ]
  },
  {
   "cell_type": "code",
   "execution_count": 6,
   "metadata": {},
   "outputs": [
    {
     "name": "stdout",
     "output_type": "stream",
     "text": [
      "[[0.983984 0.999998]\n",
      " [0.717172 0.      ]\n",
      " [0.79798  0.969697]\n",
      " [0.787878 0.959595]\n",
      " [0.784126 0.961904]]\n",
      "[-0.14394131  0.56884671  0.03423863  0.03279024  0.1745532 ]\n"
     ]
    }
   ],
   "source": [
    "pw_w1_fn1 = pd_w1[pd_w1['Fn']==2]\n",
    "# Extract X1 and X2 into a 2D array and Y into a 1D array\n",
    "# Here we're ensuring to drop any NaN values as they can't be used in most models.\n",
    "X_w1_new_points = pw_w1_fn1[['X1','X2']].dropna().values\n",
    "Y_w1_new_points = pw_w1_fn1['Y'].dropna().values\n",
    "print(X_w1_new_points)\n",
    "print(Y_w1_new_points)"
   ]
  },
  {
   "cell_type": "code",
   "execution_count": 7,
   "metadata": {},
   "outputs": [
    {
     "name": "stdout",
     "output_type": "stream",
     "text": [
      "[[0.66579958 0.12396913]\n",
      " [0.87779099 0.7786275 ]\n",
      " [0.14269907 0.34900513]\n",
      " [0.84527543 0.71112027]\n",
      " [0.45464714 0.29045518]\n",
      " [0.57771284 0.77197318]\n",
      " [0.43816606 0.68501826]\n",
      " [0.34174959 0.02869772]\n",
      " [0.33864816 0.21386725]\n",
      " [0.70263656 0.9265642 ]\n",
      " [0.983984   0.999998  ]\n",
      " [0.717172   0.        ]\n",
      " [0.79798    0.969697  ]\n",
      " [0.787878   0.959595  ]\n",
      " [0.784126   0.961904  ]]\n",
      "[ 0.53899612  0.42058624 -0.06562362  0.29399291  0.21496451  0.02310555\n",
      "  0.24461934  0.03874902 -0.01385762  0.61120522 -0.14394131  0.56884671\n",
      "  0.03423863  0.03279024  0.1745532 ]\n"
     ]
    }
   ],
   "source": [
    "#append w1 data to the end\n",
    "\n",
    "X_w1 = np.vstack((X, X_w1_new_points))\n",
    "Y_w1 = np.append(Y, Y_w1_new_points)\n",
    "print(X_w1)\n",
    "print(Y_w1)"
   ]
  },
  {
   "cell_type": "markdown",
   "metadata": {
    "id": "NkcYuXzwI97e"
   },
   "source": [
    "## Random Search"
   ]
  },
  {
   "cell_type": "markdown",
   "metadata": {
    "id": "rgSGzoSKI97f"
   },
   "source": [
    "The simplest solution would be a simple random search, that is, we can randomly choose our next query point:"
   ]
  },
  {
   "cell_type": "code",
   "execution_count": 8,
   "metadata": {
    "id": "5eXEv83bI97f",
    "outputId": "857ea4d7-a14d-4c40-a37c-dcae0aaed47c"
   },
   "outputs": [
    {
     "name": "stdout",
     "output_type": "stream",
     "text": [
      "[0.75597044 0.93406599]\n"
     ]
    }
   ],
   "source": [
    "next_query = np.random.uniform(size = 2)\n",
    "print(next_query)"
   ]
  },
  {
   "cell_type": "markdown",
   "metadata": {
    "id": "oUCdQVsHI97h"
   },
   "source": [
    "While this solution is easy to implement, we know it will be very slow. However, it could serve as a placeholder for gathering more information while you research which method you want to use for each function."
   ]
  },
  {
   "cell_type": "markdown",
   "metadata": {
    "id": "w4fy98FRI97j"
   },
   "source": [
    "## Visualizing our data and thinking of the problem"
   ]
  },
  {
   "cell_type": "markdown",
   "metadata": {
    "id": "OsIivNn-I97k"
   },
   "source": [
    "It is important when tackling problems to really think about the best strategy and to do some exploratory data analysis. Let's consider what we know about the problem:\n",
    "\n",
    "1. From the hints, we expect two modes in the unknown function.\n",
    "\n",
    "2. From the hints, we know that most of our queries should be zero!\n",
    "\n",
    "3. The problem is two-dimensional.\n",
    "\n",
    "4. The problem will have small length-scale (that is, we expect the modes to be very small)\n",
    "\n",
    "From (3.) we can take advantage, and plot the initial data:"
   ]
  },
  {
   "cell_type": "code",
   "execution_count": 9,
   "metadata": {},
   "outputs": [
    {
     "data": {
      "image/png": "[encoded data removed]",
      "text/plain": [
       "<Figure size 800x500 with 2 Axes>"
      ]
     },
     "metadata": {},
     "output_type": "display_data"
    }
   ],
   "source": [
    "fig, ax = plt.subplots()\n",
    "fig.set_figheight(5)\n",
    "fig.set_figwidth(8)\n",
    "\n",
    "# Scatter plot\n",
    "scatter = ax.scatter(X_w1[:, 0], X_w1[:, 1], c=Y_w1)\n",
    "\n",
    "# Adding a color bar\n",
    "plt.colorbar(scatter)\n",
    "\n",
    "# Looping over the data points to add labels with 16 digits of precision\n",
    "for i in range(len(X_w1)):\n",
    "    x_coord = f\"{X_w1[i, 0]:.6f}\"\n",
    "    y_coord = f\"{X_w1[i, 1]:.6f}\"\n",
    "    y_value = f\"{Y_w1[i]:.6f}\"\n",
    "    label = f\"({x_coord}, {y_coord}): {y_value}\"\n",
    "    ax.text(X_w1[i, 0], X_w1[i, 1], label, fontsize=6, ha='right', va='bottom')\n",
    "\n",
    "plt.show()\n",
    "\n"
   ]
  },
  {
   "cell_type": "code",
   "execution_count": 10,
   "metadata": {},
   "outputs": [],
   "source": [
    "# Convert to DataFrame for easier handling\n",
    "df = pd.DataFrame(X_w1, columns=['x1', 'x2'])\n",
    "df['output'] = Y_w1"
   ]
  },
  {
   "cell_type": "code",
   "execution_count": 11,
   "metadata": {},
   "outputs": [
    {
     "name": "stdout",
     "output_type": "stream",
     "text": [
      "Statistical Summary:\n",
      "              x1         x2     output\n",
      "count  15.000000  15.000000  15.000000\n",
      "mean    0.630418   0.584699   0.198215\n",
      "std     0.239019   0.374362   0.243146\n",
      "min     0.142699   0.000000  -0.143941\n",
      "25%     0.446407   0.252161   0.027948\n",
      "50%     0.702637   0.711120   0.174553\n",
      "75%     0.792929   0.943080   0.357290\n",
      "max     0.983984   0.999998   0.611205\n"
     ]
    }
   ],
   "source": [
    "# Statistical Summary\n",
    "print(\"Statistical Summary:\")\n",
    "print(df.describe())"
   ]
  },
  {
   "cell_type": "markdown",
   "metadata": {},
   "source": [
    "Here are some noises:\n",
    "X1\tX2\tY\n",
    "0.66579958\t0.123969128\t0.538996119\n",
    "0.702636557\t0.926564198\t0.611205216\n",
    "\n",
    "Below we provide code for both:"
   ]
  },
  {
   "cell_type": "code",
   "execution_count": 12,
   "metadata": {},
   "outputs": [
    {
     "name": "stdout",
     "output_type": "stream",
     "text": [
      "domain_start_x1= 0.5499999999999999 and domain_end_x1 = 0.75\n",
      "Next query Random:  [0.5554917562157515, 0.7474670151686662]\n"
     ]
    }
   ],
   "source": [
    "#Appoach 1\n",
    "\n",
    "# Random search around an area restricted around\n",
    "# best points so far\n",
    "# 0.66579958\t0.123969128\t0.538996119\n",
    "# 0.702636557\t0.926564198\t0.611205216\n",
    "\n",
    "delta = 0.05\n",
    "\n",
    "# Given the best points are around 0.65, we want to center our search around this value\n",
    "# and expand slightly beyond it to continue exploring.\n",
    "domain_start_x1 = 0.6 - delta  # Now starts slightly below the best points\n",
    "domain_end_x1 = 0.7 + delta    # Now ends slightly above the best points\n",
    "domain_start_x2 = 0.1 - delta  \n",
    "domain_end_x2 = 0.9 + delta      \n",
    "print(f\"domain_start_x1= {domain_start_x1} and domain_end_x1 = {domain_end_x1}\")\n",
    "\n",
    "next_query_x1 = np.random.normal(domain_start_x1, scale = 0.01)\n",
    "next_query_x2 = np.random.normal(domain_end_x1, scale = 0.01)\n",
    "print('Next query Random: ', [next_query_x1, next_query_x2])\n",
    "\n"
   ]
  },
  {
   "cell_type": "code",
   "execution_count": 13,
   "metadata": {},
   "outputs": [
    {
     "name": "stdout",
     "output_type": "stream",
     "text": [
      "Kappa Array: [1.96       1.764      1.5876     1.42884    1.285956   1.1573604\n",
      " 1.04162436 0.93746192 0.84371573 0.75934416]\n",
      "Xi Array: [0.1        0.09       0.081      0.0729     0.06561    0.059049\n",
      " 0.0531441  0.04782969 0.04304672 0.03874205]\n"
     ]
    }
   ],
   "source": [
    "def compute_kappa_xi_arrays(N_WEEKS, kappa_initial, kappa_decay, min_kappa, xi_initial, xi_decay, min_xi):\n",
    "    \"\"\"\n",
    "    Compute kappa and xi values for each week in an optimization loop.\n",
    "\n",
    "    Parameters:\n",
    "    N_WEEKS: Number of weeks for the optimization loop.\n",
    "    kappa_initial: Initial value of kappa.\n",
    "    kappa_decay: Decay rate of kappa per week.\n",
    "    min_kappa: Minimum value of kappa.\n",
    "    xi_initial: Initial value of xi.\n",
    "    xi_decay: Decay rate of xi per week.\n",
    "    min_xi: Minimum value of xi.\n",
    "\n",
    "    Returns:\n",
    "    kappa_array: Array of kappa values for each week.\n",
    "    xi_array: Array of xi values for each week.\n",
    "    \"\"\"\n",
    "\n",
    "    kappa_array = np.zeros(N_WEEKS)\n",
    "    xi_array = np.zeros(N_WEEKS)\n",
    "\n",
    "    for week in range(N_WEEKS):\n",
    "        kappa = max(kappa_initial * (kappa_decay ** week), min_kappa)\n",
    "        xi = max(xi_initial * (xi_decay ** week), min_xi)\n",
    "        kappa_array[week] = kappa\n",
    "        xi_array[week] = xi\n",
    "\n",
    "    return kappa_array, xi_array\n",
    "\n",
    "# Example usage:\n",
    "N_WEEKS = 10\n",
    "kappa_initial = 1.96\n",
    "kappa_decay = 0.9\n",
    "min_kappa = 0.1\n",
    "xi_initial = 0.1\n",
    "xi_decay = 0.9\n",
    "min_xi = 0.01\n",
    "\n",
    "kappa_array, xi_array = compute_kappa_xi_arrays(N_WEEKS, kappa_initial, kappa_decay, min_kappa, xi_initial, xi_decay, min_xi)\n",
    "print(\"Kappa Array:\", kappa_array)\n",
    "print(\"Xi Array:\", xi_array)"
   ]
  },
  {
   "cell_type": "code",
   "execution_count": 26,
   "metadata": {},
   "outputs": [
    {
     "name": "stdout",
     "output_type": "stream",
     "text": [
      "Best Parameters: {'kernel__k1__constant_value': 0.066904211664988, 'kernel__k2__length_scale': 0.14077923139972395}\n",
      "Log-marginal-likelihood: -3.10195962036747\n"
     ]
    }
   ],
   "source": [
    "#Approach 2 - modified\n",
    "#Randomized Hyperparameter Search: \n",
    "#defines a search space for the kernel parameters, creates a Gaussian process model, and then uses RandomizedSearchCV to find the best hyperparameters based on cross-validation. \n",
    "# The best model and parameters are then displayed.\n",
    "param_distributions = {\n",
    "    'kernel__k1__constant_value': loguniform(1e-3, 1e3),\n",
    "    'kernel__k2__length_scale': loguniform(1e-4, 1e2)\n",
    "    #'k2__noise_level': loguniform(1e-3, 1e1)\n",
    "}\n",
    "\n",
    "kernel = C(1.0, (1e-3, 1e3)) * RBF(1.0, (1e-2, 1e2))  \n",
    "\n",
    "gp = GaussianProcessRegressor(kernel=kernel, n_restarts_optimizer=20)\n",
    "\n",
    "random_search = RandomizedSearchCV(gp, param_distributions, n_iter=10, cv=5, random_state=42, n_jobs=-1)\n",
    "random_search.fit(X_w1,Y_w1)\n",
    "\n",
    "best_gp = random_search.best_estimator_\n",
    "best_params = random_search.best_params_\n",
    "print(\"Best Parameters:\", best_params)\n",
    "print(f\"Log-marginal-likelihood: {best_gp.log_marginal_likelihood(best_gp.kernel_.theta)}\")"
   ]
  },
  {
   "cell_type": "code",
   "execution_count": 28,
   "metadata": {},
   "outputs": [],
   "source": [
    "#Evaluate Model Performance\n",
    "\n",
    "def evaluate_model_performance(model, X_test, Y_test, model_type='sklearn'):\n",
    "    \"\"\"\n",
    "    Evaluate the performance of a Gaussian Process model.\n",
    "\n",
    "    Parameters:\n",
    "    model: The trained Gaussian Process model.\n",
    "    X_test: Test data features (numpy array).\n",
    "    Y_test: True values for test data (numpy array).\n",
    "\n",
    "    Returns:\n",
    "    mse: Mean Squared Error of the model on the test data.\n",
    "    r2: R-squared value indicating the proportion of variance explained by the model.\n",
    "    \"\"\"\n",
    "\n",
    "    if model_type == 'gpy':\n",
    "        y_pred, var_pred = model.predict(X_test)\n",
    "        std_pred = np.sqrt(var_pred)\n",
    "    elif model_type == 'sklearn':\n",
    "        y_pred, std_pred = model.predict(X_test, return_std=True)\n",
    "\n",
    "    # Ensure y_pred is 1D\n",
    "    y_pred = y_pred.flatten()\n",
    "\n",
    "    # Calculate residuals\n",
    "    residuals = Y_test.flatten() - y_pred\n",
    "\n",
    "    # Check if dimensions match\n",
    "    if y_pred.shape != residuals.shape:\n",
    "        raise ValueError(f\"Shape mismatch: y_pred shape {y_pred.shape} and residuals shape {residuals.shape} must be the same.\")        \n",
    "        \n",
    "    # Calculate MSE and R-squared\n",
    "    mse = mean_squared_error(Y_test, y_pred)\n",
    "    r2 = r2_score(Y_test, y_pred)\n",
    "    \n",
    "    print(f\"MSE: {mse}\")\n",
    "    print(f\"R-squared: {r2}\")\n",
    "\n",
    "    # Analyze residuals\n",
    "    residuals = Y_test - y_pred\n",
    "\n",
    "    # Plot residuals to look for patterns\n",
    "    plt.scatter(y_pred, residuals)\n",
    "    plt.axhline(0, color='red', linestyle='--')\n",
    "    plt.xlabel('Predicted Values')\n",
    "    plt.ylabel('Residuals')\n",
    "    plt.title('Residual Plot')\n",
    "    plt.show()\n",
    "\n",
    "    return mse, r2\n",
    "\n",
    "# Usage example:\n",
    "# mse, r2 = evaluate_model_performance(best_gp, X_w1_new_points, Y_w1_new_points)\n",
    "# print(f\"MSE: {mse}\")\n",
    "# print(f\"R-squared: {r2}\")"
   ]
  },
  {
   "cell_type": "code",
   "execution_count": 29,
   "metadata": {},
   "outputs": [],
   "source": [
    "# define multiple acquisition functions\n",
    "\n",
    "#an acquisition function used in Bayesian optimization. \n",
    "# The EI is calculated for a set of points X, given a Gaussian process gp. It's used to determine the next point to sample.\n",
    "def expected_improvement(X_grid, gp, xi=0.01, model_type='gpy'):\n",
    "    if model_type == 'gpy':\n",
    "        mu, var = gp.predict(X_grid)\n",
    "        sigma = np.sqrt(var)\n",
    "        mu_sample_opt = np.max(gp.predict(gp.X))\n",
    "    elif model_type == 'sklearn':\n",
    "        mu, sigma = gp.predict(X, return_std=True)\n",
    "        mu_sample_opt = np.max(gp.predict(gp.X_train_, return_std=False))\n",
    "\n",
    "    with np.errstate(divide='warn'):\n",
    "        imp = mu - mu_sample_opt - xi\n",
    "        Z = imp / sigma\n",
    "        ei = imp * norm.cdf(Z) + sigma * norm.pdf(Z)\n",
    "        ei[sigma == 0.0] = 0.0\n",
    "\n",
    "    return ei\n",
    "\n",
    "\n",
    "# Probability of Improvement acquisition function\n",
    "def probability_of_improvement(X_grid, gp, xi=0.01, model_type='gpy'):\n",
    "    if model_type == 'gpy':\n",
    "        mu, var = gp.predict(X_grid)\n",
    "        sigma = np.sqrt(var)\n",
    "        mu_sample_opt = np.max(gp.predict(gp.X))\n",
    "    elif model_type == 'sklearn':\n",
    "        mu, sigma = gp.predict(X_grid, return_std=True)\n",
    "        mu_sample_opt = np.max(gp.predict(gp.X_train_, return_std=False))\n",
    "\n",
    "    with np.errstate(divide='warn'):\n",
    "        imp = mu - mu_sample_opt - xi\n",
    "        Z = imp / sigma\n",
    "        pi = norm.cdf(Z)\n",
    "        pi[sigma == 0.0] = 0.0\n",
    "\n",
    "    return pi\n",
    "\n",
    "\n",
    "# Define the UCB acquisition function\n",
    "# After optimizing the hyperparameters, the Upper Confidence Bound (UCB) is used as the acquisition function in the weekly optimization loop. \n",
    "# The UCB balances exploration (trying new, uncertain points) and exploitation (focusing on points known to yield good results).\n",
    "def upper_confidence_bound(X_grid, gp, kappa=1.96, model_type='gpy'):\n",
    "    if model_type == 'gpy':\n",
    "        mu, var = gp.predict(X_grid)\n",
    "        sigma = np.sqrt(var)\n",
    "    elif model_type == 'sklearn':\n",
    "        mu, sigma = gp.predict(X_grid, return_std=True)\n",
    "\n",
    "    return mu + kappa * sigma\n",
    "\n"
   ]
  },
  {
   "cell_type": "code",
   "execution_count": 30,
   "metadata": {},
   "outputs": [],
   "source": [
    "# define grid based on dimensions\n",
    "\n",
    "def generate_2d_grid(domain_start_x1, domain_end_x1, domain_start_x2, domain_end_x2, num_points):\n",
    "    \"\"\"\n",
    "    Generate a 2D grid of points for optimization.\n",
    "\n",
    "    Parameters:\n",
    "    domain_start_x1: Starting value of the first dimension.\n",
    "    domain_end_x1: Ending value of the first dimension.\n",
    "    domain_start_x2: Starting value of the second dimension.\n",
    "    domain_end_x2: Ending value of the second dimension.\n",
    "    num_points: Number of points to generate in each dimension.\n",
    "\n",
    "    Returns:\n",
    "    X_grid: A 2D numpy array of grid points.\n",
    "    \"\"\"\n",
    "\n",
    "    # Generate arrays of evenly spaced values in each dimension\n",
    "    x1 = np.linspace(domain_start_x1, domain_end_x1, num_points)\n",
    "    x2 = np.linspace(domain_start_x2, domain_end_x2, num_points)\n",
    "\n",
    "    # Use numpy's meshgrid function to create a grid efficiently\n",
    "    X_grid = np.array(np.meshgrid(x1, x2)).T.reshape(-1, 2)\n",
    "\n",
    "    return X_grid\n",
    "# Example usage:\n",
    "# domain_start_x1, domain_end_x1, domain_start_x2, domain_end_x2 = 0.6, 0.65, 0.6, 0.65\n",
    "# num_points = 100\n",
    "# X_grid = generate_2d_grid(domain_start_x1, domain_end_x1, domain_start_x2, domain_end_x2, num_points)\n",
    "\n",
    "def generate_nd_grid(max_points, dimensions):\n",
    "    # define range for input\n",
    "\tr_min, r_max = 0, 1.0\n",
    "\n",
    "\t# generate a random sample from the domain (dimensions)\n",
    "\tnd_grid = r_min + np.random.rand(max_points, dimensions) * (r_max - r_min)\n",
    "\t\n",
    "\treturn np.array(nd_grid)\n"
   ]
  },
  {
   "cell_type": "code",
   "execution_count": 31,
   "metadata": {},
   "outputs": [],
   "source": [
    "# propose the next points for all three acquisition functions\n",
    "\n",
    "def propose_next_point(xi, kappa, X_grid, best_gp, model_type = 'sklearn'):\n",
    "    \"\"\"\n",
    "    Update exploration-exploitation parameters and calculating next query points.\n",
    "   \n",
    "    Returns:\n",
    "    Next query points for EI, PI, and UCB.\n",
    "    \"\"\"\n",
    "\n",
    "\n",
    "    # EI next point calculation\n",
    "    ei_values = expected_improvement(X_grid, best_gp, xi,model_type)\n",
    "    next_point_index_ei = np.argmax(ei_values)\n",
    "    next_point_ei = X_grid[next_point_index_ei]\n",
    "    print('Next query EI: ', format_query(next_point_ei, 6))\n",
    "\n",
    "    # PI next point calculation\n",
    "    pi_values = probability_of_improvement(X_grid, best_gp, xi,model_type)\n",
    "    next_point_index_pi = np.argmax(pi_values)\n",
    "    next_point_pi = X_grid[next_point_index_pi]\n",
    "    print('Next query PI: ', format_query(next_point_pi, 6))\n",
    "\n",
    "    # UCB next point calculation\n",
    "    ucb_value = upper_confidence_bound(X_grid, best_gp, kappa,model_type)\n",
    "    next_point_index_ucb = np.argmax(ucb_value)\n",
    "    next_point_ucb = X_grid[next_point_index_ucb]\n",
    "    print('Next query UCB: ', format_query(next_point_ucb, 6))\n",
    "\n",
    "    return next_point_ei, next_point_pi, next_point_ucb\n",
    "\n"
   ]
  },
  {
   "cell_type": "code",
   "execution_count": 32,
   "metadata": {},
   "outputs": [
    {
     "name": "stdout",
     "output_type": "stream",
     "text": [
      "Next query EI:  0.550000-0.050000\n",
      "Next query PI:  0.707357-0.922973\n",
      "Next query UCB:  0.710761-0.930180\n",
      "MSE: 4.591017652266981e-19\n",
      "R-squared: 1.0\n"
     ]
    },
    {
     "data": {
      "image/png": "[encoded data removed]",
      "text/plain": [
       "<Figure size 640x480 with 1 Axes>"
      ]
     },
     "metadata": {},
     "output_type": "display_data"
    }
   ],
   "source": [
    "#Approach 2: using sklearn GP model\n",
    "\n",
    "# best points so far: \n",
    "# 0.628540\t0.628540\t2.000000\n",
    "# 0.650000\t0.650000\t0.195741\n",
    "# to optimize the acquisition function, we will simply use gridsearch over a space of 10.000 gridpoints\n",
    "#the NumPy library's linspace function to generate an array x1 evenly spaced numbers: start of 0.6; end of 0.65; 100 samples to generate\n",
    "# Use numpy's meshgrid function to create a grid efficiently\n",
    "num_points = 1000\n",
    "X_grid = generate_2d_grid(domain_start_x1, domain_end_x1, domain_start_x2, domain_end_x2, num_points)\n",
    "\n",
    "# Select updated kappa & xi based on the nth week\n",
    "# Example for a specific week (e.g., week 1)\n",
    "week_index = 1  # For week 2, as indexing starts from 0\n",
    "xi_value = xi_array[week_index]\n",
    "kappa_value = kappa_array[week_index]\n",
    "\n",
    "\n",
    "# EI, PI, UCB next point calcuation\n",
    "next_point_ei, next_point_pi, next_point_ucb = propose_next_point(xi_value,kappa_value,X_grid,best_gp,'sklearn')\n",
    "\n",
    "mse, r2 = evaluate_model_performance(best_gp, X_w1_new_points, Y_w1_new_points,'sklearn')\n",
    "#print(f\"MSE: {mse}\")\n",
    "#print(f\"R-squared: {r2}\")"
   ]
  },
  {
   "cell_type": "markdown",
   "metadata": {},
   "source": [
    "##Aproach 3:  a Sparse Gaussian Process model"
   ]
  },
  {
   "cell_type": "code",
   "execution_count": 34,
   "metadata": {},
   "outputs": [
    {
     "data": {
      "application/vnd.jupyter.widget-view+json": {
       "model_id": "1b8cb2840d92412a82cb1ddf999e70ca",
       "version_major": 2,
       "version_minor": 0
      },
      "text/plain": [
       "HBox(children=(VBox(children=(IntProgress(value=0, max=1000), HTML(value=''))), Box(children=(HTML(value=''),)…"
      ]
     },
     "metadata": {},
     "output_type": "display_data"
    },
    {
     "name": "stderr",
     "output_type": "stream",
     "text": [
      "reconstraining parameters sparse_gp\n"
     ]
    },
    {
     "name": "stdout",
     "output_type": "stream",
     "text": [
      "Optimized kernel parameters:   \u001b[1mrbf.       \u001b[0;0m  |               value  |  constraints  |  priors\n",
      "  \u001b[1mvariance   \u001b[0;0m  |  0.0848135079567584  |      +ve      |        \n",
      "  \u001b[1mlengthscale\u001b[0;0m  |  0.4822569830251089  |      +ve      |        \n",
      "Optimized noise variance:   \u001b[1mindex\u001b[0;0m  |  sparse_gp.Gaussian_noise.variance  |  constraints  |  priors\n",
      "  \u001b[1m[0]  \u001b[0;0m  |                         0.03580672  |      +ve      |        \n",
      "MSE on validation set: 0.07498147890920466\n"
     ]
    }
   ],
   "source": [
    "# Approach 3: gpy GP model\n",
    "\n",
    "# Assuming X_w1 and Y_w1 are your data points\n",
    "# Ensure X_w1 and Y_w1 are correctly shaped\n",
    "# X_w1 = ... (your data, should be 2D, e.g., [n_samples, n_features])\n",
    "# Y_w1 = ... (your data, should be 2D, e.g., [n_samples, 1])\n",
    "\n",
    "# If Y_w1 is 1D, convert it to 2D\n",
    "if Y_w1.ndim == 1:\n",
    "    Y_w1_2d = Y_w1[:, np.newaxis]\n",
    "\n",
    "# Create a kernel with RBF\n",
    "kernel = GPy.kern.RBF(input_dim=X_w1.shape[1], variance=1., lengthscale=1.)\n",
    "\n",
    "# Number of inducing points - this can be tuned based on your problem\n",
    "num_inducing = 10  # This is an example value\n",
    "\n",
    "# Creating a Sparse Gaussian Process Model\n",
    "gp_sparse = GPy.models.SparseGPRegression(X_w1, Y_w1_2d, kernel, num_inducing=num_inducing)\n",
    "\n",
    "# Model Optimization\n",
    "gp_sparse.optimize(messages=True, optimizer='lbfgsb', max_iters=1000)\n",
    "\n",
    "# Optionally, you can constrain parameters to be positive\n",
    "gp_sparse.constrain_positive()\n",
    "\n",
    "# After optimization, you can check the optimized hyperparameters\n",
    "print(\"Optimized kernel parameters:\", gp_sparse.kern)\n",
    "print(\"Optimized noise variance:\", gp_sparse.Gaussian_noise.variance)\n",
    "\n",
    "# Evaluate model performance on a validation set, X_val and Y_val\n",
    "Y_pred, Y_var = gp_sparse.predict(X_w1_new_points)\n",
    "mse = np.mean((Y_w1_new_points - Y_pred)**2)\n",
    "print(\"MSE on validation set:\", mse)"
   ]
  },
  {
   "cell_type": "code",
   "execution_count": null,
   "metadata": {},
   "outputs": [],
   "source": [
    "# EI, PI, UCB next point calcuation\n",
    "next_point_ei, next_point_pi, next_point_ucb = propose_next_point(xi_value,kappa_value,X_grid, gp_sparse,'gpy')\n",
    "\n",
    "mse, r2 = evaluate_model_performance(gp_sparse, X_w1_new_points, Y_w1_new_points,'gpy')\n",
    "#print(f\"MSE: {mse}\")\n",
    "#print(f\"R-squared: {r2}\")"
   ]
  },
  {
   "cell_type": "code",
   "execution_count": null,
   "metadata": {},
   "outputs": [],
   "source": []
  },
  {
   "cell_type": "code",
   "execution_count": null,
   "metadata": {},
   "outputs": [],
   "source": []
  }
 ],
 "metadata": {
  "colab": {
   "provenance": []
  },
  "interpreter": {
   "hash": "d37abda7630e259e5026a5079657683a09f6e3d11473720762ebe7250c494840"
  },
  "kernelspec": {
   "display_name": "Python 3 (ipykernel)",
   "language": "python",
   "name": "python3"
  },
  "language_info": {
   "codemirror_mode": {
    "name": "ipython",
    "version": 3
   },
   "file_extension": ".py",
   "mimetype": "text/x-python",
   "name": "python",
   "nbconvert_exporter": "python",
   "pygments_lexer": "ipython3",
   "version": "3.10.9"
  }
 },
 "nbformat": 4,
 "nbformat_minor": 1
}
