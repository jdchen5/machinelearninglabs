{
 "cells": [
  {
   "cell_type": "code",
   "execution_count": 11,
   "id": "fa9ae729",
   "metadata": {},
   "outputs": [
    {
     "data": {
      "text/plain": [
       "( message: Optimization terminated successfully.\n",
       "  success: True\n",
       "      fun: 2.778299999999999\n",
       "        x: [ 1.000e+00  1.000e+00  1.000e+00  1.000e+00  0.000e+00\n",
       "             0.000e+00  1.000e+00  0.000e+00]\n",
       "      nit: 83\n",
       "     nfev: 10098\n",
       "      jac: [-3.600e+00 -1.700e+00 -5.220e+00 -1.700e+00  8.000e-01\n",
       "             1.000e+00 -3.200e+00  1.200e-01],\n",
       " -1.7499604271971958e+25,\n",
       " array([ 3.68952760e+07,  8.10047148e+06, -2.16893163e+12,  1.84032906e+12,\n",
       "        -1.74163846e+06, -2.75404585e+03,  2.77150904e+07, -2.20368002e+04]))"
      ]
     },
     "execution_count": 11,
     "metadata": {},
     "output_type": "execute_result"
    }
   ],
   "source": [
    "from scipy.optimize import differential_evolution, basinhopping\n",
    "\n",
    "# Define the objective function as provided in the user's image\n",
    "def function8(x):\n",
    "    out = -2 * (x[0] - 0.1)**2\n",
    "    out += -1 * (x[1] - 0.15)**2\n",
    "    out += -3 * (x[2] - 0.13)**2\n",
    "    out += -1 * (x[3] - 0.15)**2\n",
    "    out += -0.5 * (x[4] - 0.8)**2\n",
    "    out += -1 * (x[5] - 0.5)**2\n",
    "    out += -2 * (x[6] - 0.2)**2\n",
    "    out += -0.1 * (x[7] - 0.6)**2\n",
    "    return out + 10\n",
    "\n",
    "# Set the bounds for each dimension\n",
    "bounds = [(0, 1)] * 8  # assuming the variables are bounded between 0 and 1\n",
    "\n",
    "# Perform differential evolution\n",
    "result_de = differential_evolution(function8, bounds)\n",
    "\n",
    "# Perform basinhopping\n",
    "result_bh = basinhopping(function8, [0.5] * 8, niter=200)  # start at the middle of the bounds\n",
    "\n",
    "result_de, result_bh.fun, result_bh.x\n",
    "\n"
   ]
  },
  {
   "cell_type": "code",
   "execution_count": null,
   "id": "37ee0639",
   "metadata": {},
   "outputs": [],
   "source": []
  },
  {
   "cell_type": "code",
   "execution_count": 2,
   "id": "1e4efa2e",
   "metadata": {},
   "outputs": [
    {
     "name": "stdout",
     "output_type": "stream",
     "text": [
      "Function value for [0.1, 0.15, 0.13, 0.15, 0.8, 0.5, 0.2, 0.6]: 10.0\n"
     ]
    }
   ],
   "source": [
    "# Sample inputs for the function\n",
    "x_samples = [\n",
    "    [0.1, 0.15, 0.13, 0.15, 0.8, 0.5, 0.2, 0.6]\n",
    "]\n",
    "\n",
    "# Define the objective function as provided in the user's image\n",
    "def function8(x):\n",
    "    out = -2 * (x[0] - 0.1)**2\n",
    "    out += -1 * (x[1] - 0.15)**2\n",
    "    out += -3 * (x[2] - 0.13)**2\n",
    "    out += -1 * (x[3] - 0.15)**2\n",
    "    out += -0.5 * (x[4] - 0.8)**2\n",
    "    out += -1 * (x[5] - 0.5)**2\n",
    "    out += -2 * (x[6] - 0.2)**2\n",
    "    out += -0.1 * (x[7] - 0.6)**2\n",
    "    return out + 10\n",
    "\n",
    "# Loop over the sample inputs and call michalewicz_function for each\n",
    "for x in x_samples:\n",
    "    function_value = function8(x)\n",
    "    print(f'Function value for {x}:', function_value)"
   ]
  },
  {
   "cell_type": "code",
   "execution_count": null,
   "id": "44575bd7",
   "metadata": {},
   "outputs": [],
   "source": []
  },
  {
   "cell_type": "code",
   "execution_count": 9,
   "id": "e27dca1e",
   "metadata": {},
   "outputs": [
    {
     "data": {
      "text/plain": [
       "(-3.6196662283652015,\n",
       " array([0.99377466, 0.99638798, 0.01748738, 0.00609115, 0.98995587]))"
      ]
     },
     "execution_count": 9,
     "metadata": {},
     "output_type": "execute_result"
    }
   ],
   "source": [
    "import numpy as np\n",
    "from scipy.optimize import differential_evolution\n",
    "\n",
    "# Define function6 from the image provided with added noise\n",
    "def function6(x):\n",
    "    out = -1 * np.abs(x[0] - 0.42)\n",
    "    out += -1 * np.abs(x[1] - 0.36)\n",
    "    out += -1 * np.abs(x[2] - 0.65)\n",
    "    out += -1 * np.abs(x[3] - 0.77)\n",
    "    out += -1 * np.abs(x[4] - 0.1)\n",
    "    return out + np.random.normal(0, 0.05)\n",
    "\n",
    "# Since we are looking for global optima and the function is noisy,\n",
    "# we should run the optimizer several times to ensure we find a robust solution.\n",
    "# We'll define the bounds for the optimization (assuming they are [0, 1] for each variable)\n",
    "bounds = [(0, 1), (0, 1), (0, 1), (0, 1), (0, 1)]\n",
    "\n",
    "# Perform the optimization using Differential Evolution\n",
    "# Due to the stochastic nature of the function, it's recommended to increase the number of iterations and\n",
    "# the population size to get a more accurate result.\n",
    "result = differential_evolution(function6, bounds, maxiter=1000, popsize=25)\n",
    "\n",
    "result.fun, result.x\n",
    "\n"
   ]
  },
  {
   "cell_type": "code",
   "execution_count": 26,
   "id": "8a94baf2",
   "metadata": {},
   "outputs": [
    {
     "data": {
      "text/plain": [
       "(-3.747301308472089,\n",
       " array([0.99981685, 0.99954416, 0.00292226, 0.00500321, 0.99681116]))"
      ]
     },
     "execution_count": 26,
     "metadata": {},
     "output_type": "execute_result"
    }
   ],
   "source": [
    "import numpy as np\n",
    "from scipy.optimize import differential_evolution\n",
    "\n",
    "# Define function6 from the image provided with added noise\n",
    "def function6(x):\n",
    "    out = -1 * np.abs(x[0] - 0.42)\n",
    "    out += -1 * np.abs(x[1] - 0.36)\n",
    "    out += -1 * np.abs(x[2] - 0.65)\n",
    "    out += -1 * np.abs(x[3] - 0.77)\n",
    "    out += -1 * np.abs(x[4] - 0.1)\n",
    "    return out + np.random.normal(0, 0.05)\n",
    "\n",
    "# New bounds based on the optimization results\n",
    "bounds = [(0.99, 1.0),  # New bound for x[0]\n",
    "          (0.97, 1.0),  # New bound for x[1]\n",
    "          (0.0, 0.05),  # New bound for x[2]\n",
    "          (0.0, 0.05),  # New bound for x[3]\n",
    "          (0.97, 1.0)]  # New bound for x[4]\n",
    "\n",
    "# Perform the optimization using Differential Evolution with the new bounds\n",
    "result = differential_evolution(function6, bounds, maxiter=10000, popsize=1000)\n",
    "\n",
    "result.fun, result.x"
   ]
  },
  {
   "cell_type": "code",
   "execution_count": 27,
   "id": "f707f30b",
   "metadata": {},
   "outputs": [
    {
     "name": "stdout",
     "output_type": "stream",
     "text": [
      "Function value for [0.999999, 0.999031, 0.003125, 0.0, 0.992245]: -3.4022970623605664\n",
      "Function value for [0.99572389, 0.97373593, 0.0027237, 0.00847641, 0.98693783]: -3.3813290639079887\n",
      "Function value for [0.99881636, 0.99261304, 0.01461281, 0.03374769, 0.97225405]: -3.481512053506839\n",
      "Function value for [0.99377466, 0.99638798, 0.01748738, 0.00609115, 0.98995587]: -3.446237245161924\n",
      "Function value for [0.998270807, 0.99033566, 0.0110511377, 0.000730842077, 0.98965411]: -3.5634089316493553\n",
      "Function value for [0.99704482, 0.99243628, 0.01288065, 0.02471047, 0.99574526]: -3.4852649398835815\n",
      "Function value for [0.99333672, 0.99717332, 0.00717687, 0.01454184, 0.98702172]: -3.5041072044652597\n",
      "Function value for [0.994885225, 0.982954887, 0.0214005077, 0.000982798925, 0.999218603]: -3.4362843532981877\n",
      "Function value for [0.99282675, 0.978115507, 0.000358238894, 0.0245893403, 0.994932078]: -3.4232350282149833\n",
      "Function value for [0.99185211, 0.99143621, 0.00726933, 0.00358599, 0.99696841]: -3.4902236260625226\n",
      "Function value for [0.99498962, 0.99866151, 0.00269336, 0.01282776, 0.99915352]: -3.5310157027461315\n",
      "Function value for [0.99981685, 0.99954416, 0.00292226, 0.00500321, 0.99681116]: -3.5024560239284614\n"
     ]
    }
   ],
   "source": [
    "# Sample inputs for the function\n",
    "x_samples = [\n",
    "    [0.999999, 0.999031, 0.003125, 0.      , 0.992245],\n",
    "    [0.99572389, 0.97373593, 0.0027237 , 0.00847641, 0.98693783],\n",
    "    [0.99881636, 0.99261304, 0.01461281, 0.03374769, 0.97225405],\n",
    "    [0.99377466, 0.99638798, 0.01748738, 0.00609115, 0.98995587],\n",
    "    [9.98270807e-01, 9.90335660e-01, 1.10511377e-02, 7.30842077e-04,\n",
    "        9.89654110e-01],\n",
    "    [0.99704482, 0.99243628, 0.01288065, 0.02471047, 0.99574526],\n",
    "    [0.99333672, 0.99717332, 0.00717687, 0.01454184, 0.98702172],\n",
    "    [9.94885225e-01, 9.82954887e-01, 2.14005077e-02, 9.82798925e-04,\n",
    "        9.99218603e-01],\n",
    "    [9.92826750e-01, 9.78115507e-01, 3.58238894e-04, 2.45893403e-02,\n",
    "        9.94932078e-01],\n",
    "    [0.99185211, 0.99143621, 0.00726933, 0.00358599, 0.99696841],\n",
    "    [0.99498962, 0.99866151, 0.00269336, 0.01282776, 0.99915352],\n",
    "    [0.99981685, 0.99954416, 0.00292226, 0.00500321, 0.99681116]\n",
    "]\n",
    "\n",
    "# Define function6 from the image provided with added noise\n",
    "def function6(x):\n",
    "    out = -1 * np.abs(x[0] - 0.42)\n",
    "    out += -1 * np.abs(x[1] - 0.36)\n",
    "    out += -1 * np.abs(x[2] - 0.65)\n",
    "    out += -1 * np.abs(x[3] - 0.77)\n",
    "    out += -1 * np.abs(x[4] - 0.1)\n",
    "    return out + np.random.normal(0, 0.05)\n",
    "    return out + 10\n",
    "\n",
    "# Loop over the sample inputs and call michalewicz_function for each\n",
    "for x in x_samples:\n",
    "    function_value = function6(x)\n",
    "    print(f'Function value for {x}:', function_value)"
   ]
  },
  {
   "cell_type": "code",
   "execution_count": null,
   "id": "b1c5384f",
   "metadata": {},
   "outputs": [],
   "source": []
  },
  {
   "cell_type": "code",
   "execution_count": null,
   "id": "19aec2ef",
   "metadata": {},
   "outputs": [],
   "source": []
  },
  {
   "cell_type": "code",
   "execution_count": null,
   "id": "5ffedfe2",
   "metadata": {},
   "outputs": [],
   "source": []
  },
  {
   "cell_type": "code",
   "execution_count": null,
   "id": "62029dcf",
   "metadata": {},
   "outputs": [],
   "source": []
  },
  {
   "cell_type": "code",
   "execution_count": null,
   "id": "19d0c86e",
   "metadata": {},
   "outputs": [],
   "source": []
  },
  {
   "cell_type": "code",
   "execution_count": null,
   "id": "d3e8f628",
   "metadata": {},
   "outputs": [],
   "source": []
  },
  {
   "cell_type": "code",
   "execution_count": null,
   "id": "ef410028",
   "metadata": {},
   "outputs": [],
   "source": []
  }
 ],
 "metadata": {
  "kernelspec": {
   "display_name": "Python 3 (ipykernel)",
   "language": "python",
   "name": "python3"
  },
  "language_info": {
   "codemirror_mode": {
    "name": "ipython",
    "version": 3
   },
   "file_extension": ".py",
   "mimetype": "text/x-python",
   "name": "python",
   "nbconvert_exporter": "python",
   "pygments_lexer": "ipython3",
   "version": "3.10.9"
  }
 },
 "nbformat": 4,
 "nbformat_minor": 5
}
