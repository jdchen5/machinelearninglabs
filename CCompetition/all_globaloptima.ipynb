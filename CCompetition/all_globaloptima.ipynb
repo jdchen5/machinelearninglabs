{
 "cells": [
  {
   "cell_type": "markdown",
   "id": "64d31db0",
   "metadata": {},
   "source": [
    "# Function 8"
   ]
  },
  {
   "cell_type": "code",
   "execution_count": 11,
   "id": "fa9ae729",
   "metadata": {},
   "outputs": [
    {
     "data": {
      "text/plain": [
       "( message: Optimization terminated successfully.\n",
       "  success: True\n",
       "      fun: 2.778299999999999\n",
       "        x: [ 1.000e+00  1.000e+00  1.000e+00  1.000e+00  0.000e+00\n",
       "             0.000e+00  1.000e+00  0.000e+00]\n",
       "      nit: 83\n",
       "     nfev: 10098\n",
       "      jac: [-3.600e+00 -1.700e+00 -5.220e+00 -1.700e+00  8.000e-01\n",
       "             1.000e+00 -3.200e+00  1.200e-01],\n",
       " -1.7499604271971958e+25,\n",
       " array([ 3.68952760e+07,  8.10047148e+06, -2.16893163e+12,  1.84032906e+12,\n",
       "        -1.74163846e+06, -2.75404585e+03,  2.77150904e+07, -2.20368002e+04]))"
      ]
     },
     "execution_count": 11,
     "metadata": {},
     "output_type": "execute_result"
    }
   ],
   "source": [
    "from scipy.optimize import differential_evolution, basinhopping\n",
    "\n",
    "# Define the objective function as provided in the user's image\n",
    "def function8(x):\n",
    "    out = -2 * (x[0] - 0.1)**2\n",
    "    out += -1 * (x[1] - 0.15)**2\n",
    "    out += -3 * (x[2] - 0.13)**2\n",
    "    out += -1 * (x[3] - 0.15)**2\n",
    "    out += -0.5 * (x[4] - 0.8)**2\n",
    "    out += -1 * (x[5] - 0.5)**2\n",
    "    out += -2 * (x[6] - 0.2)**2\n",
    "    out += -0.1 * (x[7] - 0.6)**2\n",
    "    return out + 10\n",
    "\n",
    "# Set the bounds for each dimension\n",
    "bounds = [(0, 1)] * 8  # assuming the variables are bounded between 0 and 1\n",
    "\n",
    "# Perform differential evolution\n",
    "result_de = differential_evolution(function8, bounds)\n",
    "\n",
    "# Perform basinhopping\n",
    "result_bh = basinhopping(function8, [0.5] * 8, niter=200)  # start at the middle of the bounds\n",
    "\n",
    "result_de, result_bh.fun, result_bh.x\n",
    "\n"
   ]
  },
  {
   "cell_type": "code",
   "execution_count": null,
   "id": "37ee0639",
   "metadata": {},
   "outputs": [],
   "source": []
  },
  {
   "cell_type": "code",
   "execution_count": 2,
   "id": "1e4efa2e",
   "metadata": {},
   "outputs": [
    {
     "name": "stdout",
     "output_type": "stream",
     "text": [
      "Function value for [0.1, 0.15, 0.13, 0.15, 0.8, 0.5, 0.2, 0.6]: 10.0\n"
     ]
    }
   ],
   "source": [
    "# Sample inputs for the function\n",
    "x_samples = [\n",
    "    [0.1, 0.15, 0.13, 0.15, 0.8, 0.5, 0.2, 0.6]\n",
    "]\n",
    "\n",
    "# Define the objective function as provided in the user's image\n",
    "def function8(x):\n",
    "    out = -2 * (x[0] - 0.1)**2\n",
    "    out += -1 * (x[1] - 0.15)**2\n",
    "    out += -3 * (x[2] - 0.13)**2\n",
    "    out += -1 * (x[3] - 0.15)**2\n",
    "    out += -0.5 * (x[4] - 0.8)**2\n",
    "    out += -1 * (x[5] - 0.5)**2\n",
    "    out += -2 * (x[6] - 0.2)**2\n",
    "    out += -0.1 * (x[7] - 0.6)**2\n",
    "    return out + 10\n",
    "\n",
    "# Loop over the sample inputs and call michalewicz_function for each\n",
    "for x in x_samples:\n",
    "    function_value = function8(x)\n",
    "    print(f'Function value for {x}:', function_value)"
   ]
  },
  {
   "cell_type": "markdown",
   "id": "1e30e549",
   "metadata": {},
   "source": [
    "# Function 7"
   ]
  },
  {
   "cell_type": "code",
   "execution_count": 12,
   "id": "c39e5e78",
   "metadata": {},
   "outputs": [
    {
     "data": {
      "text/plain": [
       "( message: Optimization terminated successfully.\n",
       "  success: True\n",
       "      fun: -3.2031619177893287\n",
       "        x: [ 4.047e-01  8.824e-01  8.461e-01  5.740e-01  1.389e-01\n",
       "             3.850e-02]\n",
       "      nit: 18\n",
       "     nfev: 1871\n",
       "      jac: [-1.940e-04  8.828e-05 -4.041e-06 -9.339e-05 -8.038e-06\n",
       "             1.990e-04],\n",
       " -3.3223680114155085,\n",
       " array([ 0.2016895 ,  0.15001068,  0.47687397,  0.27533243,  0.31165161,\n",
       "         0.65730053, -3.01501665,  3.90244459]))"
      ]
     },
     "execution_count": 12,
     "metadata": {},
     "output_type": "execute_result"
    }
   ],
   "source": [
    "import numpy as np\n",
    "from scipy.optimize import differential_evolution, basinhopping\n",
    "\n",
    "def function7(x):\n",
    "    alpha = np.array([1.0, 1.2, 3.0, 3.2])\n",
    "    A = np.array([\n",
    "        [10, 3, 17, 3.50, 1.7, 8],\n",
    "        [0.05, 10, 17, 0.1, 8, 14],\n",
    "        [3, 3.5, 1.7, 10, 17, 8],\n",
    "        [17, 8, 0.05, 10, 0.1, 14]\n",
    "    ])\n",
    "    P = 10**-4 * np.array([\n",
    "        [1312, 1696, 5569, 124, 8283, 5886],\n",
    "        [2329, 4135, 8307, 3736, 1004, 9991],\n",
    "        [2348, 1451, 3522, 2883, 3047, 6650],\n",
    "        [4047, 8828, 8732, 5743, 1091, 381]\n",
    "    ])\n",
    "    \n",
    "    external_sum = 0\n",
    "    for i in range(4):\n",
    "        internal_sum = 0\n",
    "        for j in range(6):\n",
    "            internal_sum += A[i][j] * (x[j] - P[i][j])**2\n",
    "        external_sum += alpha[i] * np.exp(-internal_sum)\n",
    "    \n",
    "    return -external_sum\n",
    "\n",
    "# Set the bounds for each dimension\n",
    "bounds = [(0, 1)] * 6  # assuming the variables are bounded between 0 and 1\n",
    "\n",
    "# Perform differential evolution\n",
    "result_de = differential_evolution(function7, bounds)\n",
    "\n",
    "# Perform basinhopping\n",
    "result_bh = basinhopping(function7, [0.5] * 8, niter=200)  # start at the middle of the bounds\n",
    "\n",
    "result_de, result_bh.fun, result_bh.x\n",
    "\n"
   ]
  },
  {
   "cell_type": "code",
   "execution_count": 14,
   "id": "a0651c6c",
   "metadata": {},
   "outputs": [],
   "source": [
    "best_point = [0.2016895, 0.15001069, 0.47687396, 0.27533243, 0.31165162, 0.65730053]\n",
    "exploitation_range = 0.05  # 5%\n",
    "\n",
    "bounds_exploitation = [(x - x * exploitation_range, x + x * exploitation_range) for x in best_point]\n"
   ]
  },
  {
   "cell_type": "code",
   "execution_count": 15,
   "id": "da68ffaa",
   "metadata": {},
   "outputs": [
    {
     "data": {
      "text/plain": [
       "( message: Optimization terminated successfully.\n",
       "  success: True\n",
       "      fun: -3.322368011415493\n",
       "        x: [ 2.017e-01  1.500e-01  4.769e-01  2.753e-01  3.117e-01\n",
       "             6.573e-01]\n",
       "      nit: 1\n",
       "     nfev: 257\n",
       "      jac: [ 1.776e-07 -2.665e-07 -4.441e-07 -1.332e-07 -4.441e-07\n",
       "            -4.885e-07],\n",
       " -3.3223680114155076,\n",
       " array([ 0.2016895 ,  0.15001068,  0.47687397,  0.27533242,  0.31165161,\n",
       "         0.65730053,  3.35894765, -0.98489902]))"
      ]
     },
     "execution_count": 15,
     "metadata": {},
     "output_type": "execute_result"
    }
   ],
   "source": [
    "# Perform differential evolution\n",
    "result_de = differential_evolution(function7, bounds_exploitation)\n",
    "\n",
    "# Perform basinhopping\n",
    "result_bh = basinhopping(function7, [0.5] * 8, niter=200)  # start at the middle of the bounds\n",
    "\n",
    "result_de, result_bh.fun, result_bh.x"
   ]
  },
  {
   "cell_type": "code",
   "execution_count": 13,
   "id": "bce62bcb",
   "metadata": {},
   "outputs": [
    {
     "name": "stdout",
     "output_type": "stream",
     "text": [
      "Function value for [0.215055, 0.156395, 0.470335, 0.277514, 0.312339, 0.658909]: -3.3192764124650775\n",
      "Function value for [0.2016895, 0.15001069, 0.47687396, 0.27533243, 0.31165162, 0.65730053, 1.48950059, 4.05739046]: -3.3223680114155094\n"
     ]
    }
   ],
   "source": [
    "# Sample inputs for the function\n",
    "x_samples = [\n",
    "    [0.215055, 0.156395, 0.470335, 0.277514, 0.312339, 0.658909],\n",
    "    [0.2016895 , 0.15001069, 0.47687396, 0.27533243, 0.31165162,\n",
    "        0.65730053, 1.48950059, 4.05739046]\n",
    "]\n",
    "\n",
    "\n",
    "# Loop over the sample inputs and call michalewicz_function for each\n",
    "for x in x_samples:\n",
    "    function_value = function7(x)\n",
    "    print(f'Function value for {x}:', function_value)"
   ]
  },
  {
   "cell_type": "code",
   "execution_count": null,
   "id": "7fa8f8b6",
   "metadata": {},
   "outputs": [],
   "source": []
  },
  {
   "cell_type": "markdown",
   "id": "c9092d20",
   "metadata": {},
   "source": [
    "# Function 6"
   ]
  },
  {
   "cell_type": "code",
   "execution_count": 9,
   "id": "e27dca1e",
   "metadata": {},
   "outputs": [
    {
     "data": {
      "text/plain": [
       "(-3.6196662283652015,\n",
       " array([0.99377466, 0.99638798, 0.01748738, 0.00609115, 0.98995587]))"
      ]
     },
     "execution_count": 9,
     "metadata": {},
     "output_type": "execute_result"
    }
   ],
   "source": [
    "import numpy as np\n",
    "from scipy.optimize import differential_evolution\n",
    "\n",
    "# Define function6 from the image provided with added noise\n",
    "def function6(x):\n",
    "    out = -1 * np.abs(x[0] - 0.42)\n",
    "    out += -1 * np.abs(x[1] - 0.36)\n",
    "    out += -1 * np.abs(x[2] - 0.65)\n",
    "    out += -1 * np.abs(x[3] - 0.77)\n",
    "    out += -1 * np.abs(x[4] - 0.1)\n",
    "    return out + np.random.normal(0, 0.05)\n",
    "\n",
    "# Since we are looking for global optima and the function is noisy,\n",
    "# we should run the optimizer several times to ensure we find a robust solution.\n",
    "# We'll define the bounds for the optimization (assuming they are [0, 1] for each variable)\n",
    "bounds = [(0, 1), (0, 1), (0, 1), (0, 1), (0, 1)]\n",
    "\n",
    "# Perform the optimization using Differential Evolution\n",
    "# Due to the stochastic nature of the function, it's recommended to increase the number of iterations and\n",
    "# the population size to get a more accurate result.\n",
    "result = differential_evolution(function6, bounds, maxiter=1000, popsize=25)\n",
    "\n",
    "result.fun, result.x\n",
    "\n"
   ]
  },
  {
   "cell_type": "code",
   "execution_count": 3,
   "id": "8a94baf2",
   "metadata": {},
   "outputs": [
    {
     "data": {
      "text/plain": [
       "(-3.68461671048986,\n",
       " array([0.99821647, 0.97882707, 0.01156669, 0.02451674, 0.98599329]))"
      ]
     },
     "execution_count": 3,
     "metadata": {},
     "output_type": "execute_result"
    }
   ],
   "source": [
    "import numpy as np\n",
    "from scipy.optimize import differential_evolution\n",
    "\n",
    "# Define function6 from the image provided with added noise\n",
    "def function6(x):\n",
    "    out = -1 * np.abs(x[0] - 0.42)\n",
    "    out += -1 * np.abs(x[1] - 0.36)\n",
    "    out += -1 * np.abs(x[2] - 0.65)\n",
    "    out += -1 * np.abs(x[3] - 0.77)\n",
    "    out += -1 * np.abs(x[4] - 0.1)\n",
    "    return out + np.random.normal(0, 0.05)\n",
    "\n",
    "# New bounds based on the optimization results\n",
    "bounds = [(0.99, 1.0),  # New bound for x[0]\n",
    "          (0.97, 1.0),  # New bound for x[1]\n",
    "          (0.0, 0.05),  # New bound for x[2]\n",
    "          (0.0, 0.05),  # New bound for x[3]\n",
    "          (0.97, 1.0)]  # New bound for x[4]\n",
    "\n",
    "# Perform the optimization using Differential Evolution with the new bounds\n",
    "result = differential_evolution(function6, bounds, maxiter=10000, popsize=1000)\n",
    "\n",
    "result.fun, result.x"
   ]
  },
  {
   "cell_type": "code",
   "execution_count": 9,
   "id": "f707f30b",
   "metadata": {},
   "outputs": [
    {
     "name": "stdout",
     "output_type": "stream",
     "text": [
      "Function value for [0.999999, 0.999031, 0.003125, 0.0, 0.992245]: -3.550547793816232\n",
      "Function value for [0.99572389, 0.97373593, 0.0027237, 0.00847641, 0.98693783]: -3.447025695773189\n",
      "Function value for [0.99881636, 0.99261304, 0.01461281, 0.03374769, 0.97225405]: -3.538055520338465\n",
      "Function value for [0.99377466, 0.99638798, 0.01748738, 0.00609115, 0.98995587]: -3.5193434175063634\n",
      "Function value for [0.998270807, 0.99033566, 0.0110511377, 0.000730842077, 0.98965411]: -3.4958947505685853\n",
      "Function value for [0.99704482, 0.99243628, 0.01288065, 0.02471047, 0.99574526]: -3.421812246468627\n",
      "Function value for [0.99333672, 0.99717332, 0.00717687, 0.01454184, 0.98702172]: -3.497467298804368\n",
      "Function value for [0.994885225, 0.982954887, 0.0214005077, 0.000982798925, 0.999218603]: -3.423910895933074\n",
      "Function value for [0.99282675, 0.978115507, 0.000358238894, 0.0245893403, 0.994932078]: -3.4687717154749667\n",
      "Function value for [0.99185211, 0.99143621, 0.00726933, 0.00358599, 0.99696841]: -3.512755041386138\n",
      "Function value for [0.99498962, 0.99866151, 0.00269336, 0.01282776, 0.99915352]: -3.57415831908832\n",
      "Function value for [0.99981685, 0.99954416, 0.00292226, 0.00500321, 0.99681116]: -3.548663637325626\n",
      "Function value for [0.99821647, 0.97882707, 0.01156669, 0.02451674, 0.98599329]: -3.522963252661664\n"
     ]
    },
    {
     "data": {
      "text/plain": [
       "array([0.99611948, 0.99009635, 0.00886676, 0.01229263, 0.9912993 ])"
      ]
     },
     "execution_count": 9,
     "metadata": {},
     "output_type": "execute_result"
    }
   ],
   "source": [
    "import numpy as np\n",
    "\n",
    "# Sample inputs for the function\n",
    "x_samples = [\n",
    "    [0.999999, 0.999031, 0.003125, 0.      , 0.992245],\n",
    "    [0.99572389, 0.97373593, 0.0027237 , 0.00847641, 0.98693783],\n",
    "    [0.99881636, 0.99261304, 0.01461281, 0.03374769, 0.97225405],\n",
    "    [0.99377466, 0.99638798, 0.01748738, 0.00609115, 0.98995587],\n",
    "    [9.98270807e-01, 9.90335660e-01, 1.10511377e-02, 7.30842077e-04,\n",
    "        9.89654110e-01],\n",
    "    [0.99704482, 0.99243628, 0.01288065, 0.02471047, 0.99574526],\n",
    "    [0.99333672, 0.99717332, 0.00717687, 0.01454184, 0.98702172],\n",
    "    [9.94885225e-01, 9.82954887e-01, 2.14005077e-02, 9.82798925e-04,\n",
    "        9.99218603e-01],\n",
    "    [9.92826750e-01, 9.78115507e-01, 3.58238894e-04, 2.45893403e-02,\n",
    "        9.94932078e-01],\n",
    "    [0.99185211, 0.99143621, 0.00726933, 0.00358599, 0.99696841],\n",
    "    [0.99498962, 0.99866151, 0.00269336, 0.01282776, 0.99915352],\n",
    "    [0.99981685, 0.99954416, 0.00292226, 0.00500321, 0.99681116],\n",
    "    [0.99821647, 0.97882707, 0.01156669, 0.02451674, 0.98599329]\n",
    "]\n",
    "\n",
    "# Define function6 from the image provided with added noise\n",
    "def function6(x):\n",
    "    out = -1 * np.abs(x[0] - 0.42)\n",
    "    out += -1 * np.abs(x[1] - 0.36)\n",
    "    out += -1 * np.abs(x[2] - 0.65)\n",
    "    out += -1 * np.abs(x[3] - 0.77)\n",
    "    out += -1 * np.abs(x[4] - 0.1)\n",
    "    return out + np.random.normal(0, 0.05)\n",
    "    return out + 10\n",
    "\n",
    "# Loop over the sample inputs and call michalewicz_function for each\n",
    "for x in x_samples:\n",
    "    function_value = function6(x)\n",
    "    print(f'Function value for {x}:', function_value)\n",
    "    \n",
    "x_samples_array = np.array(x_samples)\n",
    "\n",
    "# Compute the average of each dimension\n",
    "dimension_averages = np.mean(x_samples_array, axis=0)\n",
    "dimension_averages"
   ]
  },
  {
   "cell_type": "code",
   "execution_count": null,
   "id": "b1c5384f",
   "metadata": {},
   "outputs": [],
   "source": []
  },
  {
   "cell_type": "markdown",
   "id": "24ba7bfd",
   "metadata": {},
   "source": [
    "# Function 5"
   ]
  },
  {
   "cell_type": "code",
   "execution_count": 18,
   "id": "5ffedfe2",
   "metadata": {},
   "outputs": [
    {
     "name": "stdout",
     "output_type": "stream",
     "text": [
      "result_de =  message: Optimization terminated successfully.\n",
      " success: True\n",
      "     fun: 13912.0\n",
      "       x: [ 1.000e+00  1.000e+00  1.000e+00  1.000e+00]\n",
      "     nit: 10\n",
      "    nfev: 670\n",
      "     jac: [-1.184e+03 -1.184e+03 -1.184e+03 -1.184e+03], result_bh.fun = 1.1647759294808782e-10, result_bh.x = [0.99998856 2.99999767 1.99904125 2.00096658]\n"
     ]
    }
   ],
   "source": [
    "import numpy as np\n",
    "from scipy.optimize import differential_evolution, basinhopping\n",
    "\n",
    "def function5 (x, b=[8, 18, 44, 114]):\n",
    "    \"\"\"\n",
    "    Power Sum function for 4-dimensional input.\n",
    "\n",
    "    Args:\n",
    "    - x: A list or array of 4 variables.\n",
    "    - b: A list of constants for the Power Sum function.\n",
    "\n",
    "    Returns:\n",
    "    - The value of the Power Sum function at the point x.\n",
    "    \"\"\"\n",
    "    d = 4  # Number of dimensions\n",
    "    if len(x) != d or len(b) != d:\n",
    "        raise ValueError(f\"Input vector x and constant vector b must both be of length {d}.\")\n",
    "    \n",
    "    return sum((sum(x_j ** (i+1) for x_j in x) - b[i]) ** 2 for i in range(d))\n",
    "\n",
    "\n",
    "# Set the bounds for each dimension\n",
    "bounds = [(0, 1)] * 4  # assuming the variables are bounded between 0 and 1\n",
    "\n",
    "# Perform differential evolution\n",
    "result_de = differential_evolution(function5, bounds)\n",
    "\n",
    "# Perform basinhopping\n",
    "result_bh = basinhopping(function5, [0.5] * 4, niter=200)  # start at the middle of the bounds\n",
    "\n",
    "print(f\"result_de = {result_de}, result_bh.fun = {result_bh.fun}, result_bh.x = {result_bh.x}\")"
   ]
  },
  {
   "cell_type": "code",
   "execution_count": 19,
   "id": "62029dcf",
   "metadata": {},
   "outputs": [],
   "source": [
    "best_point = [1, 1, 1, 1]\n",
    "exploitation_range = 0.05  # 5%\n",
    "\n",
    "bounds_exploitation = [(x - x * exploitation_range, x + x * exploitation_range) for x in best_point]\n"
   ]
  },
  {
   "cell_type": "code",
   "execution_count": 20,
   "id": "19d0c86e",
   "metadata": {},
   "outputs": [
    {
     "name": "stdout",
     "output_type": "stream",
     "text": [
      "result_de =  message: Optimization terminated successfully.\n",
      " success: True\n",
      "     fun: 13660.183217350625\n",
      "       x: [ 1.050e+00  1.050e+00  1.050e+00  1.050e+00]\n",
      "     nit: 1\n",
      "    nfev: 130\n",
      "     jac: [-1.336e+03 -1.336e+03 -1.336e+03 -1.336e+03], result_bh.fun = 1.1712957802055646e-10, result_bh.x = [0.99999002 2.99999705 2.00163438 1.99837274]\n"
     ]
    }
   ],
   "source": [
    "# Perform differential evolution\n",
    "result_de = differential_evolution(function5, bounds_exploitation)\n",
    "\n",
    "# Perform basinhopping\n",
    "result_bh = basinhopping(function5, [0.5] * 4, niter=200)  # start at the middle of the bounds\n",
    "\n",
    "print(f\"result_de = {result_de}, result_bh.fun = {result_bh.fun}, result_bh.x = {result_bh.x}\")"
   ]
  },
  {
   "cell_type": "code",
   "execution_count": 22,
   "id": "d3e8f628",
   "metadata": {},
   "outputs": [
    {
     "name": "stdout",
     "output_type": "stream",
     "text": [
      "Function value for [1.0, 1.0, 1.0, 1.0]: 13912.0\n",
      "Function value for [0.999999, 0.999999, 0.999999, 0.999999]: 13912.004735994127\n"
     ]
    }
   ],
   "source": [
    "# Sample inputs for the function\n",
    "x_samples = [\n",
    "    [ 1.000e+00, 1.000e+00, 1.000e+00, 1.000e+00],\n",
    "    [0.999999, 0.999999, 0.999999, 0.999999]\n",
    "]\n",
    "\n",
    "\n",
    "# Loop over the sample inputs and call michalewicz_function for each\n",
    "for x in x_samples:\n",
    "    function_value = function5(x)\n",
    "    print(f'Function value for {x}:', function_value)"
   ]
  },
  {
   "cell_type": "code",
   "execution_count": null,
   "id": "ef410028",
   "metadata": {},
   "outputs": [],
   "source": []
  },
  {
   "cell_type": "markdown",
   "id": "b4dbfe24",
   "metadata": {},
   "source": [
    "# Function 4"
   ]
  },
  {
   "cell_type": "code",
   "execution_count": 65,
   "id": "4f23e691",
   "metadata": {},
   "outputs": [
    {
     "name": "stdout",
     "output_type": "stream",
     "text": [
      "result_de =  message: Optimization terminated successfully.\n",
      " success: True\n",
      "     fun: 3.9968028886505635e-15\n",
      "       x: [ 2.220e-16  1.832e-15  1.665e-15  1.110e-16]\n",
      "     nit: 318\n",
      "    nfev: 19145, result_bh.fun = 1.8399934758119838, result_bh.x = [-1.37487469e-08 -1.03543828e-08 -9.27878778e-01 -3.57881151e-09]\n"
     ]
    }
   ],
   "source": [
    "import numpy as np\n",
    "from scipy.optimize import differential_evolution, basinhopping\n",
    "\n",
    "# Define the Ackley function\n",
    "def function4(x, a=20, b=0.2, c=2*np.pi):\n",
    "    \"\"\"\n",
    "    Ackley function for optimization tests in 4 dimensions.\n",
    "    \n",
    "    Args:\n",
    "    - x: A list or array of 4 variables.\n",
    "    - a, b, c: The Ackley function parameters.\n",
    "    \n",
    "    Returns:\n",
    "    - The value of the Ackley function at the point x.\n",
    "    \"\"\"\n",
    "    d = 4  # Dimensionality is 4\n",
    "    sum_sq_term = -a * np.exp(-b * np.sqrt(sum(x_i ** 2 for x_i in x) / d))\n",
    "    cos_term = -np.exp(sum(np.cos(c * x_i) for x_i in x) / d)\n",
    "    return  (sum_sq_term + cos_term + a + np.exp(1))\n",
    "\n",
    "\n",
    "\n",
    "# Set the bounds for each dimension\n",
    "bounds = [(0, 1)] * 4  # assuming the variables are bounded between 0 and 1\n",
    "\n",
    "# Perform differential evolution\n",
    "result_de = differential_evolution(function4, bounds)\n",
    "\n",
    "# Perform basinhopping\n",
    "result_bh = basinhopping(function4, [0.5] * 4, niter=200)  # start at the middle of the bounds\n",
    "\n",
    "print(f\"result_de = {result_de}, result_bh.fun = {result_bh.fun}, result_bh.x = {result_bh.x}\")\n"
   ]
  },
  {
   "cell_type": "code",
   "execution_count": 66,
   "id": "bb7c029d",
   "metadata": {},
   "outputs": [
    {
     "name": "stdout",
     "output_type": "stream",
     "text": [
      "result_de =  message: Optimization terminated successfully.\n",
      " success: True\n",
      "     fun: 3.5744518772582414\n",
      "       x: [ 9.685e-01  9.685e-01  9.685e-01  9.685e-01]\n",
      "     nit: 2\n",
      "    nfev: 205\n",
      "     jac: [ 2.487e-06  1.421e-06  2.132e-06  4.263e-06], result_bh.fun = 1.8399934758119874, result_bh.x = [9.50957413e-09 6.62303838e-09 9.27878789e-01 9.17211386e-09]\n"
     ]
    }
   ],
   "source": [
    "best_point = [1, 1, 1, 1]\n",
    "exploitation_range = 0.05  # 5%\n",
    "\n",
    "bounds_exploitation = [(x - x * exploitation_range, x + x * exploitation_range) for x in best_point]\n",
    "\n",
    "# Perform differential evolution\n",
    "result_de = differential_evolution(function4, bounds_exploitation)\n",
    "\n",
    "# Perform basinhopping\n",
    "result_bh = basinhopping(function4, [0.5] * 4, niter=200)  # start at the middle of the bounds\n",
    "\n",
    "print(f\"result_de = {result_de}, result_bh.fun = {result_bh.fun}, result_bh.x = {result_bh.x}\")"
   ]
  },
  {
   "cell_type": "code",
   "execution_count": 68,
   "id": "cdbe219e",
   "metadata": {},
   "outputs": [
    {
     "name": "stdout",
     "output_type": "stream",
     "text": [
      "Function value for [0.999999, 0.999999, 0.999999, 0.999999]: -3.625381663570679\n",
      "Function value for [2.22e-16, 1.832e-15, 1.665e-15, 1.11e-16]: -3.9968028886505635e-15\n",
      "Function value for [0.9685, 0.9685, 0.9685, 0.9685]: -3.5744519018271856\n"
     ]
    }
   ],
   "source": [
    "# Sample inputs for the function\n",
    "x_samples = [\n",
    "    [0.999999, 0.999999, 0.999999, 0.999999],\n",
    "    [2.220e-16, 1.832e-15, 1.665e-15, 1.110e-16],\n",
    "    [9.685e-01, 9.685e-01, 9.685e-01, 9.685e-01]\n",
    "]\n",
    "\n",
    "\n",
    "# Loop over the sample inputs and call michalewicz_function for each\n",
    "for x in x_samples:\n",
    "    function_value = function4(x)\n",
    "    print(f'Function value for {x}:', - function_value)"
   ]
  },
  {
   "cell_type": "code",
   "execution_count": null,
   "id": "94875a90",
   "metadata": {},
   "outputs": [],
   "source": []
  },
  {
   "cell_type": "markdown",
   "id": "659dd87f",
   "metadata": {},
   "source": [
    "# Function 3"
   ]
  },
  {
   "cell_type": "code",
   "execution_count": 32,
   "id": "ef93bee4",
   "metadata": {},
   "outputs": [
    {
     "name": "stdout",
     "output_type": "stream",
     "text": [
      "result_de =  message: Optimization terminated successfully.\n",
      " success: True\n",
      "     fun: 1.4997597826618576e-32\n",
      "       x: [ 4.755e-01  1.000e+00  1.000e+00]\n",
      "     nit: 160\n",
      "    nfev: 7249, result_bh.fun = 1.0031516607857986e-16, result_bh.x = [-3.89318862  1.          0.99999996]\n"
     ]
    }
   ],
   "source": [
    "import numpy as np\n",
    "from scipy.optimize import differential_evolution, basinhopping\n",
    "\n",
    "#3D\n",
    "def function3(x):\n",
    "    # Only x2 and x3 are used, which are x[1] and x[2] in a 0-indexed Python list\n",
    "    w2 = 1 + (x[1] - 1) / 4\n",
    "    w3 = 1 + (x[2] - 1) / 4\n",
    "    \n",
    "    term1 = np.sin(np.pi * w2) ** 2\n",
    "    term2 = (w2 - 1) ** 2 * (1 + 10 * np.sin(np.pi * w2 + 1) ** 2)\n",
    "    term3 = (w3 - 1) ** 2 * (1 + np.sin(2 * np.pi * w3) ** 2)\n",
    "    \n",
    "    return term1 + term2 + term3\n",
    "\n",
    "\n",
    "\n",
    "# Set the bounds for each dimension\n",
    "bounds = [(0, 1)] * 3  # assuming the variables are bounded between 0 and 1\n",
    "\n",
    "# Perform differential evolution\n",
    "result_de = differential_evolution(function3, bounds)\n",
    "\n",
    "# Perform basinhopping\n",
    "result_bh = basinhopping(function3, [0.5] * 3, niter=200)  # start at the middle of the bounds\n",
    "\n",
    "print(f\"result_de = {result_de}, result_bh.fun = {result_bh.fun}, result_bh.x = {result_bh.x}\")\n",
    "\n",
    "\n"
   ]
  },
  {
   "cell_type": "code",
   "execution_count": 34,
   "id": "f235e2b4",
   "metadata": {
    "scrolled": true
   },
   "outputs": [
    {
     "name": "stdout",
     "output_type": "stream",
     "text": [
      "result_de =  message: Optimization terminated successfully.\n",
      " success: True\n",
      "     fun: 0.5896840494583209\n",
      "       x: [ 1.563e-01  1.521e-03  1.000e+00]\n",
      "     nit: 1\n",
      "    nfev: 102\n",
      "     jac: [ 0.000e+00 -7.627e-01  1.443e-06], result_bh.fun = 5.643134565490133e-16, result_bh.x = [-0.91389089  0.99999999  0.99999991]\n"
     ]
    }
   ],
   "source": [
    "best_point = [0.160101, 0.001449, 0.998173]\n",
    "exploitation_range = 0.05  # 5%\n",
    "\n",
    "bounds_exploitation = [(x - x * exploitation_range, x + x * exploitation_range) for x in best_point]\n",
    "\n",
    "# Perform differential evolution\n",
    "result_de = differential_evolution(function3, bounds_exploitation)\n",
    "\n",
    "# Perform basinhopping\n",
    "result_bh = basinhopping(function3, [0.5] * 3, niter=200)  # start at the middle of the bounds\n",
    "\n",
    "print(f\"result_de = {result_de}, result_bh.fun = {result_bh.fun}, result_bh.x = {result_bh.x}\")\n",
    "\n"
   ]
  },
  {
   "cell_type": "code",
   "execution_count": 37,
   "id": "6b75b652",
   "metadata": {},
   "outputs": [
    {
     "name": "stdout",
     "output_type": "stream",
     "text": [
      "Function value for [0.160101, 0.001449, 0.998173]: -0.5897395168301832\n",
      "Function value for [0.1563, 0.001521, 0.999999]: -0.5896843926711679\n"
     ]
    }
   ],
   "source": [
    "# Sample inputs for the function\n",
    "x_samples = [\n",
    "    [0.160101, 0.001449, 0.998173],\n",
    "    [1.563e-01, 1.521e-03, 0.999999]\n",
    "]\n",
    "\n",
    "\n",
    "# Loop over the sample inputs and call michalewicz_function for each\n",
    "for x in x_samples:\n",
    "    function_value = function3(x)\n",
    "    print(f'Function value for {x}:', - function_value)"
   ]
  },
  {
   "cell_type": "code",
   "execution_count": null,
   "id": "85a14a74",
   "metadata": {},
   "outputs": [],
   "source": []
  },
  {
   "cell_type": "markdown",
   "id": "a4efc35e",
   "metadata": {},
   "source": [
    "# Function 2"
   ]
  },
  {
   "cell_type": "code",
   "execution_count": 44,
   "id": "3eca1333",
   "metadata": {},
   "outputs": [
    {
     "name": "stdout",
     "output_type": "stream",
     "text": [
      "result_de =  message: Maximum number of iterations has been exceeded.\n",
      " success: False\n",
      "     fun: -1.61632641516579\n",
      "       x: [ 6.992e-01  5.020e-01]\n",
      "     nit: 1000\n",
      "    nfev: 30102, result_bh.fun = -0.7751648934045228, result_bh.x = [0.5 0.5]\n"
     ]
    }
   ],
   "source": [
    "import numpy as np\n",
    "from scipy.optimize import differential_evolution\n",
    "\n",
    "def function2(x):\n",
    "   \n",
    "    x1, x2 = x  # Unpack the single iterable argument\n",
    "    \n",
    "    x1 = x1 * np.pi\n",
    "    x2 = x2 * np.pi\n",
    "    \n",
    "    m = 10\n",
    "    \n",
    "    out1 = np.sin(x1) * (np.sin((x1**2) / np.pi))**(2 * m)\n",
    "    out2 = np.sin(x2) * (np.sin((2 * x2**2) / np.pi))**(2 * m)\n",
    "    noise = np.random.normal(0, 0.1)\n",
    "    return - (out1 + out2 + noise) * 0.75  # negative sign for maximization\n",
    "\n",
    "\n",
    "# Set the bounds for each dimension\n",
    "bounds = [(0, 1)] * 2  # assuming the variables are bounded between 0 and 1\n",
    "\n",
    "# Perform differential evolution\n",
    "result_de = differential_evolution(function2, bounds)\n",
    "\n",
    "# Perform basinhopping\n",
    "result_bh = basinhopping(function2, [0.5] * 2, niter=200)  # start at the middle of the bounds\n",
    "\n",
    "print(f\"result_de = {result_de}, result_bh.fun = {result_bh.fun}, result_bh.x = {result_bh.x}\")\n"
   ]
  },
  {
   "cell_type": "code",
   "execution_count": 45,
   "id": "4fb69086",
   "metadata": {},
   "outputs": [
    {
     "name": "stdout",
     "output_type": "stream",
     "text": [
      "result_de =  message: Maximum number of iterations has been exceeded.\n",
      " success: False\n",
      "     fun: -1.0375677714949216\n",
      "       x: [ 5.117e-01  5.043e-01]\n",
      "     nit: 1000\n",
      "    nfev: 30081, result_bh.fun = -0.7636438587155229, result_bh.x = [0.50000993 0.50000876]\n"
     ]
    }
   ],
   "source": [
    "best_point = [0.5, 0.5]\n",
    "exploitation_range = 0.05  # 5%\n",
    "\n",
    "bounds_exploitation = [(x - x * exploitation_range, x + x * exploitation_range) for x in best_point]\n",
    "\n",
    "# Perform differential evolution\n",
    "result_de = differential_evolution(function2, bounds_exploitation)\n",
    "\n",
    "# Perform basinhopping\n",
    "result_bh = basinhopping(function2, [0.5] * 2, niter=200)  # start at the middle of the bounds\n",
    "\n",
    "print(f\"result_de = {result_de}, result_bh.fun = {result_bh.fun}, result_bh.x = {result_bh.x}\")\n"
   ]
  },
  {
   "cell_type": "code",
   "execution_count": 46,
   "id": "a0dd2605",
   "metadata": {},
   "outputs": [
    {
     "name": "stdout",
     "output_type": "stream",
     "text": [
      "Function value for [0.5, 0.5]: -0.8134999555195324\n",
      "Function value for [0.70120661, 0.5]: -1.4159124751821288\n",
      "Function value for [0.70856593, 0.50295245]: -1.3194437919598965\n",
      "Function value for [0.70030882, 0.50029645]: -1.4601793253668778\n",
      "Function value for [0.70752778, 0.50555026]: -1.298235885709711\n",
      "Function value for [0.72, 0.51]: -1.2264920041814666\n",
      "Function value for [0.72, 0.724482]: -0.5144276240692711\n",
      "Function value for [0.72, 0.51]: -1.3840047986838344\n",
      "Function value for [0.70120661, 0.49999999]: -1.4541719829896385\n",
      "Function value for [0.69934552, 0.49910534]: -1.276553261187514\n",
      "Function value for [0.69937559, 0.4987711]: -1.260469860563463\n",
      "Function value for [0.69968659, 0.49869993]: -1.3756438001093594\n",
      "Function value for [0.69970324, 0.49888559]: -1.3345874556959165\n",
      "Function value for [0.25873889, 0.12258231]: 0.0720254485656969\n",
      "Function value for [0.970267, 0.51]: -0.7185410750330229\n",
      "Function value for [0.75, 0.09]: -0.32050422874104095\n",
      "Function value for [0.709, 0.49]: -1.3568554493072076\n",
      "Function value for [0.69263693, 0.4959378]: -1.360683343816967\n",
      "Function value for [0.5, 0.50005]: -0.8658406460514412\n",
      "Function value for [0.70120661, 0.50005]: -1.4784099094934477\n",
      "Function value for [0.70272663, 0.49696603]: -1.199068787105111\n",
      "Function value for [0.70061662, 0.49838217]: -1.3875170743091045\n",
      "Function value for [0.700162, 0.501762]: -1.3827555179929323\n"
     ]
    },
    {
     "data": {
      "text/plain": [
       "array([0.68096876, 0.47628145])"
      ]
     },
     "execution_count": 46,
     "metadata": {},
     "output_type": "execute_result"
    }
   ],
   "source": [
    "# Sample inputs for the function\n",
    "x_samples = [\n",
    "    [0.5       , 0.5       ],\n",
    "       [0.70120661, 0.5       ],\n",
    "       [0.70856593, 0.50295245],\n",
    "       [0.70030882, 0.50029645],\n",
    "       [0.70752778, 0.50555026],\n",
    "       [0.72      , 0.51      ],\n",
    "       [0.72      , 0.724482  ],\n",
    "       [0.72      , 0.51      ],\n",
    "       [0.70120661, 0.49999999],\n",
    "       [0.69934552, 0.49910534],\n",
    "       [0.69937559, 0.4987711 ],\n",
    "       [0.69968659, 0.49869993],\n",
    "       [0.69970324, 0.49888559],\n",
    "       [0.25873889, 0.12258231],\n",
    "       [0.970267  , 0.51      ],\n",
    "       [0.75      , 0.09      ],\n",
    "       [0.709     , 0.49      ],\n",
    "       [0.69263693, 0.4959378 ],\n",
    "       [0.5       , 0.50005   ],\n",
    "       [0.70120661, 0.50005   ],\n",
    "       [0.70272663, 0.49696603],\n",
    "       [0.70061662, 0.49838217],\n",
    "       [0.700162,0.501762]\n",
    "]\n",
    "\n",
    "\n",
    "\n",
    "# Loop over the sample inputs and call michalewicz_function for each\n",
    "for x in x_samples:\n",
    "    function_value = function2(x)\n",
    "    print(f'Function value for {x}:', function_value)\n",
    "    \n",
    "x_samples_array = np.array(x_samples)\n",
    "\n",
    "# Compute the average of each dimension\n",
    "dimension_averages = np.mean(x_samples_array, axis=0)\n",
    "dimension_averages"
   ]
  },
  {
   "cell_type": "code",
   "execution_count": null,
   "id": "8d86bb71",
   "metadata": {},
   "outputs": [],
   "source": []
  },
  {
   "cell_type": "markdown",
   "id": "44802e31",
   "metadata": {},
   "source": [
    "# Function 1"
   ]
  },
  {
   "cell_type": "code",
   "execution_count": 57,
   "id": "4028ecae",
   "metadata": {},
   "outputs": [
    {
     "name": "stdout",
     "output_type": "stream",
     "text": [
      "result_de =  message: Optimization terminated successfully.\n",
      " success: True\n",
      "     fun: 0.0026752879910742432\n",
      "       x: [ 0.000e+00  0.000e+00]\n",
      "     nit: 24\n",
      "    nfev: 756\n",
      "     jac: [ 1.681e-02  1.681e-02], result_bh.fun = -4.2064446675743855e-08, result_bh.x = [-1.6247151   1.01524699]\n"
     ]
    }
   ],
   "source": [
    "import numpy as np\n",
    "from scipy.optimize import differential_evolution, basinhopping\n",
    "\n",
    "#2D\n",
    "def function1(x):\n",
    "    \"\"\"\n",
    "    Easom function for optimization tests in 2 dimensions.\n",
    "    \n",
    "    Args:\n",
    "    - x: A list or array of 2 variables.\n",
    "    \n",
    "    Returns:\n",
    "    - The value of the Easom function at the point x.\n",
    "    \"\"\"\n",
    "    x1, x2 = x\n",
    "    return -np.cos(x1) * np.cos(x2) * np.exp(-(x1 - np.pi)**2 - (x2 - np.pi)**2)*(-1000000)\n",
    "\n",
    "\n",
    "\n",
    "# Set the bounds for each dimension\n",
    "bounds = [(0, 1)] * 2  # assuming the variables are bounded between 0 and 1\n",
    "\n",
    "# Perform differential evolution\n",
    "result_de = differential_evolution(function1, bounds)\n",
    "\n",
    "# Perform basinhopping\n",
    "result_bh = basinhopping(function1, [0.5] * 2, niter=200)  # start at the middle of the bounds\n",
    "\n",
    "print(f\"result_de = {result_de}, result_bh.fun = {result_bh.fun}, result_bh.x = {result_bh.x}\")\n",
    "\n"
   ]
  },
  {
   "cell_type": "code",
   "execution_count": 58,
   "id": "785b1462",
   "metadata": {},
   "outputs": [
    {
     "name": "stdout",
     "output_type": "stream",
     "text": [
      "result_de =  message: Optimization terminated successfully.\n",
      " success: True\n",
      "     fun: 1.62704386780575\n",
      "       x: [ 5.971e-01  5.971e-01]\n",
      "     nit: 14\n",
      "    nfev: 456\n",
      "     jac: [ 7.174e+00  7.174e+00], result_bh.fun = -9.02243776026091e-10, result_bh.x = [ 0.47821747 -2.01427697]\n"
     ]
    }
   ],
   "source": [
    "\n",
    "best_point = [0.62854, 0.62854]\n",
    "exploitation_range = 0.05  # 5%\n",
    "\n",
    "bounds_exploitation = [(x - x * exploitation_range, x + x * exploitation_range) for x in best_point]\n",
    "\n",
    "# Perform differential evolution\n",
    "result_de = differential_evolution(function1, bounds_exploitation)\n",
    "\n",
    "# Perform basinhopping\n",
    "result_bh = basinhopping(function1, [0.5] * 2, niter=200)  # start at the middle of the bounds\n",
    "\n",
    "print(f\"result_de = {result_de}, result_bh.fun = {result_bh.fun}, result_bh.x = {result_bh.x}\")\n",
    "\n"
   ]
  },
  {
   "cell_type": "code",
   "execution_count": 60,
   "id": "0c77335b",
   "metadata": {},
   "outputs": [
    {
     "name": "stdout",
     "output_type": "stream",
     "text": [
      "Function value for [0.62854, 0.62854]: 2.1392401136209394\n",
      "Function value for [0.5, 0.5]: 0.6691939049188014\n",
      "Function value for [0.5971, 0.5971]: 1.626857360780848\n"
     ]
    }
   ],
   "source": [
    "\n",
    "# Sample inputs for the function\n",
    "x_samples = [\n",
    "    [0.62854, 0.62854],\n",
    "    [0.5, 0.5],\n",
    "    [5.971e-01, 5.971e-01]\n",
    "]\n",
    "\n",
    "\n",
    "# Loop over the sample inputs and call michalewicz_function for each\n",
    "for x in x_samples:\n",
    "    function_value = function1(x)\n",
    "    print(f'Function value for {x}:', function_value)"
   ]
  },
  {
   "cell_type": "code",
   "execution_count": null,
   "id": "77b174c4",
   "metadata": {},
   "outputs": [],
   "source": []
  },
  {
   "cell_type": "code",
   "execution_count": null,
   "id": "d7fd1cd0",
   "metadata": {},
   "outputs": [],
   "source": []
  },
  {
   "cell_type": "code",
   "execution_count": null,
   "id": "06e8fdcd",
   "metadata": {},
   "outputs": [],
   "source": []
  },
  {
   "cell_type": "code",
   "execution_count": null,
   "id": "c4f21033",
   "metadata": {},
   "outputs": [],
   "source": []
  }
 ],
 "metadata": {
  "kernelspec": {
   "display_name": "Python 3 (ipykernel)",
   "language": "python",
   "name": "python3"
  },
  "language_info": {
   "codemirror_mode": {
    "name": "ipython",
    "version": 3
   },
   "file_extension": ".py",
   "mimetype": "text/x-python",
   "name": "python",
   "nbconvert_exporter": "python",
   "pygments_lexer": "ipython3",
   "version": "3.11.5"
  }
 },
 "nbformat": 4,
 "nbformat_minor": 5
}
