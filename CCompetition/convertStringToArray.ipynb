{
 "cells": [
  {
   "cell_type": "code",
   "execution_count": 2,
   "id": "7fb57acd",
   "metadata": {},
   "outputs": [],
   "source": [
    "import numpy as np\n",
    "import pandas as pd\n",
    "from io import StringIO"
   ]
  },
  {
   "cell_type": "code",
   "execution_count": 4,
   "id": "28609850",
   "metadata": {},
   "outputs": [
    {
     "data": {
      "text/plain": [
       "array([[0.999999, 0.999031, 0.003125, 0.      , 0.992245]])"
      ]
     },
     "execution_count": 4,
     "metadata": {},
     "output_type": "execute_result"
    }
   ],
   "source": [
    "# Simulate the data provided by the user as a string, which would usually come from a file or other source.\n",
    "data_2 = \"\"\"\n",
    "0.999999000000\t0.999031000000\t0.003125000000\t0.000000000000\t0.992245000000\n",
    "\"\"\"\n",
    "\n",
    "# Use StringIO to simulate a file object for pandas to read from.\n",
    "data_io_2 = StringIO(data_2.strip())\n",
    "\n",
    "# Use pandas to read the table into a DataFrame, assuming whitespace separator, and no header row.\n",
    "df_2 = pd.read_csv(data_io_2, sep='\\s+', header=None)\n",
    "\n",
    "# Convert the DataFrame to a numpy array.\n",
    "array_2 = df_2.values\n",
    "array_2"
   ]
  },
  {
   "cell_type": "code",
   "execution_count": null,
   "id": "bfc404ef",
   "metadata": {},
   "outputs": [],
   "source": []
  }
 ],
 "metadata": {
  "kernelspec": {
   "display_name": "Python 3 (ipykernel)",
   "language": "python",
   "name": "python3"
  },
  "language_info": {
   "codemirror_mode": {
    "name": "ipython",
    "version": 3
   },
   "file_extension": ".py",
   "mimetype": "text/x-python",
   "name": "python",
   "nbconvert_exporter": "python",
   "pygments_lexer": "ipython3",
   "version": "3.10.9"
  }
 },
 "nbformat": 4,
 "nbformat_minor": 5
}
