{
 "cells": [
  {
   "cell_type": "code",
   "execution_count": 1,
   "id": "7fb57acd",
   "metadata": {},
   "outputs": [],
   "source": [
    "import numpy as np\n",
    "import pandas as pd\n",
    "from io import StringIO"
   ]
  },
  {
   "cell_type": "code",
   "execution_count": 5,
   "id": "28609850",
   "metadata": {},
   "outputs": [
    {
     "data": {
      "text/plain": [
       "array([[0.5     , 0.5     ],\n",
       "       [0.701207, 0.5     ],\n",
       "       [0.705802, 0.682017],\n",
       "       [0.715917, 0.618141],\n",
       "       [0.692253, 0.615796],\n",
       "       [0.711368, 0.505024]])"
      ]
     },
     "execution_count": 5,
     "metadata": {},
     "output_type": "execute_result"
    }
   ],
   "source": [
    "# Simulate the data provided by the user as a string, which would usually come from a file or other source.\n",
    "data_2 = \"\"\"\n",
    "0.500000\t0.500000\n",
    "0.500000\t0.500000\n",
    "0.701207\t0.500000\n",
    "0.705802\t0.682017\n",
    "0.715917\t0.618141\n",
    "0.692253\t0.615796\n",
    "0.711368\t0.505024\n",
    "\"\"\"\n",
    "\n",
    "# Use StringIO to simulate a file object for pandas to read from.\n",
    "data_io_2 = StringIO(data_2)\n",
    "\n",
    "# Use pandas to read the table into a DataFrame, assuming whitespace separator.\n",
    "df_2 = pd.read_csv(data_io_2, sep='\\s+')\n",
    "\n",
    "# Convert the DataFrame to a numpy array.\n",
    "array_2 = df_2.values\n",
    "array_2\n"
   ]
  },
  {
   "cell_type": "code",
   "execution_count": null,
   "id": "bfc404ef",
   "metadata": {},
   "outputs": [],
   "source": []
  }
 ],
 "metadata": {
  "kernelspec": {
   "display_name": "Python 3 (ipykernel)",
   "language": "python",
   "name": "python3"
  },
  "language_info": {
   "codemirror_mode": {
    "name": "ipython",
    "version": 3
   },
   "file_extension": ".py",
   "mimetype": "text/x-python",
   "name": "python",
   "nbconvert_exporter": "python",
   "pygments_lexer": "ipython3",
   "version": "3.11.5"
  }
 },
 "nbformat": 4,
 "nbformat_minor": 5
}
