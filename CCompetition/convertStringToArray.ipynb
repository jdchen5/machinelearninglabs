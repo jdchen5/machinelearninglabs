{
 "cells": [
  {
   "cell_type": "code",
   "execution_count": 2,
   "id": "7fb57acd",
   "metadata": {},
   "outputs": [],
   "source": [
    "import numpy as np\n",
    "import pandas as pd\n",
    "from io import StringIO"
   ]
  },
  {
   "cell_type": "code",
   "execution_count": 4,
   "id": "28609850",
   "metadata": {},
   "outputs": [
    {
     "data": {
      "text/plain": [
       "array([[3.79322e-01, 4.41917e-01, 6.77601e-01, 7.90776e-01, 1.49822e-01],\n",
       "       [3.79322e-01, 4.41917e-01, 6.77601e-01, 7.90776e-01, 1.49822e-01],\n",
       "       [8.68037e-01, 8.37135e-01, 1.93483e-01, 1.71492e-01, 8.20653e-01],\n",
       "       [8.68037e-01, 8.37135e-01, 1.93483e-01, 1.71492e-01, 8.20653e-01],\n",
       "       [8.68037e-01, 8.37135e-01, 1.93483e-01, 1.71492e-01, 8.20653e-01],\n",
       "       [3.32297e-01, 4.04393e-01, 8.20234e-01, 9.68188e-01, 7.81000e-04],\n",
       "       [3.55274e-01, 4.27779e-01, 7.37276e-01, 9.42273e-01, 1.61800e-03],\n",
       "       [3.55274e-01, 4.27779e-01, 7.37276e-01, 9.42273e-01, 1.61800e-03],\n",
       "       [5.00495e-01, 2.73099e-01, 9.62102e-01, 6.05763e-01, 7.96991e-01],\n",
       "       [9.99999e-01, 9.99999e-01, 1.00000e-06, 1.00000e-06, 9.37500e-01],\n",
       "       [4.21612e-01, 6.16557e-01, 5.30423e-01, 8.91975e-01, 1.63533e-01]])"
      ]
     },
     "execution_count": 4,
     "metadata": {},
     "output_type": "execute_result"
    }
   ],
   "source": [
    "# Simulate the data provided by the user as a string, which would usually come from a file or other source.\n",
    "data_2 = \"\"\"0.382913\t0.451287\t0.702037\t0.768396\t0.184755\n",
    "0.379322\t0.441917\t0.677601\t0.790776\t0.149822\n",
    "0.379322\t0.441917\t0.677601\t0.790776\t0.149822\n",
    "0.868037\t0.837135\t0.193483\t0.171492\t0.820653\n",
    "0.868037\t0.837135\t0.193483\t0.171492\t0.820653\n",
    "0.868037\t0.837135\t0.193483\t0.171492\t0.820653\n",
    "0.332297\t0.404393\t0.820234\t0.968188\t0.000781\n",
    "0.355274\t0.427779\t0.737276\t0.942273\t0.001618\n",
    "0.355274\t0.427779\t0.737276\t0.942273\t0.001618\n",
    "0.500495\t0.273099\t0.962102\t0.605763\t0.796991\n",
    "0.999999\t0.999999\t0.000001\t0.000001\t0.9375\n",
    "0.421612\t0.616557\t0.530423\t0.891975\t0.163533\n",
    "\"\"\"\n",
    "\n",
    "# Use StringIO to simulate a file object for pandas to read from.\n",
    "data_io_2 = StringIO(data_2)\n",
    "\n",
    "# Use pandas to read the table into a DataFrame, assuming whitespace separator.\n",
    "df_2 = pd.read_csv(data_io_2, sep='\\s+')\n",
    "\n",
    "# Convert the DataFrame to a numpy array.\n",
    "array_2 = df_2.values\n",
    "array_2\n"
   ]
  },
  {
   "cell_type": "code",
   "execution_count": null,
   "id": "bfc404ef",
   "metadata": {},
   "outputs": [],
   "source": []
  }
 ],
 "metadata": {
  "kernelspec": {
   "display_name": "Python 3 (ipykernel)",
   "language": "python",
   "name": "python3"
  },
  "language_info": {
   "codemirror_mode": {
    "name": "ipython",
    "version": 3
   },
   "file_extension": ".py",
   "mimetype": "text/x-python",
   "name": "python",
   "nbconvert_exporter": "python",
   "pygments_lexer": "ipython3",
   "version": "3.11.5"
  }
 },
 "nbformat": 4,
 "nbformat_minor": 5
}
