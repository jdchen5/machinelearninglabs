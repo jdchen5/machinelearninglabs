{
 "cells": [
  {
   "cell_type": "code",
   "execution_count": 1,
   "id": "a797b870",
   "metadata": {},
   "outputs": [],
   "source": [
    "import numpy as np\n",
    "import pandas as pd\n",
    "from sklearn import tree, ensemble\n",
    "import matplotlib.pyplot as plt\n",
    "from sklearn.datasets import load_wine\n",
    "from sklearn.inspection import permutation_importance"
   ]
  },
  {
   "cell_type": "markdown",
   "id": "6c214882",
   "metadata": {},
   "source": [
    "# Tree Ensembles "
   ]
  },
  {
   "cell_type": "markdown",
   "id": "09bcefa0",
   "metadata": {},
   "source": [
    "## Assignment overview \n",
    "\n",
    "In this assignment you will build two types of tree ensemble models: Random Forest and Boosted. You will then investigate two methods for feature selection. \n",
    "\n",
    "###### Outline:\n",
    "\n",
    "\n",
    "- [Part 1](#part1)- Importing the data set and formatting it \n",
    "- [Part 2](#part2)- Fitting a single decision tree\n",
    "- [Part 3](#part3)- Using a Random Forest Classifier\n",
    "- [Part 4](#part4)- Using the AdaBoost Classifier\n",
    "- [Part 5](#part5)- Choosing the best classifier and retraining using all the samples, testing on the test set\n",
    "- [Part 6](#part6)- Feature selection\n"
   ]
  },
  {
   "cell_type": "markdown",
   "id": "e296396e",
   "metadata": {},
   "source": [
    "[Back to top](#Index:) \n",
    "\n",
    "<a id='part1'></a>\n",
    "\n",
    "### Part 1 - Importing the data set\n",
    "\n",
    "For this excercise we will be using a data set from the University of Medicine and Pharmacy of Craiova, Romania to predict the hospitalisation period of patients after colon cancer operations based on socio-economic variables and clinical information. You can read more about the data and it's origins [here](https://figshare.com/articles/dataset/LOS_Colon_Cancer_621_cases/4747246/1). "
   ]
  },
  {
   "cell_type": "markdown",
   "id": "35151b8a",
   "metadata": {},
   "source": [
    "The data is stored in xlsx format again in the `colon_data.xlsx` file. Use the `read_excel()` function to load it."
   ]
  },
  {
   "cell_type": "code",
   "execution_count": 2,
   "id": "740ef9b0",
   "metadata": {},
   "outputs": [
    {
     "data": {
      "text/plain": [
       "298"
      ]
     },
     "execution_count": 2,
     "metadata": {},
     "output_type": "execute_result"
    }
   ],
   "source": [
    "df = pd.read_excel(\"data\\colon_data.xlsx\")\n",
    "len(df)"
   ]
  },
  {
   "cell_type": "markdown",
   "id": "5701b326",
   "metadata": {},
   "source": [
    "Use the `.head()` function to visulise the data."
   ]
  },
  {
   "cell_type": "code",
   "execution_count": 3,
   "id": "510a42a8",
   "metadata": {
    "scrolled": true
   },
   "outputs": [
    {
     "data": {
      "text/html": [
       "<div>\n",
       "<style scoped>\n",
       "    .dataframe tbody tr th:only-of-type {\n",
       "        vertical-align: middle;\n",
       "    }\n",
       "\n",
       "    .dataframe tbody tr th {\n",
       "        vertical-align: top;\n",
       "    }\n",
       "\n",
       "    .dataframe thead th {\n",
       "        text-align: right;\n",
       "    }\n",
       "</style>\n",
       "<table border=\"1\" class=\"dataframe\">\n",
       "  <thead>\n",
       "    <tr style=\"text-align: right;\">\n",
       "      <th></th>\n",
       "      <th>AGE</th>\n",
       "      <th>SEX</th>\n",
       "      <th>TOPOGRAPHY</th>\n",
       "      <th>STAGE</th>\n",
       "      <th>T</th>\n",
       "      <th>N</th>\n",
       "      <th>M</th>\n",
       "      <th>SURGERY</th>\n",
       "      <th>CLASS</th>\n",
       "    </tr>\n",
       "  </thead>\n",
       "  <tbody>\n",
       "    <tr>\n",
       "      <th>0</th>\n",
       "      <td>64</td>\n",
       "      <td>M</td>\n",
       "      <td>rect</td>\n",
       "      <td>three</td>\n",
       "      <td>T4</td>\n",
       "      <td>Nx</td>\n",
       "      <td>Mx</td>\n",
       "      <td>ten</td>\n",
       "      <td>medium</td>\n",
       "    </tr>\n",
       "    <tr>\n",
       "      <th>1</th>\n",
       "      <td>70</td>\n",
       "      <td>M</td>\n",
       "      <td>rect</td>\n",
       "      <td>three</td>\n",
       "      <td>T4</td>\n",
       "      <td>Nx</td>\n",
       "      <td>Mx</td>\n",
       "      <td>ten</td>\n",
       "      <td>medium</td>\n",
       "    </tr>\n",
       "    <tr>\n",
       "      <th>2</th>\n",
       "      <td>76</td>\n",
       "      <td>F</td>\n",
       "      <td>cec</td>\n",
       "      <td>three</td>\n",
       "      <td>T3</td>\n",
       "      <td>Nx</td>\n",
       "      <td>Mx</td>\n",
       "      <td>three</td>\n",
       "      <td>medium</td>\n",
       "    </tr>\n",
       "    <tr>\n",
       "      <th>3</th>\n",
       "      <td>62</td>\n",
       "      <td>M</td>\n",
       "      <td>cec</td>\n",
       "      <td>three</td>\n",
       "      <td>T2</td>\n",
       "      <td>Nx</td>\n",
       "      <td>Mx</td>\n",
       "      <td>three</td>\n",
       "      <td>short</td>\n",
       "    </tr>\n",
       "    <tr>\n",
       "      <th>4</th>\n",
       "      <td>62</td>\n",
       "      <td>M</td>\n",
       "      <td>cec</td>\n",
       "      <td>two</td>\n",
       "      <td>T2</td>\n",
       "      <td>Nx</td>\n",
       "      <td>Mx</td>\n",
       "      <td>three</td>\n",
       "      <td>short</td>\n",
       "    </tr>\n",
       "  </tbody>\n",
       "</table>\n",
       "</div>"
      ],
      "text/plain": [
       "   AGE SEX TOPOGRAPHY  STAGE   T   N   M SURGERY   CLASS\n",
       "0   64   M       rect  three  T4  Nx  Mx     ten  medium\n",
       "1   70   M       rect  three  T4  Nx  Mx     ten  medium\n",
       "2   76   F        cec  three  T3  Nx  Mx   three  medium\n",
       "3   62   M        cec  three  T2  Nx  Mx   three   short\n",
       "4   62   M        cec    two  T2  Nx  Mx   three   short"
      ]
     },
     "execution_count": 3,
     "metadata": {},
     "output_type": "execute_result"
    }
   ],
   "source": [
    "df.head()"
   ]
  },
  {
   "cell_type": "markdown",
   "id": "192a6f15",
   "metadata": {},
   "source": [
    "First we want to replace the categorical values of the output (the `CLASS` variable) with numerical values. Fill in the gaps below to use the `.replace()` function to do this."
   ]
  },
  {
   "cell_type": "code",
   "execution_count": 4,
   "id": "533d3eb2",
   "metadata": {},
   "outputs": [
    {
     "data": {
      "text/plain": [
       "array(['medium', 'short', 'long'], dtype=object)"
      ]
     },
     "execution_count": 4,
     "metadata": {},
     "output_type": "execute_result"
    }
   ],
   "source": [
    "df.CLASS.unique() "
   ]
  },
  {
   "cell_type": "code",
   "execution_count": 5,
   "id": "67a236a9",
   "metadata": {},
   "outputs": [],
   "source": [
    "df['CLASS'].replace(to_replace=['short','medium','long'] , value=[0,1,2] , inplace=True) "
   ]
  },
  {
   "cell_type": "code",
   "execution_count": 6,
   "id": "8b145a5e",
   "metadata": {},
   "outputs": [
    {
     "data": {
      "text/html": [
       "<div>\n",
       "<style scoped>\n",
       "    .dataframe tbody tr th:only-of-type {\n",
       "        vertical-align: middle;\n",
       "    }\n",
       "\n",
       "    .dataframe tbody tr th {\n",
       "        vertical-align: top;\n",
       "    }\n",
       "\n",
       "    .dataframe thead th {\n",
       "        text-align: right;\n",
       "    }\n",
       "</style>\n",
       "<table border=\"1\" class=\"dataframe\">\n",
       "  <thead>\n",
       "    <tr style=\"text-align: right;\">\n",
       "      <th></th>\n",
       "      <th>AGE</th>\n",
       "      <th>SEX</th>\n",
       "      <th>TOPOGRAPHY</th>\n",
       "      <th>STAGE</th>\n",
       "      <th>T</th>\n",
       "      <th>N</th>\n",
       "      <th>M</th>\n",
       "      <th>SURGERY</th>\n",
       "      <th>CLASS</th>\n",
       "    </tr>\n",
       "  </thead>\n",
       "  <tbody>\n",
       "    <tr>\n",
       "      <th>0</th>\n",
       "      <td>64</td>\n",
       "      <td>M</td>\n",
       "      <td>rect</td>\n",
       "      <td>three</td>\n",
       "      <td>T4</td>\n",
       "      <td>Nx</td>\n",
       "      <td>Mx</td>\n",
       "      <td>ten</td>\n",
       "      <td>1</td>\n",
       "    </tr>\n",
       "    <tr>\n",
       "      <th>1</th>\n",
       "      <td>70</td>\n",
       "      <td>M</td>\n",
       "      <td>rect</td>\n",
       "      <td>three</td>\n",
       "      <td>T4</td>\n",
       "      <td>Nx</td>\n",
       "      <td>Mx</td>\n",
       "      <td>ten</td>\n",
       "      <td>1</td>\n",
       "    </tr>\n",
       "    <tr>\n",
       "      <th>2</th>\n",
       "      <td>76</td>\n",
       "      <td>F</td>\n",
       "      <td>cec</td>\n",
       "      <td>three</td>\n",
       "      <td>T3</td>\n",
       "      <td>Nx</td>\n",
       "      <td>Mx</td>\n",
       "      <td>three</td>\n",
       "      <td>1</td>\n",
       "    </tr>\n",
       "    <tr>\n",
       "      <th>3</th>\n",
       "      <td>62</td>\n",
       "      <td>M</td>\n",
       "      <td>cec</td>\n",
       "      <td>three</td>\n",
       "      <td>T2</td>\n",
       "      <td>Nx</td>\n",
       "      <td>Mx</td>\n",
       "      <td>three</td>\n",
       "      <td>0</td>\n",
       "    </tr>\n",
       "    <tr>\n",
       "      <th>4</th>\n",
       "      <td>62</td>\n",
       "      <td>M</td>\n",
       "      <td>cec</td>\n",
       "      <td>two</td>\n",
       "      <td>T2</td>\n",
       "      <td>Nx</td>\n",
       "      <td>Mx</td>\n",
       "      <td>three</td>\n",
       "      <td>0</td>\n",
       "    </tr>\n",
       "  </tbody>\n",
       "</table>\n",
       "</div>"
      ],
      "text/plain": [
       "   AGE SEX TOPOGRAPHY  STAGE   T   N   M SURGERY  CLASS\n",
       "0   64   M       rect  three  T4  Nx  Mx     ten      1\n",
       "1   70   M       rect  three  T4  Nx  Mx     ten      1\n",
       "2   76   F        cec  three  T3  Nx  Mx   three      1\n",
       "3   62   M        cec  three  T2  Nx  Mx   three      0\n",
       "4   62   M        cec    two  T2  Nx  Mx   three      0"
      ]
     },
     "execution_count": 6,
     "metadata": {},
     "output_type": "execute_result"
    }
   ],
   "source": [
    "df.head()"
   ]
  },
  {
   "cell_type": "markdown",
   "id": "0104c15e",
   "metadata": {},
   "source": [
    "Now use the `get_dummies()` function to transform the other categorical variables to numerical ones. "
   ]
  },
  {
   "cell_type": "code",
   "execution_count": 7,
   "id": "dec8a21d",
   "metadata": {
    "scrolled": true
   },
   "outputs": [],
   "source": [
    "df = pd.get_dummies(df)"
   ]
  },
  {
   "cell_type": "code",
   "execution_count": 8,
   "id": "246c5d73",
   "metadata": {},
   "outputs": [
    {
     "data": {
      "text/html": [
       "<div>\n",
       "<style scoped>\n",
       "    .dataframe tbody tr th:only-of-type {\n",
       "        vertical-align: middle;\n",
       "    }\n",
       "\n",
       "    .dataframe tbody tr th {\n",
       "        vertical-align: top;\n",
       "    }\n",
       "\n",
       "    .dataframe thead th {\n",
       "        text-align: right;\n",
       "    }\n",
       "</style>\n",
       "<table border=\"1\" class=\"dataframe\">\n",
       "  <thead>\n",
       "    <tr style=\"text-align: right;\">\n",
       "      <th></th>\n",
       "      <th>AGE</th>\n",
       "      <th>CLASS</th>\n",
       "      <th>SEX_F</th>\n",
       "      <th>SEX_M</th>\n",
       "      <th>TOPOGRAPHY_cec</th>\n",
       "      <th>TOPOGRAPHY_colon_asc</th>\n",
       "      <th>TOPOGRAPHY_colon_desc</th>\n",
       "      <th>TOPOGRAPHY_colon_sigm</th>\n",
       "      <th>TOPOGRAPHY_colon_trans</th>\n",
       "      <th>TOPOGRAPHY_jonc_rect_sigm</th>\n",
       "      <th>...</th>\n",
       "      <th>N_N1</th>\n",
       "      <th>N_N2</th>\n",
       "      <th>N_Nx</th>\n",
       "      <th>M_M0</th>\n",
       "      <th>M_M1</th>\n",
       "      <th>M_M1_hep</th>\n",
       "      <th>M_Mx</th>\n",
       "      <th>SURGERY_ten</th>\n",
       "      <th>SURGERY_three</th>\n",
       "      <th>SURGERY_two</th>\n",
       "    </tr>\n",
       "  </thead>\n",
       "  <tbody>\n",
       "    <tr>\n",
       "      <th>0</th>\n",
       "      <td>64</td>\n",
       "      <td>1</td>\n",
       "      <td>0</td>\n",
       "      <td>1</td>\n",
       "      <td>0</td>\n",
       "      <td>0</td>\n",
       "      <td>0</td>\n",
       "      <td>0</td>\n",
       "      <td>0</td>\n",
       "      <td>0</td>\n",
       "      <td>...</td>\n",
       "      <td>0</td>\n",
       "      <td>0</td>\n",
       "      <td>1</td>\n",
       "      <td>0</td>\n",
       "      <td>0</td>\n",
       "      <td>0</td>\n",
       "      <td>1</td>\n",
       "      <td>1</td>\n",
       "      <td>0</td>\n",
       "      <td>0</td>\n",
       "    </tr>\n",
       "    <tr>\n",
       "      <th>1</th>\n",
       "      <td>70</td>\n",
       "      <td>1</td>\n",
       "      <td>0</td>\n",
       "      <td>1</td>\n",
       "      <td>0</td>\n",
       "      <td>0</td>\n",
       "      <td>0</td>\n",
       "      <td>0</td>\n",
       "      <td>0</td>\n",
       "      <td>0</td>\n",
       "      <td>...</td>\n",
       "      <td>0</td>\n",
       "      <td>0</td>\n",
       "      <td>1</td>\n",
       "      <td>0</td>\n",
       "      <td>0</td>\n",
       "      <td>0</td>\n",
       "      <td>1</td>\n",
       "      <td>1</td>\n",
       "      <td>0</td>\n",
       "      <td>0</td>\n",
       "    </tr>\n",
       "    <tr>\n",
       "      <th>2</th>\n",
       "      <td>76</td>\n",
       "      <td>1</td>\n",
       "      <td>1</td>\n",
       "      <td>0</td>\n",
       "      <td>1</td>\n",
       "      <td>0</td>\n",
       "      <td>0</td>\n",
       "      <td>0</td>\n",
       "      <td>0</td>\n",
       "      <td>0</td>\n",
       "      <td>...</td>\n",
       "      <td>0</td>\n",
       "      <td>0</td>\n",
       "      <td>1</td>\n",
       "      <td>0</td>\n",
       "      <td>0</td>\n",
       "      <td>0</td>\n",
       "      <td>1</td>\n",
       "      <td>0</td>\n",
       "      <td>1</td>\n",
       "      <td>0</td>\n",
       "    </tr>\n",
       "    <tr>\n",
       "      <th>3</th>\n",
       "      <td>62</td>\n",
       "      <td>0</td>\n",
       "      <td>0</td>\n",
       "      <td>1</td>\n",
       "      <td>1</td>\n",
       "      <td>0</td>\n",
       "      <td>0</td>\n",
       "      <td>0</td>\n",
       "      <td>0</td>\n",
       "      <td>0</td>\n",
       "      <td>...</td>\n",
       "      <td>0</td>\n",
       "      <td>0</td>\n",
       "      <td>1</td>\n",
       "      <td>0</td>\n",
       "      <td>0</td>\n",
       "      <td>0</td>\n",
       "      <td>1</td>\n",
       "      <td>0</td>\n",
       "      <td>1</td>\n",
       "      <td>0</td>\n",
       "    </tr>\n",
       "    <tr>\n",
       "      <th>4</th>\n",
       "      <td>62</td>\n",
       "      <td>0</td>\n",
       "      <td>0</td>\n",
       "      <td>1</td>\n",
       "      <td>1</td>\n",
       "      <td>0</td>\n",
       "      <td>0</td>\n",
       "      <td>0</td>\n",
       "      <td>0</td>\n",
       "      <td>0</td>\n",
       "      <td>...</td>\n",
       "      <td>0</td>\n",
       "      <td>0</td>\n",
       "      <td>1</td>\n",
       "      <td>0</td>\n",
       "      <td>0</td>\n",
       "      <td>0</td>\n",
       "      <td>1</td>\n",
       "      <td>0</td>\n",
       "      <td>1</td>\n",
       "      <td>0</td>\n",
       "    </tr>\n",
       "  </tbody>\n",
       "</table>\n",
       "<p>5 rows × 31 columns</p>\n",
       "</div>"
      ],
      "text/plain": [
       "   AGE  CLASS  SEX_F  SEX_M  TOPOGRAPHY_cec  TOPOGRAPHY_colon_asc  \\\n",
       "0   64      1      0      1               0                     0   \n",
       "1   70      1      0      1               0                     0   \n",
       "2   76      1      1      0               1                     0   \n",
       "3   62      0      0      1               1                     0   \n",
       "4   62      0      0      1               1                     0   \n",
       "\n",
       "   TOPOGRAPHY_colon_desc  TOPOGRAPHY_colon_sigm  TOPOGRAPHY_colon_trans  \\\n",
       "0                      0                      0                       0   \n",
       "1                      0                      0                       0   \n",
       "2                      0                      0                       0   \n",
       "3                      0                      0                       0   \n",
       "4                      0                      0                       0   \n",
       "\n",
       "   TOPOGRAPHY_jonc_rect_sigm  ...  N_N1  N_N2  N_Nx  M_M0  M_M1  M_M1_hep  \\\n",
       "0                          0  ...     0     0     1     0     0         0   \n",
       "1                          0  ...     0     0     1     0     0         0   \n",
       "2                          0  ...     0     0     1     0     0         0   \n",
       "3                          0  ...     0     0     1     0     0         0   \n",
       "4                          0  ...     0     0     1     0     0         0   \n",
       "\n",
       "   M_Mx  SURGERY_ten  SURGERY_three  SURGERY_two  \n",
       "0     1            1              0            0  \n",
       "1     1            1              0            0  \n",
       "2     1            0              1            0  \n",
       "3     1            0              1            0  \n",
       "4     1            0              1            0  \n",
       "\n",
       "[5 rows x 31 columns]"
      ]
     },
     "execution_count": 8,
     "metadata": {},
     "output_type": "execute_result"
    }
   ],
   "source": [
    "df.head()"
   ]
  },
  {
   "cell_type": "markdown",
   "id": "8c3205e5",
   "metadata": {},
   "source": [
    "The following cell is just to ensure the 'CLASS' variable is the last column."
   ]
  },
  {
   "cell_type": "code",
   "execution_count": 9,
   "id": "acaf2457",
   "metadata": {},
   "outputs": [],
   "source": [
    "columns = df.columns.to_list()\n",
    "columns.remove('CLASS')\n",
    "df = df[columns + ['CLASS']]"
   ]
  },
  {
   "cell_type": "code",
   "execution_count": 10,
   "id": "8998efb2",
   "metadata": {},
   "outputs": [
    {
     "data": {
      "text/html": [
       "<div>\n",
       "<style scoped>\n",
       "    .dataframe tbody tr th:only-of-type {\n",
       "        vertical-align: middle;\n",
       "    }\n",
       "\n",
       "    .dataframe tbody tr th {\n",
       "        vertical-align: top;\n",
       "    }\n",
       "\n",
       "    .dataframe thead th {\n",
       "        text-align: right;\n",
       "    }\n",
       "</style>\n",
       "<table border=\"1\" class=\"dataframe\">\n",
       "  <thead>\n",
       "    <tr style=\"text-align: right;\">\n",
       "      <th></th>\n",
       "      <th>AGE</th>\n",
       "      <th>SEX_F</th>\n",
       "      <th>SEX_M</th>\n",
       "      <th>TOPOGRAPHY_cec</th>\n",
       "      <th>TOPOGRAPHY_colon_asc</th>\n",
       "      <th>TOPOGRAPHY_colon_desc</th>\n",
       "      <th>TOPOGRAPHY_colon_sigm</th>\n",
       "      <th>TOPOGRAPHY_colon_trans</th>\n",
       "      <th>TOPOGRAPHY_jonc_rect_sigm</th>\n",
       "      <th>TOPOGRAPHY_rect</th>\n",
       "      <th>...</th>\n",
       "      <th>N_N2</th>\n",
       "      <th>N_Nx</th>\n",
       "      <th>M_M0</th>\n",
       "      <th>M_M1</th>\n",
       "      <th>M_M1_hep</th>\n",
       "      <th>M_Mx</th>\n",
       "      <th>SURGERY_ten</th>\n",
       "      <th>SURGERY_three</th>\n",
       "      <th>SURGERY_two</th>\n",
       "      <th>CLASS</th>\n",
       "    </tr>\n",
       "  </thead>\n",
       "  <tbody>\n",
       "    <tr>\n",
       "      <th>0</th>\n",
       "      <td>64</td>\n",
       "      <td>0</td>\n",
       "      <td>1</td>\n",
       "      <td>0</td>\n",
       "      <td>0</td>\n",
       "      <td>0</td>\n",
       "      <td>0</td>\n",
       "      <td>0</td>\n",
       "      <td>0</td>\n",
       "      <td>1</td>\n",
       "      <td>...</td>\n",
       "      <td>0</td>\n",
       "      <td>1</td>\n",
       "      <td>0</td>\n",
       "      <td>0</td>\n",
       "      <td>0</td>\n",
       "      <td>1</td>\n",
       "      <td>1</td>\n",
       "      <td>0</td>\n",
       "      <td>0</td>\n",
       "      <td>1</td>\n",
       "    </tr>\n",
       "    <tr>\n",
       "      <th>1</th>\n",
       "      <td>70</td>\n",
       "      <td>0</td>\n",
       "      <td>1</td>\n",
       "      <td>0</td>\n",
       "      <td>0</td>\n",
       "      <td>0</td>\n",
       "      <td>0</td>\n",
       "      <td>0</td>\n",
       "      <td>0</td>\n",
       "      <td>1</td>\n",
       "      <td>...</td>\n",
       "      <td>0</td>\n",
       "      <td>1</td>\n",
       "      <td>0</td>\n",
       "      <td>0</td>\n",
       "      <td>0</td>\n",
       "      <td>1</td>\n",
       "      <td>1</td>\n",
       "      <td>0</td>\n",
       "      <td>0</td>\n",
       "      <td>1</td>\n",
       "    </tr>\n",
       "    <tr>\n",
       "      <th>2</th>\n",
       "      <td>76</td>\n",
       "      <td>1</td>\n",
       "      <td>0</td>\n",
       "      <td>1</td>\n",
       "      <td>0</td>\n",
       "      <td>0</td>\n",
       "      <td>0</td>\n",
       "      <td>0</td>\n",
       "      <td>0</td>\n",
       "      <td>0</td>\n",
       "      <td>...</td>\n",
       "      <td>0</td>\n",
       "      <td>1</td>\n",
       "      <td>0</td>\n",
       "      <td>0</td>\n",
       "      <td>0</td>\n",
       "      <td>1</td>\n",
       "      <td>0</td>\n",
       "      <td>1</td>\n",
       "      <td>0</td>\n",
       "      <td>1</td>\n",
       "    </tr>\n",
       "    <tr>\n",
       "      <th>3</th>\n",
       "      <td>62</td>\n",
       "      <td>0</td>\n",
       "      <td>1</td>\n",
       "      <td>1</td>\n",
       "      <td>0</td>\n",
       "      <td>0</td>\n",
       "      <td>0</td>\n",
       "      <td>0</td>\n",
       "      <td>0</td>\n",
       "      <td>0</td>\n",
       "      <td>...</td>\n",
       "      <td>0</td>\n",
       "      <td>1</td>\n",
       "      <td>0</td>\n",
       "      <td>0</td>\n",
       "      <td>0</td>\n",
       "      <td>1</td>\n",
       "      <td>0</td>\n",
       "      <td>1</td>\n",
       "      <td>0</td>\n",
       "      <td>0</td>\n",
       "    </tr>\n",
       "    <tr>\n",
       "      <th>4</th>\n",
       "      <td>62</td>\n",
       "      <td>0</td>\n",
       "      <td>1</td>\n",
       "      <td>1</td>\n",
       "      <td>0</td>\n",
       "      <td>0</td>\n",
       "      <td>0</td>\n",
       "      <td>0</td>\n",
       "      <td>0</td>\n",
       "      <td>0</td>\n",
       "      <td>...</td>\n",
       "      <td>0</td>\n",
       "      <td>1</td>\n",
       "      <td>0</td>\n",
       "      <td>0</td>\n",
       "      <td>0</td>\n",
       "      <td>1</td>\n",
       "      <td>0</td>\n",
       "      <td>1</td>\n",
       "      <td>0</td>\n",
       "      <td>0</td>\n",
       "    </tr>\n",
       "  </tbody>\n",
       "</table>\n",
       "<p>5 rows × 31 columns</p>\n",
       "</div>"
      ],
      "text/plain": [
       "   AGE  SEX_F  SEX_M  TOPOGRAPHY_cec  TOPOGRAPHY_colon_asc  \\\n",
       "0   64      0      1               0                     0   \n",
       "1   70      0      1               0                     0   \n",
       "2   76      1      0               1                     0   \n",
       "3   62      0      1               1                     0   \n",
       "4   62      0      1               1                     0   \n",
       "\n",
       "   TOPOGRAPHY_colon_desc  TOPOGRAPHY_colon_sigm  TOPOGRAPHY_colon_trans  \\\n",
       "0                      0                      0                       0   \n",
       "1                      0                      0                       0   \n",
       "2                      0                      0                       0   \n",
       "3                      0                      0                       0   \n",
       "4                      0                      0                       0   \n",
       "\n",
       "   TOPOGRAPHY_jonc_rect_sigm  TOPOGRAPHY_rect  ...  N_N2  N_Nx  M_M0  M_M1  \\\n",
       "0                          0                1  ...     0     1     0     0   \n",
       "1                          0                1  ...     0     1     0     0   \n",
       "2                          0                0  ...     0     1     0     0   \n",
       "3                          0                0  ...     0     1     0     0   \n",
       "4                          0                0  ...     0     1     0     0   \n",
       "\n",
       "   M_M1_hep  M_Mx  SURGERY_ten  SURGERY_three  SURGERY_two  CLASS  \n",
       "0         0     1            1              0            0      1  \n",
       "1         0     1            1              0            0      1  \n",
       "2         0     1            0              1            0      1  \n",
       "3         0     1            0              1            0      0  \n",
       "4         0     1            0              1            0      0  \n",
       "\n",
       "[5 rows x 31 columns]"
      ]
     },
     "execution_count": 10,
     "metadata": {},
     "output_type": "execute_result"
    }
   ],
   "source": [
    "df.head()"
   ]
  },
  {
   "cell_type": "markdown",
   "id": "f3fd8d76",
   "metadata": {},
   "source": [
    "We will now process the data similar to how we did for the loan data set activity."
   ]
  },
  {
   "cell_type": "markdown",
   "id": "f38c7b46",
   "metadata": {},
   "source": [
    "Run the cell below to convert the `df` into a `NumPy` array"
   ]
  },
  {
   "cell_type": "code",
   "execution_count": 11,
   "id": "7d6e0a84",
   "metadata": {},
   "outputs": [],
   "source": [
    "Xy=np.array(df)"
   ]
  },
  {
   "cell_type": "markdown",
   "id": "fc4cd620",
   "metadata": {},
   "source": [
    "For reproducibility, set the random seed = 1. You can do this by using the `NumPy` function `random.seed()`. Assign your seed to the variable `seed`. Next, complete the code cell below by using the function `random.shuffle()` on `Xy`."
   ]
  },
  {
   "cell_type": "code",
   "execution_count": 12,
   "id": "b4c2e837",
   "metadata": {},
   "outputs": [],
   "source": [
    "seed = np.random.seed(1)\n"
   ]
  },
  {
   "cell_type": "markdown",
   "id": "3ad5f5c5",
   "metadata": {},
   "source": [
    "Before splitting the data into a training set, a test set, and a validation set, we need to divide `Xy` into two arrays: the first one, `X`, a 2D array containing all the predictors and the second, `y`, a 1D array with the response. \n",
    "\n",
    "Run the code cell below to generate `X`. Complete the remaining code to define `y`."
   ]
  },
  {
   "cell_type": "code",
   "execution_count": 13,
   "id": "ded6cfad",
   "metadata": {},
   "outputs": [],
   "source": [
    "X=Xy[:,:-1]\n",
    "y=Xy[:,-1]"
   ]
  },
  {
   "cell_type": "code",
   "execution_count": 14,
   "id": "15889d85",
   "metadata": {},
   "outputs": [],
   "source": [
    "#define y\n",
    "y=Xy[:,-1]"
   ]
  },
  {
   "cell_type": "markdown",
   "id": "4c81f25f",
   "metadata": {},
   "source": [
    "Next, we need to split the messages into into 50% training data, 25% validation data, and 25% test data.\n",
    "\n",
    "Run the code below to split `X` and `y` into training, validation and test sets."
   ]
  },
  {
   "cell_type": "code",
   "execution_count": 15,
   "id": "1da25589",
   "metadata": {},
   "outputs": [],
   "source": [
    "trainsize = int(len(df)/2)\n",
    "trainplusvalsize = int(len(df)/4)\n",
    "X_train=X[:trainsize]\n",
    "X_val=X[trainsize:trainsize + trainplusvalsize]\n",
    "X_test=X[trainsize + trainplusvalsize:]\n",
    "\n",
    "y_train=y[:trainsize]\n",
    "y_val=y[trainsize:trainsize + trainplusvalsize]\n",
    "y_test=y[trainsize + trainplusvalsize:]"
   ]
  },
  {
   "cell_type": "markdown",
   "id": "555ed343",
   "metadata": {},
   "source": [
    "[Back to top](#Index:) \n",
    "\n",
    "<a id='part2'></a>\n",
    "\n",
    "### Part 2: Fit a Single Decision Tree \n",
    "\n",
    "Use the same code as you used for the loan dataset notebook to fit decision trees with different depths up to `max_depth = 15`. Select the best depth - you will compare this to your tree ensemble methods later. "
   ]
  },
  {
   "cell_type": "code",
   "execution_count": 16,
   "id": "f612d975",
   "metadata": {
    "scrolled": true
   },
   "outputs": [
    {
     "name": "stdout",
     "output_type": "stream",
     "text": [
      "Depth: 1 Train Score: 0.9932885906040269 Validation Score: 0.7027027027027027\n",
      "Depth: 2 Train Score: 0.9932885906040269 Validation Score: 0.7027027027027027\n",
      "Depth: 3 Train Score: 0.9932885906040269 Validation Score: 0.6891891891891891\n",
      "Depth: 4 Train Score: 0.9932885906040269 Validation Score: 0.6891891891891891\n",
      "Depth: 5 Train Score: 0.9932885906040269 Validation Score: 0.7162162162162162\n",
      "Depth: 6 Train Score: 0.9932885906040269 Validation Score: 0.7162162162162162\n",
      "Depth: 7 Train Score: 0.9932885906040269 Validation Score: 0.6756756756756757\n",
      "Depth: 8 Train Score: 0.9932885906040269 Validation Score: 0.7027027027027027\n",
      "Depth: 9 Train Score: 0.9932885906040269 Validation Score: 0.7027027027027027\n",
      "Depth: 10 Train Score: 0.9932885906040269 Validation Score: 0.7027027027027027\n",
      "Depth: 11 Train Score: 0.9932885906040269 Validation Score: 0.7027027027027027\n",
      "Depth: 12 Train Score: 0.9932885906040269 Validation Score: 0.6891891891891891\n",
      "Depth: 13 Train Score: 0.9932885906040269 Validation Score: 0.7027027027027027\n",
      "Depth: 14 Train Score: 0.9932885906040269 Validation Score: 0.7027027027027027\n",
      "Depth: 15 Train Score: 0.9932885906040269 Validation Score: 0.7027027027027027\n"
     ]
    }
   ],
   "source": [
    "from sklearn.tree import DecisionTreeClassifier\n",
    "\n",
    "max_depth = 15\n",
    "bestdepth=-1\n",
    "bestscore = 0\n",
    "\n",
    "for i in range(15):\n",
    "    clf = DecisionTreeClassifier()\n",
    "    #fit the training sets\n",
    "    clf.fit(X_train,y_train )\n",
    "    #update trainscore\n",
    "    trainscore= clf.score(X_train,y_train)\n",
    "    #update valscore\n",
    "    valscore= clf.score(X_val,y_val)\n",
    "    print( 'Depth:', i+1, 'Train Score:', trainscore, 'Validation Score:', valscore)\n",
    "    if  valscore > bestscore  :\n",
    "        #update bestscore\n",
    "        bestscore= valscore\n",
    "        \n",
    "        #update depth\n",
    "        bestdepth= i+1\n",
    "        "
   ]
  },
  {
   "cell_type": "markdown",
   "id": "85736128",
   "metadata": {},
   "source": [
    "***Question***\n",
    "\n",
    "What is the best maximum depth? \n",
    "[Jing's answer]: Both depths 5 and 6 has the same highest validation score, 0.7162. However, we might favor simpler models when performance is similar. Therefore, I choose depth 5 as the best maximum depth. \n",
    "\n",
    "***Double click on this cell to enter your answer***\n"
   ]
  },
  {
   "cell_type": "markdown",
   "id": "2a443031",
   "metadata": {},
   "source": [
    "[Back to top](#Index:) \n",
    "\n",
    "<a id='part3'></a>\n",
    "\n",
    "## Part 3: Random Forest\n",
    "\n",
    "In this section you will learn how to build a random forest model in sklearn and explore the effect of the `max_features` hyperparameter. "
   ]
  },
  {
   "cell_type": "markdown",
   "id": "fbaf0742",
   "metadata": {},
   "source": [
    "Use the `ensemble.RandomForestClassifier()` function to build a random forest model with the default parameters. Use the `.fit()` function to train it, the same as you did for the decision tree. "
   ]
  },
  {
   "cell_type": "code",
   "execution_count": 26,
   "id": "c9bce054",
   "metadata": {
    "scrolled": true
   },
   "outputs": [
    {
     "data": {
      "text/html": [
       "<style>#sk-container-id-3 {color: black;background-color: white;}#sk-container-id-3 pre{padding: 0;}#sk-container-id-3 div.sk-toggleable {background-color: white;}#sk-container-id-3 label.sk-toggleable__label {cursor: pointer;display: block;width: 100%;margin-bottom: 0;padding: 0.3em;box-sizing: border-box;text-align: center;}#sk-container-id-3 label.sk-toggleable__label-arrow:before {content: \"▸\";float: left;margin-right: 0.25em;color: #696969;}#sk-container-id-3 label.sk-toggleable__label-arrow:hover:before {color: black;}#sk-container-id-3 div.sk-estimator:hover label.sk-toggleable__label-arrow:before {color: black;}#sk-container-id-3 div.sk-toggleable__content {max-height: 0;max-width: 0;overflow: hidden;text-align: left;background-color: #f0f8ff;}#sk-container-id-3 div.sk-toggleable__content pre {margin: 0.2em;color: black;border-radius: 0.25em;background-color: #f0f8ff;}#sk-container-id-3 input.sk-toggleable__control:checked~div.sk-toggleable__content {max-height: 200px;max-width: 100%;overflow: auto;}#sk-container-id-3 input.sk-toggleable__control:checked~label.sk-toggleable__label-arrow:before {content: \"▾\";}#sk-container-id-3 div.sk-estimator input.sk-toggleable__control:checked~label.sk-toggleable__label {background-color: #d4ebff;}#sk-container-id-3 div.sk-label input.sk-toggleable__control:checked~label.sk-toggleable__label {background-color: #d4ebff;}#sk-container-id-3 input.sk-hidden--visually {border: 0;clip: rect(1px 1px 1px 1px);clip: rect(1px, 1px, 1px, 1px);height: 1px;margin: -1px;overflow: hidden;padding: 0;position: absolute;width: 1px;}#sk-container-id-3 div.sk-estimator {font-family: monospace;background-color: #f0f8ff;border: 1px dotted black;border-radius: 0.25em;box-sizing: border-box;margin-bottom: 0.5em;}#sk-container-id-3 div.sk-estimator:hover {background-color: #d4ebff;}#sk-container-id-3 div.sk-parallel-item::after {content: \"\";width: 100%;border-bottom: 1px solid gray;flex-grow: 1;}#sk-container-id-3 div.sk-label:hover label.sk-toggleable__label {background-color: #d4ebff;}#sk-container-id-3 div.sk-serial::before {content: \"\";position: absolute;border-left: 1px solid gray;box-sizing: border-box;top: 0;bottom: 0;left: 50%;z-index: 0;}#sk-container-id-3 div.sk-serial {display: flex;flex-direction: column;align-items: center;background-color: white;padding-right: 0.2em;padding-left: 0.2em;position: relative;}#sk-container-id-3 div.sk-item {position: relative;z-index: 1;}#sk-container-id-3 div.sk-parallel {display: flex;align-items: stretch;justify-content: center;background-color: white;position: relative;}#sk-container-id-3 div.sk-item::before, #sk-container-id-3 div.sk-parallel-item::before {content: \"\";position: absolute;border-left: 1px solid gray;box-sizing: border-box;top: 0;bottom: 0;left: 50%;z-index: -1;}#sk-container-id-3 div.sk-parallel-item {display: flex;flex-direction: column;z-index: 1;position: relative;background-color: white;}#sk-container-id-3 div.sk-parallel-item:first-child::after {align-self: flex-end;width: 50%;}#sk-container-id-3 div.sk-parallel-item:last-child::after {align-self: flex-start;width: 50%;}#sk-container-id-3 div.sk-parallel-item:only-child::after {width: 0;}#sk-container-id-3 div.sk-dashed-wrapped {border: 1px dashed gray;margin: 0 0.4em 0.5em 0.4em;box-sizing: border-box;padding-bottom: 0.4em;background-color: white;}#sk-container-id-3 div.sk-label label {font-family: monospace;font-weight: bold;display: inline-block;line-height: 1.2em;}#sk-container-id-3 div.sk-label-container {text-align: center;}#sk-container-id-3 div.sk-container {/* jupyter's `normalize.less` sets `[hidden] { display: none; }` but bootstrap.min.css set `[hidden] { display: none !important; }` so we also need the `!important` here to be able to override the default hidden behavior on the sphinx rendered scikit-learn.org. See: https://github.com/scikit-learn/scikit-learn/issues/21755 */display: inline-block !important;position: relative;}#sk-container-id-3 div.sk-text-repr-fallback {display: none;}</style><div id=\"sk-container-id-3\" class=\"sk-top-container\"><div class=\"sk-text-repr-fallback\"><pre>RandomForestClassifier(random_state=1)</pre><b>In a Jupyter environment, please rerun this cell to show the HTML representation or trust the notebook. <br />On GitHub, the HTML representation is unable to render, please try loading this page with nbviewer.org.</b></div><div class=\"sk-container\" hidden><div class=\"sk-item\"><div class=\"sk-estimator sk-toggleable\"><input class=\"sk-toggleable__control sk-hidden--visually\" id=\"sk-estimator-id-3\" type=\"checkbox\" checked><label for=\"sk-estimator-id-3\" class=\"sk-toggleable__label sk-toggleable__label-arrow\">RandomForestClassifier</label><div class=\"sk-toggleable__content\"><pre>RandomForestClassifier(random_state=1)</pre></div></div></div></div></div>"
      ],
      "text/plain": [
       "RandomForestClassifier(random_state=1)"
      ]
     },
     "execution_count": 26,
     "metadata": {},
     "output_type": "execute_result"
    }
   ],
   "source": [
    "from sklearn.ensemble import RandomForestClassifier\n",
    "\n",
    "rf_clf = RandomForestClassifier(random_state=1)\n",
    "\n",
    "# Fit the classifier to the training data\n",
    "rf_clf.fit(X_train, y_train)\n"
   ]
  },
  {
   "cell_type": "code",
   "execution_count": 27,
   "id": "fcd899bf",
   "metadata": {},
   "outputs": [
    {
     "name": "stdout",
     "output_type": "stream",
     "text": [
      "Full tree guess train/validation  0.9932885906040269 0.7162162162162162\n"
     ]
    }
   ],
   "source": [
    "print ( 'Full tree guess train/validation ',rf_clf.score(X_train, y_train),rf_clf.score(X_val, y_val))"
   ]
  },
  {
   "cell_type": "markdown",
   "id": "a9aee529",
   "metadata": {},
   "source": [
    "In random forest classifiers, the algorithm only considers a subset of the features at each split. This is controlled using the `max_features` argument. Normally this subset size is set to the square root of the total number of features, but here we will look at both setting it to the square root `\"sqrt\"` (this is the default in sklearn) and to `None`. when `max_features = None` the algorithm is using all the features at every split. \n"
   ]
  },
  {
   "cell_type": "code",
   "execution_count": 25,
   "id": "4771d35a",
   "metadata": {
    "scrolled": true
   },
   "outputs": [
    {
     "name": "stdout",
     "output_type": "stream",
     "text": [
      "Full tree guess train/validation sqrt 0.9932885906040269 0.7162162162162162\n",
      "Full tree guess train/validation None 0.9932885906040269 0.7432432432432432\n"
     ]
    }
   ],
   "source": [
    "# for loop looking at RF with different max_features \n",
    "\n",
    "np.random.seed(1)\n",
    "# Iterates over two settings for max_features: \"sqrt\" (which is the default in sklearn and represents the square root of the number of features) and None (which means all features are considered at every split)\n",
    "for max_features in [\"sqrt\",  None]:\n",
    "    # build the rf classifier wwith different arguments for max_features\n",
    "    #fit to the training data\n",
    "    rf_clf = RandomForestClassifier(max_features=max_features,random_state=1)\n",
    "    \n",
    "    # Fit to the training data\n",
    "    rf_clf.fit(X_train, y_train)\n",
    "\n",
    "    print ( f'Full tree guess train/validation {max_features}',rf_clf.score(X_train, y_train),rf_clf.score(X_val, y_val))\n"
   ]
  },
  {
   "cell_type": "markdown",
   "id": "b11a50de",
   "metadata": {},
   "source": [
    "***Question***\n",
    "\n",
    "Which method performs best? Why might this be?\n",
    "[Jing's answer]: \n",
    "`random_seed=1`:\n",
    "Full tree guess train/validation sqrt 0.9932885906040269 0.7162162162162162\n",
    "Full tree guess train/validation None 0.9932885906040269 0.7432432432432432\n",
    "\n",
    "With max_features=None, the training score is again 0.9933, but the validation score is higher at 0.7432. The method with max_features=None (using all features at every split) performs better in terms of validation score. \n",
    "\n",
    "This allows the model to consider all features at each split and provides a more comprehensive set of options for finding the best splits, potentially capturing more complex patterns in the data. This can be particularly beneficial if there are important interactions between features that are only captured when all features are considered together.\n",
    "\n",
    "Rerun the cell above with different random seeds (but remember to set it back to `random_seed=1`). What happens? Why is this?\n",
    "[Jing's answer]: \n",
    "`random_seed=10`:\n",
    "Full tree guess train/validation sqrt 0.9932885906040269 0.7027027027027027\n",
    "Full tree guess train/validation None 0.9932885906040269 0.7297297297297297\n",
    "These scores are slightly lower compared to the scores obtained with random_seed=1. This variation in performance illustrates the impact of randomness in the random forest algorithm. It can lead to variations in model performance with different seeds.\n",
    "\n",
    "***Double click on this cell to enter your answer***\n",
    "\n"
   ]
  },
  {
   "cell_type": "markdown",
   "id": "bb788f4e",
   "metadata": {},
   "source": [
    "[Back to top](#Index:) \n",
    "\n",
    "<a id='part4'></a>\n",
    "\n",
    "## Part 4: Boosting\n",
    "\n",
    "For our boosting algorithm we will use scikit learn's AdaBoost. This boosting algorithm works by building an ensemble of weak classifiers (in our case decision trees) by sequentially weighting the incorrectly classified instances. \n",
    "\n"
   ]
  },
  {
   "cell_type": "markdown",
   "id": "19cf2c93",
   "metadata": {},
   "source": [
    "Use the .AdaBoostClassifier() to build a boosting model and fit it to the training data."
   ]
  },
  {
   "cell_type": "code",
   "execution_count": 23,
   "id": "44ca0b27",
   "metadata": {},
   "outputs": [
    {
     "data": {
      "text/html": [
       "<style>#sk-container-id-2 {color: black;background-color: white;}#sk-container-id-2 pre{padding: 0;}#sk-container-id-2 div.sk-toggleable {background-color: white;}#sk-container-id-2 label.sk-toggleable__label {cursor: pointer;display: block;width: 100%;margin-bottom: 0;padding: 0.3em;box-sizing: border-box;text-align: center;}#sk-container-id-2 label.sk-toggleable__label-arrow:before {content: \"▸\";float: left;margin-right: 0.25em;color: #696969;}#sk-container-id-2 label.sk-toggleable__label-arrow:hover:before {color: black;}#sk-container-id-2 div.sk-estimator:hover label.sk-toggleable__label-arrow:before {color: black;}#sk-container-id-2 div.sk-toggleable__content {max-height: 0;max-width: 0;overflow: hidden;text-align: left;background-color: #f0f8ff;}#sk-container-id-2 div.sk-toggleable__content pre {margin: 0.2em;color: black;border-radius: 0.25em;background-color: #f0f8ff;}#sk-container-id-2 input.sk-toggleable__control:checked~div.sk-toggleable__content {max-height: 200px;max-width: 100%;overflow: auto;}#sk-container-id-2 input.sk-toggleable__control:checked~label.sk-toggleable__label-arrow:before {content: \"▾\";}#sk-container-id-2 div.sk-estimator input.sk-toggleable__control:checked~label.sk-toggleable__label {background-color: #d4ebff;}#sk-container-id-2 div.sk-label input.sk-toggleable__control:checked~label.sk-toggleable__label {background-color: #d4ebff;}#sk-container-id-2 input.sk-hidden--visually {border: 0;clip: rect(1px 1px 1px 1px);clip: rect(1px, 1px, 1px, 1px);height: 1px;margin: -1px;overflow: hidden;padding: 0;position: absolute;width: 1px;}#sk-container-id-2 div.sk-estimator {font-family: monospace;background-color: #f0f8ff;border: 1px dotted black;border-radius: 0.25em;box-sizing: border-box;margin-bottom: 0.5em;}#sk-container-id-2 div.sk-estimator:hover {background-color: #d4ebff;}#sk-container-id-2 div.sk-parallel-item::after {content: \"\";width: 100%;border-bottom: 1px solid gray;flex-grow: 1;}#sk-container-id-2 div.sk-label:hover label.sk-toggleable__label {background-color: #d4ebff;}#sk-container-id-2 div.sk-serial::before {content: \"\";position: absolute;border-left: 1px solid gray;box-sizing: border-box;top: 0;bottom: 0;left: 50%;z-index: 0;}#sk-container-id-2 div.sk-serial {display: flex;flex-direction: column;align-items: center;background-color: white;padding-right: 0.2em;padding-left: 0.2em;position: relative;}#sk-container-id-2 div.sk-item {position: relative;z-index: 1;}#sk-container-id-2 div.sk-parallel {display: flex;align-items: stretch;justify-content: center;background-color: white;position: relative;}#sk-container-id-2 div.sk-item::before, #sk-container-id-2 div.sk-parallel-item::before {content: \"\";position: absolute;border-left: 1px solid gray;box-sizing: border-box;top: 0;bottom: 0;left: 50%;z-index: -1;}#sk-container-id-2 div.sk-parallel-item {display: flex;flex-direction: column;z-index: 1;position: relative;background-color: white;}#sk-container-id-2 div.sk-parallel-item:first-child::after {align-self: flex-end;width: 50%;}#sk-container-id-2 div.sk-parallel-item:last-child::after {align-self: flex-start;width: 50%;}#sk-container-id-2 div.sk-parallel-item:only-child::after {width: 0;}#sk-container-id-2 div.sk-dashed-wrapped {border: 1px dashed gray;margin: 0 0.4em 0.5em 0.4em;box-sizing: border-box;padding-bottom: 0.4em;background-color: white;}#sk-container-id-2 div.sk-label label {font-family: monospace;font-weight: bold;display: inline-block;line-height: 1.2em;}#sk-container-id-2 div.sk-label-container {text-align: center;}#sk-container-id-2 div.sk-container {/* jupyter's `normalize.less` sets `[hidden] { display: none; }` but bootstrap.min.css set `[hidden] { display: none !important; }` so we also need the `!important` here to be able to override the default hidden behavior on the sphinx rendered scikit-learn.org. See: https://github.com/scikit-learn/scikit-learn/issues/21755 */display: inline-block !important;position: relative;}#sk-container-id-2 div.sk-text-repr-fallback {display: none;}</style><div id=\"sk-container-id-2\" class=\"sk-top-container\"><div class=\"sk-text-repr-fallback\"><pre>AdaBoostClassifier(random_state=1)</pre><b>In a Jupyter environment, please rerun this cell to show the HTML representation or trust the notebook. <br />On GitHub, the HTML representation is unable to render, please try loading this page with nbviewer.org.</b></div><div class=\"sk-container\" hidden><div class=\"sk-item\"><div class=\"sk-estimator sk-toggleable\"><input class=\"sk-toggleable__control sk-hidden--visually\" id=\"sk-estimator-id-2\" type=\"checkbox\" checked><label for=\"sk-estimator-id-2\" class=\"sk-toggleable__label sk-toggleable__label-arrow\">AdaBoostClassifier</label><div class=\"sk-toggleable__content\"><pre>AdaBoostClassifier(random_state=1)</pre></div></div></div></div></div>"
      ],
      "text/plain": [
       "AdaBoostClassifier(random_state=1)"
      ]
     },
     "execution_count": 23,
     "metadata": {},
     "output_type": "execute_result"
    }
   ],
   "source": [
    "from sklearn.ensemble import AdaBoostClassifier\n",
    "\n",
    "ab_clf = AdaBoostClassifier(random_state=1)\n",
    "ab_clf.fit(X_train,y_train)\n"
   ]
  },
  {
   "cell_type": "code",
   "execution_count": 24,
   "id": "ad19401d",
   "metadata": {
    "scrolled": true
   },
   "outputs": [
    {
     "name": "stdout",
     "output_type": "stream",
     "text": [
      "Full tree guess train/validation  0.6308724832214765 0.581081081081081\n"
     ]
    }
   ],
   "source": [
    "print ( 'Full tree guess train/validation ',ab_clf.score(X_train, y_train),ab_clf.score(X_val, y_val))"
   ]
  },
  {
   "cell_type": "markdown",
   "id": "dd5a8a38",
   "metadata": {},
   "source": [
    "[Back to top](#Index:) \n",
    "\n",
    "<a id='part5'></a>\n",
    "\n",
    "## Part 5: Model Selection"
   ]
  },
  {
   "cell_type": "markdown",
   "id": "1d0a4cb7",
   "metadata": {},
   "source": [
    "***Question***\n",
    "\n",
    "Which model would you use for this dataset? Decision tree, Random Forest or Boosting? Why? \n",
    "[Jing's answer]:\n",
    "Decision Tree:\n",
    "Train Score: ~0.9933\n",
    "Best Validation Score: ~0.7162 (at depth 5 or 6)\n",
    "\n",
    "Random Forest (with random_seed=1):\n",
    "Train Score: 0.9933\n",
    "Best Validation Score: 0.7432 (with max_features=None)\n",
    "\n",
    "AdaBoost:\n",
    "Train Score: 0.6309\n",
    "Validation Score: 0.5811\n",
    "\n",
    "Given these results, the Random Forest model appears to be the best choice based on the following reasons:\n",
    "Higher Validation Accuracy: The Random Forest model with max_features=None has the highest validation score among the three models.\n",
    "Balance Between Bias and Variance: While the decision tree model also shows high training accuracy, its validation performance is slightly lower than the Random Forest. This could indicate overfitting in the case of the decision tree, which random forests can mitigate through ensemble learning.\n",
    "\n",
    "***Double click on this cell to enter your answer***\n",
    "\n"
   ]
  },
  {
   "cell_type": "markdown",
   "id": "6929de10",
   "metadata": {},
   "source": [
    "Retrain the best model with both the training and validation data and test it on the test data."
   ]
  },
  {
   "cell_type": "code",
   "execution_count": 28,
   "id": "b00bbd51",
   "metadata": {},
   "outputs": [
    {
     "name": "stdout",
     "output_type": "stream",
     "text": [
      "Full tree guess train/validation  0.9865470852017937 0.8133333333333334\n"
     ]
    }
   ],
   "source": [
    "X_trainval = X[:trainsize + trainplusvalsize, :]\n",
    "y_trainval = y[:trainsize + trainplusvalsize]\n",
    "\n",
    "best_clf = RandomForestClassifier(max_features=None,random_state=1)\n",
    "best_clf.fit(X_trainval,y_trainval)\n",
    "\n",
    "print ( 'Full tree guess train/validation ',best_clf.score(X_trainval, y_trainval),best_clf.score(X_test, y_test))"
   ]
  },
  {
   "cell_type": "markdown",
   "id": "02e2d480",
   "metadata": {},
   "source": [
    "[Back to top](#Index:) \n",
    "\n",
    "<a id='part6'></a>\n",
    "\n",
    "# Part 6: Feature Selection\n",
    "\n",
    "Feature selection can help us understand our model and the outputs it gives us, as well as remove any irrelevant predictors. In this section we will be looking at how to identify the most important features in a decision tree using two different methods:\n",
    "- Impurity metric approaches\n",
    "- Permutation Importances \n",
    "\n",
    "We will be looking at feature selection for your best model (`best_clf`)"
   ]
  },
  {
   "cell_type": "markdown",
   "id": "2d76cfec",
   "metadata": {},
   "source": [
    "Use the `.feature_importances_` function to get the inbuilt impurity metric measure. Then use the `.argsort()` \n",
    "function to sort the resulting feature importances. \n",
    "\n"
   ]
  },
  {
   "cell_type": "code",
   "execution_count": 30,
   "id": "0744ba95",
   "metadata": {},
   "outputs": [],
   "source": [
    "feature_importances = best_clf.feature_importances_\n",
    "sorted_idx = feature_importances.argsort()"
   ]
  },
  {
   "cell_type": "markdown",
   "id": "23b22eb3",
   "metadata": {},
   "source": [
    "Get the feature names from the dataframe columns `.columns`. Remember to remove the last column from the list as this is the output column."
   ]
  },
  {
   "cell_type": "code",
   "execution_count": 31,
   "id": "0d4e4841",
   "metadata": {},
   "outputs": [],
   "source": [
    "feature_names = df.columns[:-1]"
   ]
  },
  {
   "cell_type": "markdown",
   "id": "30ca853f",
   "metadata": {},
   "source": [
    "Use the function below to plot the importances."
   ]
  },
  {
   "cell_type": "code",
   "execution_count": 32,
   "id": "364411ed",
   "metadata": {},
   "outputs": [],
   "source": [
    "def plot_impurity_metric_features( feature_importances, sorted_idx, feature_names):\n",
    "    y_ticks = np.arange(0, len(feature_names))\n",
    "    fig, ax = plt.subplots(figsize=(10, 10))\n",
    "    ax.barh(y_ticks, feature_importances[sorted_idx])\n",
    "    ax.set_yticks(y_ticks)\n",
    "    ax.set_yticklabels(feature_names[sorted_idx])\n",
    "    ax.set_title(\"Random Forest Feature Importances\")\n",
    "    fig.tight_layout()\n",
    "    plt.show()\n",
    "\n"
   ]
  },
  {
   "cell_type": "code",
   "execution_count": 33,
   "id": "9460d399",
   "metadata": {
    "scrolled": false
   },
   "outputs": [
    {
     "data": {
      "image/png": "[encoded data removed]",
      "text/plain": [
       "<Figure size 1000x1000 with 1 Axes>"
      ]
     },
     "metadata": {},
     "output_type": "display_data"
    }
   ],
   "source": [
    "# plot the impurity metric feature importances \n",
    "plot_impurity_metric_features(feature_importances,sorted_idx,feature_names)\n"
   ]
  },
  {
   "cell_type": "markdown",
   "id": "5c3c2ff0",
   "metadata": {},
   "source": [
    "***Question***\n",
    "\n",
    "What are the 3 most important features? \n",
    "[Jing's answer]: The most important features are AGE, T_T3 and TOPOGRAPHY_colon_asc.\n",
    "\n",
    "***Double click on this cell to enter your answer***\n"
   ]
  },
  {
   "cell_type": "markdown",
   "id": "72c4520a",
   "metadata": {},
   "source": [
    "One of the downsides of the inbuilt impurity metric is that it can only be applied to training data. This doesn't give us any indication of which features will be the most important on unseen data. \n",
    "\n",
    "Instead, we can use the permutation importance to measure the feature importances on both the training and validation sets. "
   ]
  },
  {
   "cell_type": "markdown",
   "id": "6fcc967f",
   "metadata": {},
   "source": [
    "Complete the `permutation_importance` function to calculate the importance of the diffierent features in the training dataset. Then use the `argsort()` to sort the features in order of importance again."
   ]
  },
  {
   "cell_type": "code",
   "execution_count": 34,
   "id": "9a3e93f5",
   "metadata": {},
   "outputs": [],
   "source": [
    "from sklearn.inspection import permutation_importance\n",
    "\n",
    "# permutation method on both training and test\n",
    "\n",
    "result = permutation_importance(estimator=best_clf , X=X_train , y=y_train , n_repeats=10, random_state=1, n_jobs=2)\n",
    "\n",
    "sorted_idx = result.importances_mean.argsort()\n",
    "\n"
   ]
  },
  {
   "cell_type": "markdown",
   "id": "aa02503c",
   "metadata": {},
   "source": [
    "Use the function below to plot the permutation importances."
   ]
  },
  {
   "cell_type": "code",
   "execution_count": 35,
   "id": "94042af0",
   "metadata": {
    "scrolled": false
   },
   "outputs": [
    {
     "data": {
      "image/png": "[encoded data removed]",
      "text/plain": [
       "<Figure size 1000x1000 with 1 Axes>"
      ]
     },
     "metadata": {},
     "output_type": "display_data"
    }
   ],
   "source": [
    "\n",
    "def plot_perm_importance(result, sorted_idx, feature_names):\n",
    "\n",
    "    fig, ax = plt.subplots(figsize=(10, 10))\n",
    "    ax.boxplot(\n",
    "        result.importances[sorted_idx].T, vert=False, labels=feature_names[sorted_idx]\n",
    "    )\n",
    "    ax.set_title(\"Permutation Importances (train set)\")\n",
    "    fig.tight_layout()\n",
    "    plt.show()\n",
    "    \n",
    "plot_perm_importance(result, sorted_idx, feature_names)\n"
   ]
  },
  {
   "cell_type": "markdown",
   "id": "c1d430ff",
   "metadata": {},
   "source": [
    "What do you notice about the difference between the two methods of doing feature selection? Why do you think this is?\n",
    "[Jing's answer]: The most important features are AT_T3, TOPOGRAPHY_colon_asc and TOPOGRAPHY_colon_trans. \n",
    "\n",
    "Impurity-based methods measure importance based on how much a feature decreases the impurity within the trees, which is a more theoretical measure. Permutation importance measures the decrease in model performance when the feature's information is removed, which is a practical measure of dependency.\n",
    "\n",
    "***Double click on this cell to enter your answer***\n",
    "\n"
   ]
  },
  {
   "cell_type": "markdown",
   "id": "58cc1565",
   "metadata": {},
   "source": [
    "Now calculate the permutation importance on the test set. "
   ]
  },
  {
   "cell_type": "code",
   "execution_count": 36,
   "id": "5dc534c3",
   "metadata": {},
   "outputs": [
    {
     "data": {
      "image/png": "[encoded data removed]",
      "text/plain": [
       "<Figure size 1000x1000 with 1 Axes>"
      ]
     },
     "metadata": {},
     "output_type": "display_data"
    }
   ],
   "source": [
    "result = permutation_importance(estimator=best_clf , X=X_test , y=y_test , n_repeats=10, random_state=42, n_jobs=2\n",
    ")\n",
    "sorted_idx = result.importances_mean.argsort()\n",
    "\n",
    "plot_perm_importance(result, sorted_idx, feature_names)"
   ]
  },
  {
   "cell_type": "markdown",
   "id": "bf38b03c",
   "metadata": {},
   "source": [
    "What do you see in the test data?\n",
    "[Jing's answer]: Some features have negative importance scores.\n",
    "\n",
    "Why do some of the importances go negative?\n",
    "[Jing's answer]: This could mean that the predictions on the test data happened to be more accurate than the training data.\n",
    "\n",
    "***Double click on this cell to enter your answer***\n",
    "\n",
    "\n",
    "(3 marks)"
   ]
  },
  {
   "cell_type": "code",
   "execution_count": null,
   "id": "89240a77",
   "metadata": {},
   "outputs": [],
   "source": []
  },
  {
   "cell_type": "code",
   "execution_count": null,
   "id": "63650985",
   "metadata": {},
   "outputs": [],
   "source": []
  }
 ],
 "metadata": {
  "kernelspec": {
   "display_name": "Python 3 (ipykernel)",
   "language": "python",
   "name": "python3"
  },
  "language_info": {
   "codemirror_mode": {
    "name": "ipython",
    "version": 3
   },
   "file_extension": ".py",
   "mimetype": "text/x-python",
   "name": "python",
   "nbconvert_exporter": "python",
   "pygments_lexer": "ipython3",
   "version": "3.10.9"
  }
 },
 "nbformat": 4,
 "nbformat_minor": 5
}
