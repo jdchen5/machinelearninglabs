{
 "cells": [
  {
   "cell_type": "markdown",
   "metadata": {
    "id": "FSh7O_dY9Gt-"
   },
   "source": [
    "#Classification and Regression Trees\n",
    "\n"
   ]
  },
  {
   "cell_type": "markdown",
   "metadata": {
    "id": "2YZxpipT9GuN"
   },
   "source": [
    "    \n",
    "## Assignment overview\n",
    "\n",
    "Decision trees are a non-parametric supervised learning method used for classification and regression. Decision trees learn from data to approximate a curve with a set of if-then-else decision rules. The deeper the tree, the more complex the decision rules and the fitter the model.\n",
    "Decision trees build classification or regression models in the form of trees. They break down a data set into smaller and smaller subsets while incrementally developing the associated decision tree. The final result is a tree with decision nodes and leaf nodes. A decision node has two or more branches. Leaf nodes represent a classification or decision. The topmost decision node in a tree, which corresponds to the best predictor, is called the root node. \n",
    "\n",
    "\n",
    "\n",
    "This assignment is designed to help you apply the machine learning algorithms you have learnt using packages in Python. Python concepts, instruction, and starter code are embedded within this Jupyter Notebook to help guide you as you progress through the assignment. Remember to run the code of each code cell prior to submitting the assignment. Upon completing the assignment, we encourage you to compare your work against the solution file to perform a self-assessment.\n"
   ]
  },
  {
   "cell_type": "markdown",
   "metadata": {
    "id": "UyX0wf339GuP"
   },
   "source": [
    "## Index:\n",
    "\n",
    "#### Week 9:   Classification and regression trees\n",
    "\n",
    "\n",
    "- [Part 1](#part1)- Importing the data set and exploratory data analysis (EDA)\n",
    "- [Part 2](#part2)- Translate the categorical predictors into numerical predictors\n",
    "- [Part 3](#part3)- Shuffle the data set\n",
    "- [Part 4](#part4)- Calculate the accuracy of the Naïve benchmark on the validation set.\n",
    "- [Part 5](#part5)- Train a decision tree using the default settings\n",
    "- [Part 6](#part6)- Train a decision tree using different maximum depths for the tree\n",
    "- [Part 7](#part7)- Retrain the best classifier using all the samples\n",
    "\n",
    "\n",
    "\n",
    "## Classification and regression trees\n",
    "\n",
    "In Week 9, you learnt about classification using regression trees.\n",
    "The basic idea behind the algorithm for classification via regression trees can be summarised as follows:\n",
    "\n",
    "- Load the data set\n",
    "- Select the best attribute using Attribute Selection Measures (ASM) to split the records.\n",
    "- Make that attribute a decision node and break the data set into smaller subsets.\n",
    "- Start building the tree by repeating this process recursively for each child until one of the conditions will match:\n",
    "    - All the tuples belong to the same attribute value.\n",
    "    - There are no more remaining attributes.\n",
    "    - There are no more instances.\n"
   ]
  },
  {
   "cell_type": "markdown",
   "metadata": {
    "id": "LGZi4txv9GuS"
   },
   "source": [
    "## Predict defaults for student loans applications\n",
    "\n",
    "For this exercise, we will use the data set `loandata.xlsx` to predict defaults for student loans applications using regression trees. We will perform the following steps:\n",
    "\n",
    "1. Load the data set `loandata.xlsx` into Python.\n",
    "2. Translate the categorical predictors into numerical predictors. \n",
    "3. Shuffle the data set and split it into 50% training data, 25% validation data and 25% test data.\n",
    "4. Calculate the accuracy of the Naïve benchmark  on the validation set.\n",
    "5. Train a decision tree using the default settings.\n",
    "6. Retry the previous step using different maximum depths for the tree. \n",
    "7. Choose the most appropriate tree depth and justify your choice. Re-train the best classifier using all the samples from both the training and the validation set. Retrain the best classifier on all samples (including the test set) and describe the tree that you obtain."
   ]
  },
  {
   "cell_type": "markdown",
   "metadata": {
    "id": "cHfle5sS9GuV"
   },
   "source": [
    "[Back to top](#Index:) \n",
    "\n",
    "<a id='part1'></a>\n",
    "\n",
    "### Part 1 -  Importing the data set and exploratory data analysis (EDA)\n",
    "\n",
    "We begin by importing the necessary libraries. We will then use `pandas` to import the data set. "
   ]
  },
  {
   "cell_type": "code",
   "execution_count": 1,
   "metadata": {
    "id": "SoZ3sOZx9GuZ"
   },
   "outputs": [],
   "source": [
    "import numpy as np\n",
    "import pandas as pd\n",
    "from sklearn import tree, ensemble"
   ]
  },
  {
   "cell_type": "markdown",
   "metadata": {
    "id": "TBDFfy0Q9Guc"
   },
   "source": [
    "Notice that this week's data set is in `.xlsx` format.\n",
    "\n",
    "Complete the code cell below by adding the name of the data set as a `str` to `.read_excel()`. Assign the dataframe to the variable `df`."
   ]
  },
  {
   "cell_type": "code",
   "execution_count": 2,
   "metadata": {
    "id": "xtZtwOQk9Guf"
   },
   "outputs": [],
   "source": [
    "df = pd.read_excel(\"data\\loandata.xlsx\")"
   ]
  },
  {
   "cell_type": "markdown",
   "metadata": {
    "id": "zMktSFmD9Gug"
   },
   "source": [
    "\n",
    "Before building any machine learning algorithms, we should explore the data.\n",
    "\n",
    "We begin by visualising the first ten rows of the dataframe `df` using the function `.head()`. By default, `.head()` displays the first five rows of a dataframe.\n",
    "\n",
    "Complete the code cell below by passing the desired number of rows as an `int` to the function `.head()`."
   ]
  },
  {
   "cell_type": "code",
   "execution_count": 3,
   "metadata": {
    "id": "SKqrydcB9Gui"
   },
   "outputs": [
    {
     "data": {
      "text/html": [
       "<div>\n",
       "<style scoped>\n",
       "    .dataframe tbody tr th:only-of-type {\n",
       "        vertical-align: middle;\n",
       "    }\n",
       "\n",
       "    .dataframe tbody tr th {\n",
       "        vertical-align: top;\n",
       "    }\n",
       "\n",
       "    .dataframe thead th {\n",
       "        text-align: right;\n",
       "    }\n",
       "</style>\n",
       "<table border=\"1\" class=\"dataframe\">\n",
       "  <thead>\n",
       "    <tr style=\"text-align: right;\">\n",
       "      <th></th>\n",
       "      <th>field</th>\n",
       "      <th>graduationYear</th>\n",
       "      <th>loanAmount</th>\n",
       "      <th>selectiveCollege</th>\n",
       "      <th>sex</th>\n",
       "      <th>Default</th>\n",
       "    </tr>\n",
       "  </thead>\n",
       "  <tbody>\n",
       "    <tr>\n",
       "      <th>0</th>\n",
       "      <td>STEM</td>\n",
       "      <td>2006</td>\n",
       "      <td>23159.580541</td>\n",
       "      <td>0</td>\n",
       "      <td>Male</td>\n",
       "      <td>No</td>\n",
       "    </tr>\n",
       "    <tr>\n",
       "      <th>1</th>\n",
       "      <td>HUMANITIES</td>\n",
       "      <td>2010</td>\n",
       "      <td>47498.061207</td>\n",
       "      <td>0</td>\n",
       "      <td>Male</td>\n",
       "      <td>Yes</td>\n",
       "    </tr>\n",
       "    <tr>\n",
       "      <th>2</th>\n",
       "      <td>HUMANITIES</td>\n",
       "      <td>2012</td>\n",
       "      <td>29637.519526</td>\n",
       "      <td>0</td>\n",
       "      <td>Female</td>\n",
       "      <td>No</td>\n",
       "    </tr>\n",
       "    <tr>\n",
       "      <th>3</th>\n",
       "      <td>STEM</td>\n",
       "      <td>2008</td>\n",
       "      <td>25369.577159</td>\n",
       "      <td>1</td>\n",
       "      <td>Female</td>\n",
       "      <td>No</td>\n",
       "    </tr>\n",
       "    <tr>\n",
       "      <th>4</th>\n",
       "      <td>BUSINESS</td>\n",
       "      <td>2013</td>\n",
       "      <td>42398.554574</td>\n",
       "      <td>0</td>\n",
       "      <td>Male</td>\n",
       "      <td>Yes</td>\n",
       "    </tr>\n",
       "    <tr>\n",
       "      <th>5</th>\n",
       "      <td>HUMANITIES</td>\n",
       "      <td>2012</td>\n",
       "      <td>39253.384259</td>\n",
       "      <td>1</td>\n",
       "      <td>Female</td>\n",
       "      <td>Yes</td>\n",
       "    </tr>\n",
       "    <tr>\n",
       "      <th>6</th>\n",
       "      <td>STEM</td>\n",
       "      <td>2005</td>\n",
       "      <td>48903.966851</td>\n",
       "      <td>1</td>\n",
       "      <td>Male</td>\n",
       "      <td>No</td>\n",
       "    </tr>\n",
       "    <tr>\n",
       "      <th>7</th>\n",
       "      <td>STEM</td>\n",
       "      <td>2007</td>\n",
       "      <td>30687.019114</td>\n",
       "      <td>1</td>\n",
       "      <td>Male</td>\n",
       "      <td>No</td>\n",
       "    </tr>\n",
       "    <tr>\n",
       "      <th>8</th>\n",
       "      <td>STEM</td>\n",
       "      <td>2005</td>\n",
       "      <td>31999.816866</td>\n",
       "      <td>0</td>\n",
       "      <td>Male</td>\n",
       "      <td>No</td>\n",
       "    </tr>\n",
       "    <tr>\n",
       "      <th>9</th>\n",
       "      <td>HUMANITIES</td>\n",
       "      <td>2005</td>\n",
       "      <td>45120.419948</td>\n",
       "      <td>0</td>\n",
       "      <td>Female</td>\n",
       "      <td>Yes</td>\n",
       "    </tr>\n",
       "  </tbody>\n",
       "</table>\n",
       "</div>"
      ],
      "text/plain": [
       "        field  graduationYear    loanAmount  selectiveCollege     sex Default\n",
       "0        STEM            2006  23159.580541                 0    Male      No\n",
       "1  HUMANITIES            2010  47498.061207                 0    Male     Yes\n",
       "2  HUMANITIES            2012  29637.519526                 0  Female      No\n",
       "3        STEM            2008  25369.577159                 1  Female      No\n",
       "4    BUSINESS            2013  42398.554574                 0    Male     Yes\n",
       "5  HUMANITIES            2012  39253.384259                 1  Female     Yes\n",
       "6        STEM            2005  48903.966851                 1    Male      No\n",
       "7        STEM            2007  30687.019114                 1    Male      No\n",
       "8        STEM            2005  31999.816866                 0    Male      No\n",
       "9  HUMANITIES            2005  45120.419948                 0  Female     Yes"
      ]
     },
     "execution_count": 3,
     "metadata": {},
     "output_type": "execute_result"
    }
   ],
   "source": [
    "df.head(10)"
   ]
  },
  {
   "cell_type": "markdown",
   "metadata": {
    "id": "HKL7yy3-9Guj"
   },
   "source": [
    "For your convenience, here is a brief description of what some of the columns represent:\n",
    "    \n",
    "- field: the field in which each student is taking their studies in\n",
    "- graduationYear: the year in which each student graduated\n",
    "- loanAmount: the amount each student owns\n",
    "- selectiveCollege: binary valued column: 1 for students who attend a selective college, 0 for students that do not\n",
    "- sex: sex of the student\n"
   ]
  },
  {
   "cell_type": "markdown",
   "metadata": {
    "id": "0ZnIHQez9Guk"
   },
   "source": [
    "[Back to top](#Index:) \n",
    "\n",
    "<a id='part2'></a>\n",
    "\n",
    "### Part 2 -  Translate the categorical predictors into numerical predictors\n",
    "\n",
    "How do we handle categorical features?\n",
    "\n",
    "In most of the well-established machine learning systems, categorical variables are handled naturally. However, when dealing with decision trees using `scikit-learn`, we need to encode (translate) categorical features into numerical features.\n",
    "\n",
    "Arguably, the easiest way to achieve this is by using the `pandas` function `get_dummies()` that converts categorical variables into dummy/indicator variables.\n",
    "\n"
   ]
  },
  {
   "cell_type": "markdown",
   "metadata": {
    "id": "g63D3eMo9Gul"
   },
   "source": [
    "\n",
    "\n",
    "**Answer Question 1 on your assignment page**"
   ]
  },
  {
   "cell_type": "markdown",
   "metadata": {
    "id": "Mc175xeL9Gul"
   },
   "source": [
    "Complete the code cell below by using the function on the dataframe `df`."
   ]
  },
  {
   "cell_type": "code",
   "execution_count": 4,
   "metadata": {
    "id": "lnaFTyA_9Gum"
   },
   "outputs": [],
   "source": [
    "#encode categorical variables \n",
    "df= pd.get_dummies(df)"
   ]
  },
  {
   "cell_type": "code",
   "execution_count": 5,
   "metadata": {
    "id": "Fju1kRfWC53P"
   },
   "outputs": [
    {
     "data": {
      "text/html": [
       "<div>\n",
       "<style scoped>\n",
       "    .dataframe tbody tr th:only-of-type {\n",
       "        vertical-align: middle;\n",
       "    }\n",
       "\n",
       "    .dataframe tbody tr th {\n",
       "        vertical-align: top;\n",
       "    }\n",
       "\n",
       "    .dataframe thead th {\n",
       "        text-align: right;\n",
       "    }\n",
       "</style>\n",
       "<table border=\"1\" class=\"dataframe\">\n",
       "  <thead>\n",
       "    <tr style=\"text-align: right;\">\n",
       "      <th></th>\n",
       "      <th>graduationYear</th>\n",
       "      <th>loanAmount</th>\n",
       "      <th>selectiveCollege</th>\n",
       "      <th>field_BUSINESS</th>\n",
       "      <th>field_HUMANITIES</th>\n",
       "      <th>field_STEM</th>\n",
       "      <th>sex_Female</th>\n",
       "      <th>sex_Male</th>\n",
       "      <th>Default_No</th>\n",
       "      <th>Default_Yes</th>\n",
       "    </tr>\n",
       "  </thead>\n",
       "  <tbody>\n",
       "    <tr>\n",
       "      <th>0</th>\n",
       "      <td>2006</td>\n",
       "      <td>23159.580541</td>\n",
       "      <td>0</td>\n",
       "      <td>0</td>\n",
       "      <td>0</td>\n",
       "      <td>1</td>\n",
       "      <td>0</td>\n",
       "      <td>1</td>\n",
       "      <td>1</td>\n",
       "      <td>0</td>\n",
       "    </tr>\n",
       "    <tr>\n",
       "      <th>1</th>\n",
       "      <td>2010</td>\n",
       "      <td>47498.061207</td>\n",
       "      <td>0</td>\n",
       "      <td>0</td>\n",
       "      <td>1</td>\n",
       "      <td>0</td>\n",
       "      <td>0</td>\n",
       "      <td>1</td>\n",
       "      <td>0</td>\n",
       "      <td>1</td>\n",
       "    </tr>\n",
       "    <tr>\n",
       "      <th>2</th>\n",
       "      <td>2012</td>\n",
       "      <td>29637.519526</td>\n",
       "      <td>0</td>\n",
       "      <td>0</td>\n",
       "      <td>1</td>\n",
       "      <td>0</td>\n",
       "      <td>1</td>\n",
       "      <td>0</td>\n",
       "      <td>1</td>\n",
       "      <td>0</td>\n",
       "    </tr>\n",
       "    <tr>\n",
       "      <th>3</th>\n",
       "      <td>2008</td>\n",
       "      <td>25369.577159</td>\n",
       "      <td>1</td>\n",
       "      <td>0</td>\n",
       "      <td>0</td>\n",
       "      <td>1</td>\n",
       "      <td>1</td>\n",
       "      <td>0</td>\n",
       "      <td>1</td>\n",
       "      <td>0</td>\n",
       "    </tr>\n",
       "    <tr>\n",
       "      <th>4</th>\n",
       "      <td>2013</td>\n",
       "      <td>42398.554574</td>\n",
       "      <td>0</td>\n",
       "      <td>1</td>\n",
       "      <td>0</td>\n",
       "      <td>0</td>\n",
       "      <td>0</td>\n",
       "      <td>1</td>\n",
       "      <td>0</td>\n",
       "      <td>1</td>\n",
       "    </tr>\n",
       "  </tbody>\n",
       "</table>\n",
       "</div>"
      ],
      "text/plain": [
       "   graduationYear    loanAmount  selectiveCollege  field_BUSINESS  \\\n",
       "0            2006  23159.580541                 0               0   \n",
       "1            2010  47498.061207                 0               0   \n",
       "2            2012  29637.519526                 0               0   \n",
       "3            2008  25369.577159                 1               0   \n",
       "4            2013  42398.554574                 0               1   \n",
       "\n",
       "   field_HUMANITIES  field_STEM  sex_Female  sex_Male  Default_No  Default_Yes  \n",
       "0                 0           1           0         1           1            0  \n",
       "1                 1           0           0         1           0            1  \n",
       "2                 1           0           1         0           1            0  \n",
       "3                 0           1           1         0           1            0  \n",
       "4                 0           0           0         1           0            1  "
      ]
     },
     "execution_count": 5,
     "metadata": {},
     "output_type": "execute_result"
    }
   ],
   "source": [
    "df.head()"
   ]
  },
  {
   "cell_type": "markdown",
   "metadata": {
    "id": "nNSvpdUm9Gun"
   },
   "source": [
    "Because we are only interested in the students that will apply for a student loan,  we will only need to keep the column `Default_Yes`.\n",
    "\n",
    "Complete the code cell below by using the function `.drop()` on `df` to eliminate the *column* `Default_no`. The `axis` parameter in `.drop()` controls whether the function acts on rows or columns.\n",
    "\n"
   ]
  },
  {
   "cell_type": "code",
   "execution_count": 6,
   "metadata": {
    "id": "XToIUfPh9Gun"
   },
   "outputs": [],
   "source": [
    "#drop Default_No\n",
    "df.drop(['Default_No'],axis=1,inplace=True) # axis=1, refers to columns; inplace=True, operation done in place.\n"
   ]
  },
  {
   "cell_type": "markdown",
   "metadata": {
    "id": "97e-qkoI9Guo"
   },
   "source": [
    "Run the code cell below to visualise the new dataframe with the encoded columns."
   ]
  },
  {
   "cell_type": "code",
   "execution_count": 7,
   "metadata": {
    "id": "AeQWdeRn9Guo"
   },
   "outputs": [
    {
     "data": {
      "text/html": [
       "<div>\n",
       "<style scoped>\n",
       "    .dataframe tbody tr th:only-of-type {\n",
       "        vertical-align: middle;\n",
       "    }\n",
       "\n",
       "    .dataframe tbody tr th {\n",
       "        vertical-align: top;\n",
       "    }\n",
       "\n",
       "    .dataframe thead th {\n",
       "        text-align: right;\n",
       "    }\n",
       "</style>\n",
       "<table border=\"1\" class=\"dataframe\">\n",
       "  <thead>\n",
       "    <tr style=\"text-align: right;\">\n",
       "      <th></th>\n",
       "      <th>graduationYear</th>\n",
       "      <th>loanAmount</th>\n",
       "      <th>selectiveCollege</th>\n",
       "      <th>field_BUSINESS</th>\n",
       "      <th>field_HUMANITIES</th>\n",
       "      <th>field_STEM</th>\n",
       "      <th>sex_Female</th>\n",
       "      <th>sex_Male</th>\n",
       "      <th>Default_Yes</th>\n",
       "    </tr>\n",
       "  </thead>\n",
       "  <tbody>\n",
       "    <tr>\n",
       "      <th>0</th>\n",
       "      <td>2006</td>\n",
       "      <td>23159.580541</td>\n",
       "      <td>0</td>\n",
       "      <td>0</td>\n",
       "      <td>0</td>\n",
       "      <td>1</td>\n",
       "      <td>0</td>\n",
       "      <td>1</td>\n",
       "      <td>0</td>\n",
       "    </tr>\n",
       "    <tr>\n",
       "      <th>1</th>\n",
       "      <td>2010</td>\n",
       "      <td>47498.061207</td>\n",
       "      <td>0</td>\n",
       "      <td>0</td>\n",
       "      <td>1</td>\n",
       "      <td>0</td>\n",
       "      <td>0</td>\n",
       "      <td>1</td>\n",
       "      <td>1</td>\n",
       "    </tr>\n",
       "    <tr>\n",
       "      <th>2</th>\n",
       "      <td>2012</td>\n",
       "      <td>29637.519526</td>\n",
       "      <td>0</td>\n",
       "      <td>0</td>\n",
       "      <td>1</td>\n",
       "      <td>0</td>\n",
       "      <td>1</td>\n",
       "      <td>0</td>\n",
       "      <td>0</td>\n",
       "    </tr>\n",
       "    <tr>\n",
       "      <th>3</th>\n",
       "      <td>2008</td>\n",
       "      <td>25369.577159</td>\n",
       "      <td>1</td>\n",
       "      <td>0</td>\n",
       "      <td>0</td>\n",
       "      <td>1</td>\n",
       "      <td>1</td>\n",
       "      <td>0</td>\n",
       "      <td>0</td>\n",
       "    </tr>\n",
       "    <tr>\n",
       "      <th>4</th>\n",
       "      <td>2013</td>\n",
       "      <td>42398.554574</td>\n",
       "      <td>0</td>\n",
       "      <td>1</td>\n",
       "      <td>0</td>\n",
       "      <td>0</td>\n",
       "      <td>0</td>\n",
       "      <td>1</td>\n",
       "      <td>1</td>\n",
       "    </tr>\n",
       "    <tr>\n",
       "      <th>...</th>\n",
       "      <td>...</td>\n",
       "      <td>...</td>\n",
       "      <td>...</td>\n",
       "      <td>...</td>\n",
       "      <td>...</td>\n",
       "      <td>...</td>\n",
       "      <td>...</td>\n",
       "      <td>...</td>\n",
       "      <td>...</td>\n",
       "    </tr>\n",
       "    <tr>\n",
       "      <th>1995</th>\n",
       "      <td>2006</td>\n",
       "      <td>34593.557949</td>\n",
       "      <td>0</td>\n",
       "      <td>1</td>\n",
       "      <td>0</td>\n",
       "      <td>0</td>\n",
       "      <td>1</td>\n",
       "      <td>0</td>\n",
       "      <td>0</td>\n",
       "    </tr>\n",
       "    <tr>\n",
       "      <th>1996</th>\n",
       "      <td>2009</td>\n",
       "      <td>35146.672010</td>\n",
       "      <td>0</td>\n",
       "      <td>0</td>\n",
       "      <td>1</td>\n",
       "      <td>0</td>\n",
       "      <td>1</td>\n",
       "      <td>0</td>\n",
       "      <td>1</td>\n",
       "    </tr>\n",
       "    <tr>\n",
       "      <th>1997</th>\n",
       "      <td>2012</td>\n",
       "      <td>47883.543619</td>\n",
       "      <td>0</td>\n",
       "      <td>0</td>\n",
       "      <td>0</td>\n",
       "      <td>1</td>\n",
       "      <td>0</td>\n",
       "      <td>1</td>\n",
       "      <td>0</td>\n",
       "    </tr>\n",
       "    <tr>\n",
       "      <th>1998</th>\n",
       "      <td>2006</td>\n",
       "      <td>42817.102001</td>\n",
       "      <td>1</td>\n",
       "      <td>1</td>\n",
       "      <td>0</td>\n",
       "      <td>0</td>\n",
       "      <td>1</td>\n",
       "      <td>0</td>\n",
       "      <td>0</td>\n",
       "    </tr>\n",
       "    <tr>\n",
       "      <th>1999</th>\n",
       "      <td>2008</td>\n",
       "      <td>47527.628215</td>\n",
       "      <td>0</td>\n",
       "      <td>1</td>\n",
       "      <td>0</td>\n",
       "      <td>0</td>\n",
       "      <td>0</td>\n",
       "      <td>1</td>\n",
       "      <td>0</td>\n",
       "    </tr>\n",
       "  </tbody>\n",
       "</table>\n",
       "<p>2000 rows × 9 columns</p>\n",
       "</div>"
      ],
      "text/plain": [
       "      graduationYear    loanAmount  selectiveCollege  field_BUSINESS  \\\n",
       "0               2006  23159.580541                 0               0   \n",
       "1               2010  47498.061207                 0               0   \n",
       "2               2012  29637.519526                 0               0   \n",
       "3               2008  25369.577159                 1               0   \n",
       "4               2013  42398.554574                 0               1   \n",
       "...              ...           ...               ...             ...   \n",
       "1995            2006  34593.557949                 0               1   \n",
       "1996            2009  35146.672010                 0               0   \n",
       "1997            2012  47883.543619                 0               0   \n",
       "1998            2006  42817.102001                 1               1   \n",
       "1999            2008  47527.628215                 0               1   \n",
       "\n",
       "      field_HUMANITIES  field_STEM  sex_Female  sex_Male  Default_Yes  \n",
       "0                    0           1           0         1            0  \n",
       "1                    1           0           0         1            1  \n",
       "2                    1           0           1         0            0  \n",
       "3                    0           1           1         0            0  \n",
       "4                    0           0           0         1            1  \n",
       "...                ...         ...         ...       ...          ...  \n",
       "1995                 0           0           1         0            0  \n",
       "1996                 1           0           1         0            1  \n",
       "1997                 0           1           0         1            0  \n",
       "1998                 0           0           1         0            0  \n",
       "1999                 0           0           0         1            0  \n",
       "\n",
       "[2000 rows x 9 columns]"
      ]
     },
     "execution_count": 7,
     "metadata": {},
     "output_type": "execute_result"
    }
   ],
   "source": [
    "df"
   ]
  },
  {
   "cell_type": "markdown",
   "metadata": {
    "id": "HxEqLnRl9Gup"
   },
   "source": [
    "[Back to top](#Index:) \n",
    "\n",
    "<a id='part3'></a> \n",
    "\n",
    "### Part 3 - Shuffle the data set\n",
    "\n",
    "Now, we want to shuffle the data: one way of doing this is by converting our dataframe to a `NumPy` array and then using the `.shuffle()` function to achieve this. Run the code cell below to convert the `df` into a `NumPy` array."
   ]
  },
  {
   "cell_type": "code",
   "execution_count": 8,
   "metadata": {
    "id": "gG8ClEfs9Gup"
   },
   "outputs": [],
   "source": [
    "#convert df into a NumPy array\n",
    "Xy=np.array(df)"
   ]
  },
  {
   "cell_type": "markdown",
   "metadata": {
    "id": "EYllYcem9Guq"
   },
   "source": [
    "For reproducibility, set the random seed = 2. You can do this by using the `NumPy` function `random.seed()`. Assign your seed to the variable `seed`. Next, complete the code cell below by using the function `random.shuffle()` on `Xy`."
   ]
  },
  {
   "cell_type": "code",
   "execution_count": 9,
   "metadata": {
    "id": "YpHSme5r9Guq"
   },
   "outputs": [],
   "source": [
    "# set the random seed for reproducibility\n",
    "seed = np.random.seed(2)\n",
    "\n",
    "#shuffle the data\n",
    "np.random.shuffle(Xy)"
   ]
  },
  {
   "cell_type": "markdown",
   "metadata": {
    "id": "iG9o0leq9Gur"
   },
   "source": [
    "Before splitting the data into a training set, a test set, and a validation set, we need to divide `Xy` into two arrays: the first one, `X`, a 2D array containing all the predictors and the second, `y`, is a 1D array with the response. \n",
    "\n",
    "Run the code cell below to generate `X`. Complete the remaining code to define `y`."
   ]
  },
  {
   "cell_type": "code",
   "execution_count": 10,
   "metadata": {
    "id": "Zds2-sFW9Gur"
   },
   "outputs": [],
   "source": [
    "X=Xy[:,:-1]"
   ]
  },
  {
   "cell_type": "code",
   "execution_count": 11,
   "metadata": {
    "id": "XiFgXv1J9Gus"
   },
   "outputs": [],
   "source": [
    "#define y\n",
    "y= Xy[:,-1]"
   ]
  },
  {
   "cell_type": "markdown",
   "metadata": {
    "id": "-YyHm02J9Gus"
   },
   "source": [
    "Because we need to split the data into sets with certain dimensions according to the instructions given above, it would be useful to know how big our X and y are.\n",
    "\n",
    "Run the code cell below to retrieve this information."
   ]
  },
  {
   "cell_type": "code",
   "execution_count": 12,
   "metadata": {
    "id": "RwYK2ppa9Gut"
   },
   "outputs": [
    {
     "name": "stdout",
     "output_type": "stream",
     "text": [
      "2000\n",
      "2000\n"
     ]
    }
   ],
   "source": [
    "print(len(X))\n",
    "print(len(y))"
   ]
  },
  {
   "cell_type": "markdown",
   "metadata": {
    "id": "pfvxGr1N9Gut"
   },
   "source": [
    "Next, we need to split the messages  into 50% training data, 25% validation data, and 25% test data.\n",
    "\n",
    "Run the code below to split `X` into training, validation and test sets."
   ]
  },
  {
   "cell_type": "code",
   "execution_count": 13,
   "metadata": {
    "id": "dJCumacp9Gut"
   },
   "outputs": [],
   "source": [
    "trainsize = 1000\n",
    "trainplusvalsize = 500\n",
    "X_train=X[:trainsize]\n",
    "X_val=X[trainsize:trainsize + trainplusvalsize]\n",
    "X_test=X[trainsize + trainplusvalsize:]\n"
   ]
  },
  {
   "cell_type": "markdown",
   "metadata": {
    "id": "yLxE2uzH9Guu"
   },
   "source": [
    "Following the syntax used above, complete the cell below to split `y` into training set, a validation set, and a test set.\n",
    "\n",
    "**HINT:** Remember that `y` is a 1D array!"
   ]
  },
  {
   "cell_type": "code",
   "execution_count": 14,
   "metadata": {
    "id": "rSfh8fmY9Guu"
   },
   "outputs": [],
   "source": [
    "y_train= y[:trainsize] # selects the first trainsize elements of y for the training set\n",
    "y_val= y[trainsize:trainsize + trainplusvalsize] # selects the next trainplusvalsize elements of y for the validation set\n",
    "y_test= y[trainsize + trainplusvalsize:] # selects the remaining elements of y for the test set.\n"
   ]
  },
  {
   "cell_type": "markdown",
   "metadata": {
    "id": "yiKYTlUT9Guu"
   },
   "source": [
    "[Back to top](#Index:)\n",
    "\n",
    "<a id='part4'></a>\n",
    "\n",
    "### Part 4 - Calculate the accuracy of the Naïve benchmark on the validation set\n",
    "\n",
    "In this part, we want to calculate the accuracy of the Naïve benchmarch on both the `y` training and validation sets. In other words, we want to understand how accurate our predictions would be if we assumed that no one defaulted on their student loans.\n",
    "\n",
    "Accuracy can be computed by comparing actual test set values and predicted values. In this example, the formulae to compute accuracy are:\n",
    "\n",
    "$$\\text{acc_train} = 1 - \\frac{\\sum{\\text{y_train}}}{\\text{len(y_train)}},$$\n",
    "\n",
    "$$ \\text{acc_val} = 1 - \\frac{\\sum{\\text{y_val}}}{\\text{len(y_val)}}.$$\n",
    "\n",
    "Note that $\\frac{\\sum{\\text{y_train}}}{\\text{len(y_train)}}$ reflects the proportion of students who defaulted on their loan in the training set, and $\\frac{\\sum{\\text{y_val}}}{\\text{len(y_val)}}$ reflects the proportion of students who defaulted on their loan in the validation set.\n",
    "\n",
    "Compute the required accuracy in the code cell below."
   ]
  },
  {
   "cell_type": "code",
   "execution_count": 15,
   "metadata": {
    "id": "ItbROOVd9Guv"
   },
   "outputs": [],
   "source": [
    "acc_train = 1- sum(y_train) / len(y_train)\n",
    "acc_val = 1- sum(y_val) / len(y_val)\n"
   ]
  },
  {
   "cell_type": "markdown",
   "metadata": {
    "id": "_rModjkD9Guv"
   },
   "source": [
    "Run the code cell below to print the results to screen. What can you say about the baseline accuracy if we predict that no students defaulted (i.e., everyone belongs to the majority class)?"
   ]
  },
  {
   "cell_type": "code",
   "execution_count": 16,
   "metadata": {
    "id": "15n3URhg9Guv",
    "scrolled": true
   },
   "outputs": [
    {
     "name": "stdout",
     "output_type": "stream",
     "text": [
      "Naïve guess train and validation 0.778 0.75\n"
     ]
    }
   ],
   "source": [
    "print ( 'Naïve guess train and validation', acc_train , acc_val)"
   ]
  },
  {
   "cell_type": "markdown",
   "metadata": {
    "id": "Pj4h66c59Guv"
   },
   "source": [
    "\n",
    "**Answer Questions 2 and 3 on your assignment page**"
   ]
  },
  {
   "cell_type": "markdown",
   "metadata": {
    "id": "y0JVnzoL9Guw"
   },
   "source": [
    "[Back to top](#Index:) \n",
    "\n",
    "<a id='part5'></a>\n",
    "\n",
    "### Part 5 - Train a decision tree using the default settings\n",
    "\n",
    "The easiest way to create a decision tree model is by using the function `DecisionTreeClassifier()`. This function is part of the `tree` module of `Scikit-learn` (`sklearn`).\n",
    "\n",
    "As we will see, there are ways to improve the accuracy of our tree. For now, let's build a classifier using the default settings.\n",
    "\n",
    "In the code cell below, use `DecisionTreeClassifier()` to define a classifier `clf` . Next, use the method `fit()` of your classifier to fit your training sets, `X_train` and `y_train`."
   ]
  },
  {
   "cell_type": "code",
   "execution_count": 17,
   "metadata": {
    "id": "LuhGNtco9Guw"
   },
   "outputs": [
    {
     "data": {
      "text/html": [
       "<style>#sk-container-id-1 {color: black;background-color: white;}#sk-container-id-1 pre{padding: 0;}#sk-container-id-1 div.sk-toggleable {background-color: white;}#sk-container-id-1 label.sk-toggleable__label {cursor: pointer;display: block;width: 100%;margin-bottom: 0;padding: 0.3em;box-sizing: border-box;text-align: center;}#sk-container-id-1 label.sk-toggleable__label-arrow:before {content: \"▸\";float: left;margin-right: 0.25em;color: #696969;}#sk-container-id-1 label.sk-toggleable__label-arrow:hover:before {color: black;}#sk-container-id-1 div.sk-estimator:hover label.sk-toggleable__label-arrow:before {color: black;}#sk-container-id-1 div.sk-toggleable__content {max-height: 0;max-width: 0;overflow: hidden;text-align: left;background-color: #f0f8ff;}#sk-container-id-1 div.sk-toggleable__content pre {margin: 0.2em;color: black;border-radius: 0.25em;background-color: #f0f8ff;}#sk-container-id-1 input.sk-toggleable__control:checked~div.sk-toggleable__content {max-height: 200px;max-width: 100%;overflow: auto;}#sk-container-id-1 input.sk-toggleable__control:checked~label.sk-toggleable__label-arrow:before {content: \"▾\";}#sk-container-id-1 div.sk-estimator input.sk-toggleable__control:checked~label.sk-toggleable__label {background-color: #d4ebff;}#sk-container-id-1 div.sk-label input.sk-toggleable__control:checked~label.sk-toggleable__label {background-color: #d4ebff;}#sk-container-id-1 input.sk-hidden--visually {border: 0;clip: rect(1px 1px 1px 1px);clip: rect(1px, 1px, 1px, 1px);height: 1px;margin: -1px;overflow: hidden;padding: 0;position: absolute;width: 1px;}#sk-container-id-1 div.sk-estimator {font-family: monospace;background-color: #f0f8ff;border: 1px dotted black;border-radius: 0.25em;box-sizing: border-box;margin-bottom: 0.5em;}#sk-container-id-1 div.sk-estimator:hover {background-color: #d4ebff;}#sk-container-id-1 div.sk-parallel-item::after {content: \"\";width: 100%;border-bottom: 1px solid gray;flex-grow: 1;}#sk-container-id-1 div.sk-label:hover label.sk-toggleable__label {background-color: #d4ebff;}#sk-container-id-1 div.sk-serial::before {content: \"\";position: absolute;border-left: 1px solid gray;box-sizing: border-box;top: 0;bottom: 0;left: 50%;z-index: 0;}#sk-container-id-1 div.sk-serial {display: flex;flex-direction: column;align-items: center;background-color: white;padding-right: 0.2em;padding-left: 0.2em;position: relative;}#sk-container-id-1 div.sk-item {position: relative;z-index: 1;}#sk-container-id-1 div.sk-parallel {display: flex;align-items: stretch;justify-content: center;background-color: white;position: relative;}#sk-container-id-1 div.sk-item::before, #sk-container-id-1 div.sk-parallel-item::before {content: \"\";position: absolute;border-left: 1px solid gray;box-sizing: border-box;top: 0;bottom: 0;left: 50%;z-index: -1;}#sk-container-id-1 div.sk-parallel-item {display: flex;flex-direction: column;z-index: 1;position: relative;background-color: white;}#sk-container-id-1 div.sk-parallel-item:first-child::after {align-self: flex-end;width: 50%;}#sk-container-id-1 div.sk-parallel-item:last-child::after {align-self: flex-start;width: 50%;}#sk-container-id-1 div.sk-parallel-item:only-child::after {width: 0;}#sk-container-id-1 div.sk-dashed-wrapped {border: 1px dashed gray;margin: 0 0.4em 0.5em 0.4em;box-sizing: border-box;padding-bottom: 0.4em;background-color: white;}#sk-container-id-1 div.sk-label label {font-family: monospace;font-weight: bold;display: inline-block;line-height: 1.2em;}#sk-container-id-1 div.sk-label-container {text-align: center;}#sk-container-id-1 div.sk-container {/* jupyter's `normalize.less` sets `[hidden] { display: none; }` but bootstrap.min.css set `[hidden] { display: none !important; }` so we also need the `!important` here to be able to override the default hidden behavior on the sphinx rendered scikit-learn.org. See: https://github.com/scikit-learn/scikit-learn/issues/21755 */display: inline-block !important;position: relative;}#sk-container-id-1 div.sk-text-repr-fallback {display: none;}</style><div id=\"sk-container-id-1\" class=\"sk-top-container\"><div class=\"sk-text-repr-fallback\"><pre>DecisionTreeClassifier()</pre><b>In a Jupyter environment, please rerun this cell to show the HTML representation or trust the notebook. <br />On GitHub, the HTML representation is unable to render, please try loading this page with nbviewer.org.</b></div><div class=\"sk-container\" hidden><div class=\"sk-item\"><div class=\"sk-estimator sk-toggleable\"><input class=\"sk-toggleable__control sk-hidden--visually\" id=\"sk-estimator-id-1\" type=\"checkbox\" checked><label for=\"sk-estimator-id-1\" class=\"sk-toggleable__label sk-toggleable__label-arrow\">DecisionTreeClassifier</label><div class=\"sk-toggleable__content\"><pre>DecisionTreeClassifier()</pre></div></div></div></div></div>"
      ],
      "text/plain": [
       "DecisionTreeClassifier()"
      ]
     },
     "execution_count": 17,
     "metadata": {},
     "output_type": "execute_result"
    }
   ],
   "source": [
    "from sklearn.tree import DecisionTreeClassifier\n",
    "\n",
    "clf = DecisionTreeClassifier() #This line creates a new decision tree classifier with the default settings. It assigns this classifier to the variable clf.\n",
    "#Fit X_train and y_train \n",
    "clf.fit(X_train,y_train) #This line trains the classifier using the training data."
   ]
  },
  {
   "cell_type": "markdown",
   "metadata": {
    "id": "GkVsQI0t9Guw"
   },
   "source": [
    "Run the code cell below to visualize the new scores on the training and validation sets."
   ]
  },
  {
   "cell_type": "code",
   "execution_count": 19,
   "metadata": {
    "id": "UpaEF2B09Guw"
   },
   "outputs": [
    {
     "name": "stdout",
     "output_type": "stream",
     "text": [
      "Full tree guess train/validation  1.0 0.816\n"
     ]
    }
   ],
   "source": [
    "print ( 'Full tree guess train/validation ',clf.score(X_train, y_train),clf.score(X_val, y_val))\n"
   ]
  },
  {
   "cell_type": "markdown",
   "metadata": {
    "id": "MvM8GPx89Gux"
   },
   "source": [
    "\n",
    "**Answer Questions 4 and 5 on your assignment page**"
   ]
  },
  {
   "cell_type": "markdown",
   "metadata": {
    "id": "xVOXzy699Gux"
   },
   "source": [
    "[Back to top](#Index:) \n",
    "\n",
    "<a id='part6'></a>\n",
    "\n",
    "### Part 6 - Train a decision tree using  different maximum depths for the tree\n",
    "\n",
    "One way we can optimise the decision tree algorithm is by adjusting the maximum depth of the tree. This process is an example of pre-pruning. \n",
    "\n",
    "In the following example, we will compute the score for  a decision tree on the same data with `max_depth = 15`.\n",
    "\n",
    "We begin by defining the variables `bestdepth` and `bestscore`, assuming the *worst case scenario*. Run the code cell below to initialise the variable as desired."
   ]
  },
  {
   "cell_type": "code",
   "execution_count": 20,
   "metadata": {
    "id": "ZBpqVdnw9Gux"
   },
   "outputs": [],
   "source": [
    "bestdepth=-1\n",
    "bestscore=0\n",
    "max_depth = 15"
   ]
  },
  {
   "cell_type": "markdown",
   "metadata": {
    "id": "UiucXUTQ9Guy"
   },
   "source": [
    "Next, we will write a for loop to progressively compute the new train/validation scores for different depths.\n",
    "\n",
    "Here is the pseudocode for the for loop you will need to implement:\n",
    "\n",
    "```python\n",
    "\n",
    "for i in range(max_depth):\n",
    "    # compute new classifier clf with depth = max_depth = i+1\n",
    "    # fit the X and y training sets with the new classifier\n",
    "    # compute the updated trainscore using .score() on the training set \n",
    "    # compute the updated valscore using .score() on the validation set\n",
    "    # print the scores\n",
    "    print ( 'Depth:', i+1, 'Training Score:', trainscore, 'Validation Score:', valscore)\n",
    "     \n",
    "    # if valscore is better than bestscore:\n",
    "        # update the value of bestscore\n",
    "        # increase bestdepth by one unit\n",
    "    \n",
    "```"
   ]
  },
  {
   "cell_type": "code",
   "execution_count": 23,
   "metadata": {
    "id": "xj2qWaZS9Guy",
    "scrolled": true
   },
   "outputs": [
    {
     "name": "stdout",
     "output_type": "stream",
     "text": [
      "Depth: 1 Train Score: 0.839 Validation Score: 0.81\n",
      "Depth: 2 Train Score: 0.891 Validation Score: 0.872\n",
      "Depth: 3 Train Score: 0.891 Validation Score: 0.872\n",
      "Depth: 4 Train Score: 0.891 Validation Score: 0.872\n",
      "Depth: 5 Train Score: 0.896 Validation Score: 0.86\n",
      "Depth: 6 Train Score: 0.914 Validation Score: 0.84\n",
      "Depth: 7 Train Score: 0.923 Validation Score: 0.842\n",
      "Depth: 8 Train Score: 0.933 Validation Score: 0.838\n",
      "Depth: 9 Train Score: 0.95 Validation Score: 0.814\n",
      "Depth: 10 Train Score: 0.968 Validation Score: 0.816\n",
      "Depth: 11 Train Score: 0.978 Validation Score: 0.816\n",
      "Depth: 12 Train Score: 0.987 Validation Score: 0.818\n",
      "Depth: 13 Train Score: 0.993 Validation Score: 0.82\n",
      "Depth: 14 Train Score: 0.996 Validation Score: 0.814\n",
      "Depth: 15 Train Score: 0.998 Validation Score: 0.818\n"
     ]
    }
   ],
   "source": [
    "for i in range(max_depth):\n",
    "    clf = DecisionTreeClassifier(max_depth = i+1)\n",
    "    #fit the training sets\n",
    "    clf.fit(X_train,y_train)\n",
    "    #update trainscore\n",
    "    trainscore= clf.score(X_train,y_train)\n",
    "    #update valscore\n",
    "    valscore= clf.score(X_val,y_val)\n",
    "    print( 'Depth:', i+1, 'Train Score:', trainscore, 'Validation Score:', valscore)\n",
    "    if  valscore > bestscore  :\n",
    "        #update bestscore\n",
    "        bestscore= valscore\n",
    "        \n",
    "        #update depth\n",
    "        bestdepth= i+1\n"
   ]
  },
  {
   "cell_type": "markdown",
   "metadata": {
    "id": "W8cG_sH39Guy"
   },
   "source": [
    "Choose the most appropriate tree depth.\n",
    "\n",
    "**Answer Questions 6 and 7 on your assignment page**"
   ]
  },
  {
   "cell_type": "markdown",
   "metadata": {
    "id": "b1lzsV-O9Guy"
   },
   "source": [
    "[Back to top](#Index:) \n",
    "\n",
    "<a id='part7'></a>\n",
    "\n",
    "### Part 7 - Retrain the best classifier using all the samples\n",
    "\n",
    "For the last part of this assignment, retrain the best classifier using all the samples from the training and the validation sets *together*. \n",
    "\n",
    "We begin by re-defining our `X_trainval` and `y_trainval`. Below, we have defined `X_trainval` for you."
   ]
  },
  {
   "cell_type": "code",
   "execution_count": 24,
   "metadata": {
    "id": "wKJW7bDl9Guy"
   },
   "outputs": [],
   "source": [
    "X_trainval=X[:trainsize + trainplusvalsize,:]"
   ]
  },
  {
   "cell_type": "markdown",
   "metadata": {
    "id": "tB_d-usf9Guz"
   },
   "source": [
    "Following the syntax given above, define `y_trainval`.\n",
    "\n",
    "Again, remember that `y` is a 1D array! "
   ]
  },
  {
   "cell_type": "code",
   "execution_count": 25,
   "metadata": {
    "id": "6Vwxm3nI9Guz"
   },
   "outputs": [],
   "source": [
    "y_trainval = y[:trainsize + trainplusvalsize]\n"
   ]
  },
  {
   "cell_type": "markdown",
   "metadata": {
    "id": "LJvghQap9Guz"
   },
   "source": [
    "To re-train the sets using the best classifier, re-define `clf`  using `DecisionTreeClassifier()` with `max_depth` equal to the `bestdepth` computed in Part 6. Next, fit the classifiers to the sets just defined above.\n",
    "\n",
    "Complete the code cell below:"
   ]
  },
  {
   "cell_type": "code",
   "execution_count": 26,
   "metadata": {
    "id": "bmzRGX829Guz"
   },
   "outputs": [
    {
     "data": {
      "text/html": [
       "<style>#sk-container-id-2 {color: black;background-color: white;}#sk-container-id-2 pre{padding: 0;}#sk-container-id-2 div.sk-toggleable {background-color: white;}#sk-container-id-2 label.sk-toggleable__label {cursor: pointer;display: block;width: 100%;margin-bottom: 0;padding: 0.3em;box-sizing: border-box;text-align: center;}#sk-container-id-2 label.sk-toggleable__label-arrow:before {content: \"▸\";float: left;margin-right: 0.25em;color: #696969;}#sk-container-id-2 label.sk-toggleable__label-arrow:hover:before {color: black;}#sk-container-id-2 div.sk-estimator:hover label.sk-toggleable__label-arrow:before {color: black;}#sk-container-id-2 div.sk-toggleable__content {max-height: 0;max-width: 0;overflow: hidden;text-align: left;background-color: #f0f8ff;}#sk-container-id-2 div.sk-toggleable__content pre {margin: 0.2em;color: black;border-radius: 0.25em;background-color: #f0f8ff;}#sk-container-id-2 input.sk-toggleable__control:checked~div.sk-toggleable__content {max-height: 200px;max-width: 100%;overflow: auto;}#sk-container-id-2 input.sk-toggleable__control:checked~label.sk-toggleable__label-arrow:before {content: \"▾\";}#sk-container-id-2 div.sk-estimator input.sk-toggleable__control:checked~label.sk-toggleable__label {background-color: #d4ebff;}#sk-container-id-2 div.sk-label input.sk-toggleable__control:checked~label.sk-toggleable__label {background-color: #d4ebff;}#sk-container-id-2 input.sk-hidden--visually {border: 0;clip: rect(1px 1px 1px 1px);clip: rect(1px, 1px, 1px, 1px);height: 1px;margin: -1px;overflow: hidden;padding: 0;position: absolute;width: 1px;}#sk-container-id-2 div.sk-estimator {font-family: monospace;background-color: #f0f8ff;border: 1px dotted black;border-radius: 0.25em;box-sizing: border-box;margin-bottom: 0.5em;}#sk-container-id-2 div.sk-estimator:hover {background-color: #d4ebff;}#sk-container-id-2 div.sk-parallel-item::after {content: \"\";width: 100%;border-bottom: 1px solid gray;flex-grow: 1;}#sk-container-id-2 div.sk-label:hover label.sk-toggleable__label {background-color: #d4ebff;}#sk-container-id-2 div.sk-serial::before {content: \"\";position: absolute;border-left: 1px solid gray;box-sizing: border-box;top: 0;bottom: 0;left: 50%;z-index: 0;}#sk-container-id-2 div.sk-serial {display: flex;flex-direction: column;align-items: center;background-color: white;padding-right: 0.2em;padding-left: 0.2em;position: relative;}#sk-container-id-2 div.sk-item {position: relative;z-index: 1;}#sk-container-id-2 div.sk-parallel {display: flex;align-items: stretch;justify-content: center;background-color: white;position: relative;}#sk-container-id-2 div.sk-item::before, #sk-container-id-2 div.sk-parallel-item::before {content: \"\";position: absolute;border-left: 1px solid gray;box-sizing: border-box;top: 0;bottom: 0;left: 50%;z-index: -1;}#sk-container-id-2 div.sk-parallel-item {display: flex;flex-direction: column;z-index: 1;position: relative;background-color: white;}#sk-container-id-2 div.sk-parallel-item:first-child::after {align-self: flex-end;width: 50%;}#sk-container-id-2 div.sk-parallel-item:last-child::after {align-self: flex-start;width: 50%;}#sk-container-id-2 div.sk-parallel-item:only-child::after {width: 0;}#sk-container-id-2 div.sk-dashed-wrapped {border: 1px dashed gray;margin: 0 0.4em 0.5em 0.4em;box-sizing: border-box;padding-bottom: 0.4em;background-color: white;}#sk-container-id-2 div.sk-label label {font-family: monospace;font-weight: bold;display: inline-block;line-height: 1.2em;}#sk-container-id-2 div.sk-label-container {text-align: center;}#sk-container-id-2 div.sk-container {/* jupyter's `normalize.less` sets `[hidden] { display: none; }` but bootstrap.min.css set `[hidden] { display: none !important; }` so we also need the `!important` here to be able to override the default hidden behavior on the sphinx rendered scikit-learn.org. See: https://github.com/scikit-learn/scikit-learn/issues/21755 */display: inline-block !important;position: relative;}#sk-container-id-2 div.sk-text-repr-fallback {display: none;}</style><div id=\"sk-container-id-2\" class=\"sk-top-container\"><div class=\"sk-text-repr-fallback\"><pre>DecisionTreeClassifier(max_depth=2)</pre><b>In a Jupyter environment, please rerun this cell to show the HTML representation or trust the notebook. <br />On GitHub, the HTML representation is unable to render, please try loading this page with nbviewer.org.</b></div><div class=\"sk-container\" hidden><div class=\"sk-item\"><div class=\"sk-estimator sk-toggleable\"><input class=\"sk-toggleable__control sk-hidden--visually\" id=\"sk-estimator-id-2\" type=\"checkbox\" checked><label for=\"sk-estimator-id-2\" class=\"sk-toggleable__label sk-toggleable__label-arrow\">DecisionTreeClassifier</label><div class=\"sk-toggleable__content\"><pre>DecisionTreeClassifier(max_depth=2)</pre></div></div></div></div></div>"
      ],
      "text/plain": [
       "DecisionTreeClassifier(max_depth=2)"
      ]
     },
     "execution_count": 26,
     "metadata": {},
     "output_type": "execute_result"
    }
   ],
   "source": [
    "clf = DecisionTreeClassifier(max_depth=bestdepth)\n",
    "#fitX_trainval and y_trainval\n",
    "clf.fit(X_trainval,y_trainval)\n"
   ]
  },
  {
   "cell_type": "markdown",
   "metadata": {
    "id": "OE85FBam9Guz"
   },
   "source": [
    "Finally, re-train the best classifier on all samples (including the test set).\n",
    "\n",
    "Do so by using the function `score()` to compute the score on the test set. Assign the result to `test_score`.\n",
    "\n",
    "Please note that once you include the test set in training, its score is no longer a good predictor of the accuracy of the model. Including the test set in training can, however, improve the generalisability of the model.\n",
    " \n",
    " \n"
   ]
  },
  {
   "cell_type": "code",
   "execution_count": 27,
   "metadata": {},
   "outputs": [
    {
     "data": {
      "text/html": [
       "<style>#sk-container-id-3 {color: black;background-color: white;}#sk-container-id-3 pre{padding: 0;}#sk-container-id-3 div.sk-toggleable {background-color: white;}#sk-container-id-3 label.sk-toggleable__label {cursor: pointer;display: block;width: 100%;margin-bottom: 0;padding: 0.3em;box-sizing: border-box;text-align: center;}#sk-container-id-3 label.sk-toggleable__label-arrow:before {content: \"▸\";float: left;margin-right: 0.25em;color: #696969;}#sk-container-id-3 label.sk-toggleable__label-arrow:hover:before {color: black;}#sk-container-id-3 div.sk-estimator:hover label.sk-toggleable__label-arrow:before {color: black;}#sk-container-id-3 div.sk-toggleable__content {max-height: 0;max-width: 0;overflow: hidden;text-align: left;background-color: #f0f8ff;}#sk-container-id-3 div.sk-toggleable__content pre {margin: 0.2em;color: black;border-radius: 0.25em;background-color: #f0f8ff;}#sk-container-id-3 input.sk-toggleable__control:checked~div.sk-toggleable__content {max-height: 200px;max-width: 100%;overflow: auto;}#sk-container-id-3 input.sk-toggleable__control:checked~label.sk-toggleable__label-arrow:before {content: \"▾\";}#sk-container-id-3 div.sk-estimator input.sk-toggleable__control:checked~label.sk-toggleable__label {background-color: #d4ebff;}#sk-container-id-3 div.sk-label input.sk-toggleable__control:checked~label.sk-toggleable__label {background-color: #d4ebff;}#sk-container-id-3 input.sk-hidden--visually {border: 0;clip: rect(1px 1px 1px 1px);clip: rect(1px, 1px, 1px, 1px);height: 1px;margin: -1px;overflow: hidden;padding: 0;position: absolute;width: 1px;}#sk-container-id-3 div.sk-estimator {font-family: monospace;background-color: #f0f8ff;border: 1px dotted black;border-radius: 0.25em;box-sizing: border-box;margin-bottom: 0.5em;}#sk-container-id-3 div.sk-estimator:hover {background-color: #d4ebff;}#sk-container-id-3 div.sk-parallel-item::after {content: \"\";width: 100%;border-bottom: 1px solid gray;flex-grow: 1;}#sk-container-id-3 div.sk-label:hover label.sk-toggleable__label {background-color: #d4ebff;}#sk-container-id-3 div.sk-serial::before {content: \"\";position: absolute;border-left: 1px solid gray;box-sizing: border-box;top: 0;bottom: 0;left: 50%;z-index: 0;}#sk-container-id-3 div.sk-serial {display: flex;flex-direction: column;align-items: center;background-color: white;padding-right: 0.2em;padding-left: 0.2em;position: relative;}#sk-container-id-3 div.sk-item {position: relative;z-index: 1;}#sk-container-id-3 div.sk-parallel {display: flex;align-items: stretch;justify-content: center;background-color: white;position: relative;}#sk-container-id-3 div.sk-item::before, #sk-container-id-3 div.sk-parallel-item::before {content: \"\";position: absolute;border-left: 1px solid gray;box-sizing: border-box;top: 0;bottom: 0;left: 50%;z-index: -1;}#sk-container-id-3 div.sk-parallel-item {display: flex;flex-direction: column;z-index: 1;position: relative;background-color: white;}#sk-container-id-3 div.sk-parallel-item:first-child::after {align-self: flex-end;width: 50%;}#sk-container-id-3 div.sk-parallel-item:last-child::after {align-self: flex-start;width: 50%;}#sk-container-id-3 div.sk-parallel-item:only-child::after {width: 0;}#sk-container-id-3 div.sk-dashed-wrapped {border: 1px dashed gray;margin: 0 0.4em 0.5em 0.4em;box-sizing: border-box;padding-bottom: 0.4em;background-color: white;}#sk-container-id-3 div.sk-label label {font-family: monospace;font-weight: bold;display: inline-block;line-height: 1.2em;}#sk-container-id-3 div.sk-label-container {text-align: center;}#sk-container-id-3 div.sk-container {/* jupyter's `normalize.less` sets `[hidden] { display: none; }` but bootstrap.min.css set `[hidden] { display: none !important; }` so we also need the `!important` here to be able to override the default hidden behavior on the sphinx rendered scikit-learn.org. See: https://github.com/scikit-learn/scikit-learn/issues/21755 */display: inline-block !important;position: relative;}#sk-container-id-3 div.sk-text-repr-fallback {display: none;}</style><div id=\"sk-container-id-3\" class=\"sk-top-container\"><div class=\"sk-text-repr-fallback\"><pre>DecisionTreeClassifier(max_depth=2)</pre><b>In a Jupyter environment, please rerun this cell to show the HTML representation or trust the notebook. <br />On GitHub, the HTML representation is unable to render, please try loading this page with nbviewer.org.</b></div><div class=\"sk-container\" hidden><div class=\"sk-item\"><div class=\"sk-estimator sk-toggleable\"><input class=\"sk-toggleable__control sk-hidden--visually\" id=\"sk-estimator-id-3\" type=\"checkbox\" checked><label for=\"sk-estimator-id-3\" class=\"sk-toggleable__label sk-toggleable__label-arrow\">DecisionTreeClassifier</label><div class=\"sk-toggleable__content\"><pre>DecisionTreeClassifier(max_depth=2)</pre></div></div></div></div></div>"
      ],
      "text/plain": [
       "DecisionTreeClassifier(max_depth=2)"
      ]
     },
     "execution_count": 27,
     "metadata": {},
     "output_type": "execute_result"
    }
   ],
   "source": [
    "clf = DecisionTreeClassifier(max_depth=bestdepth)\n",
    "#fitX_trainval and y_trainval\n",
    "clf.fit(X,y)"
   ]
  },
  {
   "cell_type": "code",
   "execution_count": 28,
   "metadata": {
    "id": "ZKoLHWg79Gu0"
   },
   "outputs": [],
   "source": [
    "test_score = clf.score(X,y)\n"
   ]
  },
  {
   "cell_type": "code",
   "execution_count": 29,
   "metadata": {
    "id": "HZc59ddb9Gu0"
   },
   "outputs": [
    {
     "name": "stdout",
     "output_type": "stream",
     "text": [
      "testing set score 0.884\n"
     ]
    }
   ],
   "source": [
    "print('testing set score', test_score)"
   ]
  },
  {
   "cell_type": "markdown",
   "metadata": {
    "id": "KWT1AzMD9Gu0"
   },
   "source": [
    " What do you observe?\n",
    "\n",
    "**Answer Questions 8 and 9 on your assignment page**"
   ]
  }
 ],
 "metadata": {
  "colab": {
   "collapsed_sections": [],
   "name": "Module10_LoanDataset_E.ipynb",
   "provenance": []
  },
  "kernelspec": {
   "display_name": "Python 3 (ipykernel)",
   "language": "python",
   "name": "python3"
  },
  "language_info": {
   "codemirror_mode": {
    "name": "ipython",
    "version": 3
   },
   "file_extension": ".py",
   "mimetype": "text/x-python",
   "name": "python",
   "nbconvert_exporter": "python",
   "pygments_lexer": "ipython3",
   "version": "3.10.9"
  }
 },
 "nbformat": 4,
 "nbformat_minor": 1
}
