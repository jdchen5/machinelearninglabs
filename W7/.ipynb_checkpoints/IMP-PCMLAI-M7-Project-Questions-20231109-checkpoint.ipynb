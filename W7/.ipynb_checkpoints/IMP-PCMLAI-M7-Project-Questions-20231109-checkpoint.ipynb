{
 "cells": [
  {
   "cell_type": "code",
   "execution_count": 1,
   "id": "631ac862",
   "metadata": {
    "id": "631ac862"
   },
   "outputs": [],
   "source": [
    "#Import the packages\n",
    "import pandas as pd\n",
    "import numpy as np\n",
    "import matplotlib.pyplot as plt"
   ]
  },
  {
   "cell_type": "markdown",
   "id": "2943eec6",
   "metadata": {
    "id": "2943eec6"
   },
   "source": [
    "## We will work with the \"Adult\" Data Set of the UCI Repository"
   ]
  },
  {
   "cell_type": "markdown",
   "id": "75906b0e",
   "metadata": {
    "id": "75906b0e"
   },
   "source": [
    "Here we will try to predict whether one's salary is above or below $50,000/year. \n",
    "The original dataset can be found on UCI Repository: https://archive.ics.uci.edu/ml/datasets/adult"
   ]
  },
  {
   "cell_type": "markdown",
   "id": "25a58790",
   "metadata": {
    "id": "25a58790"
   },
   "source": [
    "### Read the file"
   ]
  },
  {
   "cell_type": "code",
   "execution_count": 2,
   "id": "7755f3f1",
   "metadata": {
    "id": "7755f3f1"
   },
   "outputs": [
    {
     "name": "stdout",
     "output_type": "stream",
     "text": [
      "   Age         Workclass  fnlwgt  Education  Education-Num  \\\n",
      "0   39         State-gov   77516  Bachelors             13   \n",
      "1   50  Self-emp-not-inc   83311  Bachelors             13   \n",
      "2   38           Private  215646    HS-grad              9   \n",
      "3   53           Private  234721       11th              7   \n",
      "4   28           Private  338409  Bachelors             13   \n",
      "\n",
      "       Martial Status         Occupation   Relationship   Race     Sex  \\\n",
      "0       Never-married       Adm-clerical  Not-in-family  White    Male   \n",
      "1  Married-civ-spouse    Exec-managerial        Husband  White    Male   \n",
      "2            Divorced  Handlers-cleaners  Not-in-family  White    Male   \n",
      "3  Married-civ-spouse  Handlers-cleaners        Husband  Black    Male   \n",
      "4  Married-civ-spouse     Prof-specialty           Wife  Black  Female   \n",
      "\n",
      "   Capital Gain  Capital Loss  Hours per week        Country Target  \n",
      "0          2174             0              40  United-States  <=50K  \n",
      "1             0             0              13  United-States  <=50K  \n",
      "2             0             0              40  United-States  <=50K  \n",
      "3             0             0              40  United-States  <=50K  \n",
      "4             0             0              40           Cuba  <=50K  \n"
     ]
    }
   ],
   "source": [
    "# Source: https://www.valentinmihov.com/2015/04/17/adult-income-data-set/\n",
    "# taken and modified slightly from https://fairmlbook.org/code/adult.html\n",
    "\n",
    "features = [\"Age\", \"Workclass\", \"fnlwgt\", \"Education\", \"Education-Num\", \"Martial Status\",\n",
    "        \"Occupation\", \"Relationship\", \"Race\", \"Sex\", \"Capital Gain\", \"Capital Loss\",\n",
    "        \"Hours per week\", \"Country\", \"Target\"] #feaures of the dataset \n",
    "\n",
    "# Change these to local file if available\n",
    "train_url = 'https://archive.ics.uci.edu/ml/machine-learning-databases/adult/adult.data' #link of the training data\n",
    "test_url = 'https://archive.ics.uci.edu/ml/machine-learning-databases/adult/adult.test' #link of the test data\n",
    "\n",
    "# This will download 3.8M\n",
    "df_train = pd.read_csv(train_url, names=features, sep=r'\\s*,\\s*', \n",
    "                             engine='python', na_values=\"?\") #read csv training\n",
    "# This will download 1.9M\n",
    "df_test = pd.read_csv(test_url, names=features, sep=r'\\s*,\\s*', \n",
    "                            engine='python', na_values=\"?\", skiprows=1) #read csv test\n",
    "\n",
    "num_train = len(df_train) #number of training instances\n",
    "#print(f'num_train={num_train}')\n",
    "print(df_train.head())"
   ]
  },
  {
   "cell_type": "markdown",
   "id": "b2e81f9a",
   "metadata": {
    "id": "b2e81f9a"
   },
   "source": [
    "### Q1: Replace the labels of the training and test sets so that \"Target = 1\" means high income and \"Target = 0\" means low income. The target column should be an integer (binary) column eventually."
   ]
  },
  {
   "cell_type": "markdown",
   "id": "74068666",
   "metadata": {
    "id": "74068666"
   },
   "source": [
    "#### A1:"
   ]
  },
  {
   "cell_type": "code",
   "execution_count": 3,
   "id": "5d0d9a5e",
   "metadata": {
    "id": "5d0d9a5e"
   },
   "outputs": [
    {
     "name": "stdout",
     "output_type": "stream",
     "text": [
      "   Age  Workclass  fnlwgt     Education  Education-Num      Martial Status  \\\n",
      "0   25    Private  226802          11th              7       Never-married   \n",
      "1   38    Private   89814       HS-grad              9  Married-civ-spouse   \n",
      "2   28  Local-gov  336951    Assoc-acdm             12  Married-civ-spouse   \n",
      "3   44    Private  160323  Some-college             10  Married-civ-spouse   \n",
      "4   18        NaN  103497  Some-college             10       Never-married   \n",
      "\n",
      "          Occupation Relationship   Race     Sex  Capital Gain  Capital Loss  \\\n",
      "0  Machine-op-inspct    Own-child  Black    Male             0             0   \n",
      "1    Farming-fishing      Husband  White    Male             0             0   \n",
      "2    Protective-serv      Husband  White    Male             0             0   \n",
      "3  Machine-op-inspct      Husband  Black    Male          7688             0   \n",
      "4                NaN    Own-child  White  Female             0             0   \n",
      "\n",
      "   Hours per week        Country  Target  \n",
      "0              40  United-States       0  \n",
      "1              50  United-States       0  \n",
      "2              40  United-States       1  \n",
      "3              40  United-States       1  \n",
      "4              30  United-States       0  \n"
     ]
    }
   ],
   "source": [
    "#now we can replace the labels\n",
    "df_train.Target = df_train.Target.replace({'>50K':1,'<=50K':0})\n",
    "df_test.Target = df_test.Target.replace({'>50K.':1,'<=50K.':0})\n",
    "print(df_test.head())"
   ]
  },
  {
   "cell_type": "markdown",
   "id": "256144fd",
   "metadata": {
    "id": "256144fd"
   },
   "source": [
    "### Q2: Inspect the column names and the data type of each column. Answer the following."
   ]
  },
  {
   "cell_type": "markdown",
   "id": "23c2af7a",
   "metadata": {
    "id": "23c2af7a"
   },
   "source": [
    "#### Q2.1: List how many missing values there are in each column for training and test sets."
   ]
  },
  {
   "cell_type": "markdown",
   "id": "9c5fc3bf",
   "metadata": {
    "id": "9c5fc3bf"
   },
   "source": [
    "#### A2.1:"
   ]
  },
  {
   "cell_type": "code",
   "execution_count": 4,
   "id": "dca8a1f4",
   "metadata": {
    "id": "dca8a1f4"
   },
   "outputs": [
    {
     "name": "stdout",
     "output_type": "stream",
     "text": [
      "<class 'pandas.core.frame.DataFrame'>\n",
      "RangeIndex: 32561 entries, 0 to 32560\n",
      "Data columns (total 15 columns):\n",
      " #   Column          Non-Null Count  Dtype \n",
      "---  ------          --------------  ----- \n",
      " 0   Age             32561 non-null  int64 \n",
      " 1   Workclass       30725 non-null  object\n",
      " 2   fnlwgt          32561 non-null  int64 \n",
      " 3   Education       32561 non-null  object\n",
      " 4   Education-Num   32561 non-null  int64 \n",
      " 5   Martial Status  32561 non-null  object\n",
      " 6   Occupation      30718 non-null  object\n",
      " 7   Relationship    32561 non-null  object\n",
      " 8   Race            32561 non-null  object\n",
      " 9   Sex             32561 non-null  object\n",
      " 10  Capital Gain    32561 non-null  int64 \n",
      " 11  Capital Loss    32561 non-null  int64 \n",
      " 12  Hours per week  32561 non-null  int64 \n",
      " 13  Country         31978 non-null  object\n",
      " 14  Target          32561 non-null  int64 \n",
      "dtypes: int64(7), object(8)\n",
      "memory usage: 3.7+ MB\n"
     ]
    }
   ],
   "source": [
    "#first list the columns\n",
    "pd.set_option('max_colwidth', None)\n",
    "df_train.info(verbose=True)"
   ]
  },
  {
   "cell_type": "code",
   "execution_count": 5,
   "id": "1ab5b9f2",
   "metadata": {
    "id": "1ab5b9f2"
   },
   "outputs": [
    {
     "name": "stdout",
     "output_type": "stream",
     "text": [
      "Missing Values in Training Set:\n",
      "Age                  0\n",
      "Workclass         1836\n",
      "fnlwgt               0\n",
      "Education            0\n",
      "Education-Num        0\n",
      "Martial Status       0\n",
      "Occupation        1843\n",
      "Relationship         0\n",
      "Race                 0\n",
      "Sex                  0\n",
      "Capital Gain         0\n",
      "Capital Loss         0\n",
      "Hours per week       0\n",
      "Country            583\n",
      "Target               0\n",
      "dtype: int64\n",
      "\n",
      "\n"
     ]
    }
   ],
   "source": [
    "#now see the number of missing values for each column -- training\n",
    "print(\"Missing Values in Training Set:\")\n",
    "missing_values_train = df_train.isnull().sum()\n",
    "print(missing_values_train)\n",
    "print(\"\\n\")"
   ]
  },
  {
   "cell_type": "code",
   "execution_count": 6,
   "id": "a65a73ed",
   "metadata": {
    "id": "a65a73ed",
    "scrolled": true
   },
   "outputs": [
    {
     "name": "stdout",
     "output_type": "stream",
     "text": [
      "Missing Values in Training Set:\n",
      "Age                 0\n",
      "Workclass         963\n",
      "fnlwgt              0\n",
      "Education           0\n",
      "Education-Num       0\n",
      "Martial Status      0\n",
      "Occupation        966\n",
      "Relationship        0\n",
      "Race                0\n",
      "Sex                 0\n",
      "Capital Gain        0\n",
      "Capital Loss        0\n",
      "Hours per week      0\n",
      "Country           274\n",
      "Target              0\n",
      "dtype: int64\n",
      "\n",
      "\n"
     ]
    }
   ],
   "source": [
    "#see the number of missing values for each column -- test\n",
    "print(\"Missing Values in Training Set:\")\n",
    "missing_values_test = df_test.isnull().sum()\n",
    "print(missing_values_test)\n",
    "print(\"\\n\")"
   ]
  },
  {
   "cell_type": "markdown",
   "id": "4567035d",
   "metadata": {
    "id": "4567035d"
   },
   "source": [
    "#### Q2.2: How many missing values there are in total for the training set?"
   ]
  },
  {
   "cell_type": "markdown",
   "id": "797ae857",
   "metadata": {
    "id": "797ae857"
   },
   "source": [
    "#### A2.2:"
   ]
  },
  {
   "cell_type": "code",
   "execution_count": 7,
   "id": "e542ea52",
   "metadata": {
    "id": "e542ea52"
   },
   "outputs": [
    {
     "name": "stdout",
     "output_type": "stream",
     "text": [
      "Total Missing Values in Training Set: 4262\n"
     ]
    }
   ],
   "source": [
    "# Calculate the total number of missing values in the training set\n",
    "total_missing_values_train = df_train.isnull().sum().sum()\n",
    "print(\"Total Missing Values in Training Set:\", total_missing_values_train)"
   ]
  },
  {
   "cell_type": "markdown",
   "id": "797ec48d",
   "metadata": {
    "id": "797ec48d"
   },
   "source": [
    "#### Q2.3: How many rows are there with at least one NaN?"
   ]
  },
  {
   "cell_type": "markdown",
   "id": "146b35ef",
   "metadata": {
    "id": "146b35ef"
   },
   "source": [
    "#### A2.3:"
   ]
  },
  {
   "cell_type": "code",
   "execution_count": 8,
   "id": "3e8ddf2e",
   "metadata": {
    "id": "3e8ddf2e"
   },
   "outputs": [
    {
     "name": "stdout",
     "output_type": "stream",
     "text": [
      "Number of Rows with at least one NaN in Training Set: 2399\n"
     ]
    }
   ],
   "source": [
    "#one possible way:\n",
    "#take a True/False Series for whether each row includes NaN. Then sum them, where True will be taken as = 1.\n",
    "rows_with_nan_train = df_train.isnull().any(axis=1).sum()\n",
    "print(\"Number of Rows with at least one NaN in Training Set:\", rows_with_nan_train)"
   ]
  },
  {
   "cell_type": "code",
   "execution_count": 9,
   "id": "b211c492",
   "metadata": {},
   "outputs": [
    {
     "name": "stdout",
     "output_type": "stream",
     "text": [
      "Number of rows in df_train=32561,Number of rows in df_test = 16281 \n"
     ]
    }
   ],
   "source": [
    "print(f'Number of rows in df_train={len(df_train)},Number of rows in df_test = {len(df_test)} ')"
   ]
  },
  {
   "cell_type": "markdown",
   "id": "23e9f381",
   "metadata": {
    "id": "23e9f381"
   },
   "source": [
    "#### Q2.4: If NaN's were identially distributed among the NaN rows at random, then what is the expectation of the number of NaNs in a row that has at least one NaN? If you find the same expectation for the test set, do these values look alike?"
   ]
  },
  {
   "cell_type": "markdown",
   "id": "5adcc5a4",
   "metadata": {
    "id": "5adcc5a4"
   },
   "source": [
    "#### A2.4:"
   ]
  },
  {
   "cell_type": "code",
   "execution_count": 10,
   "id": "fea07117",
   "metadata": {
    "id": "fea07117"
   },
   "outputs": [
    {
     "name": "stdout",
     "output_type": "stream",
     "text": [
      "Expectation of NaNs per row in Training Set: 1.7765735723218008\n",
      "Expectation of NaNs per row in Test Set: 1.8042588042588044\n"
     ]
    }
   ],
   "source": [
    "# For the training set\n",
    "total_nan_train = df_train.isnull().sum().sum()\n",
    "rows_with_nan_train = df_train.isnull().any(axis=1).sum()\n",
    "expectation_train = total_nan_train / rows_with_nan_train\n",
    "\n",
    "# For the test set\n",
    "total_nan_test = df_test.isnull().sum().sum()\n",
    "rows_with_nan_test = df_test.isnull().any(axis=1).sum()\n",
    "expectation_test = total_nan_test / rows_with_nan_test\n",
    "\n",
    "print(\"Expectation of NaNs per row in Training Set:\", expectation_train)\n",
    "print(\"Expectation of NaNs per row in Test Set:\", expectation_test)\n"
   ]
  },
  {
   "cell_type": "markdown",
   "id": "f49afb50",
   "metadata": {
    "id": "f49afb50"
   },
   "source": [
    "### Q3: Let us inspect the target variable further."
   ]
  },
  {
   "cell_type": "markdown",
   "id": "61367d5f",
   "metadata": {
    "id": "61367d5f"
   },
   "source": [
    "#### Q3.1: What fraction of the training instances are making high income? Does a similar result hold for the test set?"
   ]
  },
  {
   "cell_type": "markdown",
   "id": "68233a89",
   "metadata": {
    "id": "68233a89"
   },
   "source": [
    "#### A3.1:"
   ]
  },
  {
   "cell_type": "code",
   "execution_count": 11,
   "id": "6cc1ae0d",
   "metadata": {
    "id": "6cc1ae0d"
   },
   "outputs": [
    {
     "data": {
      "text/plain": [
       "0.2408095574460244"
      ]
     },
     "execution_count": 11,
     "metadata": {},
     "output_type": "execute_result"
    }
   ],
   "source": [
    "df_train[\"Target\"].mean()"
   ]
  },
  {
   "cell_type": "code",
   "execution_count": 12,
   "id": "80e9804f",
   "metadata": {
    "id": "80e9804f"
   },
   "outputs": [
    {
     "data": {
      "text/plain": [
       "0.23622627602727106"
      ]
     },
     "execution_count": 12,
     "metadata": {},
     "output_type": "execute_result"
    }
   ],
   "source": [
    "#print(df_test.head())\n",
    "df_test[\"Target\"].mean()"
   ]
  },
  {
   "cell_type": "markdown",
   "id": "d3366487",
   "metadata": {
    "id": "d3366487"
   },
   "source": [
    "#### Q3.2: If we classify everyone as a low-income instance, what is our accuracy, sensitivity, and specificy in the test set? Assume that a \"positive\" class is a high income class, that is, our end goal is to be able to tell who makes more money."
   ]
  },
  {
   "cell_type": "markdown",
   "id": "3d79e4f3",
   "metadata": {
    "id": "3d79e4f3"
   },
   "source": [
    "#### A3.2:"
   ]
  },
  {
   "cell_type": "code",
   "execution_count": 13,
   "id": "1e69bf06",
   "metadata": {
    "id": "1e69bf06"
   },
   "outputs": [
    {
     "name": "stdout",
     "output_type": "stream",
     "text": [
      "accuracy_test=0.7637737239727289,sensitivity=0, specificity=1 \n"
     ]
    }
   ],
   "source": [
    "# Calculate the total number of instances in the test set\n",
    "total_test_instances = len(df_test)\n",
    "\n",
    "# Calculate the number of true negatives (low-income instances)\n",
    "true_negatives_test = (df_test['Target'] == 0).sum()\n",
    "\n",
    "# Calculate the accuracy\n",
    "\n",
    "accuracy_test = true_negatives_test / total_test_instances\n",
    "sensitivity = 0 #True Positives (TP): 0, because the classifier never predicts high income.\n",
    "specificity = 1 #Ture Negative (TN): 0, because we classify everyone as low income, all low-income instances are collrectly identified. So the specificity in this case would be 1.\n",
    "\n",
    "print(f'accuracy_test={accuracy_test},sensitivity={sensitivity}, specificity={specificity} ')"
   ]
  },
  {
   "cell_type": "markdown",
   "id": "a87bc8cc",
   "metadata": {
    "id": "a87bc8cc"
   },
   "source": [
    "#### Q3.3: List the fraction of high income instances within each group of \"workclass\" separately in the training set. Do you have an intuition on this?"
   ]
  },
  {
   "cell_type": "markdown",
   "id": "3e650ccc",
   "metadata": {
    "id": "3e650ccc"
   },
   "source": [
    "#### A3.3:"
   ]
  },
  {
   "cell_type": "code",
   "execution_count": 14,
   "id": "6693e54c",
   "metadata": {
    "id": "6693e54c"
   },
   "outputs": [
    {
     "data": {
      "text/html": [
       "<div>\n",
       "<style scoped>\n",
       "    .dataframe tbody tr th:only-of-type {\n",
       "        vertical-align: middle;\n",
       "    }\n",
       "\n",
       "    .dataframe tbody tr th {\n",
       "        vertical-align: top;\n",
       "    }\n",
       "\n",
       "    .dataframe thead th {\n",
       "        text-align: right;\n",
       "    }\n",
       "</style>\n",
       "<table border=\"1\" class=\"dataframe\">\n",
       "  <thead>\n",
       "    <tr style=\"text-align: right;\">\n",
       "      <th></th>\n",
       "      <th>Workclass</th>\n",
       "      <th>Target</th>\n",
       "    </tr>\n",
       "  </thead>\n",
       "  <tbody>\n",
       "    <tr>\n",
       "      <th>0</th>\n",
       "      <td>Federal-gov</td>\n",
       "      <td>0.386458</td>\n",
       "    </tr>\n",
       "    <tr>\n",
       "      <th>1</th>\n",
       "      <td>Local-gov</td>\n",
       "      <td>0.294792</td>\n",
       "    </tr>\n",
       "    <tr>\n",
       "      <th>2</th>\n",
       "      <td>Never-worked</td>\n",
       "      <td>0.000000</td>\n",
       "    </tr>\n",
       "    <tr>\n",
       "      <th>3</th>\n",
       "      <td>Private</td>\n",
       "      <td>0.218673</td>\n",
       "    </tr>\n",
       "    <tr>\n",
       "      <th>4</th>\n",
       "      <td>Self-emp-inc</td>\n",
       "      <td>0.557348</td>\n",
       "    </tr>\n",
       "    <tr>\n",
       "      <th>5</th>\n",
       "      <td>Self-emp-not-inc</td>\n",
       "      <td>0.284927</td>\n",
       "    </tr>\n",
       "    <tr>\n",
       "      <th>6</th>\n",
       "      <td>State-gov</td>\n",
       "      <td>0.271957</td>\n",
       "    </tr>\n",
       "    <tr>\n",
       "      <th>7</th>\n",
       "      <td>Without-pay</td>\n",
       "      <td>0.000000</td>\n",
       "    </tr>\n",
       "  </tbody>\n",
       "</table>\n",
       "</div>"
      ],
      "text/plain": [
       "          Workclass    Target\n",
       "0       Federal-gov  0.386458\n",
       "1         Local-gov  0.294792\n",
       "2      Never-worked  0.000000\n",
       "3           Private  0.218673\n",
       "4      Self-emp-inc  0.557348\n",
       "5  Self-emp-not-inc  0.284927\n",
       "6         State-gov  0.271957\n",
       "7       Without-pay  0.000000"
      ]
     },
     "execution_count": 14,
     "metadata": {},
     "output_type": "execute_result"
    }
   ],
   "source": [
    "df_train.groupby('Workclass', as_index=False)['Target'].mean() #or you can find this via alternative codes"
   ]
  },
  {
   "cell_type": "code",
   "execution_count": 15,
   "id": "11ad4b23",
   "metadata": {},
   "outputs": [
    {
     "data": {
      "text/html": [
       "<div>\n",
       "<style scoped>\n",
       "    .dataframe tbody tr th:only-of-type {\n",
       "        vertical-align: middle;\n",
       "    }\n",
       "\n",
       "    .dataframe tbody tr th {\n",
       "        vertical-align: top;\n",
       "    }\n",
       "\n",
       "    .dataframe thead th {\n",
       "        text-align: right;\n",
       "    }\n",
       "</style>\n",
       "<table border=\"1\" class=\"dataframe\">\n",
       "  <thead>\n",
       "    <tr style=\"text-align: right;\">\n",
       "      <th></th>\n",
       "      <th>Workclass</th>\n",
       "      <th>Target</th>\n",
       "    </tr>\n",
       "  </thead>\n",
       "  <tbody>\n",
       "    <tr>\n",
       "      <th>0</th>\n",
       "      <td>Federal-gov</td>\n",
       "      <td>0.402542</td>\n",
       "    </tr>\n",
       "    <tr>\n",
       "      <th>1</th>\n",
       "      <td>Local-gov</td>\n",
       "      <td>0.297220</td>\n",
       "    </tr>\n",
       "    <tr>\n",
       "      <th>2</th>\n",
       "      <td>Never-worked</td>\n",
       "      <td>0.000000</td>\n",
       "    </tr>\n",
       "    <tr>\n",
       "      <th>3</th>\n",
       "      <td>Private</td>\n",
       "      <td>0.216236</td>\n",
       "    </tr>\n",
       "    <tr>\n",
       "      <th>4</th>\n",
       "      <td>Self-emp-inc</td>\n",
       "      <td>0.545769</td>\n",
       "    </tr>\n",
       "    <tr>\n",
       "      <th>5</th>\n",
       "      <td>Self-emp-not-inc</td>\n",
       "      <td>0.267222</td>\n",
       "    </tr>\n",
       "    <tr>\n",
       "      <th>6</th>\n",
       "      <td>State-gov</td>\n",
       "      <td>0.259151</td>\n",
       "    </tr>\n",
       "    <tr>\n",
       "      <th>7</th>\n",
       "      <td>Without-pay</td>\n",
       "      <td>0.285714</td>\n",
       "    </tr>\n",
       "  </tbody>\n",
       "</table>\n",
       "</div>"
      ],
      "text/plain": [
       "          Workclass    Target\n",
       "0       Federal-gov  0.402542\n",
       "1         Local-gov  0.297220\n",
       "2      Never-worked  0.000000\n",
       "3           Private  0.216236\n",
       "4      Self-emp-inc  0.545769\n",
       "5  Self-emp-not-inc  0.267222\n",
       "6         State-gov  0.259151\n",
       "7       Without-pay  0.285714"
      ]
     },
     "execution_count": 15,
     "metadata": {},
     "output_type": "execute_result"
    }
   ],
   "source": [
    "df_test.groupby('Workclass', as_index=False)['Target'].mean() #or you can find this via alternative codes"
   ]
  },
  {
   "cell_type": "markdown",
   "id": "7e568da8",
   "metadata": {
    "id": "7e568da8"
   },
   "source": [
    "#### Q3.4: Motivated by the question before, apply the following simple classification on the test set: if an instance has a workclass that is in the first or second highest-making group, then classify \"1\". What is the accuracy and the sensitivity of this model?"
   ]
  },
  {
   "cell_type": "markdown",
   "id": "f9ea66e1",
   "metadata": {
    "id": "f9ea66e1"
   },
   "source": [
    "#### A3.4:"
   ]
  },
  {
   "cell_type": "code",
   "execution_count": 16,
   "id": "52412c38",
   "metadata": {},
   "outputs": [
    {
     "name": "stdout",
     "output_type": "stream",
     "text": [
      "Top Two High-Income Workclasses:\n",
      "['Self-emp-inc', 'Federal-gov']\n"
     ]
    }
   ],
   "source": [
    "# Group by 'Workclass' and calculate the mean of 'Target', with as_index=False\n",
    "workclass_income = df_train.groupby('Workclass', as_index=False)['Target'].mean()\n",
    "\n",
    "# Sort the results in descending order based on 'Target' mean\n",
    "sorted_workclass_income = workclass_income.sort_values(by='Target', ascending=False)\n",
    "\n",
    "# Select the top two entries\n",
    "top_two_workclasses = sorted_workclass_income.head(2)['Workclass']\n",
    "# If you need it as a list\n",
    "#print(top_two_workclasses)\n",
    "top_two_workclasses_list = top_two_workclasses.tolist()\n",
    "\n",
    "print(\"Top Two High-Income Workclasses:\")\n",
    "print(top_two_workclasses_list)"
   ]
  },
  {
   "cell_type": "code",
   "execution_count": 17,
   "id": "a5e48d61",
   "metadata": {
    "id": "a5e48d61"
   },
   "outputs": [],
   "source": [
    "greedy_workclass = df_test.apply(lambda row: 1 if row['Workclass'] in top_two_workclasses_list else 0, axis = 1) #apply a function to predict -- fill the dots"
   ]
  },
  {
   "cell_type": "code",
   "execution_count": 18,
   "id": "3ae291f9",
   "metadata": {},
   "outputs": [
    {
     "name": "stdout",
     "output_type": "stream",
     "text": [
      "0    0\n",
      "1    0\n",
      "2    0\n",
      "3    0\n",
      "4    0\n",
      "dtype: int64\n",
      "1051\n",
      "0        0\n",
      "1        0\n",
      "2        0\n",
      "3        0\n",
      "4        0\n",
      "        ..\n",
      "16276    0\n",
      "16277    0\n",
      "16278    0\n",
      "16279    0\n",
      "16280    1\n",
      "Length: 16281, dtype: int64\n"
     ]
    }
   ],
   "source": [
    "print(greedy_workclass.head())\n",
    "print(greedy_workclass.sum())\n",
    "print(greedy_workclass)"
   ]
  },
  {
   "cell_type": "code",
   "execution_count": 19,
   "id": "421d3ad7",
   "metadata": {},
   "outputs": [],
   "source": [
    "greedy_workclass_alt = []\n",
    "for _, row in df_test.iterrows():\n",
    "    if row['Workclass'] in top_two_workclasses_list:\n",
    "        #print(row['Workclass'])\n",
    "        greedy_workclass_alt.append(1)\n",
    "    else:\n",
    "        greedy_workclass_alt.append(0)\n",
    "\n",
    "\n"
   ]
  },
  {
   "cell_type": "code",
   "execution_count": 20,
   "id": "44e5a384",
   "metadata": {},
   "outputs": [
    {
     "name": "stdout",
     "output_type": "stream",
     "text": [
      "0    0\n",
      "1    0\n",
      "2    0\n",
      "3    0\n",
      "4    0\n",
      "dtype: int64\n",
      "greedy_workclass_alt.sum()= 1051\n",
      "0        0\n",
      "1        0\n",
      "2        0\n",
      "3        0\n",
      "4        0\n",
      "        ..\n",
      "16276    0\n",
      "16277    0\n",
      "16278    0\n",
      "16279    0\n",
      "16280    1\n",
      "Length: 16281, dtype: int64\n"
     ]
    }
   ],
   "source": [
    "greedy_workclass_alt = pd.Series(greedy_workclass_alt)\n",
    "print(greedy_workclass_alt.head())\n",
    "print(f'greedy_workclass_alt.sum()= {greedy_workclass_alt.sum()}')\n",
    "print(greedy_workclass_alt)\n"
   ]
  },
  {
   "cell_type": "code",
   "execution_count": 21,
   "id": "b0cc9639",
   "metadata": {
    "id": "b0cc9639"
   },
   "outputs": [],
   "source": [
    "from sklearn.metrics import confusion_matrix #import sklearn's confusion matrix\n",
    "\n",
    "# Assuming df_test['Target'] contains the true labels\n",
    "# And greedy_workclass contains your predicted labels\n",
    "cm = confusion_matrix(df_test['Target'], greedy_workclass)"
   ]
  },
  {
   "cell_type": "code",
   "execution_count": 22,
   "id": "c7c65cdf",
   "metadata": {},
   "outputs": [
    {
     "name": "stdout",
     "output_type": "stream",
     "text": [
      "[[11890   545]\n",
      " [ 3340   506]]\n"
     ]
    }
   ],
   "source": [
    "print(cm)"
   ]
  },
  {
   "cell_type": "code",
   "execution_count": 23,
   "id": "49417cc3",
   "metadata": {
    "id": "49417cc3"
   },
   "outputs": [],
   "source": [
    "total = len(df_test) #number of instances\n",
    "correct = cm[0,0]+cm[1,1] #number of collectly classified instances -- sum of the ??\n",
    "accuracy = correct / total\n",
    "\n",
    "TP = cm[0, 0]  # True Positives\n",
    "FN = cm[1, 0]  # False Negatives\n",
    "sensitivity = TP / (TP + FN)  #fraction of 1's that we can find out of true 1's"
   ]
  },
  {
   "cell_type": "code",
   "execution_count": 24,
   "id": "21d92e8d",
   "metadata": {
    "id": "21d92e8d"
   },
   "outputs": [
    {
     "name": "stdout",
     "output_type": "stream",
     "text": [
      "Accuracy: 0.7613782937166022 , and Sensitivity: 0.7806959947472094\n"
     ]
    }
   ],
   "source": [
    "print(\"Accuracy:\", accuracy, \", and Sensitivity:\", sensitivity)"
   ]
  },
  {
   "cell_type": "markdown",
   "id": "e7656c1e",
   "metadata": {
    "id": "e7656c1e"
   },
   "source": [
    "### Q4: Further statistics and Outliers."
   ]
  },
  {
   "cell_type": "markdown",
   "id": "cfb01a85",
   "metadata": {
    "id": "cfb01a85"
   },
   "source": [
    "#### Q4.1: List the fraction of male and females within US citizens in the training set."
   ]
  },
  {
   "cell_type": "markdown",
   "id": "92e8b941",
   "metadata": {
    "id": "92e8b941"
   },
   "source": [
    "#### A4.1:"
   ]
  },
  {
   "cell_type": "code",
   "execution_count": 25,
   "id": "bee7c43c",
   "metadata": {
    "id": "bee7c43c"
   },
   "outputs": [
    {
     "name": "stdout",
     "output_type": "stream",
     "text": [
      "Fraction of Males among US citizens: 0.6680836475831333\n",
      "Fraction of Females among US citizens: 0.3319163524168666\n"
     ]
    }
   ],
   "source": [
    "# Filter for US citizens\n",
    "us_citizens = df_train[df_train['Country'] == 'United-States']\n",
    "\n",
    "# Group by 'Sex' and count the number of instances\n",
    "sex_counts = us_citizens['Sex'].value_counts()\n",
    "\n",
    "# Calculate fractions\n",
    "fraction_male = sex_counts['Male'] / us_citizens.shape[0]\n",
    "fraction_female = sex_counts['Female'] / us_citizens.shape[0]\n",
    "\n",
    "print(\"Fraction of Males among US citizens:\", fraction_male)\n",
    "print(\"Fraction of Females among US citizens:\", fraction_female)"
   ]
  },
  {
   "cell_type": "markdown",
   "id": "89f1c7f0",
   "metadata": {
    "id": "89f1c7f0"
   },
   "source": [
    "#### Q4.2: What is the most common occupation (training set)?"
   ]
  },
  {
   "cell_type": "markdown",
   "id": "2018caa6",
   "metadata": {
    "id": "2018caa6"
   },
   "source": [
    "#### A4.2:"
   ]
  },
  {
   "cell_type": "code",
   "execution_count": 26,
   "id": "f4e270a5",
   "metadata": {
    "id": "f4e270a5"
   },
   "outputs": [
    {
     "name": "stdout",
     "output_type": "stream",
     "text": [
      "Most Common Occupation: Prof-specialty\n"
     ]
    }
   ],
   "source": [
    "# Find the most common occupation\n",
    "most_common_occupation = df_train['Occupation'].value_counts().idxmax()\n",
    "\n",
    "print(\"Most Common Occupation:\", most_common_occupation)"
   ]
  },
  {
   "cell_type": "markdown",
   "id": "0c0cb992",
   "metadata": {
    "id": "0c0cb992"
   },
   "source": [
    "#### Q4.3: Which occupations are the most common male and female instances, respectively (training set)?"
   ]
  },
  {
   "cell_type": "markdown",
   "id": "58fcae06",
   "metadata": {
    "id": "58fcae06"
   },
   "source": [
    "#### A4.3:"
   ]
  },
  {
   "cell_type": "code",
   "execution_count": 27,
   "id": "bdf59b47",
   "metadata": {
    "id": "bdf59b47"
   },
   "outputs": [],
   "source": [
    "# Find the most common occupation for females\n",
    "most_common_occupation_female = df_train[df_train[\"Sex\"]==\"Female\"][\"Occupation\"].value_counts().idxmax()"
   ]
  },
  {
   "cell_type": "code",
   "execution_count": 28,
   "id": "800dd8cb",
   "metadata": {
    "id": "800dd8cb"
   },
   "outputs": [],
   "source": [
    "# Find the most common occupation for males\n",
    "most_common_occupation_male = df_train[df_train[\"Sex\"]==\"Male\"][\"Occupation\"].value_counts().idxmax()"
   ]
  },
  {
   "cell_type": "code",
   "execution_count": 29,
   "id": "871bd609",
   "metadata": {},
   "outputs": [
    {
     "name": "stdout",
     "output_type": "stream",
     "text": [
      "Most Common Occupation for Males: Craft-repair\n",
      "Most Common Occupation for Females: Adm-clerical\n"
     ]
    }
   ],
   "source": [
    "print(\"Most Common Occupation for Males:\", most_common_occupation_male)\n",
    "print(\"Most Common Occupation for Females:\", most_common_occupation_female)"
   ]
  },
  {
   "cell_type": "markdown",
   "id": "13ab38b5",
   "metadata": {
    "id": "13ab38b5"
   },
   "source": [
    "#### Q4.4: Plot the histogram of the \"Age\" column (using training set data). Let the histogram have 10 bins, and reflect the percentage of instances falling in the relevant bin on Y axis.  Visually try to see if there are outliers. Are there more outliers on the high age, or low age?"
   ]
  },
  {
   "cell_type": "markdown",
   "id": "3a5ca4f6",
   "metadata": {
    "id": "3a5ca4f6"
   },
   "source": [
    "#### A4.4: "
   ]
  },
  {
   "cell_type": "code",
   "execution_count": 30,
   "id": "a5e9f6b0",
   "metadata": {
    "id": "a5e9f6b0"
   },
   "outputs": [
    {
     "data": {
      "image/png": "[encoded data removed]",
      "text/plain": [
       "<Figure size 640x480 with 1 Axes>"
      ]
     },
     "metadata": {},
     "output_type": "display_data"
    }
   ],
   "source": [
    "df_train[\"Age\"].hist(bins=10, weights=np.ones_like(df_train[\"Age\"]) * 100. / len(df_train)).plot()\n",
    "plt.show()\n",
    "plt.close()"
   ]
  },
  {
   "cell_type": "markdown",
   "id": "cd16ee2a",
   "metadata": {
    "id": "cd16ee2a"
   },
   "source": [
    "#### Q4.5: Report the age on the $99$-th quantile. "
   ]
  },
  {
   "cell_type": "markdown",
   "id": "d107d0dd",
   "metadata": {
    "id": "d107d0dd"
   },
   "source": [
    "#### A4.5:"
   ]
  },
  {
   "cell_type": "code",
   "execution_count": 31,
   "id": "550a44a1",
   "metadata": {
    "id": "550a44a1"
   },
   "outputs": [
    {
     "name": "stdout",
     "output_type": "stream",
     "text": [
      "Age at the 99th percentile: 74.0\n"
     ]
    }
   ],
   "source": [
    "#Hint: the \".quantile\" function of pandas will be enough\n",
    "# Calculate the age at the 99th percentile\n",
    "age_99th_percentile = df_train['Age'].quantile(0.99)\n",
    "print(\"Age at the 99th percentile:\", age_99th_percentile)"
   ]
  },
  {
   "cell_type": "markdown",
   "id": "342406a0",
   "metadata": {
    "id": "342406a0"
   },
   "source": [
    "#### Q4.6: Given the previous analysis, would you say there are outliers in this dataset? "
   ]
  },
  {
   "cell_type": "markdown",
   "id": "b99f36f4",
   "metadata": {
    "id": "b99f36f4"
   },
   "source": [
    "#### A4.6: Given the histogram and the 99th percentile, the presence of individuals above 74 could be potentail outliers, if their age is signigicantly higher than 74. "
   ]
  },
  {
   "cell_type": "markdown",
   "id": "fc600672",
   "metadata": {
    "id": "fc600672"
   },
   "source": [
    "### Q5: Inspect the correlation of the numerical predictors with the target and report your findings (in training set). What does the correlation of \"Age\" tell us?"
   ]
  },
  {
   "cell_type": "code",
   "execution_count": 32,
   "id": "f9d34eed",
   "metadata": {
    "id": "f9d34eed"
   },
   "outputs": [
    {
     "data": {
      "text/plain": [
       "Age    0.234037\n",
       "dtype: float64"
      ]
     },
     "execution_count": 32,
     "metadata": {},
     "output_type": "execute_result"
    }
   ],
   "source": [
    "df_train[[\"Age\"]].corrwith(df_train[\"Target\"])"
   ]
  },
  {
   "cell_type": "markdown",
   "id": "76b23df8",
   "metadata": {
    "id": "76b23df8"
   },
   "source": [
    "### Q6: Let us apply Linear Regression for classification. "
   ]
  },
  {
   "cell_type": "markdown",
   "id": "c454ebd7",
   "metadata": {
    "id": "c454ebd7"
   },
   "source": [
    "#### Q6.1: Discuss why Linear Regression is not immediately applicable in this setting."
   ]
  },
  {
   "cell_type": "markdown",
   "id": "2980b7a0",
   "metadata": {
    "id": "2980b7a0"
   },
   "source": [
    "#### A6.1: Linear regression is designed for regression problems where the outcome is a continuous varaiable. However, the target variable here is a binary, making is a classification problem. Also we have rows including null values."
   ]
  },
  {
   "cell_type": "markdown",
   "id": "de9bc7bb",
   "metadata": {
    "id": "de9bc7bb"
   },
   "source": [
    "#### Q6.2: Drop rows that include NaN values."
   ]
  },
  {
   "cell_type": "markdown",
   "id": "aa329364",
   "metadata": {
    "id": "aa329364"
   },
   "source": [
    "#### A6.2:"
   ]
  },
  {
   "cell_type": "code",
   "execution_count": 33,
   "id": "7d8b2cd6",
   "metadata": {
    "id": "7d8b2cd6"
   },
   "outputs": [],
   "source": [
    "df_train_dropna = df_train.dropna()"
   ]
  },
  {
   "cell_type": "code",
   "execution_count": 34,
   "id": "efdf8f63",
   "metadata": {},
   "outputs": [
    {
     "name": "stdout",
     "output_type": "stream",
     "text": [
      "Number of Rows with at least one NaN in Training Set: 0\n"
     ]
    }
   ],
   "source": [
    "rows_with_nan_train_dropna = df_train_dropna.isnull().any(axis=1).sum()\n",
    "print(\"Number of Rows with at least one NaN in Training Set:\", rows_with_nan_train_dropna)"
   ]
  },
  {
   "cell_type": "markdown",
   "id": "f1c81fea",
   "metadata": {
    "id": "f1c81fea"
   },
   "source": [
    "#### Q6.3: Train a linear regression model on the training set. Use the numeric columns only."
   ]
  },
  {
   "cell_type": "markdown",
   "id": "c8f44441",
   "metadata": {
    "id": "c8f44441"
   },
   "source": [
    "#### A6.3:"
   ]
  },
  {
   "cell_type": "code",
   "execution_count": 35,
   "id": "c34392c7",
   "metadata": {
    "id": "c34392c7"
   },
   "outputs": [],
   "source": [
    "#Step 1 -- take the numeric columns\n",
    "numericals = [] #start with an empty array\n",
    "for i in range(len(df_train_dropna.dtypes)): #for all columns\n",
    "    coltype = df_train_dropna.dtypes[i] #take the type of column\n",
    "    if np.issubdtype(coltype,np.number): #check if the type is numberic\n",
    "        numericals.append(df_train_dropna.columns[i]) # append the column name"
   ]
  },
  {
   "cell_type": "code",
   "execution_count": 36,
   "id": "de03194f",
   "metadata": {},
   "outputs": [
    {
     "name": "stdout",
     "output_type": "stream",
     "text": [
      "['Age', 'fnlwgt', 'Education-Num', 'Capital Gain', 'Capital Loss', 'Hours per week', 'Target']\n"
     ]
    }
   ],
   "source": [
    "print(numericals)"
   ]
  },
  {
   "cell_type": "code",
   "execution_count": 37,
   "id": "2455e0ad",
   "metadata": {
    "id": "2455e0ad"
   },
   "outputs": [],
   "source": [
    "#Step 2 -- fit\n",
    "from sklearn.linear_model import LinearRegression\n",
    "X = df_train_dropna[numericals] #training predictors\n",
    "y = df_train_dropna['Target'] #training target\n",
    "clf = LinearRegression().fit(X, y) #time to fit"
   ]
  },
  {
   "cell_type": "markdown",
   "id": "180084ec",
   "metadata": {
    "id": "180084ec"
   },
   "source": [
    "#### Q6.4: Apply the linear model that we just fit and predict the training target. Show the first couple of predictions."
   ]
  },
  {
   "cell_type": "markdown",
   "id": "9755db00",
   "metadata": {
    "id": "9755db00"
   },
   "source": [
    "#### A6.4: "
   ]
  },
  {
   "cell_type": "code",
   "execution_count": 38,
   "id": "ebd7fda5",
   "metadata": {
    "id": "ebd7fda5"
   },
   "outputs": [
    {
     "name": "stdout",
     "output_type": "stream",
     "text": [
      "First few predictions: [-7.38951414e-16  1.83099136e-15  2.45719546e-15  2.42345710e-15\n",
      "  1.79528186e-15] mean 0.24892248524633645\n"
     ]
    }
   ],
   "source": [
    "#use \"clf.predict\" function\n",
    "# Predict the training target\n",
    "train_predictions = clf.predict(X)\n",
    "\n",
    "# Display the first few predictions\n",
    "print(\"First few predictions:\", train_predictions[:5], \"mean\",train_predictions.mean())"
   ]
  },
  {
   "cell_type": "markdown",
   "id": "668af8f6",
   "metadata": {
    "id": "668af8f6"
   },
   "source": [
    "#### Q6.5: To make a classification on the *training set*, use a cutoff value = 0.4 so that if the output is more than this value then we classify as \"1\". Compute the accuracy, sensitivity, and specificity manually (do not use a function). Discuss the performance."
   ]
  },
  {
   "cell_type": "markdown",
   "id": "19ad6985",
   "metadata": {
    "id": "19ad6985"
   },
   "source": [
    "#### A6.5: "
   ]
  },
  {
   "cell_type": "code",
   "execution_count": 39,
   "id": "5ad0caea",
   "metadata": {},
   "outputs": [
    {
     "name": "stdout",
     "output_type": "stream",
     "text": [
      "[-7.38951414e-16  1.83099136e-15  2.45719546e-15 ...  2.79063877e-15\n",
      "  1.60511007e-15  1.00000000e+00]\n"
     ]
    }
   ],
   "source": [
    "print(train_predictions)"
   ]
  },
  {
   "cell_type": "code",
   "execution_count": 40,
   "id": "04eb793b",
   "metadata": {
    "id": "04eb793b"
   },
   "outputs": [],
   "source": [
    "cutoff = 0.4"
   ]
  },
  {
   "cell_type": "code",
   "execution_count": 41,
   "id": "f1703d10",
   "metadata": {
    "id": "f1703d10"
   },
   "outputs": [],
   "source": [
    "# Convert predictions to binary using the cutoff\n",
    "binary_predictions = [1 if x > cutoff else 0 for x in train_predictions]\n",
    "\n",
    "# Calculate accuracy, sensitivity, and specificity\n",
    "true_positives = sum((y == 1) & (np.array(binary_predictions) == 1))\n",
    "true_negatives = sum((y == 0) & (np.array(binary_predictions) == 0))\n",
    "false_positives = sum((y == 0) & (np.array(binary_predictions) == 1))\n",
    "false_negatives = sum((y == 1) & (np.array(binary_predictions) == 0))\n",
    "\n",
    "# Accuracy: (TP + TN) / (TP + TN + FP + FN)\n",
    "accuracy_train = (true_positives + true_negatives) / len(y)\n",
    "\n",
    "# Sensitivity: TP / (TP + FN)\n",
    "sensitivity_train = true_positives / (true_positives + false_negatives)\n",
    "\n",
    "# Specificity: TN / (TN + FP)\n",
    "specificity_train = true_negatives / (true_negatives + false_positives)"
   ]
  },
  {
   "cell_type": "code",
   "execution_count": 42,
   "id": "64698f96",
   "metadata": {},
   "outputs": [
    {
     "name": "stdout",
     "output_type": "stream",
     "text": [
      "true_positives=7508, true_negatives=22654, false_positives=0, false_negatives=0\n"
     ]
    }
   ],
   "source": [
    "print(f'true_positives={true_positives}, true_negatives={true_negatives}, false_positives={false_positives}, false_negatives={false_negatives}')"
   ]
  },
  {
   "cell_type": "code",
   "execution_count": 43,
   "id": "c7e38902",
   "metadata": {
    "id": "c7e38902"
   },
   "outputs": [
    {
     "name": "stdout",
     "output_type": "stream",
     "text": [
      "Accuracy: 1.0 \n",
      "Sensitivity: 1.0 \n",
      "Specificity: 1.0\n"
     ]
    }
   ],
   "source": [
    "print(\"Accuracy:\", round(accuracy_train,3), \"\\nSensitivity:\", round(sensitivity_train,3),\\\n",
    "      \"\\nSpecificity:\", round(specificity_train,3))"
   ]
  },
  {
   "cell_type": "code",
   "execution_count": 46,
   "id": "84826259",
   "metadata": {},
   "outputs": [
    {
     "name": "stdout",
     "output_type": "stream",
     "text": [
      "1.0\n"
     ]
    }
   ],
   "source": [
    "binary_predictions_series = pd.Series(binary_predictions)\n",
    "print(binary_predictions_series.quantile(0.99))\n",
    "#print(binary_predictions)"
   ]
  },
  {
   "cell_type": "markdown",
   "id": "3e794603",
   "metadata": {
    "id": "3e794603"
   },
   "source": [
    "#### Q6.6: Apply the same on training set but decrease the cutoff down to 0.2. Inspect the metrics we looked before, and compare the results with the cutoff 0.4. Interpret the results."
   ]
  },
  {
   "cell_type": "markdown",
   "id": "6d3104cd",
   "metadata": {
    "id": "6d3104cd"
   },
   "source": [
    "#### A6.6:"
   ]
  },
  {
   "cell_type": "code",
   "execution_count": 47,
   "id": "ba0f4b4f",
   "metadata": {
    "id": "ba0f4b4f"
   },
   "outputs": [],
   "source": [
    "cutoff_altenative = 0.2 #cutoff value"
   ]
  },
  {
   "cell_type": "code",
   "execution_count": 48,
   "id": "ded638e2",
   "metadata": {
    "id": "ded638e2"
   },
   "outputs": [],
   "source": [
    "# Convert predictions to binary using the cutoff\n",
    "binary_predictions_alt = [1 if x > cutoff_altenative else 0 for x in train_predictions]\n",
    "\n",
    "# Calculate accuracy, sensitivity, and specificity\n",
    "true_positives_alt = sum((y == 1) & (np.array(binary_predictions_alt) == 1))\n",
    "true_negatives_alt = sum((y == 0) & (np.array(binary_predictions_alt) == 0))\n",
    "false_positives_alt = sum((y == 0) & (np.array(binary_predictions_alt) == 1))\n",
    "false_negatives_alt = sum((y == 1) & (np.array(binary_predictions_alt) == 0))\n",
    "\n",
    "# Accuracy: (TP + TN) / (TP + TN + FP + FN)\n",
    "accuracy_train_alt = (true_positives_alt + true_negatives_alt) / len(y)\n",
    "\n",
    "# Sensitivity: TP / (TP + FN)\n",
    "sensitivity_train_alt = true_positives_alt / (true_positives_alt + false_negatives_alt)\n",
    "\n",
    "# Specificity: TN / (TN + FP)\n",
    "specificity_train_alt = true_negatives_alt / (true_negatives_alt + false_positives_alt)"
   ]
  },
  {
   "cell_type": "code",
   "execution_count": 49,
   "id": "541894f6",
   "metadata": {},
   "outputs": [
    {
     "name": "stdout",
     "output_type": "stream",
     "text": [
      "true_positives_alt=7508, true_negatives_alt=22654, false_positives_alt=0, false_negatives_alt=0\n"
     ]
    }
   ],
   "source": [
    "print(f'true_positives_alt={true_positives_alt}, true_negatives_alt={true_negatives_alt}, false_positives_alt={false_positives_alt}, false_negatives_alt={false_negatives_alt}')"
   ]
  },
  {
   "cell_type": "code",
   "execution_count": 50,
   "id": "985e2d17",
   "metadata": {
    "id": "985e2d17"
   },
   "outputs": [
    {
     "name": "stdout",
     "output_type": "stream",
     "text": [
      "Accuracy: 1.0 \n",
      "Sensitivity: 1.0 \n",
      "Specificity: 1.0\n"
     ]
    }
   ],
   "source": [
    "print(\"Accuracy:\", round(accuracy_train_alt,3), \"\\nSensitivity:\", round(sensitivity_train_alt,3),\\\n",
    "      \"\\nSpecificity:\", round(specificity_train_alt,3))"
   ]
  },
  {
   "cell_type": "code",
   "execution_count": 51,
   "id": "9d975409",
   "metadata": {},
   "outputs": [
    {
     "name": "stdout",
     "output_type": "stream",
     "text": [
      "true_positives_alt=7508, true_negatives_alt=22654, false_positives_alt=0, false_negatives_alt=0\n",
      "Accuracy: 1.0 \n",
      "Sensitivity: 1.0 \n",
      "Specificity: 1.0\n"
     ]
    }
   ],
   "source": [
    "cutoff_altenative = 0.05 #cutoff value\n",
    "\n",
    "# Convert predictions to binary using the cutoff\n",
    "binary_predictions_alt = [1 if x > cutoff_altenative else 0 for x in train_predictions]\n",
    "\n",
    "# Calculate accuracy, sensitivity, and specificity\n",
    "true_positives_alt = sum((y == 1) & (np.array(binary_predictions_alt) == 1))\n",
    "true_negatives_alt = sum((y == 0) & (np.array(binary_predictions_alt) == 0))\n",
    "false_positives_alt = sum((y == 0) & (np.array(binary_predictions_alt) == 1))\n",
    "false_negatives_alt = sum((y == 1) & (np.array(binary_predictions_alt) == 0))\n",
    "\n",
    "# Accuracy: (TP + TN) / (TP + TN + FP + FN)\n",
    "accuracy_train_alt = (true_positives_alt + true_negatives_alt) / len(y)\n",
    "\n",
    "# Sensitivity: TP / (TP + FN)\n",
    "sensitivity_train_alt = true_positives_alt / (true_positives_alt + false_negatives_alt)\n",
    "\n",
    "# Specificity: TN / (TN + FP)\n",
    "specificity_train_alt = true_negatives_alt / (true_negatives_alt + false_positives_alt)\n",
    "\n",
    "print(f'true_positives_alt={true_positives_alt}, true_negatives_alt={true_negatives_alt}, false_positives_alt={false_positives_alt}, false_negatives_alt={false_negatives_alt}')\n",
    "print(\"Accuracy:\", round(accuracy_train_alt,3), \"\\nSensitivity:\", round(sensitivity_train_alt,3),\\\n",
    "      \"\\nSpecificity:\", round(specificity_train_alt,3))"
   ]
  },
  {
   "cell_type": "markdown",
   "id": "2e6064d1",
   "metadata": {
    "id": "2e6064d1"
   },
   "source": [
    "#### Q6.7: Now use the linear model on the *test set*. Choose the cutoff value = 0.4 and return the accuracy, sensitivity, and specificity."
   ]
  },
  {
   "cell_type": "markdown",
   "id": "186ec97f",
   "metadata": {
    "id": "186ec97f"
   },
   "source": [
    "#### A6.7:"
   ]
  },
  {
   "cell_type": "code",
   "execution_count": 52,
   "id": "027e8ffa",
   "metadata": {},
   "outputs": [
    {
     "name": "stdout",
     "output_type": "stream",
     "text": [
      "First few predictions: [-7.38951414e-16  1.83099136e-15  2.45719546e-15  2.42345710e-15\n",
      "  1.79528186e-15] mean 0.2456839309428951\n",
      "true_positives_test=3700, true_negatives_test=11360, false_positives_test=0, false_negatives_test=0\n",
      "Accuracy: 0.499 \n",
      "Sensitivity: 1.0 \n",
      "Specificity: 1.0\n"
     ]
    }
   ],
   "source": [
    "df_test_dropna = df_test.dropna()\n",
    "\n",
    "#Step 2 -- fit\n",
    "X_test = df_test_dropna[numericals] #training predictors\n",
    "y_test = df_test_dropna['Target'] #training target\n",
    "clf_test = LinearRegression().fit(X_test, y_test) #time to fit\n",
    "\n",
    "#use \"clf.predict\" function\n",
    "# Predict the training target\n",
    "test_predictions = clf_test.predict(X_test)\n",
    "\n",
    "# Display the first few predictions\n",
    "print(\"First few predictions:\", train_predictions[:5], \"mean\",test_predictions.mean())\n",
    "\n",
    "cutoff = 0.4\n",
    "\n",
    "# Convert predictions to binary using the cutoff\n",
    "binary_predictions_test = [1 if x > cutoff else 0 for x in test_predictions]\n",
    "\n",
    "# Calculate accuracy, sensitivity, and specificity\n",
    "true_positives_test = sum((y_test == 1) & (np.array(binary_predictions_test) == 1))\n",
    "true_negatives_test = sum((y_test == 0) & (np.array(binary_predictions_test) == 0))\n",
    "false_positives_test = sum((y_test == 0) & (np.array(binary_predictions_test) == 1))\n",
    "false_negatives_test = sum((y_test == 1) & (np.array(binary_predictions_test) == 0))\n",
    "\n",
    "# Accuracy: (TP + TN) / (TP + TN + FP + FN)\n",
    "accuracy_test = (true_positives_test + true_negatives_test) / len(y)\n",
    "\n",
    "# Sensitivity: TP / (TP + FN)\n",
    "sensitivity_test = true_positives_test / (true_positives_test + false_negatives_test)\n",
    "\n",
    "# Specificity: TN / (TN + FP)\n",
    "specificity_test = true_negatives_test / (true_negatives_test + false_positives_test)\n",
    "\n",
    "print(f'true_positives_test={true_positives_test}, true_negatives_test={true_negatives_test}, false_positives_test={false_positives_test}, false_negatives_test={false_negatives_test}')\n",
    "\n",
    "print(\"Accuracy:\", round(accuracy_test,3), \"\\nSensitivity:\", round(sensitivity_test,3),\\\n",
    "      \"\\nSpecificity:\", round(specificity_test,3))"
   ]
  },
  {
   "cell_type": "markdown",
   "id": "80415e41",
   "metadata": {
    "id": "80415e41"
   },
   "source": [
    "#### Q6.8: Try different cutoff values on the training set and choose the best one according to the performance on the training set. Choose the following metric to optimize: *keep accuracy above 76% and trying to obtain the best possible sensitivity*. What is the optimal cutoff value in your experiment? (Note: this approach will be discussed later)."
   ]
  },
  {
   "cell_type": "markdown",
   "id": "65a6b24a",
   "metadata": {
    "id": "65a6b24a"
   },
   "source": [
    "#### A6.8: \n",
    "- Application of the previous chunks in an iterated manner."
   ]
  },
  {
   "cell_type": "code",
   "execution_count": 53,
   "id": "d99e09d1",
   "metadata": {},
   "outputs": [
    {
     "name": "stdout",
     "output_type": "stream",
     "text": [
      "Optimal Cutoff: 0.1, Highest Sensitivity: 1.0\n"
     ]
    }
   ],
   "source": [
    "optimal_cutoff = None\n",
    "highest_sensitivity = 0\n",
    "\n",
    "for cutoff in np.arange(0.1, 0.9, 0.01):\n",
    "    binary_predictions = [1 if x > cutoff else 0 for x in train_predictions]\n",
    "    true_positives = sum((y == 1) & (np.array(binary_predictions) == 1))\n",
    "    true_negatives = sum((y == 0) & (np.array(binary_predictions) == 0))\n",
    "    false_positives = sum((y == 0) & (np.array(binary_predictions) == 1))\n",
    "    false_negatives = sum((y == 1) & (np.array(binary_predictions) == 0))\n",
    "\n",
    "    accuracy = (true_positives + true_negatives) / len(y)\n",
    "    sensitivity = true_positives / (true_positives + false_negatives)\n",
    "\n",
    "    if accuracy >= 0.76 and sensitivity > highest_sensitivity:\n",
    "        highest_sensitivity = sensitivity\n",
    "        optimal_cutoff = cutoff\n",
    "\n",
    "print(f\"Optimal Cutoff: {optimal_cutoff}, Highest Sensitivity: {highest_sensitivity}\")\n"
   ]
  },
  {
   "cell_type": "markdown",
   "id": "9835660a",
   "metadata": {
    "id": "9835660a"
   },
   "source": [
    "#### Q6.9: In the previous question we tuned the cutoff value on the training set. This initialy makes sense, because we cannot tune on the test-set, which will be indirectly training on the test set. However, we also discussed in the validation-set approach that it is not a good practice to *compare* models on the training set, because of a natural bias in this procedure. Hence, it is a better approach to tune a value on a validation set. For this purpose, apply the following steps:\n",
    "- Split the training set as 80% (training) - 20% (validation) sets. You can take the first 80% and last 20% and no need to randomize the selection.\n",
    "- Train a linear model on the training set obtained in the previous approach. Training one model is enough.\n",
    "- Compare cutoff values between 0.2 - 0.8 with 0.05 increments. Pick the best model by looking at the validation set, where the \"best\" model has an accuracy over 76% and has the highest sensitivity still.\n",
    "- Test the validated cutoff on the test set and return the metrics.\n",
    "- [Extra / optional] Instead of the hold-out validation that you just applied, try 5-fold cross validation in the original training set."
   ]
  },
  {
   "cell_type": "markdown",
   "id": "05d29000",
   "metadata": {
    "id": "05d29000"
   },
   "source": [
    "#### A6.9"
   ]
  },
  {
   "cell_type": "code",
   "execution_count": 54,
   "id": "4fc3b784",
   "metadata": {},
   "outputs": [],
   "source": [
    "#Step 1: Split the Training Set\n",
    "split_index = int(len(df_train_dropna) * 0.8)\n",
    "training_set = df_train_dropna[:split_index]\n",
    "validation_set = df_train_dropna[split_index:]"
   ]
  },
  {
   "cell_type": "code",
   "execution_count": 55,
   "id": "76e55681",
   "metadata": {},
   "outputs": [],
   "source": [
    "#Step 2: Train a Linear Model\n",
    "\n",
    "X_train = training_set[numericals]\n",
    "y_train = training_set['Target']\n",
    "clf = LinearRegression().fit(X_train, y_train)"
   ]
  },
  {
   "cell_type": "code",
   "execution_count": 56,
   "id": "6942b664",
   "metadata": {},
   "outputs": [],
   "source": [
    "#Step 3 and 4: Compare Cutoff Values and Pick the Best Model\n",
    "\n",
    "best_cutoff = 0.2\n",
    "best_sensitivity = 0\n",
    "\n",
    "for cutoff in np.arange(0.2, 0.85, 0.05):\n",
    "    validation_predictions = clf.predict(validation_set[numericals])\n",
    "    binary_predictions = [1 if x > cutoff else 0 for x in validation_predictions]\n",
    "\n",
    "    # Calculate metrics...\n",
    "    # Similar to previous steps but using validation_set\n",
    "\n",
    "    if accuracy >= 0.76 and sensitivity > best_sensitivity:\n",
    "        best_sensitivity = sensitivity\n",
    "        best_cutoff = cutoff\n",
    "        "
   ]
  },
  {
   "cell_type": "code",
   "execution_count": 57,
   "id": "a8fb3ddb",
   "metadata": {},
   "outputs": [],
   "source": [
    "#Step 5: Test the Validated Cutoff on the Test Set\n",
    "test_predictions = clf.predict(df_test[numericals])\n",
    "binary_test_predictions = [1 if x > best_cutoff else 0 for x in test_predictions]\n"
   ]
  },
  {
   "cell_type": "code",
   "execution_count": 58,
   "id": "c00bebd3",
   "metadata": {},
   "outputs": [
    {
     "name": "stdout",
     "output_type": "stream",
     "text": [
      "Optimal Cutoff: 0.2, Highest Average Sensitivity: 1.0\n"
     ]
    }
   ],
   "source": [
    "#Step 6: [Optional] 5-Fold Cross-Validation\n",
    "from sklearn.model_selection import KFold\n",
    "from sklearn.metrics import accuracy_score\n",
    "\n",
    "kf = KFold(n_splits=5)\n",
    "best_cutoff = None\n",
    "highest_sensitivity = 0\n",
    "\n",
    "for cutoff in np.arange(0.2, 0.85, 0.05):\n",
    "    sensitivities = []\n",
    "    accuracies = []\n",
    "\n",
    "    for train_index, val_index in kf.split(df_train_dropna):\n",
    "        # Split data into training and validation sets\n",
    "        X_train_fold = df_train_dropna.iloc[train_index][numericals]\n",
    "        y_train_fold = df_train_dropna.iloc[train_index]['Target']\n",
    "        X_val_fold = df_train_dropna.iloc[val_index][numericals]\n",
    "        y_val_fold = df_train_dropna.iloc[val_index]['Target']\n",
    "\n",
    "        # Train the model\n",
    "        clf_fold = LinearRegression().fit(X_train_fold, y_train_fold)\n",
    "\n",
    "        # Make predictions on the validation set\n",
    "        val_predictions = clf_fold.predict(X_val_fold)\n",
    "        binary_val_predictions = [1 if x > cutoff else 0 for x in val_predictions]\n",
    "\n",
    "        # Calculate accuracy and sensitivity\n",
    "        true_positives = sum((y_val_fold == 1) & (np.array(binary_val_predictions) == 1))\n",
    "        true_negatives = sum((y_val_fold == 0) & (np.array(binary_val_predictions) == 0))\n",
    "        false_positives = sum((y_val_fold == 0) & (np.array(binary_val_predictions) == 1))\n",
    "        false_negatives = sum((y_val_fold == 1) & (np.array(binary_val_predictions) == 0))\n",
    "\n",
    "        accuracy = accuracy_score(y_val_fold, binary_val_predictions)\n",
    "        sensitivity = true_positives / (true_positives + false_negatives) if (true_positives + false_negatives) > 0 else 0\n",
    "\n",
    "        accuracies.append(accuracy)\n",
    "        sensitivities.append(sensitivity)\n",
    "\n",
    "    # Average metrics across folds\n",
    "    avg_accuracy = np.mean(accuracies)\n",
    "    avg_sensitivity = np.mean(sensitivities)\n",
    "\n",
    "    # Update best cutoff if conditions are met\n",
    "    if avg_accuracy >= 0.76 and avg_sensitivity > highest_sensitivity:\n",
    "        highest_sensitivity = avg_sensitivity\n",
    "        best_cutoff = cutoff\n",
    "\n",
    "print(f\"Optimal Cutoff: {best_cutoff}, Highest Average Sensitivity: {highest_sensitivity}\")\n",
    "\n"
   ]
  },
  {
   "cell_type": "code",
   "execution_count": null,
   "id": "86089a25",
   "metadata": {},
   "outputs": [],
   "source": []
  },
  {
   "cell_type": "markdown",
   "id": "da7d7823",
   "metadata": {
    "id": "da7d7823"
   },
   "source": [
    "#### Q6.10: Previously we have seen that if we decrese the cutoff value then we get more sensitivity as we try to classify more \"1\"s. Obviously we would expect to have sensitivity = 1 if we pick the smallest possible cutoff. To this end, try a cutoff = 0 on the test set and report the sensitivity. If the sensitivity is not equal to 1, please give a possible reason."
   ]
  },
  {
   "cell_type": "markdown",
   "id": "f9f848a0",
   "metadata": {
    "id": "f9f848a0"
   },
   "source": [
    "#### A6.10:"
   ]
  },
  {
   "cell_type": "code",
   "execution_count": 59,
   "id": "3086ead3",
   "metadata": {},
   "outputs": [
    {
     "name": "stdout",
     "output_type": "stream",
     "text": [
      "First few predictions: [-7.38951414e-16  1.83099136e-15  2.45719546e-15  2.42345710e-15\n",
      "  1.79528186e-15] mean 0.2456839309428951\n",
      "true_positives_test=3700, true_negatives_test=1239, false_positives_test=10121, false_negatives_test=0\n",
      "Accuracy: 0.164 \n",
      "Sensitivity: 1.0 \n",
      "Specificity: 0.109\n"
     ]
    }
   ],
   "source": [
    "df_test_dropna = df_test.dropna()\n",
    "\n",
    "#Step 2 -- fit\n",
    "X_test = df_test_dropna[numericals] #training predictors\n",
    "y_test = df_test_dropna['Target'] #training target\n",
    "clf_test = LinearRegression().fit(X_test, y_test) #time to fit\n",
    "\n",
    "#use \"clf.predict\" function\n",
    "# Predict the training target\n",
    "test_predictions = clf_test.predict(X_test)\n",
    "\n",
    "# Display the first few predictions\n",
    "print(\"First few predictions:\", train_predictions[:5], \"mean\",test_predictions.mean())\n",
    "cutoff = 0\n",
    "\n",
    "# Convert predictions to binary using the cutoff\n",
    "binary_predictions_test = [1 if x > cutoff else 0 for x in test_predictions]\n",
    "\n",
    "# Calculate accuracy, sensitivity, and specificity\n",
    "true_positives_test = sum((y_test == 1) & (np.array(binary_predictions_test) == 1))\n",
    "true_negatives_test = sum((y_test == 0) & (np.array(binary_predictions_test) == 0))\n",
    "false_positives_test = sum((y_test == 0) & (np.array(binary_predictions_test) == 1))\n",
    "false_negatives_test = sum((y_test == 1) & (np.array(binary_predictions_test) == 0))\n",
    "\n",
    "# Accuracy: (TP + TN) / (TP + TN + FP + FN)\n",
    "accuracy_test = (true_positives_test + true_negatives_test) / len(y)\n",
    "\n",
    "# Sensitivity: TP / (TP + FN)\n",
    "sensitivity_test = true_positives_test / (true_positives_test + false_negatives_test)\n",
    "\n",
    "# Specificity: TN / (TN + FP)\n",
    "specificity_test = true_negatives_test / (true_negatives_test + false_positives_test)\n",
    "\n",
    "print(f'true_positives_test={true_positives_test}, true_negatives_test={true_negatives_test}, false_positives_test={false_positives_test}, false_negatives_test={false_negatives_test}')\n",
    "\n",
    "print(\"Accuracy:\", round(accuracy_test,3), \"\\nSensitivity:\", round(sensitivity_test,3),\\\n",
    "      \"\\nSpecificity:\", round(specificity_test,3))"
   ]
  },
  {
   "cell_type": "markdown",
   "id": "e3fba4f2",
   "metadata": {
    "id": "e3fba4f2"
   },
   "source": [
    "#### Q6.11 [Bonus / Optional]: Encode \"worksclass\" with dummies so that we can include these variables in the linear regression (i.e., introduce a column for each value the workclass can take and write '1' if this is true -- note that you should drop one of these dummies without loss of generality as from the others you can figure out the one left out). Train the linear regression by using this new variable in addition to the previous variables. Test on the test set by using the cutoff value you found previously."
   ]
  },
  {
   "cell_type": "markdown",
   "id": "a755d39f",
   "metadata": {
    "id": "a755d39f"
   },
   "source": [
    "#### A6.11:\n",
    "- One can iterate over the \".dtypes\" of the training set and for every \"O\" data type, convert this to \"Categorical\". Then, using \"pd.get_dummies\" one can obtain dummies on this categorical variable. The rest is identical to what we did before -- only add the new additional numeric values."
   ]
  },
  {
   "cell_type": "code",
   "execution_count": 60,
   "id": "87feb1ad",
   "metadata": {},
   "outputs": [],
   "source": [
    "#Step 1: Convert Categorical Variables to Dummies\n",
    "\n",
    "# For the training set\n",
    "df_train_dummies = pd.get_dummies(df_train, columns=['Workclass'], drop_first=True)\n",
    "\n",
    "# For the test set\n",
    "df_test_dummies = pd.get_dummies(df_test, columns=['Workclass'], drop_first=True)\n",
    "\n",
    "# Ensure that both training and test sets have the same dummy columns\n",
    "df_train_dummies, df_test_dummies = df_train_dummies.align(df_test_dummies, join='inner', axis=1)\n"
   ]
  },
  {
   "cell_type": "code",
   "execution_count": 61,
   "id": "c42914b8",
   "metadata": {},
   "outputs": [],
   "source": [
    "#Step 2: Prepare the Data\n",
    "\n",
    "# Assuming 'numericals' contains the names of your numeric predictor columns\n",
    "X_train = df_train_dummies[numericals + list(df_train_dummies.columns[df_train_dummies.columns.str.startswith('Workclass_')])]\n",
    "y_train = df_train_dummies['Target']\n"
   ]
  },
  {
   "cell_type": "code",
   "execution_count": 62,
   "id": "524ca95a",
   "metadata": {},
   "outputs": [],
   "source": [
    "#Step 3: Train the Linear Regression Model\n",
    "\n",
    "clf = LinearRegression().fit(X_train, y_train)\n",
    "    "
   ]
  },
  {
   "cell_type": "code",
   "execution_count": 63,
   "id": "c9271a80",
   "metadata": {},
   "outputs": [
    {
     "name": "stdout",
     "output_type": "stream",
     "text": [
      "true_positives_test=17, true_negatives_test=0, false_positives_test=0, false_negatives_test=0\n",
      "Accuracy: 0.001 \n",
      "Sensitivity: 1.0 \n",
      "Specificity: 0\n"
     ]
    }
   ],
   "source": [
    "#Step 4: Test on the Test Set\n",
    "\n",
    "X_test = df_test_dummies[numericals + list(df_test_dummies.columns[df_test_dummies.columns.str.startswith('Workclass_')])]\n",
    "y_test = df_test_dummies['Target']\n",
    "\n",
    "test_predictions = clf.predict(X_test)\n",
    "\n",
    "# Apply the previously determined optimal cutoff\n",
    "optimal_cutoff = 0.2 # (set this to the value found previously)\n",
    "binary_test_predictions = [1 if x > optimal_cutoff else 0 for x in test_predictions]\n",
    "\n",
    "# Calculate accuracy, sensitivity, and specificity\n",
    "true_positives_test = sum((y_test == 1) & (np.array(test_predictions) == 1))\n",
    "true_negatives_test = sum((y_test == 0) & (np.array(test_predictions) == 0))\n",
    "false_positives_test = sum((y_test == 0) & (np.array(test_predictions) == 1))\n",
    "false_negatives_test = sum((y_test == 1) & (np.array(test_predictions) == 0))\n",
    "\n",
    "# Accuracy: (TP + TN) / (TP + TN + FP + FN)\n",
    "accuracy_test = (true_positives_test + true_negatives_test) / len(y) if len(y_test) > 0 else 0\n",
    "\n",
    "# Sensitivity: TP / (TP + FN)\n",
    "sensitivity_test = true_positives_test / (true_positives_test + false_negatives_test) if (true_positives_test + false_negatives_test) > 0 else 0\n",
    "\n",
    "# Specificity: TN / (TN + FP)\n",
    "specificity_test = true_negatives_test / (true_negatives_test + false_positives_test) if (true_negatives_test + false_positives_test) > 0 else 0\n",
    "\n",
    "print(f'true_positives_test={true_positives_test}, true_negatives_test={true_negatives_test}, false_positives_test={false_positives_test}, false_negatives_test={false_negatives_test}')\n",
    "\n",
    "print(\"Accuracy:\", round(accuracy_test,3), \"\\nSensitivity:\", round(sensitivity_test,3),\\\n",
    "      \"\\nSpecificity:\", round(specificity_test,3))\n"
   ]
  },
  {
   "cell_type": "markdown",
   "id": "501d35d5",
   "metadata": {
    "id": "501d35d5"
   },
   "source": [
    "### Final notes\n",
    "Note that linear regression is not designed for such tasks, however, it works great in many cases. A variant of linear regression, that is called the *logistic regression*, takes a linear relationship as in the linear regression setting, but applies a non-linear mapping on the output. In return, we obtain predictions that are between [0,1], hence simply using \"predict\" function would classify the instances with a prediction of >= 0.5 as \"1\". We can similarly change the threshold. Although logistic regression will be introduced in more detail, we can also write similar code to make use of it easily as the following. "
   ]
  },
  {
   "cell_type": "code",
   "execution_count": 64,
   "id": "de14c84f",
   "metadata": {
    "id": "de14c84f"
   },
   "outputs": [],
   "source": [
    "from sklearn.linear_model import LogisticRegression\n",
    "clf = LogisticRegression(random_state=0).fit(X, y) \n",
    "#X,y have to be filled before so that X comprises numerical variables"
   ]
  },
  {
   "cell_type": "code",
   "execution_count": 57,
   "id": "a9cc8f75",
   "metadata": {
    "id": "a9cc8f75"
   },
   "outputs": [],
   "source": [
    "scores_linear_training = clf.predict(X) #predict function\n",
    "# alternatively, for using a cutoff, first get the assigned 'probabilities' by using \"probs = clf.predict_proba(X)\"\n",
    "# and then apply thresholds."
   ]
  },
  {
   "cell_type": "markdown",
   "id": "3af32967",
   "metadata": {
    "id": "3af32967"
   },
   "source": [
    "As extra, you can try coding other concepts such as:\n",
    "- Visualising lift charts and comparing models via lift charts.\n",
    "- Applying more advanced algorithms and/or using further categorial variables by using several encodings.\n",
    "- Analyzing the categorical variables further to see if we have an ordinal relationship that can be modeled via integers.\n",
    "- As mentioned above, using K fold cross validation."
   ]
  }
 ],
 "metadata": {
  "colab": {
   "collapsed_sections": [
    "797ae857",
    "797ec48d",
    "146b35ef",
    "23e9f381",
    "5adcc5a4",
    "f49afb50",
    "61367d5f",
    "68233a89",
    "d3366487",
    "3d79e4f3",
    "a87bc8cc",
    "3e650ccc",
    "7e568da8",
    "f9ea66e1",
    "e7656c1e",
    "cfb01a85",
    "92e8b941",
    "89f1c7f0",
    "2018caa6",
    "0c0cb992",
    "58fcae06",
    "13ab38b5",
    "3a5ca4f6",
    "cd16ee2a",
    "d107d0dd",
    "342406a0",
    "b99f36f4",
    "c454ebd7",
    "2980b7a0",
    "de9bc7bb",
    "aa329364",
    "f1c81fea",
    "c8f44441",
    "180084ec",
    "9755db00",
    "668af8f6",
    "19ad6985",
    "3e794603",
    "2e6064d1",
    "186ec97f",
    "80415e41",
    "65a6b24a",
    "9835660a",
    "05d29000",
    "da7d7823",
    "f9f848a0",
    "e3fba4f2",
    "a755d39f",
    "501d35d5"
   ],
   "name": "Project Questions.ipynb",
   "provenance": []
  },
  "kernelspec": {
   "display_name": "Python 3 (ipykernel)",
   "language": "python",
   "name": "python3"
  },
  "language_info": {
   "codemirror_mode": {
    "name": "ipython",
    "version": 3
   },
   "file_extension": ".py",
   "mimetype": "text/x-python",
   "name": "python",
   "nbconvert_exporter": "python",
   "pygments_lexer": "ipython3",
   "version": "3.10.9"
  }
 },
 "nbformat": 4,
 "nbformat_minor": 5
}
