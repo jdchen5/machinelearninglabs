{
 "cells": [
  {
   "cell_type": "code",
   "execution_count": 1,
   "id": "2549520a",
   "metadata": {},
   "outputs": [],
   "source": [
    "import numpy as np\n",
    "from sklearn.preprocessing import PolynomialFeatures\n",
    "from sklearn.linear_model import LinearRegression\n",
    "from sklearn.pipeline import Pipeline\n",
    "import pathlib as pl\n",
    "import os \n",
    "import pandas as pd"
   ]
  },
  {
   "cell_type": "markdown",
   "id": "0e8c6a33",
   "metadata": {},
   "source": [
    "# Metrics for Model Selection\n",
    "\n",
    "In this notebook you will fit polynomials to data to decide which order of polynomial is the best fit. Unlike before, the data you will be using is 3 dimensional, meaning it isn't possible to plot. Instead, you will write functions to calculate various metrics that are used to determine model fit. \n",
    "\n",
    "Complete this notebook, then answer the questions that go along side it. "
   ]
  },
  {
   "cell_type": "code",
   "execution_count": 2,
   "id": "4b83af6b",
   "metadata": {},
   "outputs": [],
   "source": [
    "# set random seed for reproducibility\n",
    "seed = 2022\n",
    "np.random.seed(seed)"
   ]
  },
  {
   "cell_type": "markdown",
   "id": "8f323453",
   "metadata": {},
   "source": [
    "## Load the data "
   ]
  },
  {
   "cell_type": "code",
   "execution_count": 3,
   "id": "97b160e4",
   "metadata": {},
   "outputs": [],
   "source": [
    "path_csv = pl.Path(os.getcwd()) / f'M6_Performance_Metrics_Data.csv'\n",
    "with open(path_csv, 'rb') as file:\n",
    "    data_pd = pd.read_csv(file)"
   ]
  },
  {
   "cell_type": "code",
   "execution_count": 4,
   "id": "b2565b4f",
   "metadata": {},
   "outputs": [
    {
     "name": "stdout",
     "output_type": "stream",
     "text": [
      "   Unnamed: 0        x1        x2        x3          y\n",
      "0           0  0.382303 -1.596593  1.233776   4.935364\n",
      "1           1  1.902436  1.579109 -0.341741  25.138660\n",
      "2           2 -1.689244  1.298489 -1.472081  -4.786340\n",
      "3           3 -1.510509  1.937616 -1.600244  -3.185759\n",
      "4           4  1.621717  0.515558 -1.869644  19.712731\n"
     ]
    }
   ],
   "source": [
    "print(data_pd.head())"
   ]
  },
  {
   "cell_type": "markdown",
   "id": "9d2d5f09",
   "metadata": {},
   "source": [
    "## Section 1 : Split the data into training, validation and test sets\n",
    "\n",
    "### TO DO: write a function that splits the data into traning, validation and test sets.\n",
    "\n",
    "The function should take as inputs the dataframe and the percentage splits for each of training, validation and test. It should output 3 dataframes, one for each of the sets. "
   ]
  },
  {
   "cell_type": "code",
   "execution_count": 5,
   "id": "b8b80816",
   "metadata": {},
   "outputs": [],
   "source": [
    "## write your function here ##\n",
    "\n",
    "from sklearn.model_selection import train_test_split\n",
    "\n",
    "def split_dataframe(df, data_split):\n",
    "    \"\"\"\n",
    "    Splits a dataframe into training, validation, and test sets.\n",
    "    \n",
    "    Args:\n",
    "    - param df (pd.DataFrame): The DataFrame to split.\n",
    "    - param data_split: a list of the fraction of the data to be in each set of form \n",
    "    [training_fraction, validation_fraction, test_fraction]. The fractions should all add up to 1.\n",
    "    Returns:\n",
    "    - train_df, val_df, test_df (pd.DataFrame): The split DataFrames.\n",
    "    \"\"\"\n",
    "    # The code checks that the sum of the fractions in data_split is approximately equal to 1. This is to ensure that the user hasn't made an error in specifying the split fractions.\n",
    "    assert np.sum(data_split)-1 < 0.01\n",
    "    \n",
    "    train_df, temp_df = train_test_split(df, test_size=data_split[1] + data_split[2])\n",
    "    val_df, test_df = train_test_split(temp_df, test_size=data_split[2] / (data_split[1] + data_split[2]))\n",
    "    \n",
    "    return train_df, val_df, test_df"
   ]
  },
  {
   "cell_type": "markdown",
   "id": "2d4f0de2",
   "metadata": {},
   "source": [
    "### TO DO: Use your function to split the data so the training set has 40% of the data and the validation and test sets have 30% of the data each"
   ]
  },
  {
   "cell_type": "code",
   "execution_count": 6,
   "id": "6e70a19b",
   "metadata": {},
   "outputs": [
    {
     "name": "stdout",
     "output_type": "stream",
     "text": [
      "<class 'pandas.core.frame.DataFrame'>\n",
      "    Unnamed: 0        x1        x2        x3          y\n",
      "21          21 -0.281362 -1.523042 -0.685317   3.111517\n",
      "74          74 -0.409170 -1.331770  0.803696   3.611360\n",
      "85          85  0.406381 -0.546997  1.114878   4.507444\n",
      "29          29 -1.562076 -0.827114 -1.350314  12.511955\n",
      "71          71 -0.162152  1.373440  0.411232   3.160265\n",
      "64          64  0.897903  1.426707  0.797498   5.384437\n",
      "91          91  1.680248 -1.899313  0.861771 -14.653928\n",
      "42          42 -0.669088 -1.536327 -0.522579   4.468465\n",
      "52          52  1.262583  0.234466 -0.132652   4.148850\n",
      "13          13  1.629689  1.228442 -1.951963  27.977851\n",
      "80          80 -1.359348 -1.780858  0.847985  12.234655\n",
      "98          98 -0.467675  1.527521  0.675122   2.895005\n",
      "12          12 -1.096106  0.560155 -0.072257   2.073382\n",
      "56          56  1.127148  0.655574  0.900366   5.513091\n",
      "37          37 -1.066721 -0.806202 -1.603302  11.504107\n",
      "23          23 -0.496090  1.552690 -1.333864   5.704070\n",
      "15          15 -0.585360 -0.023728  1.032742   4.072249\n",
      "2            2 -1.689244  1.298489 -1.472081  -4.786340\n",
      "87          87 -0.206884  0.556944 -0.991252   4.303754\n",
      "99          99 -0.126524  1.807901 -0.740513   3.114022\n",
      "14          14  1.889985  0.464764 -1.297304  12.089570\n",
      "72          72  0.205552 -0.087599  0.738497   3.580353\n",
      "38          38 -1.540892 -1.914233  0.094931  16.939395\n",
      "86          86 -0.701848  0.202234 -1.035928   4.027855\n",
      "48          48  1.252673 -1.396606 -1.472395   2.493270\n",
      "75          75  0.627830 -1.468808 -1.339753   5.722045\n",
      "19          19  1.069111 -1.184526  0.576039   0.049595\n",
      "11          11 -1.791881  1.247531 -1.404802  -7.885392\n",
      "27          27 -0.699577  0.431419 -0.420143   3.276903\n",
      "33          33  1.842447 -0.730029 -1.208410  -3.896164\n",
      "41          41  1.026876  0.085351 -0.194542   2.850317\n",
      "53          53 -1.865304 -0.964960 -1.988133  30.539239\n",
      "16          16 -1.144002  0.949800  0.866272   1.223742\n",
      "24          24  1.808328 -0.137865 -0.016387   1.468578\n",
      "18          18 -0.430916  1.401128 -0.480641   2.783550\n",
      "88          88 -1.890215 -0.276761 -1.039610   7.361286\n",
      "55          55 -1.277623 -0.817546 -1.888549  19.193692\n",
      "49          49  1.800842  0.017108 -0.129432   3.380950\n",
      "45          45 -0.355683 -0.487864  1.451096   7.685456\n",
      "92          92 -0.170697  1.568891 -1.732563  11.339542\n"
     ]
    }
   ],
   "source": [
    "#### write your code here ####\n",
    "\n",
    "# split the data into training, validation and test sets\n",
    "\n",
    "### TO DO ###\n",
    "#define the percentage for split: 40% for training, 30%  for validation and 30% for test\n",
    "data_split =[0.4,0.3,0.3]\n",
    "\n",
    "#data = {'X':data_pd[[\"x1\",\"x2\",\"x3\"]].values, 'Y':data_pd[\"y\"].values}\n",
    "\n",
    "training_df, validation_df, test_df = split_dataframe(data_pd, data_split)\n",
    "#################\n",
    "print(type(training_df))\n",
    "print(training_df)"
   ]
  },
  {
   "cell_type": "markdown",
   "id": "135eeba7",
   "metadata": {},
   "source": [
    "## Section 2: Write Metrics Functions \n",
    "\n",
    "### TO DO: Write the functions that calcluate the metrics you will use to evaluate the model fits\n",
    "\n",
    "Write Functions that return:\n",
    "- The mean absolute error\n",
    "- The average error\n",
    "- The mean absolute percentage error \n",
    "- The root mean squared error \n",
    "- The total sum of squared errors "
   ]
  },
  {
   "cell_type": "code",
   "execution_count": 14,
   "id": "fb389075",
   "metadata": {},
   "outputs": [],
   "source": [
    "## write your code here ##\n",
    "\n",
    "#The mean absolute error\n",
    "def mean_absolute_error(y_true, y_pred):\n",
    "    return np.mean(np.abs(np.array(y_true) - np.array(y_pred)))\n",
    "\n",
    "#The average error\n",
    "def average_error(y_true, y_pred):\n",
    "    return np.mean(np.array(y_true) - np.array(y_pred))\n",
    "\n",
    "#The mean absolute percentage error\n",
    "def mean_absolute_percentage_error(y_true, y_pred):\n",
    "    y_true, y_pred = np.array(y_true), np.array(y_pred)\n",
    "    return np.mean(np.abs((y_true - y_pred) / y_true)) * 100\n",
    "\n",
    "#The root mean squared error\n",
    "def root_mean_squared_error(y_true, y_pred):\n",
    "    return np.sqrt(np.mean((np.array(y_true) - np.array(y_pred)) ** 2))\n",
    "\n",
    "#The total sum of squared errors\n",
    "def total_sum_of_squared_errors(y_true, y_pred):\n",
    "    return np.sum((np.array(y_true) - np.array(y_pred)) ** 2)"
   ]
  },
  {
   "cell_type": "markdown",
   "id": "f6e4f258",
   "metadata": {},
   "source": [
    "## Section 3: Fit models to training data and calculate performance metric on validation sets\n",
    "\n",
    "For polynomials of order 1, 2, 3, and 4, you will use fit_model to fit each each model. This function uses scikit-learn polynomial regression. \n",
    "\n",
    "\n",
    "### TODO: write function to convert dataframe into numpy arrays\n",
    "\n",
    "The scikit-learn functions take numpy arrays as their inputs. Therefore before you can fit any data you need to write a function to turn a dataframe with columns [x1, x2, x3, y] into two numpy arrays: X and y. X should have dimensions (N, D), where N is the number of data points and D is the dimensionality of the data (in this case 3). y should have dimensions (N, ). \n"
   ]
  },
  {
   "cell_type": "code",
   "execution_count": 19,
   "id": "206866ff",
   "metadata": {},
   "outputs": [],
   "source": [
    "def fit_model(X, y, order):\n",
    "    \"\"\"creates scikit-learn regression object and fits it to the X and y data\"\"\"\n",
    "    \"\"\"\n",
    "    Fits a polynomial regression model for the given order.\n",
    "    \n",
    "    Parameters:\n",
    "    - X: Input data\n",
    "    - y: Target values\n",
    "    - order: Polynomial order\n",
    "    \n",
    "    Returns:\n",
    "    - model: Fitted model\n",
    "     - poly: PolynomialFeatures object\n",
    "    \"\"\"\n",
    "    poly = PolynomialFeatures(degree=order)\n",
    "    model = Pipeline([('poly', poly),\n",
    "                      ('linear', LinearRegression(fit_intercept=False))])\n",
    "    model = model.fit(X, y)\n",
    "    return model , poly"
   ]
  },
  {
   "cell_type": "code",
   "execution_count": 20,
   "id": "42198274",
   "metadata": {},
   "outputs": [],
   "source": [
    "### write your function here ## \n",
    "\n",
    "def dataframe_to_arrays(df):\n",
    "    \"\"\"\n",
    "    Convert a dataDictionary with columns [x1, x2, x3, y] into two numpy arrays: X and y.\n",
    "    \n",
    "    Parameters:\n",
    "    - df: A pandas DataFrame with columns [x1, x2, x3, y]\n",
    "    \n",
    "    Returns:\n",
    "    - X: A numpy array with shape (N, D), where N is the number of data points and D=3.\n",
    "    - y: A numpy array with shape (N, )\n",
    "    \"\"\"\n",
    "    \n",
    "    # Extracting the X values (x1, x2, x3) into an array\n",
    "    X = df[['x1', 'x2', 'x3']].values\n",
    "    \n",
    "    \n",
    "    # Extracting the y values into an array\n",
    "    y = df['y'].values\n",
    "    \n",
    "    return X, y"
   ]
  },
  {
   "cell_type": "markdown",
   "id": "3005500f",
   "metadata": {},
   "source": [
    "### TO DO: For polynomials of order 1 to 6 inclusive: \n",
    "1. Fit a polynomial to the training data using the fit_model function \n",
    "2. Use model.predict(X) to get the model predictions on the validation set\n",
    "3. Store the model in a dictionary of models where the keys indicate the order and the items are the models\n",
    "4. Store the predictions in a seperate dictionary where the keys indicate the order and the items are numpy arrays of the predictions "
   ]
  },
  {
   "cell_type": "code",
   "execution_count": 21,
   "id": "34b4f860",
   "metadata": {},
   "outputs": [],
   "source": [
    "## write your code here ##\n",
    "\n",
    "X_train, y_train = dataframe_to_arrays(training_df)\n",
    "X_val, y_val = dataframe_to_arrays(validation_df)\n",
    "\n",
    "# Store models and predictions\n",
    "models = {}\n",
    "predictions = {}\n",
    "\n",
    "# For polynomial orders 1 to 6\n",
    "for order in range(1, 7):\n",
    "    model, poly = fit_model(X_train, y_train, order)\n",
    "    models[order] = model\n",
    "    #print(type(model))\n",
    "    # Predict on validation set\n",
    "    X_val_poly = poly.transform(X_val) # Use transform on poly, not model\n",
    "    y_pred = model.predict(X_val)\n",
    "    predictions[order] = y_pred\n"
   ]
  },
  {
   "cell_type": "markdown",
   "id": "cc41eccd",
   "metadata": {},
   "source": [
    "## Section 4: Calculate metrics for each of the models\n",
    "\n",
    "Now we want to calculate the metrics for each of the models. \n",
    "\n",
    "\n",
    "### TODO: Use the dictionary of predictions you have to caluclate and record (could be in a dataframe, or you could plot it on a graph) each of the metrics. \n",
    "1. Calculate each of the metrics for the model using the functions you wrote before\n",
    "2. Store the metrics in a dataframe, with one row for each model or plot on a graph\n",
    "3. Answer the questions that go alongside this notebook \n",
    "\n",
    "HINT: you can write a list of functions of the form:\n",
    "\n",
    "methods = [RMSE, average_error, mean_abs_percent_error, total_sum_squared_error]\n",
    "\n",
    "which you can then iterate over using a for loop. \n",
    "\n"
   ]
  },
  {
   "cell_type": "code",
   "execution_count": 11,
   "id": "c9f58ca0",
   "metadata": {},
   "outputs": [
    {
     "name": "stdout",
     "output_type": "stream",
     "text": [
      "{1: PolynomialFeatures(degree=1), 2: PolynomialFeatures(), 3: PolynomialFeatures(degree=3), 4: PolynomialFeatures(degree=4), 5: PolynomialFeatures(degree=5), 6: PolynomialFeatures(degree=6)}\n",
      "{}\n"
     ]
    }
   ],
   "source": [
    "print(models)\n",
    "print(predictions)"
   ]
  },
  {
   "cell_type": "code",
   "execution_count": 25,
   "id": "f9e87a35",
   "metadata": {},
   "outputs": [
    {
     "name": "stdout",
     "output_type": "stream",
     "text": [
      "   root_mean_squared_error  average_error  mean_absolute_percentage_error  \\\n",
      "1                 9.045697      -0.150370                      146.828200   \n",
      "2                 3.146312       0.303723                       76.491856   \n",
      "3                 5.368104       0.890532                       81.931333   \n",
      "4                 2.247365       0.003900                       45.206318   \n",
      "5                 4.142880       0.943863                       45.417668   \n",
      "6                 7.625341       3.665979                      100.308762   \n",
      "\n",
      "   total_sum_of_squared_errors  \n",
      "1                  2454.738837  \n",
      "2                   296.978331  \n",
      "3                   864.496164  \n",
      "4                   151.519549  \n",
      "5                   514.903627  \n",
      "6                  1744.374753  \n"
     ]
    },
    {
     "data": {
      "image/png": "[encoded data removed]",
      "text/plain": [
       "<Figure size 640x480 with 1 Axes>"
      ]
     },
     "metadata": {},
     "output_type": "display_data"
    }
   ],
   "source": [
    "## write your code here ##\n",
    "\n",
    "import matplotlib.pyplot as plt\n",
    "\n",
    "methods = [root_mean_squared_error, average_error, mean_absolute_percentage_error, total_sum_of_squared_errors]\n",
    "\n",
    "def calculate_metrics_for_all_models(predictions, y_true, methods):\n",
    "    results = {}\n",
    "    for order, y_pred in predictions.items():\n",
    "        metrics_values = {}\n",
    "        for method in methods:\n",
    "            metric_name = method.__name__\n",
    "            metrics_values[metric_name] = method(y_true, y_pred)\n",
    "        results[order] = metrics_values\n",
    "    return results\n",
    "\n",
    "metrics_results = calculate_metrics_for_all_models(predictions, y_val, methods)\n",
    "df_metrics = pd.DataFrame(metrics_results).T\n",
    "\n",
    "print(df_metrics)\n",
    "\n",
    "plt.plot(df_metrics.index, df_metrics['root_mean_squared_error'], marker='o', label='RMSE')\n",
    "plt.plot(df_metrics.index, df_metrics['average_error'], marker='o', label='AE')\n",
    "plt.plot(df_metrics.index, df_metrics['mean_absolute_percentage_error'], marker='o', label='MAPE')\n",
    "plt.plot(df_metrics.index, df_metrics['total_sum_of_squared_errors'], marker='o', label='TSSE')\n",
    "\n",
    "plt.xlabel('Polynomial Order')\n",
    "plt.ylabel('Value')\n",
    "plt.title('Performance Measures for each Polynomial Order')\n",
    "plt.legend()\n",
    "plt.grid(True)\n",
    "plt.show()"
   ]
  },
  {
   "cell_type": "markdown",
   "id": "cf2caeaa",
   "metadata": {},
   "source": [
    "## Section 5: Use the test set to evaluate the performance of your chosen model\n",
    "\n",
    "### TODO: For your selected model, calculate the RMSE, Average Error and Mean Absolute Percentage Error of the test data"
   ]
  },
  {
   "cell_type": "code",
   "execution_count": 26,
   "id": "166cc0de",
   "metadata": {},
   "outputs": [
    {
     "name": "stdout",
     "output_type": "stream",
     "text": [
      "RMSE on Test Data: 2.77\n",
      "Average Error on Test Data: -0.26\n",
      "Mean Absolute Percentage Error on Test Data: 19.42%\n"
     ]
    }
   ],
   "source": [
    "## write your code here ## \n",
    "\n",
    "chosen_order = 4\n",
    "chosen_model = models[chosen_order]\n",
    "\n",
    "X_test, y_test = dataframe_to_arrays(test_df)\n",
    "y_pred_test = chosen_model.predict(X_test)\n",
    "\n",
    "\n",
    "rmse_test = root_mean_squared_error(y_test, y_pred_test)\n",
    "avg_error_test = average_error(y_test, y_pred_test)\n",
    "mape_test = mean_absolute_percentage_error(y_test, y_pred_test)\n",
    "\n",
    "print(f\"RMSE on Test Data: {rmse_test:.2f}\")\n",
    "print(f\"Average Error on Test Data: {avg_error_test:.2f}\")\n",
    "print(f\"Mean Absolute Percentage Error on Test Data: {mape_test:.2f}%\")\n"
   ]
  },
  {
   "cell_type": "code",
   "execution_count": null,
   "id": "0e0eefc1",
   "metadata": {},
   "outputs": [],
   "source": []
  }
 ],
 "metadata": {
  "kernelspec": {
   "display_name": "Python 3 (ipykernel)",
   "language": "python",
   "name": "python3"
  },
  "language_info": {
   "codemirror_mode": {
    "name": "ipython",
    "version": 3
   },
   "file_extension": ".py",
   "mimetype": "text/x-python",
   "name": "python",
   "nbconvert_exporter": "python",
   "pygments_lexer": "ipython3",
   "version": "3.10.9"
  }
 },
 "nbformat": 4,
 "nbformat_minor": 5
}
