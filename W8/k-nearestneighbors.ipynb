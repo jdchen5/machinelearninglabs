{
 "cells": [
  {
   "cell_type": "code",
   "execution_count": 1,
   "id": "40848c4b",
   "metadata": {},
   "outputs": [],
   "source": [
    "import numpy as np\n",
    "from scipy.stats import zscore\n"
   ]
  },
  {
   "cell_type": "code",
   "execution_count": 2,
   "id": "2e80581b",
   "metadata": {},
   "outputs": [
    {
     "ename": "SyntaxError",
     "evalue": "invalid character '’' (U+2019) (355174454.py, line 2)",
     "output_type": "error",
     "traceback": [
      "\u001b[1;36m  Cell \u001b[1;32mIn[2], line 2\u001b[1;36m\u001b[0m\n\u001b[1;33m    The following data provided is a small subset of the famous Iris database Links to an external site., first used by Sir R. A. Fisher. This is perhaps the best known database in the pattern recognition literature. Fisher’s paper (R. A. Fisher (1936), The Use of Multiple Measurements in Taxonomic Problems Links to an external site., Annals of Eugenics 7(2):179–188) is a classic in the field and is referenced frequently to this day. The data set contains three classes of 50 instances each, where each class refers to a type of iris plant. There are four features: sepal length, sepal width, petal length and petal width.\u001b[0m\n\u001b[1;37m                                                                                                                                                                                                                               ^\u001b[0m\n\u001b[1;31mSyntaxError\u001b[0m\u001b[1;31m:\u001b[0m invalid character '’' (U+2019)\n"
     ]
    }
   ],
   "source": [
    "Required activity 8.1: Predicting plant types\n",
    "The following data provided is a small subset of the famous Iris database Links to an external site., first used by Sir R. A. Fisher. This is perhaps the best known database in the pattern recognition literature. Fisher’s paper (R. A. Fisher (1936), The Use of Multiple Measurements in Taxonomic Problems Links to an external site., Annals of Eugenics 7(2):179–188) is a classic in the field and is referenced frequently to this day. The data set contains three classes of 50 instances each, where each class refers to a type of iris plant. There are four features: sepal length, sepal width, petal length and petal width.\n",
    "For the exercise, we will only use the sepal length and the sepal width.\n",
    "Iris database subset\n",
    "Sepal length\tSepal width\tClass\n",
    "6.3\t2.9\tvirginica\n",
    "5.1\t3.4\tsetosa\n",
    "5.7\t2.5\tvirginica\n",
    "5.0\t3.5\tsetosa\n",
    "4.8\t3.4\tsetosa\n",
    "6.6\t2.9\tversicolor\n",
    "6.3\t3.3\tversicolor\n",
    "6.3\t3.4\tversicolor\n",
    "6.0\t3.4\tversicolor\n",
    "4.7\t3.2\t???\n",
    "5.0\t3.3\t???\n",
    "6.1\t2.9\t???\n",
    "6.8\t3.2\t???\n",
    "4.5\t2.3\t???\n",
    "7.7\t3.0\t???\n"
   ]
  },
  {
   "cell_type": "markdown",
   "id": "66e5717a",
   "metadata": {},
   "source": [
    "Here’s what you need to do:\n",
    "(A) Normalise the data using z-score normalisation.\n",
    "Note: For the purpose of this exercise, please use all the data to compute µ and σ required for the normalisation. However, keep in mind that in reality you have to use only the training data to compute µ and σ . The input for future predictions will typically not be available to you yet.\n"
   ]
  },
  {
   "cell_type": "code",
   "execution_count": 3,
   "id": "f07ac91b",
   "metadata": {},
   "outputs": [],
   "source": [
    "# Your dataset\n",
    "data = np.array([\n",
    "    [6.3, 2.9, 'virginica'],\n",
    "    [5.1, 3.4, 'setosa'],\n",
    "    [5.7, 2.5, 'virginica'],\n",
    "    [5.0, 3.5, 'setosa'],\n",
    "    [4.8, 3.4, 'setosa'],\n",
    "    [6.6, 2.9, 'versicolor'],\n",
    "    [6.3, 3.3, 'versicolor'],\n",
    "    [6.3, 3.4, 'versicolor'],\n",
    "    [6.0, 3.4, 'versicolor'],\n",
    "    [4.7, 3.2, None],\n",
    "    [5.0, 3.3, None],\n",
    "    [6.1, 2.9, None],\n",
    "    [6.8, 3.2, None],\n",
    "    [4.5, 2.3, None],\n",
    "    [7.7, 3.0, None]\n",
    "])\n"
   ]
  },
  {
   "cell_type": "code",
   "execution_count": 4,
   "id": "d23eec15",
   "metadata": {},
   "outputs": [],
   "source": [
    "# Extracting numeric data\n",
    "numeric_data = np.array([x[:2] for x in data]).astype(float)"
   ]
  },
  {
   "cell_type": "code",
   "execution_count": 5,
   "id": "56545053",
   "metadata": {},
   "outputs": [
    {
     "name": "stdout",
     "output_type": "stream",
     "text": [
      "Mean values (Sepal Length, Sepal Width): [5.79333333 3.10666667]\n",
      "Standard Deviation values (Sepal Length, Sepal Width): [0.88729301 0.34149996]\n"
     ]
    }
   ],
   "source": [
    "# Calculate mean and standard deviation\n",
    "mean_values = np.mean(numeric_data, axis=0)\n",
    "std_dev_values = np.std(numeric_data, axis=0)\n",
    "\n",
    "# Display the results\n",
    "print(\"Mean values (Sepal Length, Sepal Width):\", mean_values)\n",
    "print(\"Standard Deviation values (Sepal Length, Sepal Width):\", std_dev_values)"
   ]
  },
  {
   "cell_type": "code",
   "execution_count": 6,
   "id": "63c41d06",
   "metadata": {},
   "outputs": [
    {
     "name": "stdout",
     "output_type": "stream",
     "text": [
      "Mean values (Sepal Length, Sepal Width): [5.79333333 3.10666667]\n",
      "Standard Deviation values (Sepal Length, Sepal Width): [0.88729301 0.34149996]\n",
      "Variance values (Sepal Length, Sepal Width): [0.78728889 0.11662222]\n"
     ]
    }
   ],
   "source": [
    "\n",
    "\n",
    "# Calculating mean, standard deviation, and variance\n",
    "mean_values = np.mean(numeric_data, axis=0)\n",
    "std_dev_values = np.std(numeric_data, axis=0, ddof=0) # Using ddof=0 for population standard deviation\n",
    "variance_values = np.var(numeric_data, axis=0, ddof=0) # Using ddof=1 for population variance\n",
    "\n",
    "# Display the results\n",
    "print(\"Mean values (Sepal Length, Sepal Width):\", mean_values)\n",
    "print(\"Standard Deviation values (Sepal Length, Sepal Width):\", std_dev_values)\n",
    "print(\"Variance values (Sepal Length, Sepal Width):\", variance_values)"
   ]
  },
  {
   "cell_type": "code",
   "execution_count": 10,
   "id": "7f80c21d",
   "metadata": {},
   "outputs": [
    {
     "name": "stdout",
     "output_type": "stream",
     "text": [
      "Normalized Data:\n",
      "[[ 0.5710252  -0.60517333]\n",
      " [-0.7814029   0.85895569]\n",
      " [-0.10518885 -1.77647654]\n",
      " [-0.89410524  1.15178149]\n",
      " [-1.11950993  0.85895569]\n",
      " [ 0.90913222 -0.60517333]\n",
      " [ 0.5710252   0.56612989]\n",
      " [ 0.5710252   0.85895569]\n",
      " [ 0.23291817  0.85895569]\n",
      " [-1.23221227  0.27330408]\n",
      " [-0.89410524  0.56612989]\n",
      " [ 0.34562051 -0.60517333]\n",
      " [ 1.1345369   0.27330408]\n",
      " [-1.45761695 -2.36212815]\n",
      " [ 2.14885798 -0.31234752]]\n",
      "Normalized Data with Class Labels:\n",
      "[[0.5710251967461304 -0.6051733273183482 'virginica']\n",
      " [-0.781402900810494 0.8589556903873338 'setosa']\n",
      " [-0.10518885203218131 -1.7764765414828936 'virginica']\n",
      " [-0.8941052422735457 1.1517814939284703 'setosa']\n",
      " [-1.1195099251996499 0.8589556903873338 'setosa']\n",
      " [0.9091322211352862 -0.6051733273183482 'versicolor']\n",
      " [0.5710251967461304 0.5661298868461971 'versicolor']\n",
      " [0.5710251967461304 0.8589556903873338 'versicolor']\n",
      " [0.23291817235697457 0.8589556903873338 'versicolor']\n",
      " [-1.2322122666627016 0.27330408330506173 None]\n",
      " [-0.8941052422735457 0.5661298868461971 None]\n",
      " [0.3456205138200262 -0.6051733273183482 None]\n",
      " [1.1345369040613906 0.27330408330506173 None]\n",
      " [-1.4576169495888058 -2.3621281485651666 None]\n",
      " [2.148857977228859 -0.31234752377721153 None]]\n"
     ]
    }
   ],
   "source": [
    "# Apply z-score normalization\n",
    "normalized_numeric_data = zscore(numeric_data, axis=0)\n",
    "\n",
    "# Extract class labels\n",
    "class_labels = np.array([x[2] for x in data]).reshape(-1, 1)\n",
    "\n",
    "# Combine normalized data with class labels\n",
    "normalized_data_with_class = np.hstack((normalized_numeric_data, class_labels))\n",
    "\n",
    "# Display normalized data\n",
    "print(\"Normalized Data:\")\n",
    "print(normalized_data)\n",
    "\n",
    "print(\"Normalized Data with Class Labels:\")\n",
    "print(normalized_data_with_class)\n"
   ]
  },
  {
   "cell_type": "markdown",
   "id": "2c43eb3f",
   "metadata": {},
   "source": [
    "(B) Use the k-nearest neighbours method with k=3 to predict the missing classes. Use the Euclidean norm in your distance calculations.\n",
    "Note: When making predictions, you need to transform the input data for the predictions using the same µ and σ required as for the transformation of the data in (A)."
   ]
  },
  {
   "cell_type": "code",
   "execution_count": 11,
   "id": "855e6ca9",
   "metadata": {},
   "outputs": [
    {
     "name": "stdout",
     "output_type": "stream",
     "text": [
      "i = 0, row = [0.5710251967461304 -0.6051733273183482 'virginica']\n",
      "i = 1, row = [-0.781402900810494 0.8589556903873338 'setosa']\n",
      "i = 2, row = [-0.10518885203218131 -1.7764765414828936 'virginica']\n",
      "i = 3, row = [-0.8941052422735457 1.1517814939284703 'setosa']\n",
      "i = 4, row = [-1.1195099251996499 0.8589556903873338 'setosa']\n",
      "i = 5, row = [0.9091322211352862 -0.6051733273183482 'versicolor']\n",
      "i = 6, row = [0.5710251967461304 0.5661298868461971 'versicolor']\n",
      "i = 7, row = [0.5710251967461304 0.8589556903873338 'versicolor']\n",
      "i = 8, row = [0.23291817235697457 0.8589556903873338 'versicolor']\n",
      "i = 9, row = [-1.2322122666627016 0.27330408330506173 None]\n",
      "i = 10, row = [-0.8941052422735457 0.5661298868461971 None]\n",
      "i = 11, row = [0.3456205138200262 -0.6051733273183482 None]\n",
      "i = 12, row = [1.1345369040613906 0.27330408330506173 None]\n",
      "i = 13, row = [-1.4576169495888058 -2.3621281485651666 None]\n",
      "i = 14, row = [2.148857977228859 -0.31234752377721153 None]\n",
      "6\n",
      "Distances from point 9 with missing class:\n",
      "Distance to class 'virginica': 2.0058\n",
      "Distance to class 'setosa': 0.7391\n",
      "Distance to class 'virginica': 2.3392\n",
      "Distance to class 'setosa': 0.9413\n",
      "Distance to class 'setosa': 0.5964\n",
      "Distance to class 'versicolor': 2.3145\n",
      "Distance to class 'versicolor': 1.8269\n",
      "Distance to class 'versicolor': 1.8960\n",
      "Distance to class 'versicolor': 1.5778\n",
      "Distance to class 'None': 0.4473\n",
      "Distance to class 'None': 1.8059\n",
      "Distance to class 'None': 2.3667\n",
      "Distance to class 'None': 2.6451\n",
      "Distance to class 'None': 3.4314\n",
      "\n",
      "\n",
      "Distances from point 10 with missing class:\n",
      "Distance to class 'virginica': 1.8758\n",
      "Distance to class 'setosa': 0.3138\n",
      "Distance to class 'virginica': 2.4719\n",
      "Distance to class 'setosa': 0.5857\n",
      "Distance to class 'setosa': 0.3695\n",
      "Distance to class 'versicolor': 2.1503\n",
      "Distance to class 'versicolor': 1.4651\n",
      "Distance to class 'versicolor': 1.4941\n",
      "Distance to class 'versicolor': 1.1644\n",
      "Distance to class 'None': 0.4473\n",
      "Distance to class 'None': 1.7055\n",
      "Distance to class 'None': 2.0497\n",
      "Distance to class 'None': 2.9820\n",
      "Distance to class 'None': 3.1672\n",
      "\n",
      "\n",
      "Distances from point 11 with missing class:\n",
      "Distance to class 'virginica': 0.2254\n",
      "Distance to class 'setosa': 1.8477\n",
      "Distance to class 'virginica': 1.2551\n",
      "Distance to class 'setosa': 2.1503\n",
      "Distance to class 'setosa': 2.0713\n",
      "Distance to class 'versicolor': 0.5635\n",
      "Distance to class 'versicolor': 1.1928\n",
      "Distance to class 'versicolor': 1.4814\n",
      "Distance to class 'versicolor': 1.4685\n",
      "Distance to class 'None': 1.8059\n",
      "Distance to class 'None': 1.7055\n",
      "Distance to class 'None': 1.1807\n",
      "Distance to class 'None': 2.5176\n",
      "Distance to class 'None': 1.8269\n",
      "\n",
      "\n",
      "Distances from point 12 with missing class:\n",
      "Distance to class 'virginica': 1.0437\n",
      "Distance to class 'setosa': 2.0035\n",
      "Distance to class 'virginica': 2.3955\n",
      "Distance to class 'setosa': 2.2107\n",
      "Distance to class 'setosa': 2.3289\n",
      "Distance to class 'versicolor': 0.9069\n",
      "Distance to class 'versicolor': 0.6351\n",
      "Distance to class 'versicolor': 0.8127\n",
      "Distance to class 'versicolor': 1.0751\n",
      "Distance to class 'None': 2.3667\n",
      "Distance to class 'None': 2.0497\n",
      "Distance to class 'None': 1.1807\n",
      "Distance to class 'None': 3.6966\n",
      "Distance to class 'None': 1.1713\n",
      "\n",
      "\n",
      "Distances from point 13 with missing class:\n",
      "Distance to class 'virginica': 2.6837\n",
      "Distance to class 'setosa': 3.2913\n",
      "Distance to class 'virginica': 1.4738\n",
      "Distance to class 'setosa': 3.5588\n",
      "Distance to class 'setosa': 3.2388\n",
      "Distance to class 'versicolor': 2.9476\n",
      "Distance to class 'versicolor': 3.5623\n",
      "Distance to class 'versicolor': 3.8067\n",
      "Distance to class 'versicolor': 3.6378\n",
      "Distance to class 'None': 2.6451\n",
      "Distance to class 'None': 2.9820\n",
      "Distance to class 'None': 2.5176\n",
      "Distance to class 'None': 3.6966\n",
      "Distance to class 'None': 4.1483\n",
      "\n",
      "\n",
      "Distances from point 14 with missing class:\n",
      "Distance to class 'virginica': 1.6048\n",
      "Distance to class 'setosa': 3.1557\n",
      "Distance to class 'virginica': 2.6878\n",
      "Distance to class 'setosa': 3.3769\n",
      "Distance to class 'setosa': 3.4719\n",
      "Distance to class 'versicolor': 1.2738\n",
      "Distance to class 'versicolor': 1.8059\n",
      "Distance to class 'versicolor': 1.9651\n",
      "Distance to class 'versicolor': 2.2456\n",
      "Distance to class 'None': 3.4314\n",
      "Distance to class 'None': 3.1672\n",
      "Distance to class 'None': 1.8269\n",
      "Distance to class 'None': 1.1713\n",
      "Distance to class 'None': 4.1483\n",
      "\n",
      "\n"
     ]
    }
   ],
   "source": [
    "# Function to calculate Euclidean distance\n",
    "def euclidean_distance(row1, row2):\n",
    "    # Ensure that we only compute on numeric data (first two columns)\n",
    "    dist = np.sqrt(np.sum((row1 - row2) ** 2))\n",
    "    return dist\n",
    "\n",
    "# Compute the Euclidean norm for each row with a missing class label\n",
    "# against all other rows\n",
    "distances = []\n",
    "for i, row in enumerate(normalized_data_with_class):\n",
    "    # Check if the class label is missing\n",
    "    print(f\"i = {i}, row = {row}\")\n",
    "    if row[2] is None:\n",
    "        # Compute the distance with respect to all other data points\n",
    "        \n",
    "        row_distances = []\n",
    "        for j, compare_row in enumerate(normalized_data_with_class):\n",
    "            if i != j:  # Skip the same row\n",
    "                dist = euclidean_distance(np.array(row[:2], dtype=float), np.array(compare_row[:2], dtype=float))\n",
    "                row_distances.append((dist, compare_row[2]))\n",
    "        distances.append((i, row_distances))\n",
    "\n",
    "print(len(distances))\n",
    "\n",
    "# Print all the distances\n",
    "for index, dist_list in distances:\n",
    "    print(f\"Distances from point {index} with missing class:\")\n",
    "    for dist, cls in dist_list:\n",
    "        print(f\"Distance to class '{cls}': {dist:.4f}\")\n",
    "    print(\"\\n\")  # Add a newline for better readability between points"
   ]
  },
  {
   "cell_type": "code",
   "execution_count": 20,
   "id": "67777a06",
   "metadata": {},
   "outputs": [
    {
     "name": "stdout",
     "output_type": "stream",
     "text": [
      "Updated dataset with predicted classes:\n",
      "[[6.3 2.9 'virginica']\n",
      " [5.1 3.4 'setosa']\n",
      " [5.7 2.5 'virginica']\n",
      " [5.0 3.5 'setosa']\n",
      " [4.8 3.4 'setosa']\n",
      " [6.6 2.9 'versicolor']\n",
      " [6.3 3.3 'versicolor']\n",
      " [6.3 3.4 'versicolor']\n",
      " [6.0 3.4 'versicolor']\n",
      " [4.7 3.2 'setosa']\n",
      " [5.0 3.3 'setosa']\n",
      " [6.1 2.9 'versicolor']\n",
      " [6.8 3.2 'versicolor']\n",
      " [4.5 2.3 'setosa']\n",
      " [7.7 3.0 'versicolor']]\n"
     ]
    }
   ],
   "source": [
    "from sklearn.neighbors import KNeighborsClassifier\n",
    "\n",
    "# Separating the dataset into features (X) and target (y)\n",
    "X = np.array([x[:2] for x in data if x[2] is not None]).astype(float)\n",
    "y = np.array([x[2] for x in data if x[2] is not None])\n",
    "\n",
    "# Data to predict\n",
    "X_predict = np.array([x[:2] for x in data if x[2] is None]).astype(float)\n",
    "\n",
    "# Create KNN model\n",
    "model = KNeighborsClassifier(n_neighbors=3)\n",
    "\n",
    "# Train the model\n",
    "model.fit(X, y)\n",
    "\n",
    "# Make predictions\n",
    "predictions = model.predict(X_predict)\n",
    "\n",
    "# Add predictions back to the dataset\n",
    "prediction_index = 0  # Counter for the predictions\n",
    "for i, row in enumerate(data):\n",
    "    if row[2] is None:\n",
    "        row[2] = predictions[prediction_index]\n",
    "        prediction_index += 1\n",
    "\n",
    "print(\"Updated dataset with predicted classes:\")\n",
    "print(data)\n"
   ]
  },
  {
   "cell_type": "code",
   "execution_count": 25,
   "id": "a71c417f",
   "metadata": {},
   "outputs": [
    {
     "name": "stdout",
     "output_type": "stream",
     "text": [
      "['setosa' 'setosa' 'versicolor' 'versicolor' 'setosa' 'versicolor']\n"
     ]
    }
   ],
   "source": [
    "print (predictions)"
   ]
  },
  {
   "cell_type": "code",
   "execution_count": 34,
   "id": "e88dba44",
   "metadata": {},
   "outputs": [
    {
     "name": "stdout",
     "output_type": "stream",
     "text": [
      "i = 0, row = [6.3 2.9 'virginica']\n",
      "i = 1, row = [5.1 3.4 'setosa']\n",
      "i = 2, row = [5.7 2.5 'virginica']\n",
      "i = 3, row = [5.0 3.5 'setosa']\n",
      "i = 4, row = [4.8 3.4 'setosa']\n",
      "i = 5, row = [6.6 2.9 'versicolor']\n",
      "i = 6, row = [6.3 3.3 'versicolor']\n",
      "i = 7, row = [6.3 3.4 'versicolor']\n",
      "i = 8, row = [6.0 3.4 'versicolor']\n",
      "i = 9, row = [4.7 3.2 'setosa']\n",
      "i = 10, row = [5.0 3.3 'setosa']\n",
      "i = 11, row = [6.1 2.9 'versicolor']\n",
      "i = 12, row = [6.8 3.2 'versicolor']\n",
      "i = 13, row = [4.5 2.3 'setosa']\n",
      "i = 14, row = [7.7 3.0 'versicolor']\n",
      "0\n"
     ]
    }
   ],
   "source": [
    "# Function to calculate Euclidean distance\n",
    "def euclidean_distance(row1, row2):\n",
    "    # Ensure that we only compute on numeric data (first two columns)\n",
    "    dist = np.sqrt(np.sum((row1 - row2) ** 2))\n",
    "    return dist\n",
    "\n",
    "# Compute the Euclidean norm for each row with a missing class label\n",
    "# against all other rows\n",
    "distances = []\n",
    "for i, row in enumerate(data):\n",
    "    # Check if the class label is missing\n",
    "    print(f\"i = {i}, row = {row}\")\n",
    "    if row[2] is None:\n",
    "        # Compute the distance with respect to all other data points\n",
    "        \n",
    "        row_distances = []\n",
    "        for j, compare_row in enumerate(data):\n",
    "            if i != j:  # Skip the same row\n",
    "                dist = euclidean_distance(np.array(row[:2], dtype=float), np.array(compare_row[:2], dtype=float))\n",
    "                row_distances.append((dist, compare_row[2]))\n",
    "        distances.append((i, row_distances))\n",
    "\n",
    "print(len(distances))\n",
    "\n",
    "# Print all the distances\n",
    "for index, dist_list in distances:\n",
    "    print(f\"Distances from point {index} with missing class:\")\n",
    "    for dist, cls in dist_list:\n",
    "        print(f\"Distance to class '{cls}': {dist:.4f}\")\n",
    "    print(\"\\n\")  # Add a newline for better readability between points\n"
   ]
  },
  {
   "cell_type": "code",
   "execution_count": null,
   "id": "06b2ed47",
   "metadata": {},
   "outputs": [],
   "source": []
  },
  {
   "cell_type": "code",
   "execution_count": null,
   "id": "fea2c997",
   "metadata": {},
   "outputs": [],
   "source": []
  }
 ],
 "metadata": {
  "kernelspec": {
   "display_name": "Python 3 (ipykernel)",
   "language": "python",
   "name": "python3"
  },
  "language_info": {
   "codemirror_mode": {
    "name": "ipython",
    "version": 3
   },
   "file_extension": ".py",
   "mimetype": "text/x-python",
   "name": "python",
   "nbconvert_exporter": "python",
   "pygments_lexer": "ipython3",
   "version": "3.10.9"
  }
 },
 "nbformat": 4,
 "nbformat_minor": 5
}
