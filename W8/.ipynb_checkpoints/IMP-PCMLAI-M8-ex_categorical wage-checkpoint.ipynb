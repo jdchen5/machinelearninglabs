{
 "cells": [
  {
   "cell_type": "code",
   "execution_count": 1,
   "id": "c85711c7",
   "metadata": {},
   "outputs": [],
   "source": [
    "import numpy as np\n",
    "import pandas as pd\n"
   ]
  },
  {
   "cell_type": "markdown",
   "id": "7fb3bf94",
   "metadata": {},
   "source": [
    "## Read the `Wage` File"
   ]
  },
  {
   "cell_type": "code",
   "execution_count": 2,
   "id": "050606cd",
   "metadata": {},
   "outputs": [],
   "source": [
    "wage_df = pd.read_csv(\"wage.csv\")"
   ]
  },
  {
   "cell_type": "code",
   "execution_count": 3,
   "id": "d5616a23",
   "metadata": {
    "scrolled": true
   },
   "outputs": [
    {
     "data": {
      "text/html": [
       "<div>\n",
       "<style scoped>\n",
       "    .dataframe tbody tr th:only-of-type {\n",
       "        vertical-align: middle;\n",
       "    }\n",
       "\n",
       "    .dataframe tbody tr th {\n",
       "        vertical-align: top;\n",
       "    }\n",
       "\n",
       "    .dataframe thead th {\n",
       "        text-align: right;\n",
       "    }\n",
       "</style>\n",
       "<table border=\"1\" class=\"dataframe\">\n",
       "  <thead>\n",
       "    <tr style=\"text-align: right;\">\n",
       "      <th></th>\n",
       "      <th>year</th>\n",
       "      <th>age</th>\n",
       "      <th>maritl</th>\n",
       "      <th>race</th>\n",
       "      <th>education</th>\n",
       "      <th>region</th>\n",
       "      <th>jobclass</th>\n",
       "      <th>health</th>\n",
       "      <th>health_ins</th>\n",
       "      <th>logwage</th>\n",
       "      <th>wage</th>\n",
       "    </tr>\n",
       "  </thead>\n",
       "  <tbody>\n",
       "    <tr>\n",
       "      <th>0</th>\n",
       "      <td>2006</td>\n",
       "      <td>18</td>\n",
       "      <td>1. Never Married</td>\n",
       "      <td>1. White</td>\n",
       "      <td>1. &lt; HS Grad</td>\n",
       "      <td>2. Middle Atlantic</td>\n",
       "      <td>1. Industrial</td>\n",
       "      <td>1. &lt;=Good</td>\n",
       "      <td>2. No</td>\n",
       "      <td>4.318063</td>\n",
       "      <td>75.043154</td>\n",
       "    </tr>\n",
       "    <tr>\n",
       "      <th>1</th>\n",
       "      <td>2004</td>\n",
       "      <td>24</td>\n",
       "      <td>1. Never Married</td>\n",
       "      <td>1. White</td>\n",
       "      <td>4. College Grad</td>\n",
       "      <td>2. Middle Atlantic</td>\n",
       "      <td>2. Information</td>\n",
       "      <td>2. &gt;=Very Good</td>\n",
       "      <td>2. No</td>\n",
       "      <td>4.255273</td>\n",
       "      <td>70.476020</td>\n",
       "    </tr>\n",
       "    <tr>\n",
       "      <th>2</th>\n",
       "      <td>2003</td>\n",
       "      <td>45</td>\n",
       "      <td>2. Married</td>\n",
       "      <td>1. White</td>\n",
       "      <td>3. Some College</td>\n",
       "      <td>2. Middle Atlantic</td>\n",
       "      <td>1. Industrial</td>\n",
       "      <td>1. &lt;=Good</td>\n",
       "      <td>1. Yes</td>\n",
       "      <td>4.875061</td>\n",
       "      <td>130.982177</td>\n",
       "    </tr>\n",
       "  </tbody>\n",
       "</table>\n",
       "</div>"
      ],
      "text/plain": [
       "   year  age            maritl      race        education              region  \\\n",
       "0  2006   18  1. Never Married  1. White     1. < HS Grad  2. Middle Atlantic   \n",
       "1  2004   24  1. Never Married  1. White  4. College Grad  2. Middle Atlantic   \n",
       "2  2003   45        2. Married  1. White  3. Some College  2. Middle Atlantic   \n",
       "\n",
       "         jobclass          health health_ins   logwage        wage  \n",
       "0   1. Industrial       1. <=Good      2. No  4.318063   75.043154  \n",
       "1  2. Information  2. >=Very Good      2. No  4.255273   70.476020  \n",
       "2   1. Industrial       1. <=Good     1. Yes  4.875061  130.982177  "
      ]
     },
     "execution_count": 3,
     "metadata": {},
     "output_type": "execute_result"
    }
   ],
   "source": [
    "wage_df.head(3)"
   ]
  },
  {
   "cell_type": "code",
   "execution_count": 4,
   "id": "2107f16c",
   "metadata": {},
   "outputs": [
    {
     "data": {
      "text/plain": [
       "year            int64\n",
       "age             int64\n",
       "maritl         object\n",
       "race           object\n",
       "education      object\n",
       "region         object\n",
       "jobclass       object\n",
       "health         object\n",
       "health_ins     object\n",
       "logwage       float64\n",
       "wage          float64\n",
       "dtype: object"
      ]
     },
     "execution_count": 4,
     "metadata": {},
     "output_type": "execute_result"
    }
   ],
   "source": [
    "wage_df.dtypes #we can see that everything except for year age (log) wage are categorical"
   ]
  },
  {
   "cell_type": "markdown",
   "id": "a8881eb2",
   "metadata": {},
   "source": [
    "### Check unique values in the `jobclass` column"
   ]
  },
  {
   "cell_type": "code",
   "execution_count": 5,
   "id": "df3371a1",
   "metadata": {},
   "outputs": [
    {
     "data": {
      "text/plain": [
       "array(['1. Industrial', '2. Information'], dtype=object)"
      ]
     },
     "execution_count": 5,
     "metadata": {},
     "output_type": "execute_result"
    }
   ],
   "source": [
    "wage_df.jobclass.unique() #only two -- easy to replace"
   ]
  },
  {
   "cell_type": "code",
   "execution_count": 6,
   "id": "1c947fdb",
   "metadata": {},
   "outputs": [],
   "source": [
    "wage_df[\"job_information\"] =  (wage_df[\"jobclass\"] == \"2. Information\").astype(int) #so that =1 means information"
   ]
  },
  {
   "cell_type": "code",
   "execution_count": 7,
   "id": "7a78b7be",
   "metadata": {},
   "outputs": [],
   "source": [
    "wage_df.drop(['jobclass', 'logwage', 'region', 'year'], axis=1, inplace=True) #lets delete jobclass and logwage now"
   ]
  },
  {
   "cell_type": "markdown",
   "id": "19c1beb1",
   "metadata": {},
   "source": [
    "### Check unique values in the `health` column"
   ]
  },
  {
   "cell_type": "code",
   "execution_count": 8,
   "id": "9cad3af6",
   "metadata": {},
   "outputs": [
    {
     "data": {
      "text/plain": [
       "array(['1. <=Good', '2. >=Very Good'], dtype=object)"
      ]
     },
     "execution_count": 8,
     "metadata": {},
     "output_type": "execute_result"
    }
   ],
   "source": [
    "wage_df.health.unique() #only two -- easy to replace"
   ]
  },
  {
   "cell_type": "code",
   "execution_count": 9,
   "id": "f15c038a",
   "metadata": {},
   "outputs": [],
   "source": [
    "wage_df[\"health\"] =  (wage_df[\"health\"] == \"2. >=Very Good\").astype(int) #so that =1 means very good health"
   ]
  },
  {
   "cell_type": "markdown",
   "id": "e347d3a9",
   "metadata": {},
   "source": [
    "### Apply the same for `health_ins`"
   ]
  },
  {
   "cell_type": "code",
   "execution_count": 10,
   "id": "b0cefaf3",
   "metadata": {},
   "outputs": [
    {
     "data": {
      "text/plain": [
       "array(['2. No', '1. Yes'], dtype=object)"
      ]
     },
     "execution_count": 10,
     "metadata": {},
     "output_type": "execute_result"
    }
   ],
   "source": [
    "wage_df.health_ins.unique() #only two -- easy to replace"
   ]
  },
  {
   "cell_type": "code",
   "execution_count": 11,
   "id": "d28b385e",
   "metadata": {},
   "outputs": [],
   "source": [
    "wage_df[\"health_ins\"] =  (wage_df[\"health_ins\"] == \"1. Yes\").astype(int) #so that =1 means has a health insurance"
   ]
  },
  {
   "cell_type": "markdown",
   "id": "c9e71d98",
   "metadata": {},
   "source": [
    "### Check unique values in the `maritl` column"
   ]
  },
  {
   "cell_type": "code",
   "execution_count": 12,
   "id": "6237b4be",
   "metadata": {},
   "outputs": [
    {
     "data": {
      "text/plain": [
       "array(['1. Never Married', '2. Married', '4. Divorced', '3. Widowed',\n",
       "       '5. Separated'], dtype=object)"
      ]
     },
     "execution_count": 12,
     "metadata": {},
     "output_type": "execute_result"
    }
   ],
   "source": [
    "wage_df.maritl.unique() #we cannot make this 1-2-3-4-5 as this is nominal"
   ]
  },
  {
   "cell_type": "code",
   "execution_count": 13,
   "id": "44f17a7b",
   "metadata": {},
   "outputs": [],
   "source": [
    "one_hot = pd.get_dummies(wage_df.maritl, prefix='marriage')"
   ]
  },
  {
   "cell_type": "code",
   "execution_count": 14,
   "id": "560391f1",
   "metadata": {},
   "outputs": [],
   "source": [
    "wage_df = wage_df.join(one_hot)"
   ]
  },
  {
   "cell_type": "code",
   "execution_count": 15,
   "id": "bef910e3",
   "metadata": {},
   "outputs": [],
   "source": [
    "wage_df.drop(['maritl', 'marriage_1. Never Married'], axis=1, inplace=True)"
   ]
  },
  {
   "cell_type": "code",
   "execution_count": 16,
   "id": "9f70aff1",
   "metadata": {},
   "outputs": [],
   "source": [
    "wage_df.columns = [*wage_df.columns[:-4], 'marriage_yes',\\\n",
    "                   'marriage_widowed', 'marriage_divorced', 'marriage_separated'] #we drop one -- why? [Jing]marriage_yes can represent 'never married' and 'married' columns"
   ]
  },
  {
   "cell_type": "markdown",
   "id": "7ea50f1a",
   "metadata": {},
   "source": [
    "### Decide what to do for `education`"
   ]
  },
  {
   "cell_type": "code",
   "execution_count": 17,
   "id": "37fd118b",
   "metadata": {},
   "outputs": [
    {
     "data": {
      "text/plain": [
       "array(['1. < HS Grad', '4. College Grad', '3. Some College', '2. HS Grad',\n",
       "       '5. Advanced Degree'], dtype=object)"
      ]
     },
     "execution_count": 17,
     "metadata": {},
     "output_type": "execute_result"
    }
   ],
   "source": [
    "wage_df.education.unique() #it looks like we can take these as ordinal categories"
   ]
  },
  {
   "cell_type": "code",
   "execution_count": 18,
   "id": "d449ac8b",
   "metadata": {},
   "outputs": [],
   "source": [
    "wage_df.education = (wage_df.education.astype(str).str[0]).astype(int)"
   ]
  },
  {
   "cell_type": "markdown",
   "id": "84891563",
   "metadata": {},
   "source": [
    "### Question to deliver on encoding categorical variables\n",
    "- Encode the `race` variable by using numerical variable(s) and drop `race`.\n",
    "- Now that all the variables in our dataframe is numerical, apply a linear regression model to explain the `wage` with the other variables. Report the coefficients.\n",
    "- Interpret the coefficient of the `education` varaible."
   ]
  },
  {
   "cell_type": "markdown",
   "id": "9a18190a",
   "metadata": {},
   "source": [
    "#### First encode the variable. Then fit a linear model."
   ]
  },
  {
   "cell_type": "code",
   "execution_count": 19,
   "id": "82afa232",
   "metadata": {},
   "outputs": [
    {
     "data": {
      "text/html": [
       "<div>\n",
       "<style scoped>\n",
       "    .dataframe tbody tr th:only-of-type {\n",
       "        vertical-align: middle;\n",
       "    }\n",
       "\n",
       "    .dataframe tbody tr th {\n",
       "        vertical-align: top;\n",
       "    }\n",
       "\n",
       "    .dataframe thead th {\n",
       "        text-align: right;\n",
       "    }\n",
       "</style>\n",
       "<table border=\"1\" class=\"dataframe\">\n",
       "  <thead>\n",
       "    <tr style=\"text-align: right;\">\n",
       "      <th></th>\n",
       "      <th>age</th>\n",
       "      <th>race</th>\n",
       "      <th>education</th>\n",
       "      <th>health</th>\n",
       "      <th>health_ins</th>\n",
       "      <th>wage</th>\n",
       "      <th>job_information</th>\n",
       "      <th>marriage_yes</th>\n",
       "      <th>marriage_widowed</th>\n",
       "      <th>marriage_divorced</th>\n",
       "      <th>marriage_separated</th>\n",
       "    </tr>\n",
       "  </thead>\n",
       "  <tbody>\n",
       "    <tr>\n",
       "      <th>0</th>\n",
       "      <td>18</td>\n",
       "      <td>1. White</td>\n",
       "      <td>1</td>\n",
       "      <td>0</td>\n",
       "      <td>0</td>\n",
       "      <td>75.043154</td>\n",
       "      <td>0</td>\n",
       "      <td>0</td>\n",
       "      <td>0</td>\n",
       "      <td>0</td>\n",
       "      <td>0</td>\n",
       "    </tr>\n",
       "    <tr>\n",
       "      <th>1</th>\n",
       "      <td>24</td>\n",
       "      <td>1. White</td>\n",
       "      <td>4</td>\n",
       "      <td>1</td>\n",
       "      <td>0</td>\n",
       "      <td>70.476020</td>\n",
       "      <td>1</td>\n",
       "      <td>0</td>\n",
       "      <td>0</td>\n",
       "      <td>0</td>\n",
       "      <td>0</td>\n",
       "    </tr>\n",
       "    <tr>\n",
       "      <th>2</th>\n",
       "      <td>45</td>\n",
       "      <td>1. White</td>\n",
       "      <td>3</td>\n",
       "      <td>0</td>\n",
       "      <td>1</td>\n",
       "      <td>130.982177</td>\n",
       "      <td>0</td>\n",
       "      <td>1</td>\n",
       "      <td>0</td>\n",
       "      <td>0</td>\n",
       "      <td>0</td>\n",
       "    </tr>\n",
       "    <tr>\n",
       "      <th>3</th>\n",
       "      <td>43</td>\n",
       "      <td>3. Asian</td>\n",
       "      <td>4</td>\n",
       "      <td>1</td>\n",
       "      <td>1</td>\n",
       "      <td>154.685293</td>\n",
       "      <td>1</td>\n",
       "      <td>1</td>\n",
       "      <td>0</td>\n",
       "      <td>0</td>\n",
       "      <td>0</td>\n",
       "    </tr>\n",
       "    <tr>\n",
       "      <th>4</th>\n",
       "      <td>50</td>\n",
       "      <td>1. White</td>\n",
       "      <td>2</td>\n",
       "      <td>0</td>\n",
       "      <td>1</td>\n",
       "      <td>75.043154</td>\n",
       "      <td>1</td>\n",
       "      <td>0</td>\n",
       "      <td>0</td>\n",
       "      <td>1</td>\n",
       "      <td>0</td>\n",
       "    </tr>\n",
       "    <tr>\n",
       "      <th>5</th>\n",
       "      <td>54</td>\n",
       "      <td>1. White</td>\n",
       "      <td>4</td>\n",
       "      <td>1</td>\n",
       "      <td>1</td>\n",
       "      <td>127.115744</td>\n",
       "      <td>1</td>\n",
       "      <td>1</td>\n",
       "      <td>0</td>\n",
       "      <td>0</td>\n",
       "      <td>0</td>\n",
       "    </tr>\n",
       "    <tr>\n",
       "      <th>6</th>\n",
       "      <td>44</td>\n",
       "      <td>4. Other</td>\n",
       "      <td>3</td>\n",
       "      <td>1</td>\n",
       "      <td>1</td>\n",
       "      <td>169.528538</td>\n",
       "      <td>0</td>\n",
       "      <td>1</td>\n",
       "      <td>0</td>\n",
       "      <td>0</td>\n",
       "      <td>0</td>\n",
       "    </tr>\n",
       "    <tr>\n",
       "      <th>7</th>\n",
       "      <td>30</td>\n",
       "      <td>3. Asian</td>\n",
       "      <td>3</td>\n",
       "      <td>0</td>\n",
       "      <td>1</td>\n",
       "      <td>111.720849</td>\n",
       "      <td>1</td>\n",
       "      <td>0</td>\n",
       "      <td>0</td>\n",
       "      <td>0</td>\n",
       "      <td>0</td>\n",
       "    </tr>\n",
       "    <tr>\n",
       "      <th>8</th>\n",
       "      <td>41</td>\n",
       "      <td>2. Black</td>\n",
       "      <td>3</td>\n",
       "      <td>1</td>\n",
       "      <td>1</td>\n",
       "      <td>118.884359</td>\n",
       "      <td>1</td>\n",
       "      <td>0</td>\n",
       "      <td>0</td>\n",
       "      <td>0</td>\n",
       "      <td>0</td>\n",
       "    </tr>\n",
       "    <tr>\n",
       "      <th>9</th>\n",
       "      <td>52</td>\n",
       "      <td>1. White</td>\n",
       "      <td>2</td>\n",
       "      <td>1</td>\n",
       "      <td>1</td>\n",
       "      <td>128.680488</td>\n",
       "      <td>1</td>\n",
       "      <td>1</td>\n",
       "      <td>0</td>\n",
       "      <td>0</td>\n",
       "      <td>0</td>\n",
       "    </tr>\n",
       "  </tbody>\n",
       "</table>\n",
       "</div>"
      ],
      "text/plain": [
       "   age      race  education  health  health_ins        wage  job_information  \\\n",
       "0   18  1. White          1       0           0   75.043154                0   \n",
       "1   24  1. White          4       1           0   70.476020                1   \n",
       "2   45  1. White          3       0           1  130.982177                0   \n",
       "3   43  3. Asian          4       1           1  154.685293                1   \n",
       "4   50  1. White          2       0           1   75.043154                1   \n",
       "5   54  1. White          4       1           1  127.115744                1   \n",
       "6   44  4. Other          3       1           1  169.528538                0   \n",
       "7   30  3. Asian          3       0           1  111.720849                1   \n",
       "8   41  2. Black          3       1           1  118.884359                1   \n",
       "9   52  1. White          2       1           1  128.680488                1   \n",
       "\n",
       "   marriage_yes  marriage_widowed  marriage_divorced  marriage_separated  \n",
       "0             0                 0                  0                   0  \n",
       "1             0                 0                  0                   0  \n",
       "2             1                 0                  0                   0  \n",
       "3             1                 0                  0                   0  \n",
       "4             0                 0                  1                   0  \n",
       "5             1                 0                  0                   0  \n",
       "6             1                 0                  0                   0  \n",
       "7             0                 0                  0                   0  \n",
       "8             0                 0                  0                   0  \n",
       "9             1                 0                  0                   0  "
      ]
     },
     "execution_count": 19,
     "metadata": {},
     "output_type": "execute_result"
    }
   ],
   "source": [
    "wage_df.head(10)"
   ]
  },
  {
   "cell_type": "code",
   "execution_count": 20,
   "id": "e5482025",
   "metadata": {},
   "outputs": [
    {
     "data": {
      "text/plain": [
       "array(['1. White', '3. Asian', '4. Other', '2. Black'], dtype=object)"
      ]
     },
     "execution_count": 20,
     "metadata": {},
     "output_type": "execute_result"
    }
   ],
   "source": [
    "wage_df.race.unique() #only two -- easy to replace"
   ]
  },
  {
   "cell_type": "code",
   "execution_count": 21,
   "id": "98b38716",
   "metadata": {},
   "outputs": [],
   "source": [
    "# Encoding 'race' using one-hot encoding\n",
    "race_dummies = pd.get_dummies(wage_df.race, prefix='race')\n",
    "wage_df = wage_df.join(race_dummies)\n"
   ]
  },
  {
   "cell_type": "code",
   "execution_count": 22,
   "id": "fbc31732",
   "metadata": {},
   "outputs": [
    {
     "data": {
      "text/html": [
       "<div>\n",
       "<style scoped>\n",
       "    .dataframe tbody tr th:only-of-type {\n",
       "        vertical-align: middle;\n",
       "    }\n",
       "\n",
       "    .dataframe tbody tr th {\n",
       "        vertical-align: top;\n",
       "    }\n",
       "\n",
       "    .dataframe thead th {\n",
       "        text-align: right;\n",
       "    }\n",
       "</style>\n",
       "<table border=\"1\" class=\"dataframe\">\n",
       "  <thead>\n",
       "    <tr style=\"text-align: right;\">\n",
       "      <th></th>\n",
       "      <th>age</th>\n",
       "      <th>race</th>\n",
       "      <th>education</th>\n",
       "      <th>health</th>\n",
       "      <th>health_ins</th>\n",
       "      <th>wage</th>\n",
       "      <th>job_information</th>\n",
       "      <th>marriage_yes</th>\n",
       "      <th>marriage_widowed</th>\n",
       "      <th>marriage_divorced</th>\n",
       "      <th>marriage_separated</th>\n",
       "      <th>race_1. White</th>\n",
       "      <th>race_2. Black</th>\n",
       "      <th>race_3. Asian</th>\n",
       "      <th>race_4. Other</th>\n",
       "    </tr>\n",
       "  </thead>\n",
       "  <tbody>\n",
       "    <tr>\n",
       "      <th>0</th>\n",
       "      <td>18</td>\n",
       "      <td>1. White</td>\n",
       "      <td>1</td>\n",
       "      <td>0</td>\n",
       "      <td>0</td>\n",
       "      <td>75.043154</td>\n",
       "      <td>0</td>\n",
       "      <td>0</td>\n",
       "      <td>0</td>\n",
       "      <td>0</td>\n",
       "      <td>0</td>\n",
       "      <td>1</td>\n",
       "      <td>0</td>\n",
       "      <td>0</td>\n",
       "      <td>0</td>\n",
       "    </tr>\n",
       "    <tr>\n",
       "      <th>1</th>\n",
       "      <td>24</td>\n",
       "      <td>1. White</td>\n",
       "      <td>4</td>\n",
       "      <td>1</td>\n",
       "      <td>0</td>\n",
       "      <td>70.476020</td>\n",
       "      <td>1</td>\n",
       "      <td>0</td>\n",
       "      <td>0</td>\n",
       "      <td>0</td>\n",
       "      <td>0</td>\n",
       "      <td>1</td>\n",
       "      <td>0</td>\n",
       "      <td>0</td>\n",
       "      <td>0</td>\n",
       "    </tr>\n",
       "    <tr>\n",
       "      <th>2</th>\n",
       "      <td>45</td>\n",
       "      <td>1. White</td>\n",
       "      <td>3</td>\n",
       "      <td>0</td>\n",
       "      <td>1</td>\n",
       "      <td>130.982177</td>\n",
       "      <td>0</td>\n",
       "      <td>1</td>\n",
       "      <td>0</td>\n",
       "      <td>0</td>\n",
       "      <td>0</td>\n",
       "      <td>1</td>\n",
       "      <td>0</td>\n",
       "      <td>0</td>\n",
       "      <td>0</td>\n",
       "    </tr>\n",
       "  </tbody>\n",
       "</table>\n",
       "</div>"
      ],
      "text/plain": [
       "   age      race  education  health  health_ins        wage  job_information  \\\n",
       "0   18  1. White          1       0           0   75.043154                0   \n",
       "1   24  1. White          4       1           0   70.476020                1   \n",
       "2   45  1. White          3       0           1  130.982177                0   \n",
       "\n",
       "   marriage_yes  marriage_widowed  marriage_divorced  marriage_separated  \\\n",
       "0             0                 0                  0                   0   \n",
       "1             0                 0                  0                   0   \n",
       "2             1                 0                  0                   0   \n",
       "\n",
       "   race_1. White  race_2. Black  race_3. Asian  race_4. Other  \n",
       "0              1              0              0              0  \n",
       "1              1              0              0              0  \n",
       "2              1              0              0              0  "
      ]
     },
     "execution_count": 22,
     "metadata": {},
     "output_type": "execute_result"
    }
   ],
   "source": [
    "wage_df.head(3)"
   ]
  },
  {
   "cell_type": "code",
   "execution_count": 24,
   "id": "8b9cdba3",
   "metadata": {},
   "outputs": [],
   "source": [
    "wage_df.drop(['race','race_4. Other'], axis=1, inplace=True)"
   ]
  },
  {
   "cell_type": "code",
   "execution_count": 25,
   "id": "bf136022",
   "metadata": {},
   "outputs": [
    {
     "data": {
      "text/html": [
       "<div>\n",
       "<style scoped>\n",
       "    .dataframe tbody tr th:only-of-type {\n",
       "        vertical-align: middle;\n",
       "    }\n",
       "\n",
       "    .dataframe tbody tr th {\n",
       "        vertical-align: top;\n",
       "    }\n",
       "\n",
       "    .dataframe thead th {\n",
       "        text-align: right;\n",
       "    }\n",
       "</style>\n",
       "<table border=\"1\" class=\"dataframe\">\n",
       "  <thead>\n",
       "    <tr style=\"text-align: right;\">\n",
       "      <th></th>\n",
       "      <th>age</th>\n",
       "      <th>education</th>\n",
       "      <th>health</th>\n",
       "      <th>health_ins</th>\n",
       "      <th>wage</th>\n",
       "      <th>job_information</th>\n",
       "      <th>marriage_yes</th>\n",
       "      <th>marriage_widowed</th>\n",
       "      <th>marriage_divorced</th>\n",
       "      <th>marriage_separated</th>\n",
       "      <th>race_1. White</th>\n",
       "      <th>race_2. Black</th>\n",
       "      <th>race_3. Asian</th>\n",
       "    </tr>\n",
       "  </thead>\n",
       "  <tbody>\n",
       "    <tr>\n",
       "      <th>0</th>\n",
       "      <td>18</td>\n",
       "      <td>1</td>\n",
       "      <td>0</td>\n",
       "      <td>0</td>\n",
       "      <td>75.043154</td>\n",
       "      <td>0</td>\n",
       "      <td>0</td>\n",
       "      <td>0</td>\n",
       "      <td>0</td>\n",
       "      <td>0</td>\n",
       "      <td>1</td>\n",
       "      <td>0</td>\n",
       "      <td>0</td>\n",
       "    </tr>\n",
       "    <tr>\n",
       "      <th>1</th>\n",
       "      <td>24</td>\n",
       "      <td>4</td>\n",
       "      <td>1</td>\n",
       "      <td>0</td>\n",
       "      <td>70.476020</td>\n",
       "      <td>1</td>\n",
       "      <td>0</td>\n",
       "      <td>0</td>\n",
       "      <td>0</td>\n",
       "      <td>0</td>\n",
       "      <td>1</td>\n",
       "      <td>0</td>\n",
       "      <td>0</td>\n",
       "    </tr>\n",
       "    <tr>\n",
       "      <th>2</th>\n",
       "      <td>45</td>\n",
       "      <td>3</td>\n",
       "      <td>0</td>\n",
       "      <td>1</td>\n",
       "      <td>130.982177</td>\n",
       "      <td>0</td>\n",
       "      <td>1</td>\n",
       "      <td>0</td>\n",
       "      <td>0</td>\n",
       "      <td>0</td>\n",
       "      <td>1</td>\n",
       "      <td>0</td>\n",
       "      <td>0</td>\n",
       "    </tr>\n",
       "  </tbody>\n",
       "</table>\n",
       "</div>"
      ],
      "text/plain": [
       "   age  education  health  health_ins        wage  job_information  \\\n",
       "0   18          1       0           0   75.043154                0   \n",
       "1   24          4       1           0   70.476020                1   \n",
       "2   45          3       0           1  130.982177                0   \n",
       "\n",
       "   marriage_yes  marriage_widowed  marriage_divorced  marriage_separated  \\\n",
       "0             0                 0                  0                   0   \n",
       "1             0                 0                  0                   0   \n",
       "2             1                 0                  0                   0   \n",
       "\n",
       "   race_1. White  race_2. Black  race_3. Asian  \n",
       "0              1              0              0  \n",
       "1              1              0              0  \n",
       "2              1              0              0  "
      ]
     },
     "execution_count": 25,
     "metadata": {},
     "output_type": "execute_result"
    }
   ],
   "source": [
    "wage_df.head(3)"
   ]
  },
  {
   "cell_type": "code",
   "execution_count": null,
   "id": "f9417837",
   "metadata": {},
   "outputs": [],
   "source": [
    "from sklearn.linear_model import LinearRegression"
   ]
  },
  {
   "cell_type": "code",
   "execution_count": 25,
   "id": "0479ca1a",
   "metadata": {},
   "outputs": [
    {
     "name": "stdout",
     "output_type": "stream",
     "text": [
      "Coefficient for education: 13.344081064362944\n",
      "Coefficients for all features:\n",
      "{'age': 0.3037475967955372, 'education': 13.344081064362944, 'health': 6.6042296326767564, 'health_ins': 16.996044805507147, 'job_information': 3.7856459769041266, 'marriage_yes': 17.179947269886267, 'marriage_widowed': 0.9727074421567062, 'marriage_divorced': 3.491899032315769, 'marriage_separated': 12.13254898695342, 'race_1. White': 2.841194038310302, 'race_2. Black': -2.3011198843652, 'race_3. Asian': 1.3530328024171732, 'race_4. Other': -1.8931069563622769}\n"
     ]
    }
   ],
   "source": [
    "# Fit a linear regression model\n",
    "X = wage_df.drop('wage', axis=1)  # All columns except 'wage'\n",
    "y = wage_df['wage']  # 'wage' column\n",
    "\n",
    "reg = LinearRegression().fit(X,y) #hint: to get coefficients of the fitted model use \"reg.coef_\"\n",
    "\n",
    "# Coefficients of the fitted model\n",
    "coefficients = reg.coef_\n",
    "\n",
    "# Interpretation of the 'education' coefficient\n",
    "education_coef = coefficients[X.columns.tolist().index('education')]\n",
    "print(f\"Coefficient for education: {education_coef}\")\n",
    "\n",
    "# You may also want to print the entire coefficients for all features\n",
    "print(\"Coefficients for all features:\")\n",
    "print(dict(zip(X.columns, coefficients)))"
   ]
  },
  {
   "cell_type": "markdown",
   "id": "70346f19",
   "metadata": {},
   "source": [
    "[Jing]: The coefficient for education is 13.344, which is positive. This suggests that higher education levels are associated with higer wages. "
   ]
  }
 ],
 "metadata": {
  "kernelspec": {
   "display_name": "Python 3 (ipykernel)",
   "language": "python",
   "name": "python3"
  },
  "language_info": {
   "codemirror_mode": {
    "name": "ipython",
    "version": 3
   },
   "file_extension": ".py",
   "mimetype": "text/x-python",
   "name": "python",
   "nbconvert_exporter": "python",
   "pygments_lexer": "ipython3",
   "version": "3.10.9"
  }
 },
 "nbformat": 4,
 "nbformat_minor": 5
}
