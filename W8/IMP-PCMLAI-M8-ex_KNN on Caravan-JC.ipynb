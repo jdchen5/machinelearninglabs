{
 "cells": [
  {
   "cell_type": "code",
   "execution_count": 1,
   "id": "bff2424f",
   "metadata": {},
   "outputs": [],
   "source": [
    "import pandas as pd\n",
    "import numpy as np\n",
    "import matplotlib.pyplot as plt\n",
    "from sklearn.model_selection import train_test_split\n",
    "from sklearn.preprocessing import StandardScaler\n",
    "from sklearn.neighbors import KNeighborsClassifier\n",
    "from sklearn.metrics import confusion_matrix"
   ]
  },
  {
   "cell_type": "markdown",
   "id": "ba133939",
   "metadata": {},
   "source": [
    "### Importance of Scaling Variables"
   ]
  },
  {
   "cell_type": "markdown",
   "id": "d956ad92",
   "metadata": {},
   "source": [
    "Let us first generate $20$ instances where each instance is two-dimensional."
   ]
  },
  {
   "cell_type": "code",
   "execution_count": 2,
   "id": "e8d918ad",
   "metadata": {},
   "outputs": [],
   "source": [
    "np.random.seed(2)\n",
    "points = np.random.normal(0, 1, size=(2, 20))"
   ]
  },
  {
   "cell_type": "markdown",
   "id": "a3ec360f",
   "metadata": {},
   "source": [
    "If we plot them, we will have the following."
   ]
  },
  {
   "cell_type": "code",
   "execution_count": 3,
   "id": "df22a250",
   "metadata": {},
   "outputs": [
    {
     "data": {
      "image/png": "[encoded data removed]",
      "text/plain": [
       "<Figure size 640x480 with 1 Axes>"
      ]
     },
     "metadata": {},
     "output_type": "display_data"
    }
   ],
   "source": [
    "plt.scatter(points[0], points[1])\n",
    "plt.plot(points[0][:2], points[1][:2], 'ro-')\n",
    "plt.xlabel(r'$X_1$', fontsize=15)\n",
    "plt.ylabel(r'$X_2$', fontsize=15)\n",
    "plt.show()"
   ]
  },
  {
   "cell_type": "markdown",
   "id": "9db05af4",
   "metadata": {},
   "source": [
    "Above, we have also connected two points with a line. We can see that these points are quite close to each other. Their distances in both directions are relatively close to each other."
   ]
  },
  {
   "cell_type": "markdown",
   "id": "6378f7c4",
   "metadata": {},
   "source": [
    "Now, let us multiply the $x_2$ value of each point by $10$. This is equivalent to increasing the scale of the second variable. Obviously, we have not lost any information, because the original $x_2$ value can always be retrieved by dividing the new value by $10$. So, we would hope that the result of any machine learning method would not change after such a re-scaling. However, in distance-based methods (such as KNN), this is not the case. Let us see the reason next."
   ]
  },
  {
   "cell_type": "code",
   "execution_count": 4,
   "id": "a5749231",
   "metadata": {},
   "outputs": [
    {
     "data": {
      "image/png": "[encoded data removed]",
      "text/plain": [
       "<Figure size 640x480 with 1 Axes>"
      ]
     },
     "metadata": {},
     "output_type": "display_data"
    }
   ],
   "source": [
    "plt.scatter(points[0], 10*points[1])\n",
    "plt.plot(points[0][:2], 10*points[1][:2], 'ro-')\n",
    "plt.xlabel(r'$X_1$', fontsize=15)\n",
    "plt.ylabel(r'$X_2*10$', fontsize=15)\n",
    "plt.xlim([-30, 30])\n",
    "plt.ylim([-30, 30])\n",
    "plt.show()"
   ]
  },
  {
   "cell_type": "markdown",
   "id": "864f2431",
   "metadata": {},
   "source": [
    "As you can see, the distance is dominated by the vertical axis, and now the horizontal axis looks less important. This happened only by multiplying $x_2$ by $10$. Now think about a dataset of patient records, where some variables are some cell values between $10^{-4}$ to $10^{-6}$ and some other variables such as the age of a person can vary anywhere between $1$ to $120$. In this case all the distance will be dominated by the age, and our KNN method will just compare the ages of patients before deciding anything. Not very useful! We should keep this in mind now before starting with a KNN application."
   ]
  },
  {
   "cell_type": "markdown",
   "id": "4041feb6",
   "metadata": {},
   "source": [
    "### KNN on the `Caravan` Dataset"
   ]
  },
  {
   "cell_type": "markdown",
   "id": "ca3bc893",
   "metadata": {},
   "source": [
    "We use the `Caravan` dataset from the `ISLR` library. The explanation of the dataset can be found [here](https://cran.r-project.org/web/packages/ISLR/ISLR.pdf) and we download the csv file from [this GitHub repository](https://github.com/JWarmenhoven/ISLR-python)."
   ]
  },
  {
   "cell_type": "code",
   "execution_count": 5,
   "id": "9c2f752d",
   "metadata": {},
   "outputs": [],
   "source": [
    "df = pd.read_csv(\"https://raw.githubusercontent.com/JWarmenhoven/ISLR-python/master/Notebooks/Data/Caravan.csv\")\n",
    "df = df.drop(columns=df.columns[0])"
   ]
  },
  {
   "cell_type": "code",
   "execution_count": 6,
   "id": "f6cb2757",
   "metadata": {},
   "outputs": [
    {
     "data": {
      "text/html": [
       "<div>\n",
       "<style scoped>\n",
       "    .dataframe tbody tr th:only-of-type {\n",
       "        vertical-align: middle;\n",
       "    }\n",
       "\n",
       "    .dataframe tbody tr th {\n",
       "        vertical-align: top;\n",
       "    }\n",
       "\n",
       "    .dataframe thead th {\n",
       "        text-align: right;\n",
       "    }\n",
       "</style>\n",
       "<table border=\"1\" class=\"dataframe\">\n",
       "  <thead>\n",
       "    <tr style=\"text-align: right;\">\n",
       "      <th></th>\n",
       "      <th>MOSTYPE</th>\n",
       "      <th>MAANTHUI</th>\n",
       "      <th>MGEMOMV</th>\n",
       "      <th>MGEMLEEF</th>\n",
       "      <th>MOSHOOFD</th>\n",
       "      <th>MGODRK</th>\n",
       "      <th>MGODPR</th>\n",
       "      <th>MGODOV</th>\n",
       "      <th>MGODGE</th>\n",
       "      <th>MRELGE</th>\n",
       "      <th>...</th>\n",
       "      <th>APERSONG</th>\n",
       "      <th>AGEZONG</th>\n",
       "      <th>AWAOREG</th>\n",
       "      <th>ABRAND</th>\n",
       "      <th>AZEILPL</th>\n",
       "      <th>APLEZIER</th>\n",
       "      <th>AFIETS</th>\n",
       "      <th>AINBOED</th>\n",
       "      <th>ABYSTAND</th>\n",
       "      <th>Purchase</th>\n",
       "    </tr>\n",
       "  </thead>\n",
       "  <tbody>\n",
       "    <tr>\n",
       "      <th>0</th>\n",
       "      <td>33</td>\n",
       "      <td>1</td>\n",
       "      <td>3</td>\n",
       "      <td>2</td>\n",
       "      <td>8</td>\n",
       "      <td>0</td>\n",
       "      <td>5</td>\n",
       "      <td>1</td>\n",
       "      <td>3</td>\n",
       "      <td>7</td>\n",
       "      <td>...</td>\n",
       "      <td>0</td>\n",
       "      <td>0</td>\n",
       "      <td>0</td>\n",
       "      <td>1</td>\n",
       "      <td>0</td>\n",
       "      <td>0</td>\n",
       "      <td>0</td>\n",
       "      <td>0</td>\n",
       "      <td>0</td>\n",
       "      <td>No</td>\n",
       "    </tr>\n",
       "    <tr>\n",
       "      <th>1</th>\n",
       "      <td>37</td>\n",
       "      <td>1</td>\n",
       "      <td>2</td>\n",
       "      <td>2</td>\n",
       "      <td>8</td>\n",
       "      <td>1</td>\n",
       "      <td>4</td>\n",
       "      <td>1</td>\n",
       "      <td>4</td>\n",
       "      <td>6</td>\n",
       "      <td>...</td>\n",
       "      <td>0</td>\n",
       "      <td>0</td>\n",
       "      <td>0</td>\n",
       "      <td>1</td>\n",
       "      <td>0</td>\n",
       "      <td>0</td>\n",
       "      <td>0</td>\n",
       "      <td>0</td>\n",
       "      <td>0</td>\n",
       "      <td>No</td>\n",
       "    </tr>\n",
       "    <tr>\n",
       "      <th>2</th>\n",
       "      <td>37</td>\n",
       "      <td>1</td>\n",
       "      <td>2</td>\n",
       "      <td>2</td>\n",
       "      <td>8</td>\n",
       "      <td>0</td>\n",
       "      <td>4</td>\n",
       "      <td>2</td>\n",
       "      <td>4</td>\n",
       "      <td>3</td>\n",
       "      <td>...</td>\n",
       "      <td>0</td>\n",
       "      <td>0</td>\n",
       "      <td>0</td>\n",
       "      <td>1</td>\n",
       "      <td>0</td>\n",
       "      <td>0</td>\n",
       "      <td>0</td>\n",
       "      <td>0</td>\n",
       "      <td>0</td>\n",
       "      <td>No</td>\n",
       "    </tr>\n",
       "  </tbody>\n",
       "</table>\n",
       "<p>3 rows × 86 columns</p>\n",
       "</div>"
      ],
      "text/plain": [
       "   MOSTYPE  MAANTHUI  MGEMOMV  MGEMLEEF  MOSHOOFD  MGODRK  MGODPR  MGODOV  \\\n",
       "0       33         1        3         2         8       0       5       1   \n",
       "1       37         1        2         2         8       1       4       1   \n",
       "2       37         1        2         2         8       0       4       2   \n",
       "\n",
       "   MGODGE  MRELGE  ...  APERSONG  AGEZONG  AWAOREG  ABRAND  AZEILPL  APLEZIER  \\\n",
       "0       3       7  ...         0        0        0       1        0         0   \n",
       "1       4       6  ...         0        0        0       1        0         0   \n",
       "2       4       3  ...         0        0        0       1        0         0   \n",
       "\n",
       "   AFIETS  AINBOED  ABYSTAND  Purchase  \n",
       "0       0        0         0        No  \n",
       "1       0        0         0        No  \n",
       "2       0        0         0        No  \n",
       "\n",
       "[3 rows x 86 columns]"
      ]
     },
     "execution_count": 6,
     "metadata": {},
     "output_type": "execute_result"
    }
   ],
   "source": [
    "df.head(3)"
   ]
  },
  {
   "cell_type": "markdown",
   "id": "581a0956",
   "metadata": {},
   "source": [
    "#### Let's obtain some information on the target variable"
   ]
  },
  {
   "cell_type": "markdown",
   "id": "d26dbaae",
   "metadata": {},
   "source": [
    "We will try to classify whether the `Purchase` variable is a 'yes' or a 'no'. We will be checking if caravan insurances have been purchased by looking at this variable. Let us inspect this variable a little bit."
   ]
  },
  {
   "cell_type": "code",
   "execution_count": 7,
   "id": "dcce7869",
   "metadata": {
    "scrolled": false
   },
   "outputs": [
    {
     "data": {
      "text/plain": [
       "array(['No', 'Yes'], dtype=object)"
      ]
     },
     "execution_count": 7,
     "metadata": {},
     "output_type": "execute_result"
    }
   ],
   "source": [
    "df.Purchase.unique() #there are only \"Yes\" and \"No\"s "
   ]
  },
  {
   "cell_type": "code",
   "execution_count": 8,
   "id": "76df3b7f",
   "metadata": {},
   "outputs": [
    {
     "data": {
      "text/plain": [
       "count     5822\n",
       "unique       2\n",
       "top         No\n",
       "freq      5474\n",
       "Name: Purchase, dtype: object"
      ]
     },
     "execution_count": 8,
     "metadata": {},
     "output_type": "execute_result"
    }
   ],
   "source": [
    "df['Purchase'].describe() #We can see that 5,474 of the 5,822 rows have \"No\" target -- the target is quite imbalanced."
   ]
  },
  {
   "cell_type": "code",
   "execution_count": 9,
   "id": "51d15e6d",
   "metadata": {},
   "outputs": [
    {
     "data": {
      "text/plain": [
       "No     5474\n",
       "Yes     348\n",
       "Name: Purchase, dtype: int64"
      ]
     },
     "execution_count": 9,
     "metadata": {},
     "output_type": "execute_result"
    }
   ],
   "source": [
    "df['Purchase'].value_counts()"
   ]
  },
  {
   "cell_type": "code",
   "execution_count": 10,
   "id": "45bc14ba",
   "metadata": {
    "scrolled": true
   },
   "outputs": [
    {
     "data": {
      "text/plain": [
       "No     0.940227\n",
       "Yes    0.059773\n",
       "Name: Purchase, dtype: float64"
      ]
     },
     "execution_count": 10,
     "metadata": {},
     "output_type": "execute_result"
    }
   ],
   "source": [
    "df['Purchase'].value_counts(normalize = True) #so if we always say \"No\", then "
   ]
  },
  {
   "cell_type": "markdown",
   "id": "904f5239",
   "metadata": {},
   "source": [
    "#### Standardize the predictors of the dataframe only (keep the target as we want to keep the 0/1 structure)"
   ]
  },
  {
   "cell_type": "code",
   "execution_count": 11,
   "id": "55614390",
   "metadata": {},
   "outputs": [],
   "source": [
    "scaler = StandardScaler()\n",
    "df_scaled = pd.DataFrame(scaler.fit_transform(df.iloc[:,:-1]),columns = df.columns[:-1]) #scale the predictors"
   ]
  },
  {
   "cell_type": "code",
   "execution_count": 12,
   "id": "533b2618",
   "metadata": {
    "scrolled": true
   },
   "outputs": [
    {
     "data": {
      "text/plain": [
       "MOSTYPE    -0.0\n",
       "MAANTHUI   -0.0\n",
       "MGEMOMV    -0.0\n",
       "MGEMLEEF    0.0\n",
       "MOSHOOFD   -0.0\n",
       "           ... \n",
       "AZEILPL    -0.0\n",
       "APLEZIER   -0.0\n",
       "AFIETS      0.0\n",
       "AINBOED     0.0\n",
       "ABYSTAND    0.0\n",
       "Length: 85, dtype: float64"
      ]
     },
     "execution_count": 12,
     "metadata": {},
     "output_type": "execute_result"
    }
   ],
   "source": [
    "round(df_scaled.mean(),3)"
   ]
  },
  {
   "cell_type": "code",
   "execution_count": 13,
   "id": "17f7717f",
   "metadata": {
    "scrolled": false
   },
   "outputs": [
    {
     "data": {
      "text/plain": [
       "MOSTYPE     1.0\n",
       "MAANTHUI    1.0\n",
       "MGEMOMV     1.0\n",
       "MGEMLEEF    1.0\n",
       "MOSHOOFD    1.0\n",
       "           ... \n",
       "AZEILPL     1.0\n",
       "APLEZIER    1.0\n",
       "AFIETS      1.0\n",
       "AINBOED     1.0\n",
       "ABYSTAND    1.0\n",
       "Length: 85, dtype: float64"
      ]
     },
     "execution_count": 13,
     "metadata": {},
     "output_type": "execute_result"
    }
   ],
   "source": [
    "round(df_scaled.std(),3)"
   ]
  },
  {
   "cell_type": "code",
   "execution_count": 14,
   "id": "6bc959f5",
   "metadata": {},
   "outputs": [],
   "source": [
    "df_scaled[\"Purchase\"] = df.Purchase.copy()"
   ]
  },
  {
   "cell_type": "markdown",
   "id": "d4ce7e1c",
   "metadata": {},
   "source": [
    "Technically, scaling the whole dataframe at once is not a correct approach because we will later split it as training/test datasets. For now, this is not a big deal because here we are just showing how to use KNN. However, in the future, this will be a problem. The reason is, we are peaking ahead to the test data by using it to scale the data. So, indirectly, the test set plays a role in the training steps if we scale the whole dataframe."
   ]
  },
  {
   "cell_type": "markdown",
   "id": "14c59f82",
   "metadata": {},
   "source": [
    "#### Let us create the dataframe with predictors and only the target and then sample 20% of the dataset as a test set."
   ]
  },
  {
   "cell_type": "code",
   "execution_count": 15,
   "id": "f84c6a42",
   "metadata": {},
   "outputs": [],
   "source": [
    "train, test = train_test_split(df_scaled, test_size=0.2) #test_size 0.2 means 20% of the dataset will be sampled\n",
    "#train.shape[0] + test.shape[0] == df.shape[0] #should be true! (why?)"
   ]
  },
  {
   "cell_type": "code",
   "execution_count": 16,
   "id": "dab3671c",
   "metadata": {},
   "outputs": [],
   "source": [
    "X_train = train.drop(columns=\"Purchase\") #drop the purchase column\n",
    "y_train = train.Purchase #take the purchase column\n",
    "\n",
    "X_test = test.drop(columns=\"Purchase\")\n",
    "y_test = test.Purchase"
   ]
  },
  {
   "cell_type": "markdown",
   "id": "d4dd12db",
   "metadata": {},
   "source": [
    "#### Now we are ready to fit a KNN model"
   ]
  },
  {
   "cell_type": "code",
   "execution_count": 17,
   "id": "bfc1aaea",
   "metadata": {},
   "outputs": [
    {
     "data": {
      "text/html": [
       "<style>#sk-container-id-1 {color: black;background-color: white;}#sk-container-id-1 pre{padding: 0;}#sk-container-id-1 div.sk-toggleable {background-color: white;}#sk-container-id-1 label.sk-toggleable__label {cursor: pointer;display: block;width: 100%;margin-bottom: 0;padding: 0.3em;box-sizing: border-box;text-align: center;}#sk-container-id-1 label.sk-toggleable__label-arrow:before {content: \"▸\";float: left;margin-right: 0.25em;color: #696969;}#sk-container-id-1 label.sk-toggleable__label-arrow:hover:before {color: black;}#sk-container-id-1 div.sk-estimator:hover label.sk-toggleable__label-arrow:before {color: black;}#sk-container-id-1 div.sk-toggleable__content {max-height: 0;max-width: 0;overflow: hidden;text-align: left;background-color: #f0f8ff;}#sk-container-id-1 div.sk-toggleable__content pre {margin: 0.2em;color: black;border-radius: 0.25em;background-color: #f0f8ff;}#sk-container-id-1 input.sk-toggleable__control:checked~div.sk-toggleable__content {max-height: 200px;max-width: 100%;overflow: auto;}#sk-container-id-1 input.sk-toggleable__control:checked~label.sk-toggleable__label-arrow:before {content: \"▾\";}#sk-container-id-1 div.sk-estimator input.sk-toggleable__control:checked~label.sk-toggleable__label {background-color: #d4ebff;}#sk-container-id-1 div.sk-label input.sk-toggleable__control:checked~label.sk-toggleable__label {background-color: #d4ebff;}#sk-container-id-1 input.sk-hidden--visually {border: 0;clip: rect(1px 1px 1px 1px);clip: rect(1px, 1px, 1px, 1px);height: 1px;margin: -1px;overflow: hidden;padding: 0;position: absolute;width: 1px;}#sk-container-id-1 div.sk-estimator {font-family: monospace;background-color: #f0f8ff;border: 1px dotted black;border-radius: 0.25em;box-sizing: border-box;margin-bottom: 0.5em;}#sk-container-id-1 div.sk-estimator:hover {background-color: #d4ebff;}#sk-container-id-1 div.sk-parallel-item::after {content: \"\";width: 100%;border-bottom: 1px solid gray;flex-grow: 1;}#sk-container-id-1 div.sk-label:hover label.sk-toggleable__label {background-color: #d4ebff;}#sk-container-id-1 div.sk-serial::before {content: \"\";position: absolute;border-left: 1px solid gray;box-sizing: border-box;top: 0;bottom: 0;left: 50%;z-index: 0;}#sk-container-id-1 div.sk-serial {display: flex;flex-direction: column;align-items: center;background-color: white;padding-right: 0.2em;padding-left: 0.2em;position: relative;}#sk-container-id-1 div.sk-item {position: relative;z-index: 1;}#sk-container-id-1 div.sk-parallel {display: flex;align-items: stretch;justify-content: center;background-color: white;position: relative;}#sk-container-id-1 div.sk-item::before, #sk-container-id-1 div.sk-parallel-item::before {content: \"\";position: absolute;border-left: 1px solid gray;box-sizing: border-box;top: 0;bottom: 0;left: 50%;z-index: -1;}#sk-container-id-1 div.sk-parallel-item {display: flex;flex-direction: column;z-index: 1;position: relative;background-color: white;}#sk-container-id-1 div.sk-parallel-item:first-child::after {align-self: flex-end;width: 50%;}#sk-container-id-1 div.sk-parallel-item:last-child::after {align-self: flex-start;width: 50%;}#sk-container-id-1 div.sk-parallel-item:only-child::after {width: 0;}#sk-container-id-1 div.sk-dashed-wrapped {border: 1px dashed gray;margin: 0 0.4em 0.5em 0.4em;box-sizing: border-box;padding-bottom: 0.4em;background-color: white;}#sk-container-id-1 div.sk-label label {font-family: monospace;font-weight: bold;display: inline-block;line-height: 1.2em;}#sk-container-id-1 div.sk-label-container {text-align: center;}#sk-container-id-1 div.sk-container {/* jupyter's `normalize.less` sets `[hidden] { display: none; }` but bootstrap.min.css set `[hidden] { display: none !important; }` so we also need the `!important` here to be able to override the default hidden behavior on the sphinx rendered scikit-learn.org. See: https://github.com/scikit-learn/scikit-learn/issues/21755 */display: inline-block !important;position: relative;}#sk-container-id-1 div.sk-text-repr-fallback {display: none;}</style><div id=\"sk-container-id-1\" class=\"sk-top-container\"><div class=\"sk-text-repr-fallback\"><pre>KNeighborsClassifier(n_neighbors=1)</pre><b>In a Jupyter environment, please rerun this cell to show the HTML representation or trust the notebook. <br />On GitHub, the HTML representation is unable to render, please try loading this page with nbviewer.org.</b></div><div class=\"sk-container\" hidden><div class=\"sk-item\"><div class=\"sk-estimator sk-toggleable\"><input class=\"sk-toggleable__control sk-hidden--visually\" id=\"sk-estimator-id-1\" type=\"checkbox\" checked><label for=\"sk-estimator-id-1\" class=\"sk-toggleable__label sk-toggleable__label-arrow\">KNeighborsClassifier</label><div class=\"sk-toggleable__content\"><pre>KNeighborsClassifier(n_neighbors=1)</pre></div></div></div></div></div>"
      ],
      "text/plain": [
       "KNeighborsClassifier(n_neighbors=1)"
      ]
     },
     "execution_count": 17,
     "metadata": {},
     "output_type": "execute_result"
    }
   ],
   "source": [
    "neigh = KNeighborsClassifier(n_neighbors=1) #train a KNN with K = 1\n",
    "neigh.fit(X_train, y_train) #fit it to our training set"
   ]
  },
  {
   "cell_type": "code",
   "execution_count": 18,
   "id": "fc3af9df",
   "metadata": {},
   "outputs": [],
   "source": [
    "y_pred = neigh.predict(X_test) #predict the test set"
   ]
  },
  {
   "cell_type": "code",
   "execution_count": 19,
   "id": "0f0368da",
   "metadata": {},
   "outputs": [
    {
     "data": {
      "text/plain": [
       "array([[1019,   73],\n",
       "       [  64,    9]], dtype=int64)"
      ]
     },
     "execution_count": 19,
     "metadata": {},
     "output_type": "execute_result"
    }
   ],
   "source": [
    "cm_1 = confusion_matrix(y_test, y_pred)#first row of the confusion matrix will be the true \"No\"s and second row \"Yes\"s\n",
    "cm_1"
   ]
  },
  {
   "cell_type": "markdown",
   "id": "2539c499",
   "metadata": {},
   "source": [
    "#### Let us write a function that takes the \"K\" value and returns all the statistics that we are interested."
   ]
  },
  {
   "cell_type": "code",
   "execution_count": 20,
   "id": "de82ac4e",
   "metadata": {},
   "outputs": [],
   "source": [
    "def k_stats(k, X_train, y_train, X_test, y_test):\n",
    "    neigh = KNeighborsClassifier(n_neighbors=k) #train a KNN with K = 1\n",
    "    neigh.fit(X_train, y_train) #fit it to our training set\n",
    "    y_pred = neigh.predict(X_test) #predict the test set\n",
    "    cm = confusion_matrix(y_test, y_pred)\n",
    "    nr_pos = np.sum(y_pred == \"Yes\")\n",
    "    true_neg = cm[0][0]\n",
    "    true_pos = cm[1][1]\n",
    "    false_pos = cm[0][1]\n",
    "    false_neg = cm[1][0]\n",
    "    misclassification_rate = (false_pos + false_neg)/np.sum(cm)\n",
    "    precision = true_pos / (true_pos + false_pos) #out of all times we say positives what percent we are accurate\n",
    "    sensitivity = true_pos / (true_pos + false_neg) #or recall (out of positives what percent can we guess)\n",
    "    return nr_pos, true_pos, misclassification_rate, precision, sensitivity"
   ]
  },
  {
   "cell_type": "markdown",
   "id": "55406ec7",
   "metadata": {},
   "source": [
    "#### Question: Deliverable on KNN method\n",
    "Use the `k_stats` function in a for loop and report the results obtained by the KNN method for $K=1,3,5,7,9$. To this end, create a pandas dataframe with columns `K`, `number pos`, `true pos`, `misclassification`, `precision`, `sensitivity`. Analyze the misclassification vs. sensitivity tradeoff with respect to increasing $K$. Compare your results with the classifier which always says \"No\"."
   ]
  },
  {
   "cell_type": "code",
   "execution_count": 22,
   "id": "7fb8ba4b",
   "metadata": {},
   "outputs": [],
   "source": [
    "df_knn = pd.DataFrame(columns = ['K', 'number pos', 'true pos', 'misclassification', 'precision', 'sensitivity'])"
   ]
  },
  {
   "cell_type": "code",
   "execution_count": 25,
   "id": "9bdc13f7",
   "metadata": {},
   "outputs": [],
   "source": [
    "# Loop over the desired K values\n",
    "for k in range(5):\n",
    "    # Get the statistics for the current K\n",
    "    nr_pos, true_pos, misclassification_rate, precision, sensitivity = k_stats(2*k+1, X_train, y_train, X_test, y_test)\n",
    "    df_knn.loc[k] = [2*k+1,nr_pos, true_pos, misclassification_rate, precision, sensitivity]\n",
    "    \n",
    "df_knn[\"K\"]=pd.to_numeric(df_knn.K, downcast = 'integer')\n",
    "df_knn[\"number pos\"] = pd.to_numeric(df_knn[\"number pos\"], downcast = 'integer')\n",
    "   \n"
   ]
  },
  {
   "cell_type": "code",
   "execution_count": 26,
   "id": "df7988ad",
   "metadata": {},
   "outputs": [
    {
     "name": "stderr",
     "output_type": "stream",
     "text": [
      "C:\\Users\\jdche\\AppData\\Local\\Temp\\ipykernel_31724\\1210555525.py:1: FutureWarning: this method is deprecated in favour of `Styler.hide(axis=\"index\")`\n",
      "  df_knn.style.hide_index()\n"
     ]
    },
    {
     "data": {
      "text/html": [
       "<style type=\"text/css\">\n",
       "</style>\n",
       "<table id=\"T_e28c9\">\n",
       "  <thead>\n",
       "    <tr>\n",
       "      <th id=\"T_e28c9_level0_col0\" class=\"col_heading level0 col0\" >K</th>\n",
       "      <th id=\"T_e28c9_level0_col1\" class=\"col_heading level0 col1\" >number pos</th>\n",
       "      <th id=\"T_e28c9_level0_col2\" class=\"col_heading level0 col2\" >true pos</th>\n",
       "      <th id=\"T_e28c9_level0_col3\" class=\"col_heading level0 col3\" >misclassification</th>\n",
       "      <th id=\"T_e28c9_level0_col4\" class=\"col_heading level0 col4\" >precision</th>\n",
       "      <th id=\"T_e28c9_level0_col5\" class=\"col_heading level0 col5\" >sensitivity</th>\n",
       "    </tr>\n",
       "  </thead>\n",
       "  <tbody>\n",
       "    <tr>\n",
       "      <td id=\"T_e28c9_row0_col0\" class=\"data row0 col0\" >1</td>\n",
       "      <td id=\"T_e28c9_row0_col1\" class=\"data row0 col1\" >82</td>\n",
       "      <td id=\"T_e28c9_row0_col2\" class=\"data row0 col2\" >9.000000</td>\n",
       "      <td id=\"T_e28c9_row0_col3\" class=\"data row0 col3\" >0.117597</td>\n",
       "      <td id=\"T_e28c9_row0_col4\" class=\"data row0 col4\" >0.109756</td>\n",
       "      <td id=\"T_e28c9_row0_col5\" class=\"data row0 col5\" >0.123288</td>\n",
       "    </tr>\n",
       "    <tr>\n",
       "      <td id=\"T_e28c9_row1_col0\" class=\"data row1 col0\" >3</td>\n",
       "      <td id=\"T_e28c9_row1_col1\" class=\"data row1 col1\" >37</td>\n",
       "      <td id=\"T_e28c9_row1_col2\" class=\"data row1 col2\" >7.000000</td>\n",
       "      <td id=\"T_e28c9_row1_col3\" class=\"data row1 col3\" >0.082403</td>\n",
       "      <td id=\"T_e28c9_row1_col4\" class=\"data row1 col4\" >0.189189</td>\n",
       "      <td id=\"T_e28c9_row1_col5\" class=\"data row1 col5\" >0.095890</td>\n",
       "    </tr>\n",
       "    <tr>\n",
       "      <td id=\"T_e28c9_row2_col0\" class=\"data row2 col0\" >5</td>\n",
       "      <td id=\"T_e28c9_row2_col1\" class=\"data row2 col1\" >8</td>\n",
       "      <td id=\"T_e28c9_row2_col2\" class=\"data row2 col2\" >2.000000</td>\n",
       "      <td id=\"T_e28c9_row2_col3\" class=\"data row2 col3\" >0.066094</td>\n",
       "      <td id=\"T_e28c9_row2_col4\" class=\"data row2 col4\" >0.250000</td>\n",
       "      <td id=\"T_e28c9_row2_col5\" class=\"data row2 col5\" >0.027397</td>\n",
       "    </tr>\n",
       "    <tr>\n",
       "      <td id=\"T_e28c9_row3_col0\" class=\"data row3 col0\" >7</td>\n",
       "      <td id=\"T_e28c9_row3_col1\" class=\"data row3 col1\" >3</td>\n",
       "      <td id=\"T_e28c9_row3_col2\" class=\"data row3 col2\" >1.000000</td>\n",
       "      <td id=\"T_e28c9_row3_col3\" class=\"data row3 col3\" >0.063519</td>\n",
       "      <td id=\"T_e28c9_row3_col4\" class=\"data row3 col4\" >0.333333</td>\n",
       "      <td id=\"T_e28c9_row3_col5\" class=\"data row3 col5\" >0.013699</td>\n",
       "    </tr>\n",
       "    <tr>\n",
       "      <td id=\"T_e28c9_row4_col0\" class=\"data row4 col0\" >9</td>\n",
       "      <td id=\"T_e28c9_row4_col1\" class=\"data row4 col1\" >2</td>\n",
       "      <td id=\"T_e28c9_row4_col2\" class=\"data row4 col2\" >1.000000</td>\n",
       "      <td id=\"T_e28c9_row4_col3\" class=\"data row4 col3\" >0.062661</td>\n",
       "      <td id=\"T_e28c9_row4_col4\" class=\"data row4 col4\" >0.500000</td>\n",
       "      <td id=\"T_e28c9_row4_col5\" class=\"data row4 col5\" >0.013699</td>\n",
       "    </tr>\n",
       "  </tbody>\n",
       "</table>\n"
      ],
      "text/plain": [
       "<pandas.io.formats.style.Styler at 0x18a71ba1d20>"
      ]
     },
     "execution_count": 26,
     "metadata": {},
     "output_type": "execute_result"
    }
   ],
   "source": [
    "df_knn.style.hide_index()"
   ]
  },
  {
   "cell_type": "code",
   "execution_count": 56,
   "id": "44cd1f9b",
   "metadata": {},
   "outputs": [
    {
     "data": {
      "text/plain": [
       "No     0.937339\n",
       "Yes    0.062661\n",
       "Name: Purchase, dtype: float64"
      ]
     },
     "execution_count": 56,
     "metadata": {},
     "output_type": "execute_result"
    }
   ],
   "source": [
    "y_test.value_counts(normalize=True)"
   ]
  },
  {
   "cell_type": "markdown",
   "id": "498cd6b6",
   "metadata": {},
   "source": [
    "[Jing's answer]: \n",
    " - Analyze the misclassification vs. sensitivity tradeoff with respect to increasing 𝐾: \n",
    "     As K increases from 1 to 9, the misclassification rate decreases, indicating that the model becomes more accurate in its predcitions.\n",
    "     The senstivitiy descreases as K increases, which means while the model becomes more acurrate, it becomes less capable of correctnly identifying true positives.\n",
    "     The number of true positive predictions signigicantly decreases with increasing K. This is in line with the decrease in sensitivity.\n",
    "     However, precision increases with K, implying that while the model predicts fewer positives and they are more likely to be correct.\n",
    "     \n",
    "     "
   ]
  },
  {
   "cell_type": "code",
   "execution_count": 57,
   "id": "dd6203bf",
   "metadata": {},
   "outputs": [],
   "source": [
    "y_pred_no = np.full((len(y_test),), 'No')"
   ]
  },
  {
   "cell_type": "code",
   "execution_count": 58,
   "id": "f69b6378",
   "metadata": {},
   "outputs": [
    {
     "name": "stdout",
     "output_type": "stream",
     "text": [
      "['No' 'No' 'No' ... 'No' 'No' 'No']\n"
     ]
    }
   ],
   "source": [
    "print(y_pred_no)"
   ]
  },
  {
   "cell_type": "code",
   "execution_count": 59,
   "id": "c7868480",
   "metadata": {},
   "outputs": [
    {
     "name": "stdout",
     "output_type": "stream",
     "text": [
      "0\n"
     ]
    }
   ],
   "source": [
    "nr_pos = np.sum(y_pred_no == \"Yes\")\n",
    "print(nr_pos)"
   ]
  },
  {
   "cell_type": "code",
   "execution_count": 62,
   "id": "5cdc6890",
   "metadata": {},
   "outputs": [],
   "source": [
    "cm = confusion_matrix(y_test, y_pred_no,labels=['No', 'Yes'])"
   ]
  },
  {
   "cell_type": "code",
   "execution_count": 63,
   "id": "6a84df05",
   "metadata": {},
   "outputs": [
    {
     "data": {
      "text/plain": [
       "array([[1092,    0],\n",
       "       [  73,    0]], dtype=int64)"
      ]
     },
     "execution_count": 63,
     "metadata": {},
     "output_type": "execute_result"
    }
   ],
   "source": [
    "cm"
   ]
  },
  {
   "cell_type": "code",
   "execution_count": 64,
   "id": "7e1d4c43",
   "metadata": {
    "scrolled": true
   },
   "outputs": [
    {
     "name": "stdout",
     "output_type": "stream",
     "text": [
      "the classifier which always says No: number pos=0, true pos=0, misclassification=0.06266094420600858, precision=0, sensitivity=0.0\n"
     ]
    }
   ],
   "source": [
    "    true_neg = cm[0][0]\n",
    "    false_pos = cm[0][1]\n",
    "    false_neg = cm[1][0]\n",
    "    true_pos = cm[1][1]\n",
    "    misclassification_rate = (false_pos + false_neg)/np.sum(cm)\n",
    "    precision = 0 if nr_pos == 0 else true_pos / (true_pos + false_pos) #out of all times we say positives what percent we are accurate\n",
    "    sensitivity = 0 if (true_pos + false_neg) == 0 else true_pos / (true_pos + false_neg) #or recall (out of positives what percent can we guess)\n",
    "    print(f\"the classifier which always says No: number pos={nr_pos}, true pos={true_pos}, misclassification={misclassification_rate}, precision={precision}, sensitivity={sensitivity}\")"
   ]
  },
  {
   "cell_type": "markdown",
   "id": "2e986c6b",
   "metadata": {},
   "source": [
    "[Jing's answer]:\n",
    "\n",
    "-  Compare your results with the classifier which always says \"No\": \n",
    "    \n",
    "    The misclassification for \"No\" all the time is 6.267%. As we observed that df_knn's misclassification also decreases when K increases. So we can't use misclassification as the main metric. \n",
    "    For instance, when K=3, the misclassification rate is 8.24%, with 7 positive instances compared to only 1 positive instance when K=9. Therefore, additional factors must be considered to determine the optimal value of K.\n",
    "    "
   ]
  },
  {
   "cell_type": "code",
   "execution_count": null,
   "id": "fafe09f7",
   "metadata": {},
   "outputs": [],
   "source": []
  }
 ],
 "metadata": {
  "kernelspec": {
   "display_name": "Python 3 (ipykernel)",
   "language": "python",
   "name": "python3"
  },
  "language_info": {
   "codemirror_mode": {
    "name": "ipython",
    "version": 3
   },
   "file_extension": ".py",
   "mimetype": "text/x-python",
   "name": "python",
   "nbconvert_exporter": "python",
   "pygments_lexer": "ipython3",
   "version": "3.10.9"
  }
 },
 "nbformat": 4,
 "nbformat_minor": 5
}
