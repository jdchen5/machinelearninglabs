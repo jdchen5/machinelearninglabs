{
 "cells": [
  {
   "cell_type": "code",
   "execution_count": 54,
   "id": "c5feb7b2",
   "metadata": {},
   "outputs": [],
   "source": [
    "import numpy as np\n",
    "import pandas as pd\n",
    "import random\n",
    "import matplotlib.pyplot as plt\n",
    "from scipy import optimize"
   ]
  },
  {
   "cell_type": "markdown",
   "id": "75227f16",
   "metadata": {},
   "source": [
    "## Bootstrapping exercise\n",
    "- There are two correlated stocks, $X$ and $Y$, which are normally distributed\n",
    "- You will invest in both stocks with all your money\n",
    "- Your goal is to find $\\alpha \\in [0,1]$ (the portion of your money invested in stock $X$) to minimize the variance of the portfolio, i.e.,\n",
    " $$ \\mathbb{V}\\mathrm{AR}[\\alpha X + (1-\\alpha)Y] $$\n",
    "- You are given \"returns.npy\", a 2-D numpy array of the past $200$ returns of $(X,Y)$.\n",
    "\n",
    "Exercise questions: \n",
    "1. Estimate $\\mu_X, \\mu_Y, \\sigma_{X}^2, \\sigma_{Y}^2, \\sigma_{XY}$ from the sample, and then compute the optimal investment strategy $\\alpha$\n",
    "2. Since we estimated the parameters by looking at a sample, we may be severly biased. Hence, use bootstrapping to iteratively sample $200$ points (with replacement) from the previous returns, and estimate the optimal investment strategy each time. Apply this $B = 500$ times and compute the standard error of the optimal $\\alpha$ that we computed on the original set of previous returns."
   ]
  },
  {
   "cell_type": "code",
   "execution_count": 55,
   "id": "609ebd23",
   "metadata": {},
   "outputs": [
    {
     "name": "stdout",
     "output_type": "stream",
     "text": [
      "(200, 2)\n",
      "            0         1\n",
      "0    3.681866  3.444006\n",
      "1    3.365776  2.638856\n",
      "2    4.526920  4.560780\n",
      "3    1.485724  2.878699\n",
      "4    4.750818  0.740250\n",
      "..        ...       ...\n",
      "195  4.530808  3.548513\n",
      "196  2.204366  1.996914\n",
      "197  4.046409  3.188029\n",
      "198  4.645852  2.721623\n",
      "199  6.293862  3.457385\n",
      "\n",
      "[200 rows x 2 columns]\n"
     ]
    }
   ],
   "source": [
    "# load data into the 2d array\n",
    "returns = np.load('returns.npy') \n",
    "#returns = ...\n",
    "n = 200\n",
    "print(np.shape(returns))\n",
    "\n",
    "#load data into the DataFrame for bootstrapping sample\n",
    "df_stocks=pd.DataFrame(returns)\n",
    "print(df_stocks)"
   ]
  },
  {
   "cell_type": "code",
   "execution_count": 56,
   "id": "aea19cb8",
   "metadata": {},
   "outputs": [
    {
     "data": {
      "image/png": "[encoded data removed]",
      "text/plain": [
       "<Figure size 640x480 with 1 Axes>"
      ]
     },
     "metadata": {},
     "output_type": "display_data"
    }
   ],
   "source": [
    "# [Jing] Plot the returns\n",
    "x = returns[:,0]\n",
    "y = returns[:,1]\n",
    "x1, y1 = [-1, 5.5], [-1, 5.5]\n",
    "plt.plot(x1, y1, c = \"r\", alpha= .3)\n",
    "plt.title(r\"Returns of stocks $X$ and $Y$, points below the red line are the cases where $X$ has a larger return\") \n",
    "plt.xlabel(r\"$X$\") \n",
    "plt.ylabel(r\"$Y$\") \n",
    "plt.scatter(x,y,s=2) \n",
    "plt.show()"
   ]
  },
  {
   "cell_type": "code",
   "execution_count": 57,
   "id": "4df6efc7",
   "metadata": {},
   "outputs": [
    {
     "name": "stdout",
     "output_type": "stream",
     "text": [
      "Mean of stock x is: 2.9725958948510627; Mean of stock y is: 2.989355467030259\n"
     ]
    }
   ],
   "source": [
    "#Estimate mean returns\n",
    "#hat_mean = ...\n",
    "hat_mean = np.mean(returns,axis=0)\n",
    "print(f'Mean of stock x is: {hat_mean[0]}; Mean of stock y is: {hat_mean[1]}')"
   ]
  },
  {
   "cell_type": "code",
   "execution_count": 59,
   "id": "395d0ed2",
   "metadata": {},
   "outputs": [
    {
     "name": "stdout",
     "output_type": "stream",
     "text": [
      "hat_cov = [[1.29126685 0.46509466]\n",
      " [0.46509466 1.10756609]]; hat_varx = 1.291266848642483,hat_vary= 1.1075660892225494 ;hat_covar= 0.4650946600840741 \n"
     ]
    }
   ],
   "source": [
    "#estimate covariance matrix\n",
    "hat_cov =np.zeros((2,2))\n",
    "\n",
    "for i in range(n):\n",
    "    hat_cov = hat_cov + (returns[i]-hat_mean).reshape((2,1))*(returns[i]-hat_mean).reshape((1,2))\n",
    "\n",
    "hat_cov = hat_cov/(n-1)\n",
    "hat_varx = hat_cov[0,0]\n",
    "hat_vary = hat_cov[1,1]\n",
    "hat_covar = hat_cov[0,1] \n",
    "print(f'hat_cov = {hat_cov}; hat_varx = {hat_varx},hat_vary= {hat_vary} ;hat_covar= {hat_covar} ')"
   ]
  },
  {
   "cell_type": "code",
   "execution_count": 60,
   "id": "c1409756",
   "metadata": {},
   "outputs": [
    {
     "data": {
      "text/plain": [
       "0.437"
      ]
     },
     "execution_count": 60,
     "metadata": {},
     "output_type": "execute_result"
    }
   ],
   "source": [
    "#estimate optimal investment\n",
    "def optimal_alpha(varx, vary, covar):\n",
    "    return (float) (vary - covar)/(varx + vary - 2*covar)\n",
    "\n",
    "optimal_investment = optimal_alpha(hat_varx, hat_vary, hat_covar)\n",
    "round(optimal_investment,3)"
   ]
  },
  {
   "cell_type": "code",
   "execution_count": 36,
   "id": "392817ab",
   "metadata": {},
   "outputs": [],
   "source": [
    "\n",
    "def hat_alpha(sample_returns): #estimate the optimal investment strategy\n",
    "    hat_mean = np.mean(sample_returns,0)\n",
    "    hat_cov = np.zeros((2,2))\n",
    "    n = np.size(sample_returns,0)\n",
    "    for i in range(n):\n",
    "        hat_cov = hat_cov + (sample_returns[i]-hat_mean).reshape((2,1))*(sample_returns[i]-hat_mean).reshape((1,2))\n",
    "    hat_cov = hat_cov/(n-1)\n",
    "    hat_varx = hat_cov[0,0]\n",
    "    hat_vary = hat_cov[1,1]\n",
    "    hat_covar = hat_cov[0,1]\n",
    "    return round(optimal_alpha(hat_varx, hat_vary, hat_covar),3)"
   ]
  },
  {
   "cell_type": "code",
   "execution_count": 39,
   "id": "63fdb665",
   "metadata": {},
   "outputs": [
    {
     "name": "stdout",
     "output_type": "stream",
     "text": [
      "The optimal solution is when alpha =  0.437\n"
     ]
    }
   ],
   "source": [
    "#estimate optimal investment calculation 1\n",
    "optimal_investment = hat_alpha(returns)\n",
    "print(\"The optimal solution is when alpha = \", round(float(optimal_investment),3))"
   ]
  },
  {
   "cell_type": "code",
   "execution_count": 64,
   "id": "1f2ffa41",
   "metadata": {},
   "outputs": [],
   "source": [
    "#use bootstrapping for std. error associated with this technique of finding the optimal investment\n",
    "simulation = 500#number of simulations\n",
    "B = simulation\n",
    "samples = n #n, sample n each time\n",
    "estimations = np.zeros(simulation) #save estimated alphas\n",
    "for sim in range(simulation): #simulate this many times\n",
    "    generated_sample = returns[np.random.randint(returns.shape[0],size=samples),:]\n",
    "    estimations[sim] =  hat_alpha(generated_sample)\n",
    "#    generated_sample = df_stocks.sample(samples,replace=True,axis=0) #sample with replacements via dataFrame\n",
    "#   estimations[sim] = hat_alpha(generated_sample.to_numpy()) #write the optimized alpha on the sample via dataFrame\n",
    "# why the result will be different if using dataframe.\n"
   ]
  },
  {
   "cell_type": "code",
   "execution_count": 65,
   "id": "6b3bf3d1",
   "metadata": {},
   "outputs": [
    {
     "name": "stdout",
     "output_type": "stream",
     "text": [
      "mean 0.436 min 0.258 max 0.588\n"
     ]
    }
   ],
   "source": [
    "bar_alpha = np.mean(estimations)\n",
    "print(\"mean\", round(bar_alpha,3),\"min\",np.min(estimations), \"max\", np.max(estimations))"
   ]
  },
  {
   "cell_type": "code",
   "execution_count": 66,
   "id": "e75902a6",
   "metadata": {},
   "outputs": [
    {
     "data": {
      "text/plain": [
       "0.052"
      ]
     },
     "execution_count": 66,
     "metadata": {},
     "output_type": "execute_result"
    }
   ],
   "source": [
    "#compute the standard deviation of thest estimates\n",
    "bootstrap_error = np.sqrt( np.sum(np.square(estimations - bar_alpha)) /(B-1))\n",
    "round(bootstrap_error,3)\n"
   ]
  },
  {
   "cell_type": "code",
   "execution_count": null,
   "id": "4aefb65e",
   "metadata": {},
   "outputs": [],
   "source": []
  },
  {
   "cell_type": "markdown",
   "id": "e8e20d3e",
   "metadata": {},
   "source": [
    "Report `optimal_investment` and `bootrap_error`"
   ]
  }
 ],
 "metadata": {
  "kernelspec": {
   "display_name": "Python 3 (ipykernel)",
   "language": "python",
   "name": "python3"
  },
  "language_info": {
   "codemirror_mode": {
    "name": "ipython",
    "version": 3
   },
   "file_extension": ".py",
   "mimetype": "text/x-python",
   "name": "python",
   "nbconvert_exporter": "python",
   "pygments_lexer": "ipython3",
   "version": "3.10.9"
  }
 },
 "nbformat": 4,
 "nbformat_minor": 5
}
