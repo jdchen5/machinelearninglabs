{
 "cells": [
  {
   "cell_type": "code",
   "execution_count": 13,
   "id": "086a1d0b",
   "metadata": {},
   "outputs": [],
   "source": [
    "import numpy as np\n",
    "import pandas as pd\n",
    "import random\n",
    "import matplotlib.pyplot as plt"
   ]
  },
  {
   "cell_type": "markdown",
   "id": "5d721d31",
   "metadata": {},
   "source": [
    "## Bootstrapping exercise\n",
    "- There are two correlated stocks, $X$ and $Y$, which are normally distributed\n",
    "- You will invest in both stocks with all your money\n",
    "- Your goal is to find $\\alpha \\in [0,1]$ (the portion of your money invested in stock $X$) to minimize the variance of the portfolio, i.e.,\n",
    " $$ \\mathbb{V}\\mathrm{AR}[\\alpha X + (1-\\alpha)Y] $$\n",
    "- You are given \"returns.npy\", a 2-D numpy array of the past $200$ returns of $(X,Y)$.\n",
    "\n",
    "Exercise questions: \n",
    "1. Estimate $\\mu_X, \\mu_Y, \\sigma_{X}^2, \\sigma_{Y}^2, \\sigma_{XY}$ from the sample, and then compute the optimal investment strategy $\\alpha$\n",
    "2. Since we estimated the parameters by looking at a sample, we may be severly biased. Hence, use bootstrapping to iteratively sample $200$ points (with replacement) from the previous returns, and estimate the optimal investment strategy each time. Apply this $B = 500$ times and compute the standard error of the optimal $\\alpha$ that we computed on the original set of previous returns."
   ]
  },
  {
   "cell_type": "code",
   "execution_count": 14,
   "id": "4d9807ea",
   "metadata": {},
   "outputs": [],
   "source": [
    "returns = np.load(\"returns.npy\")\n",
    "n = 200"
   ]
  },
  {
   "cell_type": "code",
   "execution_count": 15,
   "id": "2517771e",
   "metadata": {},
   "outputs": [
    {
     "name": "stdout",
     "output_type": "stream",
     "text": [
      "[2.97259589 2.98935547]\n"
     ]
    }
   ],
   "source": [
    "#Estimate mean returns\n",
    "hat_mean = np.mean(returns,0)\n",
    "print(hat_mean)"
   ]
  },
  {
   "cell_type": "code",
   "execution_count": 16,
   "id": "46306d48",
   "metadata": {},
   "outputs": [
    {
     "name": "stdout",
     "output_type": "stream",
     "text": [
      "hat_cov = [[1.29126685 0.46509466]\n",
      " [0.46509466 1.10756609]]; hat_varx = 1.291266848642483; hat_vary = 1.1075660892225494;hat_covar= 0.4650946600840741 \n"
     ]
    }
   ],
   "source": [
    "#Estimate covariance matrix\n",
    "hat_cov = np.zeros((2,2))\n",
    "for i in range(n):\n",
    "    hat_cov = hat_cov + (returns[i]-hat_mean).reshape((2,1))*(returns[i]-hat_mean).reshape((1,2))\n",
    "hat_cov = hat_cov/(n-1)\n",
    "hat_varx = hat_cov[0,0]\n",
    "hat_vary = hat_cov[1,1]\n",
    "hat_covar = hat_cov[0,1]\n",
    "print(f'hat_cov = {hat_cov}; hat_varx = {hat_varx}; hat_vary = {hat_vary};hat_covar= {hat_covar } ')"
   ]
  },
  {
   "cell_type": "code",
   "execution_count": 17,
   "id": "54e4ed0b",
   "metadata": {},
   "outputs": [
    {
     "data": {
      "text/plain": [
       "0.437"
      ]
     },
     "execution_count": 17,
     "metadata": {},
     "output_type": "execute_result"
    }
   ],
   "source": [
    "#estimate optimal investment\n",
    "def optimal_alpha(varx, vary, covar):\n",
    "    return (float) (vary - covar)/(varx + vary - 2*covar)\n",
    "optimal_investment = optimal_alpha(hat_varx, hat_vary, hat_covar)\n",
    "round(optimal_investment,3)"
   ]
  },
  {
   "cell_type": "code",
   "execution_count": 18,
   "id": "24551af9",
   "metadata": {},
   "outputs": [],
   "source": [
    "def hat_alpha(sample_returns): #make the above process a function\n",
    "    hat_mean = np.mean(sample_returns,0)\n",
    "    hat_cov = np.zeros((2,2))\n",
    "    n = np.size(sample_returns,0)\n",
    "    for i in range(n):\n",
    "        hat_cov = hat_cov + (sample_returns[i]-hat_mean).reshape((2,1))*(sample_returns[i]-hat_mean).reshape((1,2))\n",
    "    hat_cov = hat_cov/(n-1)\n",
    "    hat_varx = hat_cov[0,0]\n",
    "    hat_vary = hat_cov[1,1]\n",
    "    hat_covar = hat_cov[0,1]\n",
    "    return optimal_alpha(hat_varx, hat_vary, hat_covar)"
   ]
  },
  {
   "cell_type": "code",
   "execution_count": 19,
   "id": "2008e594",
   "metadata": {},
   "outputs": [
    {
     "name": "stdout",
     "output_type": "stream",
     "text": [
      "mean 0.436 min 0.2803160703642013 max 0.5704967499471215\n"
     ]
    }
   ],
   "source": [
    "simulation = 500#number of simulations\n",
    "B = simulation\n",
    "samples = n #same\n",
    "estimations = np.zeros(simulation)#same as before \n",
    "for sim in range(simulation): #simulate this many times\n",
    "    generated_sample = returns[np.random.randint(returns.shape[0], size=samples), :]\n",
    "    estimations[sim] = hat_alpha(generated_sample)\n",
    "print(\"mean\", round(np.mean(estimations),3),\"min\",np.min(estimations), \"max\", np.max(estimations))"
   ]
  },
  {
   "cell_type": "code",
   "execution_count": 21,
   "id": "f8b32eb4",
   "metadata": {},
   "outputs": [
    {
     "data": {
      "text/plain": [
       "0.055"
      ]
     },
     "execution_count": 21,
     "metadata": {},
     "output_type": "execute_result"
    }
   ],
   "source": [
    "#compute standard error\n",
    "bootstrap_error = np.sqrt( np.sum(np.square(estimations - np.mean(estimations))) /(B-1))\n",
    "np.round(bootstrap_error,3)"
   ]
  },
  {
   "cell_type": "code",
   "execution_count": 91,
   "id": "9a9c5420",
   "metadata": {},
   "outputs": [
    {
     "data": {
      "text/plain": [
       "0.437"
      ]
     },
     "execution_count": 91,
     "metadata": {},
     "output_type": "execute_result"
    }
   ],
   "source": [
    "# so the optimal investment is\n",
    "round(optimal_investment,3)"
   ]
  },
  {
   "cell_type": "code",
   "execution_count": 92,
   "id": "cb3487e0",
   "metadata": {},
   "outputs": [
    {
     "data": {
      "text/plain": [
       "0.056"
      ]
     },
     "execution_count": 92,
     "metadata": {},
     "output_type": "execute_result"
    }
   ],
   "source": [
    "# and the associated bootstrap error\n",
    "round(bootstrap_error,3)"
   ]
  }
 ],
 "metadata": {
  "kernelspec": {
   "display_name": "Python 3 (ipykernel)",
   "language": "python",
   "name": "python3"
  },
  "language_info": {
   "codemirror_mode": {
    "name": "ipython",
    "version": 3
   },
   "file_extension": ".py",
   "mimetype": "text/x-python",
   "name": "python",
   "nbconvert_exporter": "python",
   "pygments_lexer": "ipython3",
   "version": "3.10.9"
  }
 },
 "nbformat": 4,
 "nbformat_minor": 5
}
