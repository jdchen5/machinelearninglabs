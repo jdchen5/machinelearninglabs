{
 "cells": [
  {
   "cell_type": "code",
   "execution_count": 1,
   "id": "8dbbbb85",
   "metadata": {},
   "outputs": [
    {
     "name": "stderr",
     "output_type": "stream",
     "text": [
      "C:\\Users\\jdche\\AppData\\Local\\Temp\\ipykernel_29480\\1458412634.py:3: DeprecationWarning: Please use `uniform_filter1d` from the `scipy.ndimage` namespace, the `scipy.ndimage.filters` namespace is deprecated.\n",
      "  from scipy.ndimage.filters import uniform_filter1d\n"
     ]
    }
   ],
   "source": [
    "import numpy as np\n",
    "from scipy.stats import bernoulli\n",
    "from scipy.ndimage.filters import uniform_filter1d\n",
    "from scipy.stats import binom\n",
    "import random\n",
    "import math\n",
    "from matplotlib import pyplot as plt\n",
    "plt.rcParams[\"figure.figsize\"] = plt.rcParamsDefault[\"figure.figsize\"]\n"
   ]
  },
  {
   "cell_type": "markdown",
   "id": "1abe2d20",
   "metadata": {},
   "source": [
    "## Maximum Likelihood Estimation\n",
    "### The case of coin-flips\n",
    "**Q1:** If we have a loaded coin, which shows 'H' with probability $\\theta = 0.6$, then how can we simulate $100$ flips of this coin?"
   ]
  },
  {
   "cell_type": "markdown",
   "id": "d7258318",
   "metadata": {},
   "source": [
    "A1.1: Let's start with the most simple case, where we manually apply $100$ iterations and flip the coin & save the outcome each time."
   ]
  },
  {
   "cell_type": "code",
   "execution_count": 103,
   "id": "b5485ab9",
   "metadata": {},
   "outputs": [],
   "source": [
    "np.random.seed(15) #a fixed random seed so that everyone gets the same results\n",
    "a = np.zeros(100) #a lot of zeros\n",
    "for i in range(100):\n",
    "    flip = np.random.uniform(0,1) #sample a probability uniformly from (0,1)\n",
    "    if flip <= 0.6: #if the sampled value is less than 0.6, then head comes, which happens 60% of the time\n",
    "        a[i] = 1    #we see \"H\"!!"
   ]
  },
  {
   "cell_type": "code",
   "execution_count": 104,
   "id": "900e68f2",
   "metadata": {},
   "outputs": [
    {
     "name": "stdout",
     "output_type": "stream",
     "text": [
      "The fraction of Heads we see is 0.69\n"
     ]
    }
   ],
   "source": [
    "#Now let's see some basic statistics from our sequence\n",
    "print(\"The fraction of Heads we see is\", np.mean(a))"
   ]
  },
  {
   "cell_type": "markdown",
   "id": "3e7d379f",
   "metadata": {},
   "source": [
    "Isn't it interesting that normally $\\theta = 0.6$, but when we estimate it from the sample, it is $\\hat{\\theta} = 0.69$? We will investigate this soon!"
   ]
  },
  {
   "cell_type": "markdown",
   "id": "a5ee53ad",
   "metadata": {},
   "source": [
    "A1.2: We can actually simplify the above code"
   ]
  },
  {
   "cell_type": "code",
   "execution_count": 105,
   "id": "771e2584",
   "metadata": {},
   "outputs": [],
   "source": [
    "np.random.seed(15) #a fixed random seed so that everyone gets the same results\n",
    "a = np.zeros(100) #a lot of zeros\n",
    "for i in range(100):\n",
    "    a[i] = bernoulli.rvs(0.6) #this will generate a value of \"1\" with probability 0.6, and \"0\" otherwise"
   ]
  },
  {
   "cell_type": "code",
   "execution_count": 107,
   "id": "dedaf990",
   "metadata": {},
   "outputs": [
    {
     "name": "stdout",
     "output_type": "stream",
     "text": [
      "The fraction of Heads we see is 0.69\n"
     ]
    }
   ],
   "source": [
    "print(\"The fraction of Heads we see is\", np.mean(a))"
   ]
  },
  {
   "cell_type": "markdown",
   "id": "77e6ac70",
   "metadata": {},
   "source": [
    "A1.3: We can actually do it in a single line! Almost all the statistical functions in Python scale with a parameter."
   ]
  },
  {
   "cell_type": "code",
   "execution_count": 119,
   "id": "eb0011ea",
   "metadata": {},
   "outputs": [],
   "source": [
    "np.random.seed(15) #a fixed random seed so that everyone gets the same results\n",
    "a = bernoulli.rvs(0.6, size = 100) #generate 100 flips where each flip comes \"H\" with 0.6 probazbility, and \"0\" o.w."
   ]
  },
  {
   "cell_type": "code",
   "execution_count": 120,
   "id": "76abdaa9",
   "metadata": {},
   "outputs": [
    {
     "name": "stdout",
     "output_type": "stream",
     "text": [
      "The fraction of Heads we see is 0.69\n"
     ]
    }
   ],
   "source": [
    "print(\"The fraction of Heads we see is\", np.mean(a))"
   ]
  },
  {
   "cell_type": "markdown",
   "id": "f546b9f0",
   "metadata": {},
   "source": [
    "**Q2:** How do we explain the fact that the fraction Heads is $\\hat{\\theta} = 0.69$ while $\\theta = 0.6$?"
   ]
  },
  {
   "cell_type": "markdown",
   "id": "d1a41b01",
   "metadata": {},
   "source": [
    "A.0: There is always a non-zero probability that $\\hat{\\theta}$ is away from $\\theta$ by an amount of, e.g., $\\pm 0.02$. However, if we keep flipping more and more coins, this probability will get very close to $0$, and if we flip millions of coins, seeing $|\\hat{\\theta} - \\theta | > 0.02$ will be more unlikely than being hit by a lightning!"
   ]
  },
  {
   "cell_type": "markdown",
   "id": "2ae092ba",
   "metadata": {},
   "source": [
    "A.1: Let's first analyze this is indeed correct:"
   ]
  },
  {
   "cell_type": "code",
   "execution_count": 131,
   "id": "c67a3df6",
   "metadata": {},
   "outputs": [
    {
     "name": "stdout",
     "output_type": "stream",
     "text": [
      "The fraction of Heads we see is 0.5997\n"
     ]
    }
   ],
   "source": [
    "np.random.seed(15) #a fixed random seed so that everyone gets the same results\n",
    "a = bernoulli.rvs(0.6, size = pow(10,6)) \n",
    "print(\"The fraction of Heads we see is\", round(np.mean(a),4))"
   ]
  },
  {
   "cell_type": "markdown",
   "id": "09c49eae",
   "metadata": {},
   "source": [
    "A.2: Let us denote $\\hat{\\theta}(n)$ as our estimation for $\\theta$ when we see the outcomes of $n$ coin tosses. Plotting $\\hat{\\theta}(n)$ over $n = 1,\\ldots, 10^3$ will give us how the ratio converges to $\\theta$. We are empirically observing the law of large numbers."
   ]
  },
  {
   "cell_type": "code",
   "execution_count": null,
   "id": "f0444362",
   "metadata": {},
   "outputs": [],
   "source": [
    "ratios = np.cumsum(a) / (np.arange(1,pow(10,6)+ 1)) #running ratios. ratios[10] would give us hat_theta(9)"
   ]
  },
  {
   "cell_type": "code",
   "execution_count": 236,
   "id": "214c9adc",
   "metadata": {},
   "outputs": [
    {
     "data": {
      "image/png": "[encoded data removed]",
      "text/plain": [
       "<Figure size 460.8x345.6 with 1 Axes>"
      ]
     },
     "metadata": {
      "needs_background": "light"
     },
     "output_type": "display_data"
    }
   ],
   "source": [
    "plot_limit = 3000 #plot how the ratio changes oby increasing $n$\n",
    "x = np.arange(1, plot_limit + 1) \n",
    "y = ratios[:plot_limit]\n",
    "plt.title(r\"$\\hat{\\theta}(n)$ as a function of $n=1,\\ldots$\") \n",
    "plt.xlabel(\"n = number of coin tosses\") \n",
    "plt.ylabel(r\"$\\hat{\\theta}(n)$\") \n",
    "plt.axhline(y = 0.6, color = 'k', linestyle='--', alpha = 0.6, label = r\"true value of $\\theta$\")\n",
    "plt.plot(x,y) \n",
    "plt.xlim(-5,plot_limit)\n",
    "plt.ylim(0.4,0.8)\n",
    "plt.legend()\n",
    "plt.show()"
   ]
  },
  {
   "cell_type": "markdown",
   "id": "d5d81c71",
   "metadata": {},
   "source": [
    "**Q3:** If we iterate the same experiment (of tossing a loaded coing $100$ times) again and again, say $2,000$ times, do we expect more-or-less a $0.69$ fraction of Heads each time? "
   ]
  },
  {
   "cell_type": "markdown",
   "id": "e2183e76",
   "metadata": {},
   "source": [
    "A: No! That was only the first experiment. The second one can give less than $0.6$ fraction. Let's see now."
   ]
  },
  {
   "cell_type": "code",
   "execution_count": 270,
   "id": "989fe1f7",
   "metadata": {},
   "outputs": [
    {
     "name": "stdout",
     "output_type": "stream",
     "text": [
      "Experiment # 1 : hat_theta = 0.69\n",
      "Experiment # 2 : hat_theta = 0.58\n",
      "Experiment # 3 : hat_theta = 0.56\n",
      "Experiment # 4 : hat_theta = 0.56\n",
      "Experiment # 5 : hat_theta = 0.62\n",
      "When we average all of these until 2,000-th experiment, we will get ~0.6!\n"
     ]
    }
   ],
   "source": [
    "np.random.seed(15) #a fixed random seed so that everyone gets the same results\n",
    "for i in range(5):\n",
    "    a = bernoulli.rvs(0.6, size = 100)\n",
    "    print(\"Experiment #\", i+1, \": hat_theta =\", np.mean(a))\n",
    "print(\"When we average all of these until 2,000-th experiment, we will get ~0.6!\")"
   ]
  },
  {
   "cell_type": "markdown",
   "id": "85921cbc",
   "metadata": {},
   "source": [
    "**Q4:** In the previous answer, do we really need to sample from a Bernuolli distribution each time? Or is there a simpler way?"
   ]
  },
  {
   "cell_type": "markdown",
   "id": "67582464",
   "metadata": {},
   "source": [
    "A: There is indeed a simpler way. Recall that the number of \"H\" outcomes in \"$n$\" tosses of a coin is actually a Binomial distribution! So here it is:"
   ]
  },
  {
   "cell_type": "code",
   "execution_count": 292,
   "id": "f9ee0cb5",
   "metadata": {},
   "outputs": [
    {
     "name": "stdout",
     "output_type": "stream",
     "text": [
      "I am easily simulating an example of 100 coin tosses and the number of 'H' is: 61\n"
     ]
    }
   ],
   "source": [
    "print(\"I am easily simulating an example of 100 coin tosses and the number of 'H' is:\",  binom.rvs(100, 0.6))"
   ]
  },
  {
   "cell_type": "code",
   "execution_count": 296,
   "id": "33b5156b",
   "metadata": {},
   "outputs": [
    {
     "name": "stdout",
     "output_type": "stream",
     "text": [
      "I am doing the same, but this time repeating my experiment three times and here are the results [67 62 55]\n"
     ]
    }
   ],
   "source": [
    "print(\"I am doing the same, but this time repeating my experiment three times and here are the results\",  binom.rvs(100, 0.6, size = 3))"
   ]
  },
  {
   "cell_type": "markdown",
   "id": "55644cfb",
   "metadata": {},
   "source": [
    "### Let's play a game!"
   ]
  },
  {
   "cell_type": "code",
   "execution_count": 385,
   "id": "be16c9de",
   "metadata": {},
   "outputs": [],
   "source": [
    "np.random.seed(85) #a fixed random seed so that everyone gets the same results\n",
    "magic_number = np.random.uniform(0,1) #do not print this number\n",
    "sequence = bernoulli.rvs(magic_number, size = 200)"
   ]
  },
  {
   "cell_type": "markdown",
   "id": "9e8bfcf9",
   "metadata": {},
   "source": [
    "**Q5:** An adversary gives you a sequence of coin tosses ```sequence```. He tells you that he obtained this number by flipping his 'possibly loaded' coin $200$ times. Assume he did not change the coin during the flipping process, and there is indeed one coin. He tells you that there is a ```magic_number``` which is the true value of $\\theta$, but you cannot look at this number. He asks you \"I will toss the coin $1,000$ times. Each time \"H\" comes, you will win \\\\$ 60, but each time \"T\" comes, you will lose \\\\$ 120. Would you take it?\""
   ]
  },
  {
   "cell_type": "markdown",
   "id": "84d436a0",
   "metadata": {},
   "source": [
    "A: Hmm... You will lose $120$ but only make $60$... Why should you even take it? But wait. How many \"H\"'s came last time?"
   ]
  },
  {
   "cell_type": "code",
   "execution_count": 393,
   "id": "bdcb46a1",
   "metadata": {},
   "outputs": [
    {
     "name": "stdout",
     "output_type": "stream",
     "text": [
      "There were 138 many H's in the given sequence.\n"
     ]
    }
   ],
   "source": [
    "print(\"There were\", np.sum(sequence),\"many H's in the given sequence.\")"
   ]
  },
  {
   "cell_type": "markdown",
   "id": "8eebd126",
   "metadata": {},
   "source": [
    "Then, you remember that in the class you learned the MLE estimate of the true $\\theta$ (i.e., the probability of Heads will come) is actually proportional to the number of H's you see in this sequence. In other words:"
   ]
  },
  {
   "cell_type": "code",
   "execution_count": 395,
   "id": "19ed6a3b",
   "metadata": {},
   "outputs": [
    {
     "name": "stdout",
     "output_type": "stream",
     "text": [
      "The MAXIMUM LIKELIHOOD, i.e., the best-estimation of the true theta is 0.69\n"
     ]
    }
   ],
   "source": [
    "hat_theta = np.mean(sequence)\n",
    "print(\"The MAXIMUM LIKELIHOOD, i.e., the best-estimation of the true theta is\", hat_theta)"
   ]
  },
  {
   "cell_type": "markdown",
   "id": "3e9889b9",
   "metadata": {},
   "source": [
    "Then, now that you estimated ```hat_theta``` you simulate what will happen by writing a code:"
   ]
  },
  {
   "cell_type": "code",
   "execution_count": 457,
   "id": "f0d159b3",
   "metadata": {},
   "outputs": [
    {
     "name": "stdout",
     "output_type": "stream",
     "text": [
      "Hmm, you will make $ 3120 ! Nice.\n"
     ]
    }
   ],
   "source": [
    "np.random.seed(85)\n",
    "flips = bernoulli.rvs(hat_theta, size = 1000) #flipping a coin\n",
    "total_money = np.sum(flips*60 - (1-flips)*120) #try to understand why this step is correct\n",
    "print(\"Hmm, you will make $\", total_money, \"! Nice.\")"
   ]
  },
  {
   "cell_type": "markdown",
   "id": "957c2a0e",
   "metadata": {},
   "source": [
    "\n",
    "You just simulated and saw that if you take this game, then you will make profit. But then, you are not really sure if this is accurate, and simulate this experiment many times. You will then take the average!"
   ]
  },
  {
   "cell_type": "code",
   "execution_count": 458,
   "id": "edfce18f",
   "metadata": {},
   "outputs": [
    {
     "name": "stdout",
     "output_type": "stream",
     "text": [
      "Even in multiple simulations, in average you make $ 4203.942 ! Nice.\n"
     ]
    }
   ],
   "source": [
    "number_of_simulations = 10000 #you simulate this much\n",
    "simulations = np.zeros(number_of_simulations)\n",
    "for sim in range(number_of_simulations):\n",
    "    flips = bernoulli.rvs(hat_theta, size = 1000) #flipping a coin\n",
    "    simulations[sim] = np.sum(flips*60 - (1-flips)*120) \n",
    "print(\"Even in multiple simulations, in average you make $\", np.mean(simulations), \"! Nice.\")"
   ]
  },
  {
   "cell_type": "markdown",
   "id": "9a63f2fe",
   "metadata": {},
   "source": [
    "Did we overkill by simulating? We know that when we play this game one round, our expected profit is:\n",
    "$$\\begin{align}\n",
    "\\mathbb{E}[\\text{profit}] &=  \\mathbb{E}[\\text{profit} | H]\\cdot\\theta + \\mathbb{E}[\\text{profit} | T]\\cdot(1 - \\theta)  \\\\\n",
    "& = 60 \\theta - 120 (1 - \\theta).\n",
    "\\end{align}$$\n",
    "But we don't know $\\theta$ so our estimation is:\n",
    "$$\\begin{align}\n",
    "\\mathbb{E}[\\text{estimated profit}] &= 60 \\hat{\\theta} - 120 (1 - \\hat{\\theta}) \\\\\n",
    "& = 60 \\cdot 0.69 - 120 \\cdot 0.31 \n",
    "& = 4.2\n",
    "\\end{align}$$\n",
    "Hence, when we play this game for $1,000$ times, we will make an expected $\\$4,200$! So our previous simulation was close to this number, but we did not need to simulate!\n",
    "\n",
    "We agree to play this game, and the game starts."
   ]
  },
  {
   "cell_type": "code",
   "execution_count": 467,
   "id": "0e6b03d3",
   "metadata": {},
   "outputs": [
    {
     "data": {
      "text/plain": [
       "780"
      ]
     },
     "execution_count": 467,
     "metadata": {},
     "output_type": "execute_result"
    }
   ],
   "source": [
    "np.random.seed(15)\n",
    "flips = bernoulli.rvs(magic_number, size = 100) #flipping a coin\n",
    "np.sum(flips*60 - (1-flips)*120) "
   ]
  },
  {
   "cell_type": "markdown",
   "id": "83b00f8d",
   "metadata": {},
   "source": [
    "We started making money in the first $100$ rounds! Let's wait until the game is finished."
   ]
  },
  {
   "cell_type": "code",
   "execution_count": 470,
   "id": "3b8910cf",
   "metadata": {},
   "outputs": [],
   "source": [
    "np.random.seed(15)\n",
    "flips = bernoulli.rvs(magic_number, size = 1000) #flipping a coin\n",
    "profit = np.sum(flips*60 - (1-flips)*120) "
   ]
  },
  {
   "cell_type": "code",
   "execution_count": 472,
   "id": "6729e21d",
   "metadata": {},
   "outputs": [
    {
     "name": "stdout",
     "output_type": "stream",
     "text": [
      "Overall, our profit is $ -5880\n",
      "This shows we actually lost money.\n"
     ]
    }
   ],
   "source": [
    "print(\"Overall, our profit is $\", profit)\n",
    "print(\"This shows we actually lost money.\")"
   ]
  },
  {
   "cell_type": "markdown",
   "id": "d9fb0383",
   "metadata": {},
   "source": [
    "The adversary reveals the true value of $\\theta$:"
   ]
  },
  {
   "cell_type": "code",
   "execution_count": 475,
   "id": "31e1fe12",
   "metadata": {},
   "outputs": [
    {
     "name": "stdout",
     "output_type": "stream",
     "text": [
      "The true value of theta, which we estimated as 0.69 is: 0.62\n"
     ]
    }
   ],
   "source": [
    "print(\"The true value of theta, which we estimated as\", hat_theta, \"is:\", round(magic_number,2))"
   ]
  },
  {
   "cell_type": "markdown",
   "id": "68b5ec43",
   "metadata": {},
   "source": [
    "We see that the reason why we lost money is actually because the sequence that was given to us was actually not very representative of the truth. So a couple of questions:\n",
    "1. What if the adversary gave you a sequence of $1,000,000$ coin tosses? Would you be more/less confident about playing this game?  \n",
    "2. How would you explain this game when the given sequence has only $1$ coin toss? \n",
    "3. Please explain why MLE is favorable even in the studied case above?"
   ]
  }
 ],
 "metadata": {
  "kernelspec": {
   "display_name": "Python 3 (ipykernel)",
   "language": "python",
   "name": "python3"
  },
  "language_info": {
   "codemirror_mode": {
    "name": "ipython",
    "version": 3
   },
   "file_extension": ".py",
   "mimetype": "text/x-python",
   "name": "python",
   "nbconvert_exporter": "python",
   "pygments_lexer": "ipython3",
   "version": "3.10.9"
  }
 },
 "nbformat": 4,
 "nbformat_minor": 5
}
