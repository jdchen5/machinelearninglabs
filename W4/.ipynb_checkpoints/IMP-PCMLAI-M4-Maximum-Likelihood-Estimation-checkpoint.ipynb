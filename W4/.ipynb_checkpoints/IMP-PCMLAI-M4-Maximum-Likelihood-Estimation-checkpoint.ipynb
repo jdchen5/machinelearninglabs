{
 "cells": [
  {
   "cell_type": "code",
   "execution_count": 1,
   "metadata": {},
   "outputs": [],
   "source": [
    "import numpy as np\n",
    "import pandas as pd\n",
    "import matplotlib.pyplot as plt\n",
    "%matplotlib inline"
   ]
  },
  {
   "cell_type": "code",
   "execution_count": 2,
   "metadata": {},
   "outputs": [
    {
     "data": {
      "text/plain": [
       "array([1., 1., 0., 0., 1., 1., 1., 0., 1., 0.])"
      ]
     },
     "execution_count": 2,
     "metadata": {},
     "output_type": "execute_result"
    }
   ],
   "source": [
    "from scipy.stats import pearsonr\n",
    "\n",
    "def simulate_flips(n, p=0.6):\n",
    "    sim = np.zeros(n)\n",
    "    for _ in range(n):\n",
    "        sim[_] = 1 if np.random.rand() < p else 0\n",
    "    return sim\n",
    "        \n",
    "coin_data = simulate_flips(100)\n",
    "coin_data[:10]"
   ]
  },
  {
   "cell_type": "code",
   "execution_count": 3,
   "metadata": {},
   "outputs": [
    {
     "data": {
      "text/plain": [
       "0.65"
      ]
     },
     "execution_count": 3,
     "metadata": {},
     "output_type": "execute_result"
    }
   ],
   "source": [
    "sum(coin_data) / 100"
   ]
  },
  {
   "cell_type": "code",
   "execution_count": 4,
   "metadata": {},
   "outputs": [
    {
     "data": {
      "text/plain": [
       "-65.27384116038482"
      ]
     },
     "execution_count": 4,
     "metadata": {},
     "output_type": "execute_result"
    }
   ],
   "source": [
    "# log(p^H (1-p)^(N - H)) = H log(p) + (N-H) log(1-p)\n",
    "def log_lk(p, data=coin_data):\n",
    "    heads = sum(data)\n",
    "    tails = data.shape[0] - heads\n",
    "    ans = heads*np.log(p) + tails*np.log(1-p) \n",
    "    return ans\n",
    "\n",
    "log_lk(0.6)"
   ]
  },
  {
   "cell_type": "code",
   "execution_count": 5,
   "metadata": {},
   "outputs": [
    {
     "data": {
      "image/png": "[encoded data removed]",
      "text/plain": [
       "<Figure size 432x288 with 1 Axes>"
      ]
     },
     "metadata": {
      "needs_background": "light"
     },
     "output_type": "display_data"
    }
   ],
   "source": [
    "p_range = np.arange(.1, .9, 0.01)\n",
    "\n",
    "def get_log_lk_range(log_lk_func, p_range=p_range, plot=True):\n",
    "    p_range = np.arange(.1, .9, 0.01)\n",
    "    ans = [log_lk_func(p) for p in p_range]\n",
    "    log_lk_argmax = np.argmax(ans)\n",
    "    p_argmax = p_range[log_lk_argmax]\n",
    "    if plot:\n",
    "        fig, ax = plt.subplots()\n",
    "        ax.plot(p_range, ans)\n",
    "        ax.set_title(f'p_argmax = {round(p_argmax, 2)}')\n",
    "        plt.axhline(ans[log_lk_argmax], ls='--', c='r')\n",
    "    return ans, log_lk_argmax\n",
    "\n",
    "log_lk_range, p_argmax = get_log_lk_range(log_lk);"
   ]
  },
  {
   "cell_type": "code",
   "execution_count": 7,
   "metadata": {},
   "outputs": [
    {
     "data": {
      "text/plain": [
       "0.04702897946807686"
      ]
     },
     "execution_count": 7,
     "metadata": {},
     "output_type": "execute_result"
    }
   ],
   "source": [
    "def estimate_accuracy(log_lk_range, p_argmax):\n",
    "    diff1_log_lk = np.diff(log_lk_range) / 0.01\n",
    "    diff2_log_lk = np.diff(diff1_log_lk) / 0.01\n",
    "    return 1/np.sqrt(-diff2_log_lk[p_argmax])\n",
    "\n",
    "estimate_accuracy(log_lk_range, p_argmax)"
   ]
  },
  {
   "cell_type": "code",
   "execution_count": null,
   "metadata": {},
   "outputs": [],
   "source": []
  }
 ],
 "metadata": {
  "kernelspec": {
   "display_name": "Python 3 (ipykernel)",
   "language": "python",
   "name": "python3"
  },
  "language_info": {
   "codemirror_mode": {
    "name": "ipython",
    "version": 3
   },
   "file_extension": ".py",
   "mimetype": "text/x-python",
   "name": "python",
   "nbconvert_exporter": "python",
   "pygments_lexer": "ipython3",
   "version": "3.10.9"
  }
 },
 "nbformat": 4,
 "nbformat_minor": 2
}
