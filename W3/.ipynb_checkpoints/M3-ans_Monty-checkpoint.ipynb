{
 "cells": [
  {
   "cell_type": "code",
   "execution_count": 1,
   "id": "ccc056cf",
   "metadata": {
    "id": "ccc056cf"
   },
   "outputs": [],
   "source": [
    "import numpy as np\n",
    "import random"
   ]
  },
  {
   "cell_type": "markdown",
   "id": "86675c89",
   "metadata": {
    "id": "86675c89"
   },
   "source": [
    "## Modified Monty Hall Game\n",
    "- You are playing a game that is very similar to the Monty Hall game\n",
    "- There are 3 identical doors, one having a car behind, and the other two having goats behind\n",
    "- You pick a door, e.g., the second door\n",
    "- The host throws a fair coin: if it is heads, then the game ends and your door is opened. Otherwise, \n",
    "- The host rolls two fair dice. If the sum of numbers is more than 9, then the game ends similarly. Otherwise, the host opens one of the remaining two doors which has a goat behind.\n",
    "- The host asks you whether you would like to switch your door. You throw a loaded join which shows head 80\\% of the time. If the coin shows head, you switch your door. Otherwise you hold on to your original door.\n",
    "\n",
    "What is the probability of winning this game? Use Monte Carlo simulation and simulate this game at least $100,000$ times and return the probability in the format $0.xyz$"
   ]
  },
  {
   "cell_type": "code",
   "execution_count": 2,
   "id": "de2b030f",
   "metadata": {
    "id": "de2b030f"
   },
   "outputs": [],
   "source": [
    "def reveal_empty_door(doors, winning_door):\n",
    "    \"\"\" \n",
    "    The host knows which door is winning, so opens one of the empty doors!\n",
    "    \"\"\"\n",
    "    sample_from = [] #Host cannot open the door that is the winning door. So the host has 1 or 2 candidate doors.\n",
    "    if doors[0]!= winning_door:\n",
    "        sample_from.append(doors[0])\n",
    "    if doors[1]!= winning_door:\n",
    "        sample_from.append(doors[1])\n",
    "    return random.choice(sample_from)"
   ]
  },
  {
   "cell_type": "code",
   "execution_count": 3,
   "id": "6690e371",
   "metadata": {
    "id": "6690e371"
   },
   "outputs": [],
   "source": [
    "def simulate_with_coins(picked_door):\n",
    "    \"\"\"\n",
    "    Inputs: picked_door (0 1 or 2), decision of switching the door (\"yes\" or \"no\")\n",
    "    Returns: whether or not we win the prize (1: win, 0: lose)\n",
    "    \"\"\"\n",
    "    doors = [0,1,2]\n",
    "    winning_door = random.randrange(3) # it can be 0, 1, or 2! We don't know the truth yet.\n",
    "    doors.remove(picked_door)\n",
    "    flip = np.random.uniform(0,1) #single coin flip first\n",
    "    coinsum = random.randint(1,6) + random.randint(1,6) #sum of two dice\n",
    "    secondflip = np.random.uniform(0,1)\n",
    "    if flip <= 0.5 or coinsum >= 10 or secondflip > 0.8:\n",
    "        return int(picked_door == winning_door) #the game ends immediately\n",
    "    else:\n",
    "        open_door = reveal_empty_door(doors, winning_door)\n",
    "        doors.remove(open_door)\n",
    "        remaining_door = doors[0]\n",
    "        picked_door = remaining_door\n",
    "        return int(picked_door == winning_door)"
   ]
  },
  {
   "cell_type": "code",
   "execution_count": 4,
   "id": "2fe4f998",
   "metadata": {
    "id": "2fe4f998"
   },
   "outputs": [],
   "source": [
    "simulate =(10**5) #number of times to simulate\n",
    "results = np.zeros(simulate) #a lot of zeros\n",
    "for i in range(simulate):\n",
    "    results[i] = simulate_with_coins(1)"
   ]
  },
  {
   "cell_type": "code",
   "execution_count": 5,
   "id": "fc2cd256",
   "metadata": {
    "id": "fc2cd256",
    "outputId": "a6b9d13d-ef30-4946-e8dd-e3a8a99568da"
   },
   "outputs": [
    {
     "data": {
      "text/plain": [
       "0.445"
      ]
     },
     "execution_count": 5,
     "metadata": {},
     "output_type": "execute_result"
    }
   ],
   "source": [
    "round(np.mean(results),3)"
   ]
  },
  {
   "cell_type": "markdown",
   "id": "f62572c5",
   "metadata": {
    "id": "f62572c5"
   },
   "source": [
    "This is again not by accident. The probability of winning can be written as:\n",
    "$$ 0.5 * 1/3 + 0.5 * ( (1/6)*1/3  +  (5/6)*[ (0.8)*2/3 + (0.2)*1/3  ]  ) = 0.4444444\\ldots $$"
   ]
  }
 ],
 "metadata": {
  "colab": {
   "name": "M3-ans_Monty.ipynb",
   "provenance": []
  },
  "kernelspec": {
   "display_name": "Python 3 (ipykernel)",
   "language": "python",
   "name": "python3"
  },
  "language_info": {
   "codemirror_mode": {
    "name": "ipython",
    "version": 3
   },
   "file_extension": ".py",
   "mimetype": "text/x-python",
   "name": "python",
   "nbconvert_exporter": "python",
   "pygments_lexer": "ipython3",
   "version": "3.10.9"
  }
 },
 "nbformat": 4,
 "nbformat_minor": 5
}
