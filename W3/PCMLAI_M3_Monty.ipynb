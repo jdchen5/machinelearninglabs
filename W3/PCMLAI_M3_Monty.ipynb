{
 "cells": [
  {
   "cell_type": "code",
   "execution_count": 1,
   "id": "3cd1829e",
   "metadata": {
    "id": "3cd1829e"
   },
   "outputs": [],
   "source": [
    "import numpy as np\n",
    "import random\n",
    "from random import randrange\n",
    "from matplotlib import pyplot as plt"
   ]
  },
  {
   "cell_type": "markdown",
   "id": "349dffeb",
   "metadata": {
    "id": "349dffeb"
   },
   "source": [
    "## Monty Hall Problem and Monte Carlo Simulation\n",
    "### Let's play some Monty Hall problem with a host!"
   ]
  },
  {
   "cell_type": "markdown",
   "id": "739c01a8",
   "metadata": {
    "id": "739c01a8"
   },
   "source": [
    "#### Step 1: Construct three 'imaginary' doors, one with a car behind. We don't see which one!"
   ]
  },
  {
   "cell_type": "code",
   "execution_count": 2,
   "id": "27f976e5",
   "metadata": {
    "id": "27f976e5",
    "outputId": "7d59e2fb-a8df-48f4-86a3-2b0c50bbd084"
   },
   "outputs": [
    {
     "name": "stdout",
     "output_type": "stream",
     "text": [
      "You picked door 1.\n",
      "The remaining doors are therefore: [0, 2]\n"
     ]
    }
   ],
   "source": [
    "random.seed(23) # Set the random number generator \n",
    "doors = [0,1,2]\n",
    "winning_door = randrange(3) # it can be 0, 1, or 2! We don't know the truth yet.\n",
    "picked_door = 1 # user input, we pick door #1\n",
    "print(\"You picked door\", str(picked_door) + \".\")\n",
    "doors.remove(picked_door)\n",
    "print(\"The remaining doors are therefore:\", doors)"
   ]
  },
  {
   "cell_type": "code",
   "execution_count": 3,
   "id": "c7b12ba1",
   "metadata": {
    "id": "c7b12ba1"
   },
   "outputs": [],
   "source": [
    "def reveal_empty_door(doors, winning_door):\n",
    "    \"\"\" \n",
    "    The host knows which door is winning, so opens one of the empty doors!\n",
    "    \"\"\"\n",
    "    sample_from = [] #Host cannot open the door that is the winning door. So the host has 1 or 2 candidate doors.\n",
    "    if len(doors) != 2:\n",
    "        print(\"There is an issue!\")\n",
    "        return None\n",
    "    else:\n",
    "        if doors[0]!= winning_door:\n",
    "            sample_from.append(doors[0])\n",
    "        if doors[1]!= winning_door:\n",
    "            sample_from.append(doors[1])\n",
    "    return random.choice(sample_from)"
   ]
  },
  {
   "cell_type": "code",
   "execution_count": 4,
   "id": "82ae721a",
   "metadata": {
    "id": "82ae721a",
    "outputId": "2c0ee029-19f8-4660-fc3e-b5659224b32a"
   },
   "outputs": [
    {
     "name": "stdout",
     "output_type": "stream",
     "text": [
      "The host reveals door 0\n"
     ]
    }
   ],
   "source": [
    "open_door = reveal_empty_door(doors, winning_door)\n",
    "print(\"The host reveals door\", open_door)\n",
    "doors.remove(open_door)\n",
    "remaining_door = doors[0]"
   ]
  },
  {
   "cell_type": "code",
   "execution_count": 5,
   "id": "75df1912",
   "metadata": {
    "id": "75df1912",
    "outputId": "881d8c99-e3f1-498c-eb8f-4029180ecaa0"
   },
   "outputs": [
    {
     "name": "stdout",
     "output_type": "stream",
     "text": [
      "You initially picked door 1 but you can switch to door 2\n"
     ]
    }
   ],
   "source": [
    "print(\"You initially picked door\", picked_door, \"but you can switch to door\", remaining_door)"
   ]
  },
  {
   "cell_type": "code",
   "execution_count": 6,
   "id": "cbc659dd",
   "metadata": {
    "id": "cbc659dd",
    "outputId": "606a380e-6295-4489-af1f-91eb03ca2bb3"
   },
   "outputs": [
    {
     "name": "stdout",
     "output_type": "stream",
     "text": [
      "Type 'yes' if you would like to change your door.yes\n",
      "You switched to door 2\n"
     ]
    }
   ],
   "source": [
    "yes_no = input(\"Type 'yes' if you would like to change your door.\")\n",
    "if yes_no == \"yes\":\n",
    "    print(\"You switched to door\", remaining_door)\n",
    "    picked_door = remaining_door\n",
    "else:\n",
    "    print(\"You keep your door\", picked_door)"
   ]
  },
  {
   "cell_type": "code",
   "execution_count": 7,
   "id": "38911454",
   "metadata": {
    "id": "38911454",
    "outputId": "16b7d473-9c2c-41a5-8f3d-bcec1feaa113"
   },
   "outputs": [
    {
     "name": "stdout",
     "output_type": "stream",
     "text": [
      "Let's see if we won: (True means you are the winner!)\n",
      "False\n"
     ]
    }
   ],
   "source": [
    "print(\"Let's see if we won: (True means you are the winner!)\")\n",
    "print(picked_door == winning_door)"
   ]
  },
  {
   "cell_type": "markdown",
   "id": "bda15511",
   "metadata": {
    "id": "bda15511"
   },
   "source": [
    "#### Step 2: Now let's write a function which returns $1$ if we win, otherwise $0$."
   ]
  },
  {
   "cell_type": "code",
   "execution_count": 8,
   "id": "a44ddb0d",
   "metadata": {
    "id": "a44ddb0d"
   },
   "outputs": [],
   "source": [
    "def simulate_round(picked_door, yes_no):\n",
    "    \"\"\"\n",
    "    Inputs: picked_door (0 1 or 2), decision of switching the door (\"yes\" or \"no\")\n",
    "    Returns: whether or not we win the prize (1: win, 0: lose)\n",
    "    \"\"\"\n",
    "    doors = [0,1,2]\n",
    "    winning_door = randrange(3) # it can be 0, 1, or 2! We don't know the truth yet.\n",
    "    doors.remove(picked_door)\n",
    "    open_door = reveal_empty_door(doors, winning_door)\n",
    "    doors.remove(open_door)\n",
    "    remaining_door = doors[0]\n",
    "    if yes_no == \"yes\":\n",
    "        picked_door = remaining_door\n",
    "    return int(picked_door == winning_door)"
   ]
  },
  {
   "cell_type": "markdown",
   "id": "88bb1f85",
   "metadata": {
    "id": "88bb1f85"
   },
   "source": [
    "#### Step 3: Let us simulate our decisions!"
   ]
  },
  {
   "cell_type": "code",
   "execution_count": 9,
   "id": "686ed1a9",
   "metadata": {
    "id": "686ed1a9"
   },
   "outputs": [],
   "source": [
    "picked_door = 1 #fix a door (0,1, or 2)\n",
    "yes_no = \"no\" #let's start with the strategy of keeping our door!\n",
    "simulate = 30000 #number of times to simulate\n",
    "results = np.zeros(simulate) #a lot of zeros\n",
    "for i in range(simulate):\n",
    "    results[i] = simulate_round(picked_door, yes_no)\n",
    "ratios = np.cumsum(results) / (np.arange(1,simulate+ 1)) #running ratios. ratios[10] would give us the percentage of times we won by round 10"
   ]
  },
  {
   "cell_type": "code",
   "execution_count": null,
   "id": "aeba4efe",
   "metadata": {
    "id": "aeba4efe",
    "outputId": "2ee95388-0dc8-4fae-9041-db83bd3b4faa"
   },
   "outputs": [
    {
     "data": {
      "image/png": "[encoded data removed]",
      "text/plain": [
       "<Figure size 432x288 with 1 Axes>"
      ]
     },
     "metadata": {
      "needs_background": "light"
     },
     "output_type": "display_data"
    }
   ],
   "source": [
    "plot_limit = 3000 #plot how the ratio changes oby increasing $n$\n",
    "x = np.arange(1, plot_limit + 1) \n",
    "y = ratios[:plot_limit]\n",
    "plt.title(r\"Win ratio over (n) if we say 'no'\") \n",
    "plt.xlabel(\"n = number of rounds played\") \n",
    "plt.ylabel(r\"Cumulative win percentage\") \n",
    "plt.axhline(y = 1/3, color = 'k', linestyle='--', alpha = 0.6, label = r\"Probability of wining\")\n",
    "plt.plot(x,y) \n",
    "plt.xlim(-5,plot_limit)\n",
    "plt.ylim(0.1,0.6)\n",
    "plt.legend()\n",
    "plt.show()"
   ]
  },
  {
   "cell_type": "code",
   "execution_count": 10,
   "id": "276cca7b",
   "metadata": {
    "id": "276cca7b"
   },
   "outputs": [],
   "source": [
    "picked_door = 1 #fix a door (0,1, or 2)\n",
    "yes_no = \"yes\" #let's start with the strategy of not keeping our door!\n",
    "simulate = 30000 #number of times to simulate\n",
    "results = np.zeros(simulate) #a lot of zeros\n",
    "for i in range(simulate):\n",
    "    results[i] = simulate_round(picked_door, yes_no)\n",
    "ratios = np.cumsum(results) / (np.arange(1,simulate+ 1)) #running ratios. ratios[10] would give us the percentage of times we won by round 10"
   ]
  },
  {
   "cell_type": "code",
   "execution_count": 11,
   "id": "59ecc212",
   "metadata": {
    "id": "59ecc212",
    "outputId": "6d02a8c1-e2de-425a-8c74-cd3ad6719013"
   },
   "outputs": [
    {
     "data": {
      "image/png": "[encoded data removed]",
      "text/plain": [
       "<Figure size 640x480 with 1 Axes>"
      ]
     },
     "metadata": {},
     "output_type": "display_data"
    }
   ],
   "source": [
    "plot_limit = 3000 #plot how the ratio changes oby increasing $n$\n",
    "x = np.arange(1, plot_limit + 1) \n",
    "y = ratios[:plot_limit]\n",
    "plt.title(r\"Win ratio over (n) if we say 'yes'\") \n",
    "plt.xlabel(\"n = number of rounds played\") \n",
    "plt.ylabel(r\"Cumulative win percentage\") \n",
    "plt.axhline(y = 2/3, color = 'k', linestyle='--', alpha = 0.6, label = r\"Probability of winning\")\n",
    "plt.plot(x,y, color='r') \n",
    "plt.xlim(-5,plot_limit)\n",
    "plt.ylim(0.4,0.8)\n",
    "plt.legend()\n",
    "plt.show()"
   ]
  },
  {
   "cell_type": "markdown",
   "id": "1caf8548",
   "metadata": {
    "id": "1caf8548"
   },
   "source": [
    "### Modification of the Game\n",
    "#### Every time the host asks if we want to keep our door, let's throw a loaded coin where probability of \"H\" is $\\theta$. If \"H\" shows up, then we say \"yes\"; otherwise we say \"no\" and keep our door."
   ]
  },
  {
   "cell_type": "markdown",
   "id": "85876bf8",
   "metadata": {
    "id": "85876bf8"
   },
   "source": [
    "Question: Derive the probability of winning with this strategy as a function of $\\theta$. "
   ]
  },
  {
   "cell_type": "markdown",
   "id": "2e3c547d",
   "metadata": {
    "id": "2e3c547d"
   },
   "source": [
    "Answer: Let us simulate for, e.g., $\\theta = 0.6$."
   ]
  },
  {
   "cell_type": "code",
   "execution_count": 12,
   "id": "df290924",
   "metadata": {
    "id": "df290924"
   },
   "outputs": [],
   "source": [
    "def simulate_with_coins(picked_door, theta):\n",
    "    \"\"\"\n",
    "    Inputs: picked_door (0 1 or 2), decision of switching the door (\"yes\" or \"no\")\n",
    "    Returns: whether or not we win the prize (1: win, 0: lose)\n",
    "    \"\"\"\n",
    "    doors = [0,1,2]\n",
    "    winning_door = randrange(3) # it can be 0, 1, or 2! We don't know the truth yet.\n",
    "    doors.remove(picked_door)\n",
    "    open_door = reveal_empty_door(doors, winning_door)\n",
    "    doors.remove(open_door)\n",
    "    remaining_door = doors[0]\n",
    "    flip = np.random.uniform(0,1) \n",
    "    if flip <= theta:\n",
    "        picked_door = remaining_door\n",
    "    return int(picked_door == winning_door)"
   ]
  },
  {
   "cell_type": "code",
   "execution_count": 13,
   "id": "a711587e",
   "metadata": {
    "id": "a711587e",
    "outputId": "4e64a27c-eb3c-4a71-883b-ab686e9938d2"
   },
   "outputs": [
    {
     "name": "stdout",
     "output_type": "stream",
     "text": [
      "We win with a 0.5336 fraction of the time!\n"
     ]
    }
   ],
   "source": [
    "picked_door = 1 #fix a door (0,1, or 2)\n",
    "theta = 0.6\n",
    "simulate = 30000 #number of times to simulate\n",
    "results = np.zeros(simulate) #a lot of zeros\n",
    "for i in range(simulate):\n",
    "    results[i] = simulate_with_coins(picked_door, theta)\n",
    "ratios = np.cumsum(results) / (np.arange(1,simulate+ 1))\n",
    "print(\"We win with a\", ratios[-1], \"fraction of the time!\")"
   ]
  },
  {
   "cell_type": "markdown",
   "id": "e0a2c42a",
   "metadata": {
    "id": "e0a2c42a"
   },
   "source": [
    "This is not surprising! We previously observed that $\\mathbb{P}[\\text{Win} | \\text{\"yes\"}] = 2/3$ and $\\mathbb{P}[\\text{Win} | \\text{\"no\"}] = 1/3$. Hence, in this new strategy, by the law of total probability, we can derive:\n",
    "\\begin{align}\n",
    "\\mathbb{P}[\\text{Win} | \\text{\"yes\" if \"H\"}] &=  \\mathbb{P}[\\text{Win} | \\text{\"yes\"}] \\times \\theta +  \\mathbb{P}[\\text{Win} | \\text{\"no\"}] \\times (1- \\theta) \\\\\n",
    "& = 2/3 \\times 0.6 + 1/3 \\times 0.4 \\\\\n",
    "& = 0.534.\n",
    "\\end{align}"
   ]
  },
  {
   "cell_type": "markdown",
   "id": "3bef6b17",
   "metadata": {
    "id": "3bef6b17"
   },
   "source": [
    "### Optional exercise questions\n",
    "1. In the above paragraph, why did we say \"this is not surprising\"? What is the relationship between the ratio of rounds that we win versus the probability of winning a single game?\n",
    "2. The codes in this notebook are not optimized, and there are several inefficiencies. This is due to teaching purposes, as it is clearer to read what happens in a single iteration by going in a for-loop. After you understand the notebook well, please improve the efficiencies and share your attempts with us/students.\n",
    "3. We always fix picking the door \\#1 in the beginning. Simulate the case where we also randomly pick a door in the beginning of each round. Does it make any difference?\n",
    "4. You play a variant of this game where you pay £1 to play a round. If the door you pick wins, then you make a profit of £1. Otherwise, you lose your £1. You have £5, and you play with the above mentioned strategy of saying \"yes\" (i.e., switch the door) if a loaded coin comes as \"H\". If $\\theta = 0.4$, what is the probability that you will survive at least until the $10$-th round? Simulate and then mathematically derive this probability."
   ]
  }
 ],
 "metadata": {
  "colab": {
   "collapsed_sections": [],
   "name": "PCMLAI-M3-Monty.ipynb",
   "provenance": []
  },
  "kernelspec": {
   "display_name": "Python 3 (ipykernel)",
   "language": "python",
   "name": "python3"
  },
  "language_info": {
   "codemirror_mode": {
    "name": "ipython",
    "version": 3
   },
   "file_extension": ".py",
   "mimetype": "text/x-python",
   "name": "python",
   "nbconvert_exporter": "python",
   "pygments_lexer": "ipython3",
   "version": "3.10.9"
  }
 },
 "nbformat": 4,
 "nbformat_minor": 5
}
