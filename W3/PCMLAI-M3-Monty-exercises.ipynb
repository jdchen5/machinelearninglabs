{
 "cells": [
  {
   "cell_type": "code",
   "execution_count": 1,
   "id": "34cf7bc2",
   "metadata": {},
   "outputs": [],
   "source": [
    "import numpy as np\n",
    "import random"
   ]
  },
  {
   "cell_type": "markdown",
   "id": "dda38f83",
   "metadata": {},
   "source": [
    "## Modified Monty Hall Game\n",
    "- You are playing a game that is very similar to the Monty Hall game\n",
    "- There are 3 identical doors, one having a car behind, and the other two having goats behind\n",
    "- You pick a door, e.g., the second door\n",
    "- The host throws a fair coin: if it is heads, then the game ends and your door is opened. Otherwise, \n",
    "- The host rolls two fair dice. If the sum of numbers is more than 9, then the game ends similarly. Otherwise, the host opens one of the remaining two doors which has a goat behind.\n",
    "- The host asks you whether you would like to switch your door. You throw a loaded join which shows head 80\\% of the time. If the coin shows head, you switch your door. Otherwise you hold on to your original door.\n",
    "\n",
    "What is the probability of winning this game? Use Monte Carlo simulation and simulate this game at least $100,000$ times."
   ]
  }
 ],
 "metadata": {
  "kernelspec": {
   "display_name": "Python 3",
   "language": "python",
   "name": "python3"
  },
  "language_info": {
   "codemirror_mode": {
    "name": "ipython",
    "version": 3
   },
   "file_extension": ".py",
   "mimetype": "text/x-python",
   "name": "python",
   "nbconvert_exporter": "python",
   "pygments_lexer": "ipython3",
   "version": "3.8.8"
  }
 },
 "nbformat": 4,
 "nbformat_minor": 5
}
