{
 "cells": [
  {
   "cell_type": "code",
   "execution_count": 1,
   "id": "0941c811",
   "metadata": {},
   "outputs": [],
   "source": [
    "import numpy as np\n",
    "from math import comb\n",
    "from scipy.stats import binom\n",
    "import matplotlib.pyplot as plt"
   ]
  },
  {
   "cell_type": "markdown",
   "id": "5909db0f",
   "metadata": {},
   "source": [
    "### Dicussion Question\n",
    "You throw a coin $5$ times and obtain $5$ Heads ($X_1 = 1, \\ X_2 = 1, \\ldots, X_5 = 1$). What is $\\theta := \\mathbb{P}[\\text{heads}]$? Or, specifically, what would the Frequentist approach suggest here (*i.e.*, what is the unbiased estimate of $\\theta$ that we learned early in this course)?"
   ]
  },
  {
   "cell_type": "markdown",
   "id": "99bdaaa4",
   "metadata": {},
   "source": [
    "**Answer**"
   ]
  },
  {
   "cell_type": "code",
   "execution_count": 3,
   "id": "fff3596a",
   "metadata": {},
   "outputs": [
    {
     "name": "stdout",
     "output_type": "stream",
     "text": [
      "theta_hat = 1.0\n"
     ]
    }
   ],
   "source": [
    "theta_hat = 5/5 #number of successes 's' divided by number of trials 'n'\n",
    "print(f'theta_hat = {theta_hat}')"
   ]
  },
  {
   "cell_type": "markdown",
   "id": "0d096ba4",
   "metadata": {},
   "source": [
    "#### Question\n",
    "If the truth was $\\theta = 0.9$, what is the probability that we will see $5$ heads in a row? Interpret the result."
   ]
  },
  {
   "cell_type": "markdown",
   "id": "99f5aa72",
   "metadata": {},
   "source": [
    "#### Answer"
   ]
  },
  {
   "cell_type": "code",
   "execution_count": 4,
   "id": "2b686524",
   "metadata": {},
   "outputs": [
    {
     "name": "stdout",
     "output_type": "stream",
     "text": [
      "The chance is 0.59 hence there is almost 60% chance that the frequentist estimation of theta will be = 1\n"
     ]
    }
   ],
   "source": [
    "print(\"The chance is\", round(0.9 ** 5,2), \\\n",
    "      \"hence there is almost 60% chance that the frequentist estimation of theta will be = 1\")"
   ]
  },
  {
   "cell_type": "markdown",
   "id": "6ba58a21",
   "metadata": {},
   "source": [
    "#### Recall the Maximum Likelihood Estimate\n",
    "We have $$L(x; \\theta) = p(X_1 = 1, \\ X_2 = 1, \\ldots, X_5 = 1 | \\theta) = \\prod \\theta^5  $$\n",
    "hence the $\\theta$ that maximizes the likelihood is $\\theta = 1$."
   ]
  },
  {
   "cell_type": "markdown",
   "id": "53548b62",
   "metadata": {},
   "source": [
    "### Question\n",
    "For a coin with $\\mathbb{P}[\\text{head}] = \\theta$, what is the probability of having $s$ heads out of $n$ (independent) flips? (Recall the Binomial distribution.) Compute this value for $n=10$, $s = 3$, $\\theta = 0.6$."
   ]
  },
  {
   "cell_type": "markdown",
   "id": "d90ae022",
   "metadata": {},
   "source": [
    "#### Answer\n",
    "$ \\mathbb{P}[\\sum_{i=1}^n X_i] = \\displaystyle{n \\choose{s}} \\theta^s (1- \\theta)^{n-s} $"
   ]
  },
  {
   "cell_type": "code",
   "execution_count": 5,
   "id": "f84fa57c",
   "metadata": {},
   "outputs": [
    {
     "data": {
      "text/plain": [
       "0.0425"
      ]
     },
     "execution_count": 5,
     "metadata": {},
     "output_type": "execute_result"
    }
   ],
   "source": [
    "# compute yourself\n",
    "n = 10\n",
    "s = 3\n",
    "theta = 0.6\n",
    "likelihood = comb(n,s)*(theta**s)*((1-theta)**(n-s)) #The math.comb(n,k) method returns the number of ways picking k unordered outcomes from n possibilities, without repetition, also known as combinations.\n",
    "#Note: The parameters passed in this method must be positive integers.\n",
    "round(likelihood,4)"
   ]
  },
  {
   "cell_type": "code",
   "execution_count": 6,
   "id": "c09529dd",
   "metadata": {},
   "outputs": [
    {
     "data": {
      "text/plain": [
       "0.0425"
      ]
     },
     "execution_count": 6,
     "metadata": {},
     "output_type": "execute_result"
    }
   ],
   "source": [
    "# use SciPy\n",
    "round(binom.pmf(s, n, theta),4) #The binom.pmf(s, n, theta) function calculates the probability of observing exactly s successes in n trials when the success rate for each trial is theta, assuming a binomial distribution."
   ]
  },
  {
   "cell_type": "markdown",
   "id": "988b924b",
   "metadata": {},
   "source": [
    "### Bayesian Approach:\n",
    "Given that we have $s$ Heads in total, out of $n$ flips, we would like to find a probability distribution for $\\theta \\in [0,1]$, denoted $f(\\theta)$. \n",
    "\n",
    "The major 'philosophy' is to assume that $f(\\theta)$ is proportional to the likelihood of data under $\\theta$, that is, if a $\\theta$ value obtains a 'likelihood' that is greater than or equal to the likelihood of $\\theta'$, then $f(\\theta)$ should be greater than or equal to $f(\\theta)$. We should thus have\n",
    "$$f(\\theta) \\propto  \\displaystyle{n \\choose{s}} \\theta^s (1- \\theta)^{n-s},$$\n",
    "where $\\propto$ denotes 'proportional to', so there exists some constant $C$, that does not depend on $\\theta$, so that \n",
    "$$f(\\theta)  =  \\displaystyle C \\cdot {n \\choose{s}} \\theta^s (1- \\theta)^{n-s},$$"
   ]
  },
  {
   "cell_type": "markdown",
   "id": "1023f578",
   "metadata": {},
   "source": [
    "#### Question\n",
    "Find an expression for the value of $C$. (Hint: $\\mathbb{P}[\\theta]$ should integrate to $1$)."
   ]
  },
  {
   "cell_type": "markdown",
   "id": "65044005",
   "metadata": {},
   "source": [
    "#### Answer\n",
    "$$ C = \\dfrac{1}{\\displaystyle \\int_{\\theta \\in [0,1]} {n \\choose{s}} \\theta^s (1- \\theta)^{n-s} \\mathrm{d} \\theta}$$"
   ]
  },
  {
   "cell_type": "markdown",
   "id": "0f927fe6",
   "metadata": {},
   "source": [
    "### Bayesian Approach (continued):\n",
    "It turns out that after simplification we have:\n",
    "$$f(\\theta) = \\dfrac{\\theta^s (1- \\theta)^{n-s}}{\\displaystyle \\int_{\\theta \\in [0,1]} \\theta^s (1- \\theta)^{n-s} \\mathrm{d} \\theta} $$"
   ]
  },
  {
   "cell_type": "markdown",
   "id": "e37ac602",
   "metadata": {},
   "source": [
    "#### Question\n",
    "Compute the denominator of $f(\\theta)$, that is, find an expression for $\\displaystyle \\int_{\\theta \\in [0,1]} \\theta^s (1- \\theta)^{n-s} \\mathrm{d} \\theta$. \n",
    "\n",
    "(Hint: Use Euler's Beta function that says $\\int_{x \\in [0,1]} x^a (1-x)^b \\mathrm{d}x = \\dfrac{a! b!}{(a+b+1)!}$)"
   ]
  },
  {
   "cell_type": "markdown",
   "id": "4083e2a5",
   "metadata": {},
   "source": [
    "#### Answer\n",
    "Simply from definition we have $\\dfrac{s! (n-s)!}{(n+1)!}$"
   ]
  },
  {
   "cell_type": "markdown",
   "id": "69781c32",
   "metadata": {},
   "source": [
    "### Bayesian Approach (continued):\n",
    "If we plug the answer of the previous question in the definition of $f(\\theta)$, and apply a little bit algebra, we have\n",
    "$$f(\\theta) = (n+1) {n \\choose s} \\theta^s (1-\\theta)^{n-s}. $$"
   ]
  },
  {
   "cell_type": "markdown",
   "id": "39a764e2",
   "metadata": {},
   "source": [
    "#### Question: \n",
    "Plot $f(\\theta)$ for the sequences:\n",
    "- 3 heads out of 3 flips\n",
    "- 5 heads out of 5 flips\n",
    "- 9 heads out of 10 flips\n",
    "- 2 heads out of 10 flips"
   ]
  },
  {
   "cell_type": "markdown",
   "id": "e5728d42",
   "metadata": {},
   "source": [
    "#### Answer:"
   ]
  },
  {
   "cell_type": "code",
   "execution_count": 7,
   "id": "444c38bc",
   "metadata": {},
   "outputs": [],
   "source": [
    "def density_theta(n,s, theta):\n",
    "    return (n+1)*comb(n,s)*(theta**s)*((1-theta)**(n-s)) # implement the Bayesian approach above"
   ]
  },
  {
   "cell_type": "code",
   "execution_count": 89,
   "id": "ea8749bc",
   "metadata": {},
   "outputs": [
    {
     "data": {
      "image/png": "[encoded data removed]",
      "text/plain": [
       "<Figure size 432x288 with 1 Axes>"
      ]
     },
     "metadata": {
      "needs_background": "light"
     },
     "output_type": "display_data"
    }
   ],
   "source": [
    "divide = 1000\n",
    "\n",
    "thetas = np.linspace(0, 1, divide)\n",
    "\n",
    "#1\n",
    "C1 = np.array(list(map(density_theta,3*np.ones(divide).astype(int),3*np.ones(divide).astype(int), thetas)))\n",
    "\n",
    "#2\n",
    "C2 = np.array(list(map(density_theta,5*np.ones(divide).astype(int),5*np.ones(divide).astype(int), thetas)))\n",
    "\n",
    "#3\n",
    "C3 = np.array(list(map(density_theta,10*np.ones(divide).astype(int),9*np.ones(divide).astype(int), thetas)))\n",
    "\n",
    "#4\n",
    "C4 = np.array(list(map(density_theta,10*np.ones(divide).astype(int),2*np.ones(divide).astype(int), thetas)))\n",
    "\n",
    "\n",
    "plt.plot(thetas, C1, label='3 out of 3')\n",
    "plt.plot(thetas, C2, label='5 out of 5')\n",
    "plt.plot(thetas, C3, label='9 out of 10')\n",
    "plt.plot(thetas, C4, label='2 out of 10')\n",
    "plt.yticks([])\n",
    "\n",
    "plt.xlabel(r'$\\theta$ values')\n",
    "plt.ylabel(r'density of $\\theta$')\n",
    "plt.title(r\"Plot of $f(\\theta)$ over $\\theta \\in [0,1]$ for various success and trials\")\n",
    "plt.yticks()\n",
    "plt.xlim([0,1])\n",
    "plt.legend()\n",
    "plt.show()"
   ]
  },
  {
   "cell_type": "markdown",
   "id": "0a4dcaed",
   "metadata": {},
   "source": [
    "#### Question\n",
    "Given $f(\\theta)$ as we derived above, if you see $s$ Heads out of $n$ trials, what is the probability that you will have a Head in the next ($n+1$-th) flip? By the law of total probability, we have:\n",
    "\\begin{align}\\mathbb{P}[\\text{Head on $n+1$-th flip} \\ | \\ \\text{$s$ Heads out of $n$ flips previously}] & =  \n",
    "\\int_{x \\in [0,1]} \\mathbb{P}[\\text{Heads} \\ | \\ \\theta] \\cdot f(\\theta) \\mathrm{d} \\theta \\\\ \n",
    "& = \\int_{x \\in [0,1]} \\theta \\cdot f(\\theta) \\mathrm{d} \\theta \\\\ \n",
    "& = \\mathbb{E}[\\theta] = \\color{red}{\\dfrac{s+1}{n+2}}.\n",
    "\\end{align}"
   ]
  },
  {
   "cell_type": "markdown",
   "id": "b72f89a4",
   "metadata": {},
   "source": [
    "#### Extra: \n",
    "In the end we replaced the expectation of $\\theta$ immediately however this is not immediate (although quite simple). In the integration before, we first plug in the expression for $f(\\theta)$ and have:\n",
    "\\begin{align}\n",
    "\\int_{x \\in [0,1]} \\theta \\cdot f(\\theta) \\mathrm{d} \\theta  = \\int_{x \\in [0,1]} \\theta \\cdot (n+1) {n \\choose s} \\theta^s (1-\\theta)^{n-s} \\mathrm{d} \\theta \n",
    "\\end{align}\n",
    "Taking constants out gives\n",
    "\\begin{align}\n",
    "(n+1) {n \\choose s}  \\int_{x \\in [0,1]} \\theta^{s+1} (1-\\theta)^{n-s} \\mathrm{d} \\theta.\n",
    "\\end{align}\n",
    "By the Euler's function (discussed before) we have $\\int_{x \\in [0,1]} \\theta^{s+1} (1-\\theta)^{n-s} \\mathrm{d} \\theta = \\dfrac{(s+1)!(n-s)!}{(n+2)!}$, hence the above integration is\n",
    "\\begin{align}\n",
    "(n+1) {n \\choose s}  \\dfrac{(s+1)!(n-s)!}{(n+2)!}\n",
    "\\end{align}\n",
    "And by the definition of combinations and factorials:\n",
    "\\begin{align}\n",
    "& (n+1) {n \\choose s}  \\dfrac{(s+1)!(n-s)!}{(n+2)!}\\\\\n",
    "= & \\color{orange}{(n+1)} \\dfrac{\\color{red}{n!}}{\\color{blue}{(n-s)!} s!}  \\dfrac{(s+1)!\\color{blue}{(n-s)!}}{(n+2)\\color{orange}{(n+1)}\\color{red}{n!}} \\\\\n",
    "= & \\dfrac{(s+1)!}{s! (n+2)} \\\\\n",
    "= & \\dfrac{s+1}{n+2}.\n",
    "\\end{align} "
   ]
  },
  {
   "cell_type": "markdown",
   "id": "87b6c331",
   "metadata": {},
   "source": [
    "#### Discussion\n",
    "The final equation $\\mathbb{E}[\\theta] =\\dfrac{s+1}{n+2}$ is called *Laplace Rule of Succession*. Here, the estimation of the true $\\theta$, when we have $s$ successes out of $n$ trials, is given as $(s+1)/(n+2)$. Discuss how this is similar/different than the MLE or unbiased estimation of $\\theta$. "
   ]
  },
  {
   "cell_type": "markdown",
   "id": "98a47e57",
   "metadata": {},
   "source": [
    "#### Optional Question:\n",
    "If you were Laplace, what would your answer be to the question:\n",
    "- What is the probability that the sun will rise tomorrow?"
   ]
  }
 ],
 "metadata": {
  "kernelspec": {
   "display_name": "Python 3 (ipykernel)",
   "language": "python",
   "name": "python3"
  },
  "language_info": {
   "codemirror_mode": {
    "name": "ipython",
    "version": 3
   },
   "file_extension": ".py",
   "mimetype": "text/x-python",
   "name": "python",
   "nbconvert_exporter": "python",
   "pygments_lexer": "ipython3",
   "version": "3.10.9"
  }
 },
 "nbformat": 4,
 "nbformat_minor": 5
}
