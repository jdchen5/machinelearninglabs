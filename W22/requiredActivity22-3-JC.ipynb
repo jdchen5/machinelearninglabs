{
 "cells": [
  {
   "cell_type": "code",
   "execution_count": 1,
   "id": "26d377b5",
   "metadata": {},
   "outputs": [],
   "source": [
    "from __future__ import print_function\n",
    "import argparse\n",
    "import torch\n",
    "import torch.nn as nn\n",
    "import torch.nn.functional as F\n",
    "import torch.optim as optim\n",
    "from torchvision import datasets, transforms"
   ]
  },
  {
   "cell_type": "code",
   "execution_count": 2,
   "id": "3419b75b",
   "metadata": {},
   "outputs": [],
   "source": [
    "import cv2\n",
    "img = cv2.imread(\"some_image.pgm\", cv2.IMREAD_COLOR)"
   ]
  },
  {
   "cell_type": "code",
   "execution_count": 3,
   "id": "e74202bf",
   "metadata": {},
   "outputs": [
    {
     "data": {
      "text/plain": [
       "['an2i',\n",
       " 'at33',\n",
       " 'boland',\n",
       " 'bpm',\n",
       " 'ch4f',\n",
       " 'cheyer',\n",
       " 'choon',\n",
       " 'danieln',\n",
       " 'glickman',\n",
       " 'karyadi',\n",
       " 'kawamura',\n",
       " 'kk49',\n",
       " 'megak',\n",
       " 'mitchell',\n",
       " 'night',\n",
       " 'phoebe',\n",
       " 'saavik',\n",
       " 'steffi',\n",
       " 'sz24',\n",
       " 'tammo']"
      ]
     },
     "execution_count": 3,
     "metadata": {},
     "output_type": "execute_result"
    }
   ],
   "source": [
    "from torchvision.datasets import ImageFolder\n",
    "\n",
    "def img_loader(filename):\n",
    "    return cv2.imread(filename, cv2.IMREAD_GRAYSCALE)\n",
    "\n",
    "data = ImageFolder(root='./faces/', loader=img_loader, transform=transforms)\n",
    "data.classes"
   ]
  },
  {
   "cell_type": "code",
   "execution_count": 4,
   "id": "47cfee25",
   "metadata": {},
   "outputs": [],
   "source": [
    "import argparse\n",
    "import torch\n",
    "import torch.nn.functional as F\n",
    "import torch.optim as optim\n",
    "from torchvision import datasets, transforms\n",
    "from torchvision.datasets import ImageFolder\n",
    "from torch.utils.data import DataLoader, random_split\n",
    "import cv2\n",
    "import numpy as np\n",
    "import os\n",
    "from torch import nn\n",
    "\n",
    "# Assuming num_expressions is defined based on your dataset\n",
    "num_expressions = 5  # Update this based on your dataset's number of expressions\n",
    "\n",
    "class Net(nn.Module):\n",
    "    def __init__(self):\n",
    "        super(Net, self).__init__()\n",
    "        self.conv1 = nn.Conv2d(1, 6, kernel_size=5) # Input channels, Output channels, Kernel size\n",
    "        self.conv2 = nn.Conv2d(6, 16, kernel_size=5)\n",
    "        self.fc1 = nn.Linear(16*5*5, 120) # Adjust input size based on the output of conv2\n",
    "        self.fc2 = nn.Linear(120, 84)\n",
    "        # Task T1: Binary classification (Mitchell or not) (binary)\n",
    "        self.fc3_mitchell = nn.Linear(84, 2)  \n",
    "        # Task T2: Facial expression classification\n",
    "        self.fc3_expression = nn.Linear(84, num_expressions)  \n",
    "\n",
    "    def forward(self, x):\n",
    "        x = F.max_pool2d(F.relu(self.conv1(x)), (2, 2))  # Pooling size\n",
    "        x = F.max_pool2d(F.relu(self.conv2(x)), 2)  # Pooling size\n",
    "        x = x.view(-1, self.num_flat_features(x))\n",
    "        x = F.relu(self.fc1(x))\n",
    "        x = F.relu(self.fc2(x))\n",
    "        out_mitchell = self.fc3_mitchell(x)\n",
    "        out_expression = self.fc3_expression(x)\n",
    "        return out_mitchell, out_expression\n",
    " \n",
    "    def num_flat_features(self, x):\n",
    "        size = x.size()[1:]  # All dimensions except the batch dimension\n",
    "        num_features = 1\n",
    "        for s in size:\n",
    "            num_features *= s\n",
    "        return num_features\n",
    "    \n",
    "\n",
    "    \n"
   ]
  },
  {
   "cell_type": "code",
   "execution_count": 5,
   "id": "086b69c3",
   "metadata": {},
   "outputs": [
    {
     "name": "stdout",
     "output_type": "stream",
     "text": [
      "Total images in dataset: 1872\n",
      "Image 0 - Shape: torch.Size([1, 32, 32]), Label: 0\n",
      "Image 1 - Shape: torch.Size([1, 32, 32]), Label: 0\n",
      "Image 2 - Shape: torch.Size([1, 32, 32]), Label: 0\n"
     ]
    }
   ],
   "source": [
    "from torchvision import datasets, transforms\n",
    "import torch\n",
    "from PIL import Image\n",
    "import numpy as np\n",
    "\n",
    "# Example transformation\n",
    "transform = transforms.Compose([\n",
    "    transforms.Grayscale(),\n",
    "    transforms.Resize((32, 32)),\n",
    "    transforms.ToTensor(),\n",
    "    transforms.Normalize((0.5,), (0.5,))\n",
    "])\n",
    "\n",
    "# Assuming your custom img_loader function and ImageFolder dataset\n",
    "dataset = datasets.ImageFolder(root='./faces', transform=transform)\n",
    "\n",
    "print(f\"Total images in dataset: {len(dataset)}\")\n",
    "\n",
    "# Optionally, check a few sample images\n",
    "for i in range(3):\n",
    "    img, label = dataset[i]\n",
    "    print(f\"Image {i} - Shape: {img.size()}, Label: {label}\")\n",
    "\n"
   ]
  },
  {
   "cell_type": "code",
   "execution_count": 6,
   "id": "083e8971",
   "metadata": {},
   "outputs": [
    {
     "name": "stdout",
     "output_type": "stream",
     "text": [
      "Batch size: 64\n",
      "Shape of a batch of images: torch.Size([64, 1, 32, 32])\n",
      "Shape of a batch of labels: torch.Size([64])\n"
     ]
    }
   ],
   "source": [
    "from torch.utils.data import DataLoader\n",
    "\n",
    "train_loader = DataLoader(dataset, batch_size=64, shuffle=True)\n",
    "\n",
    "# Check the first batch\n",
    "data_iter = iter(train_loader)\n",
    "images, labels = next(data_iter)\n",
    "\n",
    "print(f\"Batch size: {len(images)}\")\n",
    "print(f\"Shape of a batch of images: {images.shape}\")\n",
    "print(f\"Shape of a batch of labels: {labels.shape}\")\n"
   ]
  },
  {
   "cell_type": "code",
   "execution_count": 7,
   "id": "a2470e91",
   "metadata": {},
   "outputs": [],
   "source": [
    "device = torch.device(\"cpu\")\n",
    "model = Net().to(device)\n",
    "# Your data and model are now explicitly set to use the CPU.\n",
    "\n"
   ]
  },
  {
   "cell_type": "code",
   "execution_count": 9,
   "id": "f34abb15",
   "metadata": {},
   "outputs": [
    {
     "name": "stdout",
     "output_type": "stream",
     "text": [
      "module://matplotlib_inline.backend_inline\n"
     ]
    }
   ],
   "source": [
    "import matplotlib.pyplot as plt\n",
    "print(plt.get_backend())\n",
    "# You can try setting a different backend like this, for example:\n",
    "# plt.switch_backend('TkAgg')\n"
   ]
  },
  {
   "cell_type": "code",
   "execution_count": 10,
   "id": "9a100ecf",
   "metadata": {},
   "outputs": [
    {
     "name": "stdout",
     "output_type": "stream",
     "text": [
      "torch.Size([1, 32, 32])\n",
      "torch.Size([1, 32, 32])\n",
      "torch.Size([1, 32, 32])\n",
      "torch.Size([1, 32, 32])\n"
     ]
    }
   ],
   "source": [
    "for img in images[:4]:\n",
    "    print(img.shape)\n"
   ]
  },
  {
   "cell_type": "code",
   "execution_count": 11,
   "id": "246289cf",
   "metadata": {},
   "outputs": [
    {
     "data": {
      "image/png": "[encoded data removed]",
      "text/plain": [
       "<Figure size 640x480 with 1 Axes>"
      ]
     },
     "metadata": {},
     "output_type": "display_data"
    }
   ],
   "source": [
    "single_img = images[0] / 2 + 0.5  # Unnormalize a single image\n",
    "plt.imshow(single_img.numpy().squeeze(), cmap='gray')  # Assuming the image is grayscale\n",
    "plt.show()\n"
   ]
  },
  {
   "cell_type": "code",
   "execution_count": null,
   "id": "aacea291",
   "metadata": {},
   "outputs": [],
   "source": [
    "import torchvision\n",
    "import matplotlib.pyplot as plt\n",
    "import numpy as np\n",
    "import torch\n",
    "\n",
    "def imshow(img):\n",
    "    # Unnormalize\n",
    "    img = img / 2 + 0.5     # This is to reverse the normalization\n",
    "    npimg = img.numpy()\n",
    "    plt.imshow(np.transpose(npimg, (1, 2, 0)))\n",
    "    plt.show()\n",
    "\n",
    "# Show images\n",
    "imshow(torchvision.utils.make_grid(images[:4]))\n",
    "# Print labels for the displayed images\n",
    "print('Labels: ', ' '.join(f'{labels[j].item()}' for j in range(4)))\n"
   ]
  },
  {
   "cell_type": "code",
   "execution_count": 2,
   "id": "93a21156",
   "metadata": {},
   "outputs": [],
   "source": [
    "from tqdm import tqdm  # tqdm is a library for making loops show a smart progress meter\n",
    "\n",
    "def train(model, device, train_loader, optimizer, epoch):\n",
    "    model.train()\n",
    "    for batch_idx, (data, targets) in enumerate(tqdm(train_loader, desc=f\"Epoch {epoch}\")):\n",
    "        data, target = data.to(device), [t.to(device) for t in target]\n",
    "        optimizer.zero_grad()\n",
    "        output_mitchell, output_expression = model(data)\n",
    "        loss_mitchell = F.cross_entropy(output_mitchell, target[0])  # Assuming target[0] is for Mitchell\n",
    "        loss_expression = F.cross_entropy(output_expression, target[1])  # Assuming target[1] is for expression\n",
    "        loss = loss_mitchell + loss_expression\n",
    "        loss.backward()\n",
    "        optimizer.step()\n",
    "        # Log training status here\n",
    "\n",
    "def test(model, device, test_loader):\n",
    "    model.eval()\n",
    "    test_loss = 0\n",
    "    correct_mitchell = 0\n",
    "    correct_expression = 0\n",
    "    with torch.no_grad():\n",
    "        for data, target in test_loader:\n",
    "            data, target = data.to(device), [t.to(device) for t in target]\n",
    "            output_mitchell, output_expression = model(data)\n",
    "            # Calculate test loss and accuracy here\n",
    "\n",
    "    # Log testing status here\n"
   ]
  },
  {
   "cell_type": "code",
   "execution_count": 23,
   "id": "3fc9e92a",
   "metadata": {},
   "outputs": [
    {
     "ename": "ValueError",
     "evalue": "Expected input batch_size (64) to match target batch_size (0).",
     "output_type": "error",
     "traceback": [
      "\u001b[1;31m---------------------------------------------------------------------------\u001b[0m",
      "\u001b[1;31mValueError\u001b[0m                                Traceback (most recent call last)",
      "Cell \u001b[1;32mIn[23], line 32\u001b[0m\n\u001b[0;32m     27\u001b[0m         test(model, device, test_loader)\n\u001b[0;32m     30\u001b[0m \u001b[38;5;28;01mif\u001b[39;00m \u001b[38;5;18m__name__\u001b[39m \u001b[38;5;241m==\u001b[39m \u001b[38;5;124m'\u001b[39m\u001b[38;5;124m__main__\u001b[39m\u001b[38;5;124m'\u001b[39m:\n\u001b[0;32m     31\u001b[0m     \u001b[38;5;66;03m# When running as a script, pass the actual command line arguments\u001b[39;00m\n\u001b[1;32m---> 32\u001b[0m     \u001b[43mmain\u001b[49m\u001b[43m(\u001b[49m\u001b[43m)\u001b[49m\n",
      "Cell \u001b[1;32mIn[23], line 26\u001b[0m, in \u001b[0;36mmain\u001b[1;34m()\u001b[0m\n\u001b[0;32m     23\u001b[0m optimizer \u001b[38;5;241m=\u001b[39m optim\u001b[38;5;241m.\u001b[39mAdam(model\u001b[38;5;241m.\u001b[39mparameters(), lr\u001b[38;5;241m=\u001b[39mlr)\n\u001b[0;32m     25\u001b[0m \u001b[38;5;28;01mfor\u001b[39;00m epoch \u001b[38;5;129;01min\u001b[39;00m \u001b[38;5;28mrange\u001b[39m(\u001b[38;5;241m1\u001b[39m, epochs \u001b[38;5;241m+\u001b[39m \u001b[38;5;241m1\u001b[39m):\n\u001b[1;32m---> 26\u001b[0m     \u001b[43mtrain\u001b[49m\u001b[43m(\u001b[49m\u001b[43mmodel\u001b[49m\u001b[43m,\u001b[49m\u001b[43m \u001b[49m\u001b[43mdevice\u001b[49m\u001b[43m,\u001b[49m\u001b[43m \u001b[49m\u001b[43mtrain_loader\u001b[49m\u001b[43m,\u001b[49m\u001b[43m \u001b[49m\u001b[43moptimizer\u001b[49m\u001b[43m,\u001b[49m\u001b[43m \u001b[49m\u001b[43mepoch\u001b[49m\u001b[43m)\u001b[49m\n\u001b[0;32m     27\u001b[0m     test(model, device, test_loader)\n",
      "Cell \u001b[1;32mIn[22], line 7\u001b[0m, in \u001b[0;36mtrain\u001b[1;34m(model, device, train_loader, optimizer, epoch)\u001b[0m\n\u001b[0;32m      5\u001b[0m optimizer\u001b[38;5;241m.\u001b[39mzero_grad()\n\u001b[0;32m      6\u001b[0m output_mitchell, output_expression \u001b[38;5;241m=\u001b[39m model(data)\n\u001b[1;32m----> 7\u001b[0m loss_mitchell \u001b[38;5;241m=\u001b[39m \u001b[43mF\u001b[49m\u001b[38;5;241;43m.\u001b[39;49m\u001b[43mcross_entropy\u001b[49m\u001b[43m(\u001b[49m\u001b[43moutput_mitchell\u001b[49m\u001b[43m,\u001b[49m\u001b[43m \u001b[49m\u001b[43mtarget\u001b[49m\u001b[43m[\u001b[49m\u001b[38;5;241;43m0\u001b[39;49m\u001b[43m]\u001b[49m\u001b[43m)\u001b[49m  \u001b[38;5;66;03m# Assuming target[0] is for Mitchell\u001b[39;00m\n\u001b[0;32m      8\u001b[0m loss_expression \u001b[38;5;241m=\u001b[39m F\u001b[38;5;241m.\u001b[39mcross_entropy(output_expression, target[\u001b[38;5;241m1\u001b[39m])  \u001b[38;5;66;03m# Assuming target[1] is for expression\u001b[39;00m\n\u001b[0;32m      9\u001b[0m loss \u001b[38;5;241m=\u001b[39m loss_mitchell \u001b[38;5;241m+\u001b[39m loss_expression\n",
      "File \u001b[1;32m~\\AppData\\Roaming\\Python\\Python310\\site-packages\\torch\\nn\\functional.py:3059\u001b[0m, in \u001b[0;36mcross_entropy\u001b[1;34m(input, target, weight, size_average, ignore_index, reduce, reduction, label_smoothing)\u001b[0m\n\u001b[0;32m   3057\u001b[0m \u001b[38;5;28;01mif\u001b[39;00m size_average \u001b[38;5;129;01mis\u001b[39;00m \u001b[38;5;129;01mnot\u001b[39;00m \u001b[38;5;28;01mNone\u001b[39;00m \u001b[38;5;129;01mor\u001b[39;00m reduce \u001b[38;5;129;01mis\u001b[39;00m \u001b[38;5;129;01mnot\u001b[39;00m \u001b[38;5;28;01mNone\u001b[39;00m:\n\u001b[0;32m   3058\u001b[0m     reduction \u001b[38;5;241m=\u001b[39m _Reduction\u001b[38;5;241m.\u001b[39mlegacy_get_string(size_average, reduce)\n\u001b[1;32m-> 3059\u001b[0m \u001b[38;5;28;01mreturn\u001b[39;00m \u001b[43mtorch\u001b[49m\u001b[38;5;241;43m.\u001b[39;49m\u001b[43m_C\u001b[49m\u001b[38;5;241;43m.\u001b[39;49m\u001b[43m_nn\u001b[49m\u001b[38;5;241;43m.\u001b[39;49m\u001b[43mcross_entropy_loss\u001b[49m\u001b[43m(\u001b[49m\u001b[38;5;28;43minput\u001b[39;49m\u001b[43m,\u001b[49m\u001b[43m \u001b[49m\u001b[43mtarget\u001b[49m\u001b[43m,\u001b[49m\u001b[43m \u001b[49m\u001b[43mweight\u001b[49m\u001b[43m,\u001b[49m\u001b[43m \u001b[49m\u001b[43m_Reduction\u001b[49m\u001b[38;5;241;43m.\u001b[39;49m\u001b[43mget_enum\u001b[49m\u001b[43m(\u001b[49m\u001b[43mreduction\u001b[49m\u001b[43m)\u001b[49m\u001b[43m,\u001b[49m\u001b[43m \u001b[49m\u001b[43mignore_index\u001b[49m\u001b[43m,\u001b[49m\u001b[43m \u001b[49m\u001b[43mlabel_smoothing\u001b[49m\u001b[43m)\u001b[49m\n",
      "\u001b[1;31mValueError\u001b[0m: Expected input batch_size (64) to match target batch_size (0)."
     ]
    }
   ],
   "source": [
    "import sys\n",
    "\n",
    "def main():\n",
    "    # Define default argument values\n",
    "    data_dir = './faces'\n",
    "    epochs = 10\n",
    "    lr = 0.01\n",
    "    no_cuda = False\n",
    "\n",
    "    use_cuda = not no_cuda and torch.cuda.is_available()\n",
    "    device = torch.device(\"cuda\" if use_cuda else \"cpu\")\n",
    "\n",
    "    # Load your data and split here\n",
    "    dataset = ImageFolder(root=data_dir, loader=img_loader, transform=transform)\n",
    "    train_size = int(0.8 * len(dataset))\n",
    "    test_size = len(dataset) - train_size\n",
    "    train_dataset, test_dataset = random_split(dataset, [train_size, test_size])\n",
    "\n",
    "    train_loader = DataLoader(train_dataset, batch_size=32, shuffle=True)\n",
    "    test_loader = DataLoader(test_dataset, batch_size=32, shuffle=False)\n",
    "\n",
    "    model = Net().to(device)\n",
    "    optimizer = optim.Adam(model.parameters(), lr=lr)\n",
    "\n",
    "    for epoch in range(1, epochs + 1):\n",
    "        train(model, device, train_loader, optimizer, epoch)\n",
    "        test(model, device, test_loader)\n",
    "\n",
    "       \n",
    "if __name__ == '__main__':\n",
    "    # When running as a script, pass the actual command line arguments\n",
    "    main()"
   ]
  },
  {
   "cell_type": "code",
   "execution_count": null,
   "id": "fd45d98b",
   "metadata": {},
   "outputs": [],
   "source": []
  },
  {
   "cell_type": "code",
   "execution_count": null,
   "id": "79b19120",
   "metadata": {},
   "outputs": [],
   "source": []
  }
 ],
 "metadata": {
  "kernelspec": {
   "display_name": "Python 3 (ipykernel)",
   "language": "python",
   "name": "python3"
  },
  "language_info": {
   "codemirror_mode": {
    "name": "ipython",
    "version": 3
   },
   "file_extension": ".py",
   "mimetype": "text/x-python",
   "name": "python",
   "nbconvert_exporter": "python",
   "pygments_lexer": "ipython3",
   "version": "3.10.9"
  }
 },
 "nbformat": 4,
 "nbformat_minor": 5
}
