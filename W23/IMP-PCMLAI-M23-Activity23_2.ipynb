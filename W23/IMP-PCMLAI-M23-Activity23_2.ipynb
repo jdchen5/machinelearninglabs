{
 "cells": [
  {
   "cell_type": "markdown",
   "id": "70f9ef90",
   "metadata": {},
   "source": [
    "Recall the four actions that were explained by Alex in the video.\n",
    "- Action 1: Reward is always $8$\n",
    "- Action 2: Reward is $\\begin{cases}0 & \\text{ w.p. } 88\\% \\\\ 100 & \\text{ w.p. } 12\\% \\end{cases}$\n",
    "- Action 3: Reward is $\\sim \\mathbb{U}[-10, 35]$\n",
    "- Action 4: Reward is $\\begin{cases}0 & \\text{ w.p. } 33.3\\% \\\\ 20 & \\text{ w.p. } 33.3\\%  \\\\ \\sim \\mathbb{U}[8,18] & \\text{ w.p. } 33.3\\% \\end{cases}$"
   ]
  },
  {
   "cell_type": "markdown",
   "id": "16be783e",
   "metadata": {},
   "source": [
    "Firstly, recall that in reality we will not know these distributions, rather we will \"pull\" the arm and observe one sample from the corresponding distribution. \n",
    "\n",
    "Therefore, let us generate 10,000 samples from each distribution. In other words, these 10,000 values will be what we would have seen if we pulled the arm of each slot machine 10,000 times."
   ]
  },
  {
   "cell_type": "code",
   "execution_count": 1,
   "id": "cee3f2c5",
   "metadata": {},
   "outputs": [],
   "source": [
    "import numpy as np"
   ]
  },
  {
   "cell_type": "code",
   "execution_count": 2,
   "id": "d74a962d",
   "metadata": {},
   "outputs": [],
   "source": [
    "def action_1(): #first slot machine\n",
    "    return 8\n",
    "\n",
    "def action_2(): #second slot machine\n",
    "    if np.random.uniform(0, 1) < 0.88: #wp 88% return 0\n",
    "        return 0\n",
    "    return 100\n",
    "\n",
    "def action_3():\n",
    "    return np.random.randint(-10, 35+1) #assuming integer values. Adding 1 because randint has upper bound excluded\n",
    "\n",
    "def action_4():\n",
    "    u = np.random.uniform(0, 1)\n",
    "    if u < 1/3:\n",
    "        return 0\n",
    "    elif u < 2/3:\n",
    "        return 20\n",
    "    return np.random.randint(8,18+1)"
   ]
  },
  {
   "cell_type": "code",
   "execution_count": 3,
   "id": "b593f121",
   "metadata": {},
   "outputs": [],
   "source": [
    "slot_1 = [action_1() for _ in range(10**4)]\n",
    "slot_2 = [action_2() for _ in range(10**4)]\n",
    "slot_3 = [action_3() for _ in range(10**4)]\n",
    "slot_4 = [action_4() for _ in range(10**4)]\n",
    "slots = np.array([slot_1, slot_2, slot_3, slot_4])"
   ]
  },
  {
   "cell_type": "code",
   "execution_count": 4,
   "id": "14c47560",
   "metadata": {},
   "outputs": [
    {
     "data": {
      "text/plain": [
       "array([ 8,  0, 35, 17])"
      ]
     },
     "execution_count": 4,
     "metadata": {},
     "output_type": "execute_result"
    }
   ],
   "source": [
    "slots[:, 5] #e.g., the 6-th pull, if we pulled one of each. But we will not see them, rather pick only one of them."
   ]
  },
  {
   "cell_type": "markdown",
   "id": "970b3a3b",
   "metadata": {},
   "source": [
    "Now let us simulate the $\\epsilon$-greedy approach. Initialize the number of times each slot is used, as well as the values. We will illustrate one step of the algorithm. Then, try to implement this in a for-loop and return the final set of decisions and results."
   ]
  },
  {
   "cell_type": "code",
   "execution_count": 5,
   "id": "a951b360",
   "metadata": {},
   "outputs": [],
   "source": [
    "eps = 0.1\n",
    "k = 4 #number of arms\n",
    "q = np.zeros(k)\n",
    "n = np.zeros(k)"
   ]
  },
  {
   "cell_type": "code",
   "execution_count": 6,
   "id": "a5c281e7",
   "metadata": {},
   "outputs": [],
   "source": [
    "pull = 0#first pull\n",
    "if np.random.uniform(0,1) < eps: #this means we will EXPLORE\n",
    "    idx = np.random.randint(1, k+1) #random pull\n",
    "else: #then EXPLOIT the best\n",
    "    idx = np.argmax(q) #now they are all zeros so doesn't make much sense, but in the next steps this will make sense!\n",
    "n[idx] += 1#we pulled one more time the \"idx\" slot\n",
    "r = slots[idx, pull] #first pull from the \"idx\" slot\n",
    "# this is a standard form for learning/update rules (*)\n",
    "q[idx] += (r - q[idx])/n[idx] #update the average value"
   ]
  },
  {
   "cell_type": "markdown",
   "id": "bdd1abe8",
   "metadata": {},
   "source": [
    "A very simple \"for-loop\" can be implemneted as:"
   ]
  },
  {
   "cell_type": "code",
   "execution_count": 7,
   "id": "0d09efa7",
   "metadata": {},
   "outputs": [],
   "source": [
    "eps = 0.1\n",
    "k = 4 #number of arms\n",
    "q = np.zeros(k)\n",
    "n = np.zeros(k)"
   ]
  },
  {
   "cell_type": "code",
   "execution_count": 8,
   "id": "547d595f",
   "metadata": {},
   "outputs": [],
   "source": [
    "for pull in range(10**4):\n",
    "    if np.random.uniform(0,1) < eps: #this means we will EXPLORE\n",
    "        idx = np.random.randint(0, k) #random pull\n",
    "    else: #then EXPLOIT the best\n",
    "        idx = np.argmax(q) #now they are all zeros so doesn't make much sense, but in the next steps this will make sense!\n",
    "    n[idx] += 1#we pulled one more time the \"idx\" slot\n",
    "    r = slots[idx, pull] #first pull from the \"idx\" slot\n",
    "    # this is a standard form for learning/update rules (*)\n",
    "    q[idx] += (r - q[idx])/n[idx] #update the average value"
   ]
  },
  {
   "cell_type": "code",
   "execution_count": 9,
   "id": "7b9bbcd9",
   "metadata": {},
   "outputs": [
    {
     "name": "stdout",
     "output_type": "stream",
     "text": [
      "10000 many rounds are completed.\n",
      "number of times each machine is pulled [ 288.  232. 9211.  269.]\n",
      "values: [ 8.          9.9137931  12.54782325 11.20446097]\n"
     ]
    }
   ],
   "source": [
    "print(int(np.sum(n)), \"many rounds are completed.\")\n",
    "print(\"number of times each machine is pulled\", n)\n",
    "print(\"values:\", q)"
   ]
  },
  {
   "cell_type": "markdown",
   "id": "58f2d413",
   "metadata": {},
   "source": [
    "Now, compare these values with the expected rewards from the true distribution of each slot machine. Are they close? \n",
    "\n",
    "*Hint: The 4-th expected reward would be computed as:\n",
    "$$\\frac{1}{3}0 + \\frac{1}{3} 20 + \\frac{1}{3}\\mathbb{E}[\\mathbb{U}[8,18]] =  \\frac{1}{3}0 + \\frac{1}{3} 20 + \\frac{1}{3}13 = 11.$$*"
   ]
  },
  {
   "cell_type": "markdown",
   "id": "a3931287",
   "metadata": {},
   "source": [
    "Before you look at the main notebook of this module (where you will see further tricks and visualizations), try to implement the following:\n",
    "- Compute the total reward amount over all the $10^4$ rounds.\n",
    "- Currently, we are \"argmax\" ing in the first step. But as we initialized all the values as $0$, the argmax will always start with the first slot machine. Try to start with different machines and check whether this changes the total revard.\n",
    "- Compare the total reward of this approach $\\epsilon = 0.1$ with different values $\\epsilon = 0, 0.05, 0.15, 0.5$.\n",
    "- Visualize the reward/time over time. \n",
    "- Finally: Note that in the beginning we sampled $10^4$ times from each slot machine, so overall we sampled $4*10^4$ times. This was done for the simplicity of presentation. This is not very efficient, as in reality, in each step we will only use one reward according to which arm we pull. Try to sample once in every \"pull\" instead of first sampling all and then picking.\n",
    "\n",
    "If you find interesting results, please share them with us :)!"
   ]
  },
  {
   "cell_type": "code",
   "execution_count": null,
   "id": "65067b6a",
   "metadata": {},
   "outputs": [],
   "source": []
  }
 ],
 "metadata": {
  "kernelspec": {
   "display_name": "Python 3 (ipykernel)",
   "language": "python",
   "name": "python3"
  },
  "language_info": {
   "codemirror_mode": {
    "name": "ipython",
    "version": 3
   },
   "file_extension": ".py",
   "mimetype": "text/x-python",
   "name": "python",
   "nbconvert_exporter": "python",
   "pygments_lexer": "ipython3",
   "version": "3.11.5"
  }
 },
 "nbformat": 4,
 "nbformat_minor": 5
}
