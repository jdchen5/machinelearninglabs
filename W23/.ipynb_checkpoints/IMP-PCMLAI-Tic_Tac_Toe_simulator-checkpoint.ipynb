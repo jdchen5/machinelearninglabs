{
 "cells": [
  {
   "cell_type": "code",
   "execution_count": 1,
   "metadata": {
    "id": "2k2pWskeuO8a"
   },
   "outputs": [
    {
     "ename": "ModuleNotFoundError",
     "evalue": "No module named 'aima3'",
     "output_type": "error",
     "traceback": [
      "\u001b[1;31m---------------------------------------------------------------------------\u001b[0m",
      "\u001b[1;31mModuleNotFoundError\u001b[0m                       Traceback (most recent call last)",
      "Cell \u001b[1;32mIn[1], line 1\u001b[0m\n\u001b[1;32m----> 1\u001b[0m \u001b[38;5;28;01mfrom\u001b[39;00m \u001b[38;5;21;01maima3\u001b[39;00m \u001b[38;5;28;01mimport\u001b[39;00m games\n",
      "\u001b[1;31mModuleNotFoundError\u001b[0m: No module named 'aima3'"
     ]
    }
   ],
   "source": [
    "from aima3 import games"
   ]
  },
  {
   "cell_type": "code",
   "execution_count": null,
   "metadata": {
    "id": "brxntpi9uO8a"
   },
   "outputs": [],
   "source": [
    "from collections import namedtuple, Counter, defaultdict\n",
    "import random\n",
    "import math\n",
    "import functools \n",
    "cache = functools.lru_cache(10**6)"
   ]
  },
  {
   "cell_type": "code",
   "execution_count": 2,
   "metadata": {
    "id": "UrFr1Pg1uO8a"
   },
   "outputs": [],
   "source": [
    "class Game:\n",
    "    \"\"\"\n",
    "    A game is similar to a search problem, but it has a terminal test instead of \n",
    "    a goal test, and a utility for each terminal state. To create a game, \n",
    "    subclass this class and implement `actions`, `result`, `is_terminal`, \n",
    "    and `utility`. You will also need to set the .initial attribute to the \n",
    "    initial state; this can be done in the constructor.\n",
    "    \n",
    "    Code sourced from the `aima3` library.\n",
    "    \"\"\"\n",
    "\n",
    "    def actions(self, state):\n",
    "        \"\"\"Return a collection of the allowable moves from this state.\"\"\"\n",
    "        raise NotImplementedError\n",
    "\n",
    "    def result(self, state, move):\n",
    "        \"\"\"Return the state that results from making a move from a state.\"\"\"\n",
    "        raise NotImplementedError\n",
    "\n",
    "    def is_terminal(self, state):\n",
    "        \"\"\"Return True if this is a final state for the game.\"\"\"\n",
    "        return not self.actions(state)\n",
    "    \n",
    "    def utility(self, state, player):\n",
    "        \"\"\"Return the value of this final state to player.\"\"\"\n",
    "        raise NotImplementedError"
   ]
  },
  {
   "cell_type": "code",
   "execution_count": null,
   "metadata": {
    "id": "PvGT_atYuO8b"
   },
   "outputs": [],
   "source": [
    "class Board(defaultdict):\n",
    "    \"\"\"A board has the player to move, a cached utility value, \n",
    "    and a dict of {(x, y): player} entries, where player is 'X' or 'O'.\"\"\"\n",
    "    empty = '.'\n",
    "    off = '#'\n",
    "    \n",
    "    def __init__(self, width=8, height=8, to_move=None, **kwds):\n",
    "        self.__dict__.update(width=width, height=height, to_move=to_move, **kwds)\n",
    "        \n",
    "    def new(self, changes: dict, **kwds) -> 'Board':\n",
    "        \"Given a dict of {(x, y): contents} changes, return a new Board with the changes.\"\n",
    "        board = Board(width=self.width, height=self.height, **kwds)\n",
    "        board.update(self)\n",
    "        board.update(changes)\n",
    "        return board\n",
    "\n",
    "    def __missing__(self, loc):\n",
    "        x, y = loc\n",
    "        if 0 <= x < self.width and 0 <= y < self.height:\n",
    "            return self.empty\n",
    "        else:\n",
    "            return self.off\n",
    "            \n",
    "    def __hash__(self): \n",
    "        return (hash(tuple(sorted(self.items()))) + hash(self.to_move)) \n",
    "    \n",
    "    def __repr__(self):\n",
    "        def row(y): return ' '.join(self[x, y] for x in range(self.width))\n",
    "        return '\\n'.join(map(row, range(self.height))) +  '\\n'"
   ]
  },
  {
   "cell_type": "code",
   "execution_count": null,
   "metadata": {
    "id": "RLyj3PUKuO8b"
   },
   "outputs": [],
   "source": [
    "class TicTacToe(games.Game):\n",
    "    \"\"\"Play TicTacToe on an `height` by `width` board, needing `k` in a row to win.\n",
    "    'X' plays first against 'O'.\"\"\"\n",
    "\n",
    "    def __init__(self, height=3, width=3, k=3):\n",
    "        self.k = k # k in a row\n",
    "        self.squares = {(x, y) for x in range(width) for y in range(height)}\n",
    "        self.initial = Board(height=height, width=width, to_move='X', utility=0)\n",
    "\n",
    "    def actions(self, board):\n",
    "        \"\"\"Legal moves are any square not yet taken.\"\"\"\n",
    "        return self.squares - set(board)\n",
    "\n",
    "    def result(self, board, square):\n",
    "        \"\"\"Place a marker for current player on square.\"\"\"\n",
    "        player = board.to_move\n",
    "        board = board.new({square: player}, to_move=('O' if player == 'X' else 'X'))\n",
    "        win = self.k_in_row(board, player, square, self.k)\n",
    "        board.utility = (0 if not win else +1 if player == 'X' else -1)\n",
    "        return board\n",
    "\n",
    "    def utility(self, board, player):\n",
    "        \"\"\"Return the value to player; 1 for win, -1 for loss, 0 otherwise.\"\"\"\n",
    "        return board.utility if player == 'X' else -board.utility\n",
    "\n",
    "    def is_terminal(self, board):\n",
    "        \"\"\"A board is a terminal state if it is won or there are no empty squares.\"\"\"\n",
    "        return board.utility != 0 or len(self.squares) == len(board)\n",
    "    \n",
    "    @staticmethod\n",
    "    def k_in_row(board, player, square, k):\n",
    "        \"\"\"True if player has k pieces in a line through square.\"\"\"\n",
    "        def in_row(x, y, dx, dy): \n",
    "            return 0 if board[x, y] != player else 1 + in_row(x + dx, y + dy, dx, dy)\n",
    "        return (any(in_row(*square, dx, dy) + in_row(*square, -dx, -dy) - 1 >= \n",
    "                    k for (dx, dy) in ((0, 1), (1, 0), (1, 1), (1, -1))))\n",
    "\n",
    "    def display(self, board): print(board)     "
   ]
  },
  {
   "cell_type": "code",
   "execution_count": null,
   "metadata": {
    "id": "dWiqB1jmuO8b"
   },
   "outputs": [],
   "source": [
    "inf = float('inf')\n",
    "\n",
    "def alphabeta_search(state, game):\n",
    "    \"\"\"Search game to determine best action; use alpha-beta pruning.\n",
    "    As in [Figure 5.7], this version searches all the way to the leaves.\"\"\"\n",
    "\n",
    "    player = game.to_move(state)\n",
    "\n",
    "    # Functions used by alphabeta\n",
    "    def max_value(state, alpha, beta):\n",
    "        if game.terminal_test(state):\n",
    "            return game.utility(state, player)\n",
    "        v = -inf\n",
    "        for a in game.actions(state):\n",
    "            v = max(v, min_value(game.result(state, a), alpha, beta))\n",
    "            if v >= beta:\n",
    "                return v\n",
    "            alpha = max(alpha, v)\n",
    "        return v\n",
    "\n",
    "    def min_value(state, alpha, beta):\n",
    "        if game.terminal_test(state):\n",
    "            return game.utility(state, player)\n",
    "        v = inf\n",
    "        for a in game.actions(state):\n",
    "            v = min(v, max_value(game.result(state, a), alpha, beta))\n",
    "            if v <= alpha:\n",
    "                return v\n",
    "            beta = min(beta, v)\n",
    "        return v\n",
    "\n",
    "    # Body of alphabeta_search:\n",
    "    best_score = -inf\n",
    "    beta = inf\n",
    "    best_action = None\n",
    "    for a in game.actions(state):\n",
    "        v = min_value(game.result(state, a), best_score, beta)\n",
    "        if v > best_score:\n",
    "            best_score = v\n",
    "            best_action = a\n",
    "    return best_action"
   ]
  },
  {
   "cell_type": "code",
   "execution_count": null,
   "metadata": {
    "id": "NWTcxO6DuO8c",
    "outputId": "746828e0-00fa-4b6b-dc0f-809cb5e1388b"
   },
   "outputs": [
    {
     "name": "stdout",
     "output_type": "stream",
     "text": [
      "Player X move: (1, 1)\n",
      ". . .\n",
      ". X .\n",
      ". . .\n",
      "\n",
      "Player O move: (2, 2)\n",
      ". . .\n",
      ". X .\n",
      ". . O\n",
      "\n",
      "Player X move: (0, 1)\n",
      ". . .\n",
      "X X .\n",
      ". . O\n",
      "\n",
      "Player O move: (1, 0)\n",
      ". O .\n",
      "X X .\n",
      ". . O\n",
      "\n",
      "Player X move: (0, 2)\n",
      ". O .\n",
      "X X .\n",
      "X . O\n",
      "\n",
      "Player O move: (1, 2)\n",
      ". O .\n",
      "X X .\n",
      "X O O\n",
      "\n",
      "Player X move: (2, 0)\n",
      ". O X\n",
      "X X .\n",
      "X O O\n",
      "\n"
     ]
    },
    {
     "data": {
      "text/plain": [
       "1"
      ]
     },
     "execution_count": 19,
     "metadata": {},
     "output_type": "execute_result"
    }
   ],
   "source": [
    "from games4e import alphabeta_search\n",
    "import utils \n",
    "\n",
    "def play_game(game, strategies: dict, verbose=False):\n",
    "    \"\"\"Play a turn-taking game. `strategies` is a {player_name: function} dict,\n",
    "    where function(state, game) is used to get the player's move.\"\"\"\n",
    "    state = game.initial\n",
    "    while not game.is_terminal(state):\n",
    "        player = state.to_move\n",
    "        # https://stackoverflow.com/questions/582056/getting-list-of-parameter-names-inside-python-function\n",
    "        # fcn.__code__.co_varnames\n",
    "        move = strategies[player](state, game)\n",
    "        state = game.result(state, move)\n",
    "        # print(game.actions(state), 'moves allowed')\n",
    "        #print('utility now:', state.utility) # reward\n",
    "        if verbose: \n",
    "            print('Player', player, 'move:', move)\n",
    "            print(state)\n",
    "            # print('Terminal state:', game.is_terminal(state))\n",
    "    return state\n",
    "\n",
    "def player(search_algorithm):\n",
    "    \"\"\"A game player who uses the specified search algorithm\"\"\"\n",
    "    player_move = lambda state, game: search_algorithm(state=state, game=game)[1]\n",
    "    return player_move\n",
    "\n",
    "def alphabeta_player(state, game):\n",
    "    return alphabeta_search(state, game)\n",
    "\n",
    "def random_player(state, game): return random.choice(list(game.actions(state)))\n",
    "\n",
    "ttt = TicTacToe()\n",
    "final_state = play_game(ttt, dict(X=alphabeta_player, O=random_player), verbose=True)#.utility\n",
    "final_state.utility"
   ]
  },
  {
   "cell_type": "markdown",
   "metadata": {
    "id": "9vtHA9vQuO8c"
   },
   "source": [
    "Q-learning agent:\n",
    "---------------------\n",
    "- play and store intermediate states\n",
    "- at the end of the game, depending on whether it's a win/draw/tie update states\n",
    "- explore vs exploit"
   ]
  },
  {
   "cell_type": "code",
   "execution_count": null,
   "metadata": {
    "id": "6564okReuO8d"
   },
   "outputs": [],
   "source": [
    "import ast\n",
    "import numpy as np\n",
    "from collections import defaultdict\n",
    "\n",
    "# adapted from: https://github.com/AmreshVenugopal/tic_tac_toe/blob/master/agent.py\n",
    "class QAgent(object):\n",
    "    def __init__(self, \n",
    "                 alpha=lambda n: 1./(1. + n), \n",
    "                 gamma=0.95, \n",
    "                 Ne=5, Rplus=1.0): # epsilon, learning rate, and discount rate\n",
    "        # https://en.wikipedia.org/wiki/Temporal_difference_learning\n",
    "        \"\"\"\n",
    "        eps: parameter for epsilon-greedy algo\n",
    "        gamma: discount rate for future rewards \n",
    "        sutton_rate: discount rate for TD-lambda learning\n",
    "        \"\"\"\n",
    "        self.Q = defaultdict(float) # action-state value function\n",
    "        self.Nsa = defaultdict(float) # state counter for q-map update\n",
    "        self.Ne = Ne\n",
    "        self.Rplus = Rplus # max theoretical reward of a state: in game playing that's +1 \n",
    "        self.trace = []\n",
    "        # self.states = dict() # largest update is the len of keys\n",
    "        \n",
    "        self.alpha = alpha\n",
    "        self.gamma = gamma\n",
    "        \n",
    "        if alpha:\n",
    "            self.alpha = alpha\n",
    "        else:\n",
    "            self.alpha = lambda n: 1. / (1 + n)  # convergence condition for the MDP\n",
    "         \n",
    "    # TODO: need to study this one\n",
    "    def f(self, u, n): # utility count\n",
    "        \"\"\" Exploration function. Returns fixed Rplus until\n",
    "        agent has visited state, action a Ne number of times.\n",
    "        Same as ADP agent in book.\"\"\"\n",
    "        if n < self.Ne:\n",
    "            return self.Rplus\n",
    "        else:\n",
    "            return u\n",
    "\n",
    "    def make_move(self, state, game):\n",
    "        s_key = hash(state)\n",
    "        move = max(game.actions(state), key=lambda a: self.f(self.Q[s_key, a], self.Nsa[s_key, a]))\n",
    "        # create trace\n",
    "        self.trace.append((state, move))\n",
    "        return move\n",
    "    \n",
    "    def train(self, game, state, reward):\n",
    "            # made a move: a, reached a new state s1, and received a reward r\n",
    "            # new state and new reward\n",
    "            # previous reward is zero\n",
    "            s1, r1 = state, reward # sensors measurements\n",
    "            s1_key = hash(s1)\n",
    "            alpha, gamma = self.alpha, self.gamma\n",
    "            Q, Nsa = self.Q, self.Nsa\n",
    "            \n",
    "            def get_max_q(s):\n",
    "                s_key = hash(s)\n",
    "                if game.is_terminal(s):\n",
    "                    # this is equivalent to: Q[s1, None] = r1 and action_list = {}\n",
    "                    max_q = r1\n",
    "                else:\n",
    "                    actions = game.actions(s)\n",
    "                    max_q = max(Q[s_key, a] for a in actions)\n",
    "                return max_q\n",
    "            \n",
    "            for (s, a) in reversed(self.trace): # s is a state key, and a an action\n",
    "                max_q = get_max_q(s1)\n",
    "                s_key = hash(s)\n",
    "                Nsa[s_key, a] += 1\n",
    "                lr = alpha(Nsa[s_key, a])\n",
    "                Q[s_key, a] += lr * (r1 + gamma * max_q - Q[s_key, a])\n",
    "                # final state swap\n",
    "                s1 = s"
   ]
  },
  {
   "cell_type": "code",
   "execution_count": null,
   "metadata": {
    "id": "q7iW-91HuO8d",
    "outputId": "d6d17ead-5e5a-4377-d32f-a5bebc91786d"
   },
   "outputs": [
    {
     "name": "stdout",
     "output_type": "stream",
     "text": [
      "Player X move: (0, 1)\n",
      ". . .\n",
      "X . .\n",
      ". . .\n",
      "\n",
      "Player O move: (2, 0)\n",
      ". . O\n",
      "X . .\n",
      ". . .\n",
      "\n",
      "Player X move: (1, 2)\n",
      ". . O\n",
      "X . .\n",
      ". X .\n",
      "\n",
      "Player O move: (1, 1)\n",
      ". . O\n",
      "X O .\n",
      ". X .\n",
      "\n",
      "Player X move: (0, 0)\n",
      "X . O\n",
      "X O .\n",
      ". X .\n",
      "\n",
      "Player O move: (1, 0)\n",
      "X O O\n",
      "X O .\n",
      ". X .\n",
      "\n",
      "Player X move: (0, 2)\n",
      "X O O\n",
      "X O .\n",
      "X X .\n",
      "\n"
     ]
    },
    {
     "data": {
      "text/plain": [
       "X O O\n",
       "X O .\n",
       "X X ."
      ]
     },
     "execution_count": 21,
     "metadata": {},
     "output_type": "execute_result"
    }
   ],
   "source": [
    "q_player = QAgent()\n",
    "play_game(game=ttt, strategies=dict(X=q_player.make_move, O=random_player), verbose=True)"
   ]
  },
  {
   "cell_type": "code",
   "execution_count": null,
   "metadata": {
    "id": "M2lXFjd5uO8d",
    "outputId": "5192d290-8ea2-4cd8-c533-f924ff702757"
   },
   "outputs": [
    {
     "name": "stdout",
     "output_type": "stream",
     "text": [
      "epoch: 0\n",
      "cumm {'me': 0, 'opponent': 1, 'draw': 0}\n",
      "relative {'me': 0, 'opponent': 1, 'draw': 0}\n",
      "\n",
      "epoch: 1\n",
      "cumm {'me': 0, 'opponent': 6, 'draw': 0}\n",
      "relative {'me': 0, 'opponent': 5, 'draw': 0}\n",
      "\n",
      "epoch: 2\n",
      "cumm {'me': 5, 'opponent': 6, 'draw': 0}\n",
      "relative {'me': 5, 'opponent': 0, 'draw': 0}\n",
      "\n",
      "epoch: 3\n",
      "cumm {'me': 9, 'opponent': 7, 'draw': 0}\n",
      "relative {'me': 4, 'opponent': 1, 'draw': 0}\n",
      "\n",
      "epoch: 4\n",
      "cumm {'me': 12, 'opponent': 9, 'draw': 0}\n",
      "relative {'me': 3, 'opponent': 2, 'draw': 0}\n",
      "\n",
      "epoch: 5\n",
      "cumm {'me': 13, 'opponent': 13, 'draw': 0}\n",
      "relative {'me': 1, 'opponent': 4, 'draw': 0}\n",
      "\n",
      "epoch: 6\n",
      "cumm {'me': 16, 'opponent': 15, 'draw': 0}\n",
      "relative {'me': 3, 'opponent': 2, 'draw': 0}\n",
      "\n",
      "epoch: 7\n",
      "cumm {'me': 18, 'opponent': 18, 'draw': 0}\n",
      "relative {'me': 2, 'opponent': 3, 'draw': 0}\n",
      "\n",
      "epoch: 8\n",
      "cumm {'me': 19, 'opponent': 18, 'draw': 4}\n",
      "relative {'me': 1, 'opponent': 0, 'draw': 4}\n",
      "\n",
      "epoch: 9\n",
      "cumm {'me': 19, 'opponent': 18, 'draw': 9}\n",
      "relative {'me': 0, 'opponent': 0, 'draw': 5}\n",
      "\n",
      "epoch: 10\n",
      "cumm {'me': 19, 'opponent': 18, 'draw': 14}\n",
      "relative {'me': 0, 'opponent': 0, 'draw': 5}\n",
      "\n",
      "epoch: 11\n",
      "cumm {'me': 19, 'opponent': 18, 'draw': 19}\n",
      "relative {'me': 0, 'opponent': 0, 'draw': 5}\n",
      "\n",
      "epoch: 12\n",
      "cumm {'me': 19, 'opponent': 18, 'draw': 24}\n",
      "relative {'me': 0, 'opponent': 0, 'draw': 5}\n",
      "\n",
      "epoch: 13\n",
      "cumm {'me': 19, 'opponent': 18, 'draw': 29}\n",
      "relative {'me': 0, 'opponent': 0, 'draw': 5}\n",
      "\n",
      "epoch: 14\n",
      "cumm {'me': 19, 'opponent': 18, 'draw': 34}\n",
      "relative {'me': 0, 'opponent': 0, 'draw': 5}\n",
      "\n",
      "epoch: 15\n",
      "cumm {'me': 19, 'opponent': 18, 'draw': 39}\n",
      "relative {'me': 0, 'opponent': 0, 'draw': 5}\n",
      "\n",
      "epoch: 16\n",
      "cumm {'me': 19, 'opponent': 18, 'draw': 44}\n",
      "relative {'me': 0, 'opponent': 0, 'draw': 5}\n",
      "\n",
      "epoch: 17\n",
      "cumm {'me': 19, 'opponent': 18, 'draw': 49}\n",
      "relative {'me': 0, 'opponent': 0, 'draw': 5}\n",
      "\n",
      "epoch: 18\n",
      "cumm {'me': 19, 'opponent': 18, 'draw': 54}\n",
      "relative {'me': 0, 'opponent': 0, 'draw': 5}\n",
      "\n",
      "epoch: 19\n",
      "cumm {'me': 19, 'opponent': 18, 'draw': 59}\n",
      "relative {'me': 0, 'opponent': 0, 'draw': 5}\n",
      "\n"
     ]
    }
   ],
   "source": [
    "import pprint\n",
    "pp = pprint.PrettyPrinter(indent=4)\n",
    "\n",
    "# training our agent\n",
    "epochs = 100\n",
    "# pickle this player\n",
    "player_1 = QAgent()\n",
    "player_2 = QAgent()\n",
    "game = TicTacToe()\n",
    "default = {'me': 0, 'opponent': 0, 'draw': 0}\n",
    "cum_score = dict(default)\n",
    "batch_score = dict(default)\n",
    "\n",
    "scores = []\n",
    "\n",
    "for _ in range(epochs):         \n",
    "    final_state = play_game(game, dict(X=player_1.make_move, O=player_2.make_move), \n",
    "                            verbose=False)\n",
    "    \n",
    "    final_score = final_state.utility \n",
    "    \n",
    "    train_score = final_score\n",
    "        \n",
    "    if final_score > 0:\n",
    "        cum_score['me'] += 1\n",
    "        batch_score['me'] += 1\n",
    "    elif final_score < 0:\n",
    "        cum_score['opponent'] += 1\n",
    "        batch_score['opponent'] += 1\n",
    "    else:\n",
    "        cum_score['draw'] += 1\n",
    "        batch_score['draw'] += 1\n",
    "    \n",
    "    if train_score != 0:\n",
    "        player_1.train(game, final_state, train_score)\n",
    "        player_2.train(game, final_state, -train_score)\n",
    "    else:\n",
    "        player_1.train(game, final_state, .5)\n",
    "        player_2.train(game, final_state, .5)\n",
    "        \n",
    "    scores.append((max(final_score, 0), min(final_score, 0), 1 if final_score == 0 else 0))\n",
    "    \n",
    "    # learner is regressing \n",
    "    if _ % 5 == 0:\n",
    "        print('epoch: %s' % (_ // 5))\n",
    "        print('cumm', cum_score)\n",
    "        print('relative', batch_score)\n",
    "        batch_score = dict(default) # reset batch score\n",
    "        print()"
   ]
  },
  {
   "cell_type": "code",
   "execution_count": null,
   "metadata": {
    "id": "39U-JjzOuO8e",
    "outputId": "b25b08a2-fdac-43ab-d805-bc11a3dd7503"
   },
   "outputs": [
    {
     "data": {
      "image/png": "[encoded data removed]",
      "text/plain": [
       "<Figure size 432x288 with 1 Axes>"
      ]
     },
     "metadata": {
      "needs_background": "light"
     },
     "output_type": "display_data"
    },
    {
     "data": {
      "text/plain": [
       "<Figure size 432x288 with 0 Axes>"
      ]
     },
     "metadata": {},
     "output_type": "display_data"
    }
   ],
   "source": [
    "# wrap this up as a function \n",
    "%matplotlib inline\n",
    "import matplotlib.pyplot as plt\n",
    "import numpy as np\n",
    "x = np.array(scores)\n",
    "ticks = range(len(x))\n",
    "bot1 = x[:,0]\n",
    "bot2 = x[:, 1]\n",
    "draw = x[:, 2]\n",
    "plt.plot(ticks, bot1, 'r--', label='bot1')\n",
    "plt.plot(ticks, bot2, 'b--', label='bot2')\n",
    "plt.plot(ticks, draw, 'g*', label='tie')\n",
    "plt.legend(loc='best')\n",
    "plt.show()\n",
    "plt.savefig('bot-vs-bot.png')"
   ]
  },
  {
   "cell_type": "code",
   "execution_count": null,
   "metadata": {
    "id": "xWI6iHKwuO8e"
   },
   "outputs": [],
   "source": [
    "# print(len(player_1.Q.keys()))\n",
    "# player_1.Q"
   ]
  },
  {
   "cell_type": "code",
   "execution_count": null,
   "metadata": {
    "id": "s00k8jwEuO8e",
    "outputId": "fba5f0d4-8d08-4282-a327-8f8a4b2e0c55"
   },
   "outputs": [
    {
     "name": "stdout",
     "output_type": "stream",
     "text": [
      "epoch: 0\n",
      "cumm {'me': 19, 'opponent': 19, 'draw': 63}\n",
      "relative {'me': 0, 'opponent': 1, 'draw': 4}\n",
      "\n",
      "epoch: 1\n",
      "cumm {'me': 19, 'opponent': 36, 'draw': 66}\n",
      "relative {'me': 0, 'opponent': 17, 'draw': 3}\n",
      "\n",
      "epoch: 2\n",
      "cumm {'me': 19, 'opponent': 53, 'draw': 69}\n",
      "relative {'me': 0, 'opponent': 17, 'draw': 3}\n",
      "\n",
      "epoch: 3\n",
      "cumm {'me': 19, 'opponent': 59, 'draw': 83}\n",
      "relative {'me': 0, 'opponent': 6, 'draw': 14}\n",
      "\n",
      "epoch: 4\n",
      "cumm {'me': 19, 'opponent': 59, 'draw': 103}\n",
      "relative {'me': 0, 'opponent': 0, 'draw': 20}\n",
      "\n"
     ]
    }
   ],
   "source": [
    "# against the alpha-beta pruning agent\n",
    "scores = []\n",
    "\n",
    "longer_epochs = epochs\n",
    "\n",
    "for _ in range(longer_epochs):     \n",
    "    final_state = play_game(game, dict(X=player_1.make_move, O=alphabeta_player), verbose=False)\n",
    "    \n",
    "    final_score = final_state.utility \n",
    "    \n",
    "    train_score = final_score\n",
    "        \n",
    "    if final_score > 0:\n",
    "        cum_score['me'] += 1\n",
    "        batch_score['me'] += 1\n",
    "    elif final_score < 0:\n",
    "        cum_score['opponent'] += 1\n",
    "        batch_score['opponent'] += 1\n",
    "    else:\n",
    "        cum_score['draw'] += 1\n",
    "        batch_score['draw'] += 1\n",
    "    \n",
    "    if train_score != 0:\n",
    "        player_1.train(game, final_state, train_score)\n",
    "        #player_2.train(game, final_state, -train_score)\n",
    "    else:\n",
    "        player_1.train(game, final_state, .5)\n",
    "        #player_2.train(game, final_state, .5)\n",
    "        \n",
    "    scores.append((max(final_score, 0), min(final_score, 0), 1 if final_score == 0 else 0))\n",
    "    \n",
    "    # learner is regressing \n",
    "    if _ % 20 == 0:\n",
    "        print('epoch: %s' % (_ // 20))\n",
    "        # cumm = round(cum_score['me'] / (_ + 1), 3)\n",
    "        # batch = round(batch_score['me'] / 100, 3)\n",
    "        # pp.pprint('no. of wins: %s' % str(cumm))\n",
    "        # pp.pprint('score relative to last epoch: %s'% str(batch))\n",
    "        print('cumm', cum_score)\n",
    "        print('relative', batch_score)\n",
    "        batch_score = dict(default) # reset batch score\n",
    "        print()\n",
    "        # pp.pprint('current final score: %s' % str(final_score))"
   ]
  },
  {
   "cell_type": "code",
   "execution_count": null,
   "metadata": {
    "id": "ZcnluwaUuO8f",
    "outputId": "132a9168-3534-4117-c327-2957f5bf4e16"
   },
   "outputs": [
    {
     "data": {
      "image/png": "[encoded data removed]",
      "text/plain": [
       "<Figure size 432x288 with 1 Axes>"
      ]
     },
     "metadata": {
      "needs_background": "light"
     },
     "output_type": "display_data"
    },
    {
     "data": {
      "text/plain": [
       "<Figure size 432x288 with 0 Axes>"
      ]
     },
     "metadata": {},
     "output_type": "display_data"
    }
   ],
   "source": [
    "# wrap this up as a function \n",
    "import matplotlib.pyplot as plt\n",
    "import numpy as np\n",
    "x = np.array(scores)\n",
    "ticks = range(len(x))\n",
    "bot1 = x[:,0]\n",
    "bot2 = x[:, 1]\n",
    "draw = x[:, 2]\n",
    "plt.plot(ticks, bot1, 'r--', label='bot1')\n",
    "plt.plot(ticks, bot2, 'b--', label='bot2')\n",
    "plt.plot(ticks, draw, 'g*', label='tie')\n",
    "plt.legend(loc='best')\n",
    "plt.show()\n",
    "plt.savefig('bot-vs-alpha_beta_pruning.png')"
   ]
  },
  {
   "cell_type": "markdown",
   "metadata": {
    "id": "q8VWWiKXuO8f"
   },
   "source": [
    "Challenge\n",
    "------------\n",
    "Using the templates above, can you implement a battleship playing robot. Recall that \n",
    "\n",
    "> **Game rules**: Battleship is a two-player game. Both players begin with a finite regular grid of positions — hidden from their opponent — and a set of “ships”. Each player receives the same quantity of each type of ship. At the start of the game, each player places the ships on their grid in whatever locations they like, subject to some constraints: A ship of length 2, say, must occupy two contiguous indices on the board, and no two ships can occupy the same grid location. Once placed, the ships are fixed in position for the remainder of the game. At this point, game play begins, with the goal being to sink the opponent ships. The locations of the enemy ships are initially unknown because we cannot see the opponent’s grid. To find the ships, one “bombs” indices on the enemy grid — with bombing occurs in turns. When an opponent index is bombed, the opponent must truthfully state whether or not a ship was located at the index bombed. Whoever succeeds in bombing all their opponent’s occupied indices first wins the game. Therefore, the problem reduces to finding the enemy ship indices as quickly as possible.\n",
    "\n",
    "You can always start with simpler, smaller versions of the game. "
   ]
  },
  {
   "cell_type": "markdown",
   "metadata": {
    "id": "J2WqUn8OuO8m"
   },
   "source": []
  },
  {
   "cell_type": "markdown",
   "metadata": {
    "id": "vBG1_0y4uO8n"
   },
   "source": [
    "Super Challenge\n",
    "-------------------- \n",
    "Can you build a bot to play [minesweeper](http://www.freeminesweeper.org/minecore.html)?  "
   ]
  },
  {
   "cell_type": "markdown",
   "metadata": {
    "id": "6EyjIp1fuO8n"
   },
   "source": [
    "Recall the [rules](http://www.freeminesweeper.org/help/minehelpinstructions.html):\n",
    "\n",
    "**Instructions for MineSweeper**\n",
    "\n",
    "Quick Start:\n",
    "\n",
    "    You are presented with a board of squares. Some squares contain mines (bombs), others don't. If you click on a square containing a bomb, you lose. If you manage to click all the squares (without clicking on any bombs) you win.\n",
    "    Clicking a square which doesn't have a bomb reveals the number of neighbouring squares containing bombs. Use this information plus some guess work to avoid the bombs.\n",
    "    To open a square, point at the square and click on it. To mark a square you think is a bomb, point and right-click (or hover with the mouse and press Space).\n",
    "\n",
    "Detailed Instructions:\n",
    "\n",
    "    A squares \"neighbours\" are the squares adjacent above, below, left, right, and all 4 diagonals. Squares on the sides of the board or in a corner have fewer neighbors. The board does not wrap around the edges.\n",
    "    If you open a square with 0 neighboring bombs, all its neighbors will automatically open. This can cause a large area to automatically open.\n",
    "    To remove a bomb marker from a square, point at it and right-click again.\n",
    "    The first square you open is never a bomb.\n",
    "    If you mark a bomb incorrectly, you will have to correct the mistake before you can win. Incorrect bomb marking doesn't kill you, but it can lead to mistakes which do.\n",
    "    You don't have to mark all the bombs to win; you just need to open all non-bomb squares.\n",
    "    Right-clicking twice will give you a question mark symbol which can be useful if you are unsure about a square\n",
    "    Click the yellow happy face to start a new game.\n",
    "\n",
    "Status Information:\n",
    "\n",
    "    The upper left corner contains the number of bombs left to find. The number will update as you mark and unmark squares.\n",
    "    The upper right corner contains a time counter. The timer will max out at 999 (16 minutes 39 seconds).\n",
    "    Click on the time to switch to the number of moves counter. Click again to switch back to the time.\n",
    "\n",
    "Options and Enhancements:\n",
    "\n",
    "    Learning Mode - Show the contents of all unopened cells. Scores do not count towards high scores, and the Opening Move option does not apply.\n",
    "    Opening Move - Not only will the first square never be a bomb, but neither will any of the neighbors.\n",
    "    Marks (?) - Right clicking on a marked bomb will change the flag into a question mark. Right clicking again will change it back into an unmarked square.\n",
    "    Area Open - If an open square has the correct number of marked neighboring bombs, click on the open square to open all remaining unopened neighbor squares all at once. If an incorrect number of neighbors are marked, or all neighbors are marked or open, clicking the square has no effect. If an incorrect neighbor is marked, this will cause instant death.\n",
    "    Open Remaining - Once the correct number of bombs have been marked, the bomb counter will turn blue. Click on the blue bomb counter to open all remaining cells. If any bombs are incorrectly marked, this will cause instant death."
   ]
  }
 ],
 "metadata": {
  "colab": {
   "collapsed_sections": [],
   "provenance": []
  },
  "kernelspec": {
   "display_name": "Python 3 (ipykernel)",
   "language": "python",
   "name": "python3"
  },
  "language_info": {
   "codemirror_mode": {
    "name": "ipython",
    "version": 3
   },
   "file_extension": ".py",
   "mimetype": "text/x-python",
   "name": "python",
   "nbconvert_exporter": "python",
   "pygments_lexer": "ipython3",
   "version": "3.11.5"
  }
 },
 "nbformat": 4,
 "nbformat_minor": 1
}
