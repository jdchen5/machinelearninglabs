{
 "cells": [
  {
   "cell_type": "code",
   "execution_count": 7,
   "metadata": {},
   "outputs": [
    {
     "name": "stdout",
     "output_type": "stream",
     "text": [
      "# packages in environment at C:\\ProgramData\\anaconda3:\n",
      "#\n",
      "# Name                    Version                   Build  Channel\n",
      "scikit-learn              1.2.1           py310hd77b12b_0  \n",
      "scikit-learn-intelex      2023.0.2        py310haa95532_0  \n"
     ]
    }
   ],
   "source": [
    "#!pip install -U scikit-learn\n",
    "#!conda list scikit-learn"
   ]
  },
  {
   "cell_type": "code",
   "execution_count": 8,
   "metadata": {
    "id": "D7vdQZ6FxEiR"
   },
   "outputs": [],
   "source": [
    "import numpy as np\n",
    "import pandas as pd\n",
    "from sklearn.preprocessing import StandardScaler\n",
    "from sklearn.linear_model import LogisticRegression\n",
    "from sklearn.metrics import confusion_matrix, accuracy_score\n",
    "import matplotlib.pyplot as plt"
   ]
  },
  {
   "cell_type": "markdown",
   "metadata": {
    "id": "-R7jPtW2Z0iz"
   },
   "source": [
    "# Introduction\n",
    "\n",
    "In this notebook we will investigate Logistic Regression on the Pima Indians Diabetes dataset (https://www.kaggle.com/uciml/pima-indians-diabetes-database) where we will try to predict the onset of Diabetes, based on certain diagnostics and measurements.\n",
    "\n",
    "Begin by downloading, and importing the data set.\n",
    "\n",
    "This will be followed by a short recap of logistic regression, and the training procedure. The first set of exercises will ask you to submit a short proof that the sigmoid function always lies between 0 and 1, and also to fit the data-set to a Logistic Regression model.\n",
    "\n",
    "We then look at choosing the best model for classification. For this, we will consider the same variable selection as seen in the first notebook. We will then have a short introduction on regularization. This is a very important concept in Machine Learning, it can be used to avoid over-fitting, as well as for variable selection (which we will not cover). The second set of exercises consists in choosing the best regularization constant, and exploring its effect on the model.\n",
    "\n",
    "Finally, we will look at *interpreting* the output of the model to make decisions. We do this by changing the probability thresholds for classification, and explain how we will choose them by considering risk of misclassification."
   ]
  },
  {
   "cell_type": "markdown",
   "metadata": {
    "id": "TnSu23jhOVZA"
   },
   "source": [
    "# Downloading and pre-processing the data"
   ]
  },
  {
   "cell_type": "code",
   "execution_count": 9,
   "metadata": {
    "colab": {
     "base_uri": "https://localhost:8080/",
     "height": 204
    },
    "id": "eYNRqkcqyH0M",
    "outputId": "c55aa28a-7d6e-4c78-b149-19dbe69b9d0f"
   },
   "outputs": [
    {
     "data": {
      "text/html": [
       "<div>\n",
       "<style scoped>\n",
       "    .dataframe tbody tr th:only-of-type {\n",
       "        vertical-align: middle;\n",
       "    }\n",
       "\n",
       "    .dataframe tbody tr th {\n",
       "        vertical-align: top;\n",
       "    }\n",
       "\n",
       "    .dataframe thead th {\n",
       "        text-align: right;\n",
       "    }\n",
       "</style>\n",
       "<table border=\"1\" class=\"dataframe\">\n",
       "  <thead>\n",
       "    <tr style=\"text-align: right;\">\n",
       "      <th></th>\n",
       "      <th>Pregnancies</th>\n",
       "      <th>Glucose</th>\n",
       "      <th>BloodPressure</th>\n",
       "      <th>SkinThickness</th>\n",
       "      <th>Insulin</th>\n",
       "      <th>BMI</th>\n",
       "      <th>DiabetesPedigreeFunction</th>\n",
       "      <th>Age</th>\n",
       "      <th>Outcome</th>\n",
       "    </tr>\n",
       "  </thead>\n",
       "  <tbody>\n",
       "    <tr>\n",
       "      <th>0</th>\n",
       "      <td>6</td>\n",
       "      <td>148</td>\n",
       "      <td>72</td>\n",
       "      <td>35</td>\n",
       "      <td>0</td>\n",
       "      <td>33.6</td>\n",
       "      <td>0.627</td>\n",
       "      <td>50</td>\n",
       "      <td>1</td>\n",
       "    </tr>\n",
       "    <tr>\n",
       "      <th>1</th>\n",
       "      <td>1</td>\n",
       "      <td>85</td>\n",
       "      <td>66</td>\n",
       "      <td>29</td>\n",
       "      <td>0</td>\n",
       "      <td>26.6</td>\n",
       "      <td>0.351</td>\n",
       "      <td>31</td>\n",
       "      <td>0</td>\n",
       "    </tr>\n",
       "    <tr>\n",
       "      <th>2</th>\n",
       "      <td>8</td>\n",
       "      <td>183</td>\n",
       "      <td>64</td>\n",
       "      <td>0</td>\n",
       "      <td>0</td>\n",
       "      <td>23.3</td>\n",
       "      <td>0.672</td>\n",
       "      <td>32</td>\n",
       "      <td>1</td>\n",
       "    </tr>\n",
       "    <tr>\n",
       "      <th>3</th>\n",
       "      <td>1</td>\n",
       "      <td>89</td>\n",
       "      <td>66</td>\n",
       "      <td>23</td>\n",
       "      <td>94</td>\n",
       "      <td>28.1</td>\n",
       "      <td>0.167</td>\n",
       "      <td>21</td>\n",
       "      <td>0</td>\n",
       "    </tr>\n",
       "    <tr>\n",
       "      <th>4</th>\n",
       "      <td>0</td>\n",
       "      <td>137</td>\n",
       "      <td>40</td>\n",
       "      <td>35</td>\n",
       "      <td>168</td>\n",
       "      <td>43.1</td>\n",
       "      <td>2.288</td>\n",
       "      <td>33</td>\n",
       "      <td>1</td>\n",
       "    </tr>\n",
       "  </tbody>\n",
       "</table>\n",
       "</div>"
      ],
      "text/plain": [
       "   Pregnancies  Glucose  BloodPressure  SkinThickness  Insulin   BMI  \\\n",
       "0            6      148             72             35        0  33.6   \n",
       "1            1       85             66             29        0  26.6   \n",
       "2            8      183             64              0        0  23.3   \n",
       "3            1       89             66             23       94  28.1   \n",
       "4            0      137             40             35      168  43.1   \n",
       "\n",
       "   DiabetesPedigreeFunction  Age  Outcome  \n",
       "0                     0.627   50        1  \n",
       "1                     0.351   31        0  \n",
       "2                     0.672   32        1  \n",
       "3                     0.167   21        0  \n",
       "4                     2.288   33        1  "
      ]
     },
     "execution_count": 9,
     "metadata": {},
     "output_type": "execute_result"
    }
   ],
   "source": [
    "data = pd.read_csv('data/diabetes.csv')\n",
    "data.head()"
   ]
  },
  {
   "cell_type": "markdown",
   "metadata": {
    "id": "E0qemfflyYSb"
   },
   "source": [
    "We must then split the data into inputs and outputs. We also remove the Insulin variable, since the data is incomplete (there are ways of dealing with incomplete data, but that is not the purpose of this notebook)."
   ]
  },
  {
   "cell_type": "code",
   "execution_count": 10,
   "metadata": {
    "id": "U6z2SNgVyWJX"
   },
   "outputs": [],
   "source": [
    "outputs = ['Outcome']\n",
    "inputs = ['Pregnancies', 'Glucose', 'BloodPressure', 'SkinThickness', 'BMI', 'DiabetesPedigreeFunction', 'Age']\n",
    "\n",
    "X = data[inputs]\n",
    "Y = data[outputs].to_numpy().reshape(-1)"
   ]
  },
  {
   "cell_type": "markdown",
   "metadata": {
    "id": "OqX_Zn3Hxhfd"
   },
   "source": [
    "We will now scale the data. Can you explain why this step needs to be done?"
   ]
  },
  {
   "cell_type": "code",
   "execution_count": 11,
   "metadata": {
    "id": "RdH34bJixuRh"
   },
   "outputs": [],
   "source": [
    "scaler = StandardScaler().fit(X)\n",
    "X = scaler.transform(X)"
   ]
  },
  {
   "cell_type": "markdown",
   "metadata": {
    "id": "iyPlsKPP608P"
   },
   "source": [
    "Finally, we divide it into a 80 / 20 training and testing split."
   ]
  },
  {
   "cell_type": "code",
   "execution_count": 12,
   "metadata": {
    "id": "XrzVsMpryuxB"
   },
   "outputs": [],
   "source": [
    "num_of_points = len(Y)\n",
    "\n",
    "idx = list(range(num_of_points))\n",
    "np.random.shuffle(idx)\n",
    "idx_train = idx[:int(num_of_points * 0.8)]\n",
    "idx_train.sort()\n",
    "idx_test = idx[int(num_of_points * 0.8):]\n",
    "idx_test.sort()\n",
    "\n",
    "X_train = X[idx_train, :]\n",
    "X_test = X[idx_test, :]\n",
    "\n",
    "Y_train = Y[idx_train]\n",
    "Y_test = Y[idx_test]"
   ]
  },
  {
   "cell_type": "markdown",
   "metadata": {
    "id": "wAmjUYZjxPVF"
   },
   "source": [
    "# Logistic Regression\n",
    "\n",
    "Recall that logistic regression is a model that is very well suited to problems where we have a binary output. That is, we are trying to use certain predictors to classify a particular input into one of two classes. We can write this down more formally.\n",
    "\n",
    "Assume we have a set of predictors $x \\in \\mathcal{X}$, and a set of outputs $y \\in \\{0, 1 \\}$. We are then interested in estimating the probability of belonging to a certain class, that is, we want to build an estimator, $\\hat{p}(x)$, such that:\n",
    "$$\n",
    "\\hat{p}(x) = \\mathbb{P}( Y = 1 | X = x )\n",
    "$$\n",
    "\n",
    "There are many real-world scenarios where this might be the case. Consider for example, we might be interested in predicting if a particular individual infected with COVID will need hospital treatment. In this case, we would define $Y = 1$ the scenario where the individual requires treatment, and $Y = 0$ otherwise. For predictors we could use $X = $ age. \n",
    "\n",
    "We could decide to use linear regression, that is, a model of the form:\n",
    "$$\n",
    "\\hat{p}(x) = \\beta_0 + x \\beta_1\n",
    "$$\n",
    "\n",
    "However, we run into trouble. Probabilities must lie between 0 and 1! The linear model is unable to incorporate this property into its predictions!\n",
    "\n",
    "We can instead wrap our linear model in a function that guarantees all our outputs lie between 0 and 1. We will be using the sigmoid function, defined as:\n",
    "$$\n",
    "\\sigma(x) = \\frac{1}{1 + e^{-x}}\n",
    "$$\n",
    "\n",
    "After wrapping the linear model, we obtain the logistic regression model, given by:\n",
    "$$\n",
    "\\hat{p}(x) = \\sigma(\\beta_0 + x \\beta_1)\n",
    "$$\n",
    "\n",
    "Which we can write as:\n",
    "$$\n",
    "\\hat{p}(x) = \\frac{e^{\\beta_0 + x \\beta_1}}{1 + e^{\\beta_0 + x \\beta_1}}\n",
    "$$"
   ]
  },
  {
   "cell_type": "markdown",
   "metadata": {
    "id": "l9LRuT3WCn7J"
   },
   "source": [
    "# Training the function\n",
    "\n",
    "The parameters of a linear regression model can be estimated using least squares. However, it is not the best optimiser for logistic regression. This is because we are not estimating $Y$ directly, instead we are estimating $\\textit{the probability}$ of Y. This means maximum likelihood estimation is much more appropriate for logistic regression. We can write the likelihood function easily:\n",
    "$$\n",
    "\\mathcal{L} = \\prod_{i : y_i = 1} \\mathbb{P}(Y = 1 | X = x_i) \\prod_{i' : y_{i'} = 0} (1 - \\mathbb{P}(Y = 0 | X = x_{i'}))\n",
    "$$\n",
    "\n",
    "Instead of maximising this directly, it is more common to minimise the negative log-likelihood:\n",
    "$$\n",
    "\\ell(\\beta) = - \\log \\mathcal{L}(\\beta) = - \\sum_{i : y_i = 1} \\log\\sigma(x_i^T \\beta) - \\sum_{i' : y_{i'} = 0}\\log \\sigma(x_{i'}^T\\beta)\n",
    "$$\n",
    "So that we choose our parameters, $\\hat{\\beta}$:\n",
    "$$\n",
    "\\hat{\\beta} = \\arg\\min_{\\beta} \\ell(\\beta)\n",
    "$$\n",
    "\n",
    "Finding the minimum can easily be done using any gradient-based optimiser. In addition, we can also add regularization, which helps us avoid overfitting. We will begin by investigating this."
   ]
  },
  {
   "cell_type": "markdown",
   "metadata": {
    "id": "R90i_2UNu_0l"
   },
   "source": [
    "## Exercise 1:\n",
    "\n",
    "1. Prove that the sigmoid function always gives an output between 0 and 1. (Hint: consider the limits as $x \\rightarrow \\pm \\infty$, and show the function is always increasing).\n",
    "\n",
    "2. Using scikit.learn's LogisticRegression class, train a model on the data-set above, make sure you are not regularizing (read the sklearn's documentation! - https://scikit-learn.org/stable/modules/generated/sklearn.linear_model.LogisticRegression.html). Show the model's training and test accuracy, and build a confusion matrix for each set. (Hint: the functions required are $ \\texttt{.fit()} $, $\\texttt{.predict()}$, and $\\texttt{confusion\\_matrix()}$."
   ]
  },
  {
   "cell_type": "code",
   "execution_count": 13,
   "metadata": {},
   "outputs": [
    {
     "name": "stdout",
     "output_type": "stream",
     "text": [
      "Training Accuracy: 0.7736156351791531\n",
      "Test Accuracy: 0.7792207792207793\n"
     ]
    },
    {
     "name": "stderr",
     "output_type": "stream",
     "text": [
      "C:\\Users\\jdche\\AppData\\Roaming\\Python\\Python310\\site-packages\\sklearn\\linear_model\\_logistic.py:1183: FutureWarning: `penalty='none'`has been deprecated in 1.2 and will be removed in 1.4. To keep the past behaviour, set `penalty=None`.\n",
      "  warnings.warn(\n"
     ]
    }
   ],
   "source": [
    "#Answer for Exercise 1: X_train, X_test, Y_train, Y_test defined in the previous code\n",
    "\n",
    "# Train the Logistic Regression model without regularisation\n",
    "logreg = LogisticRegression(penalty='none', solver='lbfgs', max_iter=1000)\n",
    "logreg.fit(X_train, Y_train)\n",
    "\n",
    "# Predict on the training and test sets\n",
    "Y_train_pred = logreg.predict(X_train)\n",
    "Y_test_pred = logreg.predict(X_test)\n",
    "\n",
    "# Calculate and print the accuracy for both sets\n",
    "train_accuracy = accuracy_score(Y_train, Y_train_pred)\n",
    "test_accuracy = accuracy_score(Y_test, Y_test_pred)\n",
    "print(f\"Training Accuracy: {train_accuracy}\")\n",
    "print(f\"Test Accuracy: {test_accuracy}\")"
   ]
  },
  {
   "cell_type": "markdown",
   "metadata": {
    "id": "BCvHNIle66HT"
   },
   "source": [
    "## Excercise 2\n",
    "\n",
    "Regularization happens when we add a penalty to the loss function. We do this to decrease the complexity of the model, in an attempt to stop the model from over-fitting. Ideally, this should lead to better generalization. To be more precise, for L2 regularization we will now choose our parameters by minimizing the modified loss function:\n",
    "$$\n",
    "\\hat{\\beta} = \\arg\\min_\\beta \\{ C \\cdot \\ell(\\beta) + \\frac{1}{2}\\beta^T \\beta \\}\n",
    "$$\n",
    "\n",
    "Note that the new penalization means that $\\beta$ should be closer to zero (this is what we mean by 'a simpler model').\n",
    "\n",
    "Investigate the effect of L2 regularization. In particular, focus on the how the testing accuracy changes for different values of $C$. Create a plot that shows how $C$ varies, starting at $10^{-6}$ and ending at $10^{-2}$.\n",
    "\n",
    "1. What behaviour do you observe as you increase regularization (that is, as $C$ becomes small)?\n",
    "\n",
    "[JC Answer]: As C decreases, the test accuracy initially remains relatively constant and low.\n",
    "\n",
    "\n",
    "2. From your investigation, choose the best regularization constant. How does it compare with previous testing accuracy?\n",
    "\n",
    "[JC Answer]: The best regularisation constant from your investigation is C=0.01, as it provided the highest test accuracy of approximately 76.62%. Comparing this with the previous testing accuracy (without regularisation), which was approximately 77.92%. \n",
    "\n",
    "3. For which values of $C$ can you recover your previous training accuracy? Can you explain why does this happen?\n",
    "\n",
    "[JC Answer]: In general, if C increases, the model will become more complex and is more likely to fit the training data better, potentially matching or surpassing the previous training accuracy. Since the previous training accuracy without regularisation was higher, we will need a higher C. If the model becomes less constrained by the regularised penalty and can more freely adjust its parameters to fit the training data. In machine learning, this is a delicate balance: while it may improve training accuracy, it can also lead to overfitting."
   ]
  },
  {
   "cell_type": "code",
   "execution_count": 14,
   "metadata": {},
   "outputs": [
    {
     "data": {
      "image/png": "[encoded data removed]",
      "text/plain": [
       "<Figure size 1000x600 with 1 Axes>"
      ]
     },
     "metadata": {},
     "output_type": "display_data"
    },
    {
     "name": "stdout",
     "output_type": "stream",
     "text": [
      "The best testing accuracy is 0.7662337662337663 for C = 0.01\n"
     ]
    }
   ],
   "source": [
    "#Answer for Exercise 2\n",
    "\n",
    "# Values of C to test\n",
    "C_values = np.logspace(-6, -2, 10)\n",
    "test_accuracies = []\n",
    "\n",
    "# Loop over the values of C\n",
    "for C in C_values:\n",
    "    # Create and fit the logistic regression model\n",
    "    model = LogisticRegression(C=C, penalty='l2', solver='lbfgs', max_iter=1000)\n",
    "    model.fit(X_train, Y_train)\n",
    "    \n",
    "    # Predict on the test set\n",
    "    Y_pred = model.predict(X_test)\n",
    "    \n",
    "    # Calculate the accuracy and record it\n",
    "    accuracy = accuracy_score(Y_test, Y_pred)\n",
    "    test_accuracies.append(accuracy)\n",
    "\n",
    "# Plot the accuracy as a function of C\n",
    "plt.figure(figsize=(10, 6))\n",
    "plt.semilogx(C_values, test_accuracies, marker='o')\n",
    "plt.xlabel('C (Inverse of regularization strength)')\n",
    "plt.ylabel('Test Accuracy')\n",
    "plt.title('Test Accuracy vs. Regularization Strength (C)')\n",
    "plt.grid(True)\n",
    "plt.show()\n",
    "\n",
    "# Find the best C value and its corresponding accuracy\n",
    "best_accuracy = max(test_accuracies)\n",
    "best_C = C_values[test_accuracies.index(best_accuracy)]\n",
    "print(f\"The best testing accuracy is {best_accuracy} for C = {best_C}\")"
   ]
  },
  {
   "cell_type": "markdown",
   "metadata": {
    "id": "SWRSCSFf--br"
   },
   "source": [
    "# Probability Thresholds"
   ]
  },
  {
   "cell_type": "markdown",
   "metadata": {
    "id": "pv_JxY-R_n0r"
   },
   "source": [
    "Recall that we are not estimating $Y$ directly, but instead the probability of $Y = 1 | X$. So far, our classification has been based on the which class has the higher probability. In other words, we have been using the classifier:\n",
    "$$\n",
    "  \\hat{Y}(x) =\n",
    "    \\begin{cases}\n",
    "      0 & \\text{if } \\hat{p}(x) < 0.5 \\\\\n",
    "      1 & \\text{if } \\hat{p}(x) \\geq 0.5 \\\\\n",
    "    \\end{cases}       \n",
    "$$\n",
    "\n",
    "However, we must also consider that the probability threshold of 0.5 might not be optimal. Indeed, consider our current data-set. Let's say we were going to use our model to decide who should go see a doctor and possibly get preventive treatment. In this case, incorrectly predicting that someone will not have Diabetes, when they will, is very costly - the person might face severe health consequences. On the other hand, incorrectly saying someone will have Diabetes, when they won't, is not as bad because the doctor would be able to catch this, and we would just waste a little time. \n",
    "\n",
    "This is one of the greatest strengths of logistic regression. The way we define and train them, mean we obtain good uncertainty estimates, so that we might make risk assessments!\n",
    "\n",
    "## Exercise 3\n",
    "\n",
    "1. Train a new logistic regression model, using the best regularization constant you found in exercise 2.\n",
    "\n",
    "2. Build a new function which takes as inputs: your Logistic Regression model, a set of $X$ values in which to predict, and a probability threshold $T_p$. The function should return an array of predictions based on the new probability threshold. (Hint:  use the $\\texttt{predict\\_proba}$ method in $\\texttt{LogisticRegression}$)\n",
    "\n",
    "3. Investigate the effect of the probability threshold on the number of False Negatives and False Positives. Based on this analysis, what probability threshold would YOU choose? What kind of information would you want to make such a decision?\n",
    "\n",
    "[JC Answer]: At lower thresholds (0.1 to 0.4), we have very few False Negatives (< 30), which means you're capturing most of the positive cases. However, we have a high number of False Positives (>= 10), which indicates that many negative cases are being incorrectly classified as positive.\n",
    "\n",
    "As the threshold increases (0.5 to 0.9), the number of False Positives decreases significantly (<10), which is good because you're reducing the number of negative cases that are incorrectly classified as positive. However, there's an increase in the number of False Negatives(>30), meaning that some positive cases are being missed.\n",
    "\n",
    "In the medical context, False Negatives might be more costly because failing to identify a sick patient could have serious health consequences. Hence, we need to consult with medical professionals and further cost-benefit analysis is required to decide the threshold. \n"
   ]
  },
  {
   "cell_type": "code",
   "execution_count": 15,
   "metadata": {},
   "outputs": [
    {
     "name": "stdout",
     "output_type": "stream",
     "text": [
      "False Negatives: 49\n",
      "False Positives: 1\n",
      "Threshold: 0.1, FN: 1, FP: 91\n",
      "Threshold: 0.2, FN: 2, FP: 61\n",
      "Threshold: 0.3, FN: 10, FP: 26\n",
      "Threshold: 0.4, FN: 22, FP: 10\n",
      "Threshold: 0.5, FN: 31, FP: 5\n",
      "Threshold: 0.6, FN: 49, FP: 1\n",
      "Threshold: 0.7, FN: 53, FP: 0\n",
      "Threshold: 0.8, FN: 57, FP: 0\n",
      "Threshold: 0.9, FN: 58, FP: 0\n"
     ]
    }
   ],
   "source": [
    "#Answer for exercise 3\n",
    "\n",
    "# Train the logistic regression model with the best regularisation constant found in Exercise 2\n",
    "best_C = 0.01  # Replace with the best C value you found\n",
    "model = LogisticRegression(C=best_C, penalty='l2', solver='lbfgs', max_iter=1000)\n",
    "model.fit(X_train, Y_train)\n",
    "\n",
    "# Define a function to use a custom probability threshold for predictions\n",
    "def predict_with_threshold(logreg_model, X_values, threshold):\n",
    "    # Obtain probability estimates for the positive class\n",
    "    prob_estimates = logreg_model.predict_proba(X_values)[:, 1]\n",
    "    # Convert probabilities to binary predictions based on the threshold\n",
    "    predictions = (prob_estimates >= threshold).astype(int)\n",
    "    return predictions\n",
    "\n",
    "# Example usage with a custom probability threshold\n",
    "threshold = 0.6  # Example threshold, can be adjusted\n",
    "Y_pred_custom_threshold = predict_with_threshold(model, X_test, threshold)\n",
    "\n",
    "# Calculate the confusion matrix and extract False Negatives (FN) and False Positives (FP)\n",
    "cm = confusion_matrix(Y_test, Y_pred_custom_threshold)\n",
    "TN, FP, FN, TP = cm.ravel()\n",
    "\n",
    "# Output the number of False Negatives and False Positives\n",
    "print(f'False Negatives: {FN}')\n",
    "print(f'False Positives: {FP}')\n",
    "\n",
    "# Investigate various thresholds and their effects on FN and FP\n",
    "thresholds = [0.1, 0.2, 0.3, 0.4, 0.5, 0.6, 0.7, 0.8, 0.9]\n",
    "for t in thresholds:\n",
    "    preds = predict_with_threshold(model, X_test, t)\n",
    "    cm = confusion_matrix(Y_test, preds)\n",
    "    TN, FP, FN, TP = cm.ravel()\n",
    "    print(f'Threshold: {t}, FN: {FN}, FP: {FP}')\n"
   ]
  },
  {
   "cell_type": "code",
   "execution_count": null,
   "metadata": {},
   "outputs": [],
   "source": []
  }
 ],
 "metadata": {
  "colab": {
   "collapsed_sections": [],
   "name": "IMP-PCMLAI-M13-LogisticRegressionNotebook-final.ipynb",
   "provenance": []
  },
  "interpreter": {
   "hash": "d37abda7630e259e5026a5079657683a09f6e3d11473720762ebe7250c494840"
  },
  "kernelspec": {
   "display_name": "Python 3 (ipykernel)",
   "language": "python",
   "name": "python3"
  },
  "language_info": {
   "codemirror_mode": {
    "name": "ipython",
    "version": 3
   },
   "file_extension": ".py",
   "mimetype": "text/x-python",
   "name": "python",
   "nbconvert_exporter": "python",
   "pygments_lexer": "ipython3",
   "version": "3.10.9"
  }
 },
 "nbformat": 4,
 "nbformat_minor": 1
}
